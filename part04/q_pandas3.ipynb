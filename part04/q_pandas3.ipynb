{
 "cells": [
  {
   "cell_type": "code",
   "outputs": [],
   "source": [
    "import pandas as pd"
   ],
   "metadata": {
    "collapsed": false,
    "ExecuteTime": {
     "end_time": "2024-03-13T00:14:41.930330Z",
     "start_time": "2024-03-13T00:14:41.730034Z"
    }
   },
   "id": "be87a48626856954",
   "execution_count": 1
  },
  {
   "cell_type": "code",
   "outputs": [
    {
     "data": {
      "text/plain": "       항목  사례수    증가    감소  변화없음\n0    스마트폰  999  78.9   1.7  19.4\n1    텔레비전  965  68.5   3.9  27.6\n2  개인용 PC  973  65.7   3.7  30.6\n3  태블릿 PC  662  46.8   4.2  49.0\n4     라디오  687  35.5  12.5  52.0\n5    잡지·책  776  31.3  17.8  50.9\n6    종이신문  552  17.6  23.2  59.2",
      "text/html": "<div>\n<style scoped>\n    .dataframe tbody tr th:only-of-type {\n        vertical-align: middle;\n    }\n\n    .dataframe tbody tr th {\n        vertical-align: top;\n    }\n\n    .dataframe thead th {\n        text-align: right;\n    }\n</style>\n<table border=\"1\" class=\"dataframe\">\n  <thead>\n    <tr style=\"text-align: right;\">\n      <th></th>\n      <th>항목</th>\n      <th>사례수</th>\n      <th>증가</th>\n      <th>감소</th>\n      <th>변화없음</th>\n    </tr>\n  </thead>\n  <tbody>\n    <tr>\n      <th>0</th>\n      <td>스마트폰</td>\n      <td>999</td>\n      <td>78.9</td>\n      <td>1.7</td>\n      <td>19.4</td>\n    </tr>\n    <tr>\n      <th>1</th>\n      <td>텔레비전</td>\n      <td>965</td>\n      <td>68.5</td>\n      <td>3.9</td>\n      <td>27.6</td>\n    </tr>\n    <tr>\n      <th>2</th>\n      <td>개인용 PC</td>\n      <td>973</td>\n      <td>65.7</td>\n      <td>3.7</td>\n      <td>30.6</td>\n    </tr>\n    <tr>\n      <th>3</th>\n      <td>태블릿 PC</td>\n      <td>662</td>\n      <td>46.8</td>\n      <td>4.2</td>\n      <td>49.0</td>\n    </tr>\n    <tr>\n      <th>4</th>\n      <td>라디오</td>\n      <td>687</td>\n      <td>35.5</td>\n      <td>12.5</td>\n      <td>52.0</td>\n    </tr>\n    <tr>\n      <th>5</th>\n      <td>잡지·책</td>\n      <td>776</td>\n      <td>31.3</td>\n      <td>17.8</td>\n      <td>50.9</td>\n    </tr>\n    <tr>\n      <th>6</th>\n      <td>종이신문</td>\n      <td>552</td>\n      <td>17.6</td>\n      <td>23.2</td>\n      <td>59.2</td>\n    </tr>\n  </tbody>\n</table>\n</div>"
     },
     "execution_count": 5,
     "metadata": {},
     "output_type": "execute_result"
    }
   ],
   "source": [
    "df = pd.read_csv('./input/covid.csv', encoding='cp949')\n",
    "df"
   ],
   "metadata": {
    "collapsed": false,
    "ExecuteTime": {
     "end_time": "2024-03-13T00:15:18.752487Z",
     "start_time": "2024-03-13T00:15:18.743263Z"
    }
   },
   "id": "ab27d071c14ebe67",
   "execution_count": 5
  },
  {
   "cell_type": "code",
   "outputs": [
    {
     "data": {
      "text/plain": "     항목  사례수    증가   감소  변화없음\n0  스마트폰  999  78.9  1.7  19.4",
      "text/html": "<div>\n<style scoped>\n    .dataframe tbody tr th:only-of-type {\n        vertical-align: middle;\n    }\n\n    .dataframe tbody tr th {\n        vertical-align: top;\n    }\n\n    .dataframe thead th {\n        text-align: right;\n    }\n</style>\n<table border=\"1\" class=\"dataframe\">\n  <thead>\n    <tr style=\"text-align: right;\">\n      <th></th>\n      <th>항목</th>\n      <th>사례수</th>\n      <th>증가</th>\n      <th>감소</th>\n      <th>변화없음</th>\n    </tr>\n  </thead>\n  <tbody>\n    <tr>\n      <th>0</th>\n      <td>스마트폰</td>\n      <td>999</td>\n      <td>78.9</td>\n      <td>1.7</td>\n      <td>19.4</td>\n    </tr>\n  </tbody>\n</table>\n</div>"
     },
     "execution_count": 17,
     "metadata": {},
     "output_type": "execute_result"
    }
   ],
   "source": [
    "w = df['사례수'] == df['사례수'].max()\n",
    "df[w]"
   ],
   "metadata": {
    "collapsed": false,
    "ExecuteTime": {
     "end_time": "2024-03-13T00:38:52.057791Z",
     "start_time": "2024-03-13T00:38:52.051457Z"
    }
   },
   "id": "9392c068dc3b2136",
   "execution_count": 17
  },
  {
   "cell_type": "code",
   "outputs": [
    {
     "data": {
      "text/plain": "       항목  사례수    증가   감소  변화없음\n0    스마트폰  999  78.9  1.7  19.4\n1    텔레비전  965  68.5  3.9  27.6\n2  개인용 PC  973  65.7  3.7  30.6",
      "text/html": "<div>\n<style scoped>\n    .dataframe tbody tr th:only-of-type {\n        vertical-align: middle;\n    }\n\n    .dataframe tbody tr th {\n        vertical-align: top;\n    }\n\n    .dataframe thead th {\n        text-align: right;\n    }\n</style>\n<table border=\"1\" class=\"dataframe\">\n  <thead>\n    <tr style=\"text-align: right;\">\n      <th></th>\n      <th>항목</th>\n      <th>사례수</th>\n      <th>증가</th>\n      <th>감소</th>\n      <th>변화없음</th>\n    </tr>\n  </thead>\n  <tbody>\n    <tr>\n      <th>0</th>\n      <td>스마트폰</td>\n      <td>999</td>\n      <td>78.9</td>\n      <td>1.7</td>\n      <td>19.4</td>\n    </tr>\n    <tr>\n      <th>1</th>\n      <td>텔레비전</td>\n      <td>965</td>\n      <td>68.5</td>\n      <td>3.9</td>\n      <td>27.6</td>\n    </tr>\n    <tr>\n      <th>2</th>\n      <td>개인용 PC</td>\n      <td>973</td>\n      <td>65.7</td>\n      <td>3.7</td>\n      <td>30.6</td>\n    </tr>\n  </tbody>\n</table>\n</div>"
     },
     "execution_count": 18,
     "metadata": {},
     "output_type": "execute_result"
    }
   ],
   "source": [
    "df2 = df.sort_values(['증가'], ascending=False)\n",
    "df3 = df2.iloc[:3]\n",
    "df3"
   ],
   "metadata": {
    "collapsed": false,
    "ExecuteTime": {
     "end_time": "2024-03-13T00:41:32.558760Z",
     "start_time": "2024-03-13T00:41:32.555998Z"
    }
   },
   "id": "39bab0cbb460b5d2",
   "execution_count": 18
  },
  {
   "cell_type": "code",
   "outputs": [],
   "source": [],
   "metadata": {
    "collapsed": false
   },
   "id": "f415426d5a04ceb1"
  }
 ],
 "metadata": {
  "kernelspec": {
   "display_name": "Python 3",
   "language": "python",
   "name": "python3"
  },
  "language_info": {
   "codemirror_mode": {
    "name": "ipython",
    "version": 2
   },
   "file_extension": ".py",
   "mimetype": "text/x-python",
   "name": "python",
   "nbconvert_exporter": "python",
   "pygments_lexer": "ipython2",
   "version": "2.7.6"
  }
 },
 "nbformat": 4,
 "nbformat_minor": 5
}
