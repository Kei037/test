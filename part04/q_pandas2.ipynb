{
 "cells": [
  {
   "cell_type": "code",
   "outputs": [],
   "source": [
    "import pandas as pd"
   ],
   "metadata": {
    "collapsed": false,
    "ExecuteTime": {
     "end_time": "2024-03-13T01:46:53.848260Z",
     "start_time": "2024-03-13T01:46:53.577813Z"
    }
   },
   "id": "3dbea387075a8eb9",
   "execution_count": 4
  },
  {
   "cell_type": "code",
   "outputs": [
    {
     "data": {
      "text/plain": "                      상가업소번호            상호명  지점명 상권업종대분류코드 상권업종대분류명 상권업종중분류코드  \\\n0       MA010120220805431708           솔밭민박  NaN        I1       숙박      I101   \n1       MA010120220805432237            의성탕  NaN        S2    수리·개인      S208   \n2       MA010120220805432258          머릿결사랑  NaN        S2    수리·개인      S207   \n3       MA010120220805432850            아지트  NaN        I2       음식      I211   \n4       MA010120220805436067         백석탄골부리  NaN        R1   예술·스포츠      R104   \n...                      ...            ...  ...       ...      ...       ...   \n138540  MA010120220809351179         현대오토바이  NaN        S2    수리·개인      S204   \n138541  MA010120220805383352  온천골가마솥국밥경북도청점  NaN        I2       음식      I201   \n138542  MA0101202302A0075828         청도친구인력  NaN        N1  시설관리·임대      N104   \n138543  MA010120220803851633       도리도리닭도리탕  NaN        I2       음식      I201   \n138544  MA010120220814179145          베스트통신  NaN        G2       소매      G208   \n\n        상권업종중분류명 상권업종소분류코드      상권업종소분류명 표준산업분류코드  ...  \\\n0          일반 숙박    I10103            펜션   I55104  ...   \n1        욕탕·신체관리    S20801       목욕탕/사우나   S96121  ...   \n2          이용·미용    S20701           미용실   S96112  ...   \n3             주점    I21104         요리 주점   I56219  ...   \n4         유원지·오락    R10499  기타 오락관련 서비스업   R91299  ...   \n...          ...       ...           ...      ...  ...   \n138540  모터사이클 수리    S20401     모터사이클 수리업   S95220  ...   \n138541        한식    I20102       국/탕/찌개류   I56111  ...   \n138542     고용 알선    N10401        고용 알선업   N75110  ...   \n138543        한식    I20101        백반/한정식   I56111  ...   \n138544  가전·통신 소매    G20802       핸드폰 소매업   G47312  ...   \n\n                           건물관리번호   건물명                     도로명주소   구우편번호  \\\n0       4725042023105670001000001   NaN   경상북도 상주시 화북면 문장로 1502-9  742871   \n1       4773025022107490010004046   NaN       경상북도 의성군 의성읍 군청길 69  769803   \n2       4717012200102240005024992   NaN         경상북도 안동시 서경지5길 71  760904   \n3       4713012400104380004025066   NaN           경상북도 경주시 용담로 82  780954   \n4       4775035040101090000000001   NaN  경상북도 청송군 안덕면 백석탄로 541-21  763862   \n...                           ...   ...                       ...     ...   \n138540  4725036025105430001038988   NaN    경상북도 상주시 외남면 석단로 939-2  742971   \n138541  4717034021113850000000001   NaN    경상북도 안동시 풍천면 풍요6길 29-3  760811   \n138542  4782036031106500004022141   NaN       경상북도 청도군 금천면 금천로 78  714872   \n138543  4711110100100180188117959  성은빌딩        경상북도 포항시 남구 상공로 81  790827   \n138544  4785025325110820002033945   NaN     경상북도 칠곡군 북삼읍 금오대로1길 1  718844   \n\n        신우편번호  동정보  층정보  호정보          경도         위도  \n0       37102  NaN  NaN  NaN  127.922707  36.543640  \n1       37339  NaN  NaN  NaN  128.701183  36.352030  \n2       36676  NaN    1  NaN  128.715714  36.559903  \n3       38084  NaN    2  NaN  129.212801  35.863751  \n4       37449  NaN  NaN  NaN  128.995628  36.349543  \n...       ...  ...  ...  ...         ...        ...  \n138540  37259  NaN  NaN  NaN  128.089427  36.358164  \n138541  36759  NaN    1  NaN  128.500179  36.576034  \n138542  38362  NaN  NaN  NaN  128.888500  35.694607  \n138543  37765  NaN  NaN  NaN  129.358611  36.015412  \n138544  39812  NaN  NaN  NaN  128.347027  36.069870  \n\n[138545 rows x 39 columns]",
      "text/html": "<div>\n<style scoped>\n    .dataframe tbody tr th:only-of-type {\n        vertical-align: middle;\n    }\n\n    .dataframe tbody tr th {\n        vertical-align: top;\n    }\n\n    .dataframe thead th {\n        text-align: right;\n    }\n</style>\n<table border=\"1\" class=\"dataframe\">\n  <thead>\n    <tr style=\"text-align: right;\">\n      <th></th>\n      <th>상가업소번호</th>\n      <th>상호명</th>\n      <th>지점명</th>\n      <th>상권업종대분류코드</th>\n      <th>상권업종대분류명</th>\n      <th>상권업종중분류코드</th>\n      <th>상권업종중분류명</th>\n      <th>상권업종소분류코드</th>\n      <th>상권업종소분류명</th>\n      <th>표준산업분류코드</th>\n      <th>...</th>\n      <th>건물관리번호</th>\n      <th>건물명</th>\n      <th>도로명주소</th>\n      <th>구우편번호</th>\n      <th>신우편번호</th>\n      <th>동정보</th>\n      <th>층정보</th>\n      <th>호정보</th>\n      <th>경도</th>\n      <th>위도</th>\n    </tr>\n  </thead>\n  <tbody>\n    <tr>\n      <th>0</th>\n      <td>MA010120220805431708</td>\n      <td>솔밭민박</td>\n      <td>NaN</td>\n      <td>I1</td>\n      <td>숙박</td>\n      <td>I101</td>\n      <td>일반 숙박</td>\n      <td>I10103</td>\n      <td>펜션</td>\n      <td>I55104</td>\n      <td>...</td>\n      <td>4725042023105670001000001</td>\n      <td>NaN</td>\n      <td>경상북도 상주시 화북면 문장로 1502-9</td>\n      <td>742871</td>\n      <td>37102</td>\n      <td>NaN</td>\n      <td>NaN</td>\n      <td>NaN</td>\n      <td>127.922707</td>\n      <td>36.543640</td>\n    </tr>\n    <tr>\n      <th>1</th>\n      <td>MA010120220805432237</td>\n      <td>의성탕</td>\n      <td>NaN</td>\n      <td>S2</td>\n      <td>수리·개인</td>\n      <td>S208</td>\n      <td>욕탕·신체관리</td>\n      <td>S20801</td>\n      <td>목욕탕/사우나</td>\n      <td>S96121</td>\n      <td>...</td>\n      <td>4773025022107490010004046</td>\n      <td>NaN</td>\n      <td>경상북도 의성군 의성읍 군청길 69</td>\n      <td>769803</td>\n      <td>37339</td>\n      <td>NaN</td>\n      <td>NaN</td>\n      <td>NaN</td>\n      <td>128.701183</td>\n      <td>36.352030</td>\n    </tr>\n    <tr>\n      <th>2</th>\n      <td>MA010120220805432258</td>\n      <td>머릿결사랑</td>\n      <td>NaN</td>\n      <td>S2</td>\n      <td>수리·개인</td>\n      <td>S207</td>\n      <td>이용·미용</td>\n      <td>S20701</td>\n      <td>미용실</td>\n      <td>S96112</td>\n      <td>...</td>\n      <td>4717012200102240005024992</td>\n      <td>NaN</td>\n      <td>경상북도 안동시 서경지5길 71</td>\n      <td>760904</td>\n      <td>36676</td>\n      <td>NaN</td>\n      <td>1</td>\n      <td>NaN</td>\n      <td>128.715714</td>\n      <td>36.559903</td>\n    </tr>\n    <tr>\n      <th>3</th>\n      <td>MA010120220805432850</td>\n      <td>아지트</td>\n      <td>NaN</td>\n      <td>I2</td>\n      <td>음식</td>\n      <td>I211</td>\n      <td>주점</td>\n      <td>I21104</td>\n      <td>요리 주점</td>\n      <td>I56219</td>\n      <td>...</td>\n      <td>4713012400104380004025066</td>\n      <td>NaN</td>\n      <td>경상북도 경주시 용담로 82</td>\n      <td>780954</td>\n      <td>38084</td>\n      <td>NaN</td>\n      <td>2</td>\n      <td>NaN</td>\n      <td>129.212801</td>\n      <td>35.863751</td>\n    </tr>\n    <tr>\n      <th>4</th>\n      <td>MA010120220805436067</td>\n      <td>백석탄골부리</td>\n      <td>NaN</td>\n      <td>R1</td>\n      <td>예술·스포츠</td>\n      <td>R104</td>\n      <td>유원지·오락</td>\n      <td>R10499</td>\n      <td>기타 오락관련 서비스업</td>\n      <td>R91299</td>\n      <td>...</td>\n      <td>4775035040101090000000001</td>\n      <td>NaN</td>\n      <td>경상북도 청송군 안덕면 백석탄로 541-21</td>\n      <td>763862</td>\n      <td>37449</td>\n      <td>NaN</td>\n      <td>NaN</td>\n      <td>NaN</td>\n      <td>128.995628</td>\n      <td>36.349543</td>\n    </tr>\n    <tr>\n      <th>...</th>\n      <td>...</td>\n      <td>...</td>\n      <td>...</td>\n      <td>...</td>\n      <td>...</td>\n      <td>...</td>\n      <td>...</td>\n      <td>...</td>\n      <td>...</td>\n      <td>...</td>\n      <td>...</td>\n      <td>...</td>\n      <td>...</td>\n      <td>...</td>\n      <td>...</td>\n      <td>...</td>\n      <td>...</td>\n      <td>...</td>\n      <td>...</td>\n      <td>...</td>\n      <td>...</td>\n    </tr>\n    <tr>\n      <th>138540</th>\n      <td>MA010120220809351179</td>\n      <td>현대오토바이</td>\n      <td>NaN</td>\n      <td>S2</td>\n      <td>수리·개인</td>\n      <td>S204</td>\n      <td>모터사이클 수리</td>\n      <td>S20401</td>\n      <td>모터사이클 수리업</td>\n      <td>S95220</td>\n      <td>...</td>\n      <td>4725036025105430001038988</td>\n      <td>NaN</td>\n      <td>경상북도 상주시 외남면 석단로 939-2</td>\n      <td>742971</td>\n      <td>37259</td>\n      <td>NaN</td>\n      <td>NaN</td>\n      <td>NaN</td>\n      <td>128.089427</td>\n      <td>36.358164</td>\n    </tr>\n    <tr>\n      <th>138541</th>\n      <td>MA010120220805383352</td>\n      <td>온천골가마솥국밥경북도청점</td>\n      <td>NaN</td>\n      <td>I2</td>\n      <td>음식</td>\n      <td>I201</td>\n      <td>한식</td>\n      <td>I20102</td>\n      <td>국/탕/찌개류</td>\n      <td>I56111</td>\n      <td>...</td>\n      <td>4717034021113850000000001</td>\n      <td>NaN</td>\n      <td>경상북도 안동시 풍천면 풍요6길 29-3</td>\n      <td>760811</td>\n      <td>36759</td>\n      <td>NaN</td>\n      <td>1</td>\n      <td>NaN</td>\n      <td>128.500179</td>\n      <td>36.576034</td>\n    </tr>\n    <tr>\n      <th>138542</th>\n      <td>MA0101202302A0075828</td>\n      <td>청도친구인력</td>\n      <td>NaN</td>\n      <td>N1</td>\n      <td>시설관리·임대</td>\n      <td>N104</td>\n      <td>고용 알선</td>\n      <td>N10401</td>\n      <td>고용 알선업</td>\n      <td>N75110</td>\n      <td>...</td>\n      <td>4782036031106500004022141</td>\n      <td>NaN</td>\n      <td>경상북도 청도군 금천면 금천로 78</td>\n      <td>714872</td>\n      <td>38362</td>\n      <td>NaN</td>\n      <td>NaN</td>\n      <td>NaN</td>\n      <td>128.888500</td>\n      <td>35.694607</td>\n    </tr>\n    <tr>\n      <th>138543</th>\n      <td>MA010120220803851633</td>\n      <td>도리도리닭도리탕</td>\n      <td>NaN</td>\n      <td>I2</td>\n      <td>음식</td>\n      <td>I201</td>\n      <td>한식</td>\n      <td>I20101</td>\n      <td>백반/한정식</td>\n      <td>I56111</td>\n      <td>...</td>\n      <td>4711110100100180188117959</td>\n      <td>성은빌딩</td>\n      <td>경상북도 포항시 남구 상공로 81</td>\n      <td>790827</td>\n      <td>37765</td>\n      <td>NaN</td>\n      <td>NaN</td>\n      <td>NaN</td>\n      <td>129.358611</td>\n      <td>36.015412</td>\n    </tr>\n    <tr>\n      <th>138544</th>\n      <td>MA010120220814179145</td>\n      <td>베스트통신</td>\n      <td>NaN</td>\n      <td>G2</td>\n      <td>소매</td>\n      <td>G208</td>\n      <td>가전·통신 소매</td>\n      <td>G20802</td>\n      <td>핸드폰 소매업</td>\n      <td>G47312</td>\n      <td>...</td>\n      <td>4785025325110820002033945</td>\n      <td>NaN</td>\n      <td>경상북도 칠곡군 북삼읍 금오대로1길 1</td>\n      <td>718844</td>\n      <td>39812</td>\n      <td>NaN</td>\n      <td>NaN</td>\n      <td>NaN</td>\n      <td>128.347027</td>\n      <td>36.069870</td>\n    </tr>\n  </tbody>\n</table>\n<p>138545 rows × 39 columns</p>\n</div>"
     },
     "execution_count": 6,
     "metadata": {},
     "output_type": "execute_result"
    }
   ],
   "source": [
    "df = pd.read_csv('./input/소상공인시장진흥공단_상가(상권)정보_경북_202312.csv')\n",
    "df"
   ],
   "metadata": {
    "collapsed": false,
    "ExecuteTime": {
     "end_time": "2024-03-13T01:46:58.205248Z",
     "start_time": "2024-03-13T01:46:57.555521Z"
    }
   },
   "id": "640cee713fe5cf8f",
   "execution_count": 6
  },
  {
   "cell_type": "code",
   "outputs": [
    {
     "data": {
      "text/plain": "시군구명  \n구미시       19909\n경주시       16852\n포항시 북구    14240\n포항시 남구    12904\n경산시       12743\n안동시        9001\n김천시        6371\n영주시        6152\n칠곡군        5889\n영천시        4812\n상주시        4756\n문경시        4162\n울진군        3032\n영덕군        2738\n청도군        2447\n예천군        2287\n의성군        2187\n성주군        2169\n청송군        1451\n고령군        1451\n봉화군        1437\n울릉군         863\n영양군         692\nName: count, dtype: int64"
     },
     "execution_count": 20,
     "metadata": {},
     "output_type": "execute_result"
    }
   ],
   "source": [
    "df2 = df.value_counts(['시군구명'])\n",
    "df2"
   ],
   "metadata": {
    "collapsed": false,
    "ExecuteTime": {
     "end_time": "2024-03-12T05:37:20.353025Z",
     "start_time": "2024-03-12T05:37:20.343533Z"
    }
   },
   "id": "46f02cc326e322",
   "execution_count": 20
  },
  {
   "cell_type": "code",
   "outputs": [],
   "source": [
    "df2.to_csv('./output/gk_store_01.csv')"
   ],
   "metadata": {
    "collapsed": false,
    "ExecuteTime": {
     "end_time": "2024-03-12T05:38:23.572741Z",
     "start_time": "2024-03-12T05:38:23.569310Z"
    }
   },
   "id": "ecaa9632d7f0df03",
   "execution_count": 28
  },
  {
   "cell_type": "code",
   "outputs": [
    {
     "data": {
      "text/plain": "시군구명  \n영양군         692\n울릉군         863\n봉화군        1437\n고령군        1451\n청송군        1451\n성주군        2169\n의성군        2187\n예천군        2287\n청도군        2447\n영덕군        2738\n울진군        3032\n문경시        4162\n상주시        4756\n영천시        4812\n칠곡군        5889\n영주시        6152\n김천시        6371\n안동시        9001\n경산시       12743\n포항시 남구    12904\n포항시 북구    14240\n경주시       16852\n구미시       19909\nName: count, dtype: int64"
     },
     "execution_count": 22,
     "metadata": {},
     "output_type": "execute_result"
    }
   ],
   "source": [
    "df3 = df.value_counts(['시군구명'], ascending=True)\n",
    "df3"
   ],
   "metadata": {
    "collapsed": false,
    "ExecuteTime": {
     "end_time": "2024-03-12T05:37:39.572503Z",
     "start_time": "2024-03-12T05:37:39.560618Z"
    }
   },
   "id": "96af47106cb80ec0",
   "execution_count": 22
  },
  {
   "cell_type": "code",
   "outputs": [
    {
     "data": {
      "text/plain": "시군구명\n영양군      692\n울릉군      863\n봉화군     1437\n고령군     1451\n청송군     1451\nName: count, dtype: int64"
     },
     "execution_count": 25,
     "metadata": {},
     "output_type": "execute_result"
    }
   ],
   "source": [
    "df4 = df3.head()\n",
    "df4"
   ],
   "metadata": {
    "collapsed": false,
    "ExecuteTime": {
     "end_time": "2024-03-12T05:38:05.902044Z",
     "start_time": "2024-03-12T05:38:05.893268Z"
    }
   },
   "id": "9e764fbfaeae1786",
   "execution_count": 25
  },
  {
   "cell_type": "code",
   "outputs": [],
   "source": [
    "df4.to_csv('./output/gk_store_02.csv')"
   ],
   "metadata": {
    "collapsed": false,
    "ExecuteTime": {
     "end_time": "2024-03-12T05:38:19.447663Z",
     "start_time": "2024-03-12T05:38:19.442790Z"
    }
   },
   "id": "ea09150aab05d06b",
   "execution_count": 27
  },
  {
   "cell_type": "code",
   "outputs": [
    {
     "data": {
      "text/plain": "상권업종대분류코드\nQ1            834\nL1           3933\nN1           4714\nName: count, dtype: int64"
     },
     "execution_count": 29,
     "metadata": {},
     "output_type": "execute_result"
    }
   ],
   "source": [
    "df5 = df.value_counts(['상권업종대분류코드'], ascending=True)\n",
    "df6 = df5.head(3)\n",
    "df6"
   ],
   "metadata": {
    "collapsed": false,
    "ExecuteTime": {
     "end_time": "2024-03-12T05:38:43.618793Z",
     "start_time": "2024-03-12T05:38:43.606607Z"
    }
   },
   "id": "f439a5d0f8693869",
   "execution_count": 29
  },
  {
   "cell_type": "code",
   "outputs": [],
   "source": [
    "df6.to_csv('./output/gk_store_03.csv')"
   ],
   "metadata": {
    "collapsed": false,
    "ExecuteTime": {
     "end_time": "2024-03-12T05:38:54.096665Z",
     "start_time": "2024-03-12T05:38:54.086876Z"
    }
   },
   "id": "e64e733aa1bb9ffb",
   "execution_count": 30
  },
  {
   "cell_type": "code",
   "outputs": [
    {
     "data": {
      "text/plain": "                  상가업소번호     상호명  지점명 상권업종대분류코드 상권업종대분류명 상권업종중분류코드   상권업종중분류명  \\\n8   MA010120220805437185  칼국수한그릇  NaN        I2       음식      I201         한식   \n10  MA010120220805439966   영할인마트  NaN        G2       소매      G204      종합 소매   \n27  MA010120220805450515   우성돈까스  NaN        I2       음식      I203         일식   \n28  MA010120220805453773  피스풀테이블  NaN        G2       소매      G205     식료품 소매   \n30  MA010120220805455378  오케이세차장  NaN        S2    수리·개인      S203  자동차 수리·세차   \n\n   상권업종소분류코드      상권업종소분류명 표준산업분류코드  ...                     건물관리번호  \\\n8     I20105        국수/칼국수   I56112  ...  4729012600106070005000001   \n10    G20404          슈퍼마켓   G47129  ...  4729011400105210005011976   \n27    I20302  일식 카레/돈가스/덮밥   I56123  ...  4729025321103670008018794   \n28    G20509    반찬/식료품 소매업   G47218  ...  4729012100102400003062727   \n30    S20302       자동차 세차장   S95213  ...  4729025343103620000000001   \n\n           건물명                    도로명주소   구우편번호  신우편번호  동정보  층정보  호정보  \\\n8          NaN         경상북도 경산시 백양로 109  712190  38599  NaN  NaN  NaN   \n10         하준빌          경상북도 경산시 궁당로 58  712150  38515  NaN  NaN  NaN   \n27         NaN    경상북도 경산시 진량읍 공단2로7길 8  712837  38458  NaN  NaN  NaN   \n28  대구한의대오성캠퍼스     경상북도 경산시 어봉지길 285-10  712220  38578  NaN  NaN  NaN   \n30         NaN  경상북도 경산시 진량읍 황제1길 86-19  712837  38499  NaN  NaN  NaN   \n\n            경도         위도  \n8   128.753874  35.813843  \n10  128.750477  35.844365  \n27  128.822719  35.872247  \n28  128.788316  35.786411  \n30  128.817967  35.859157  \n\n[5 rows x 39 columns]",
      "text/html": "<div>\n<style scoped>\n    .dataframe tbody tr th:only-of-type {\n        vertical-align: middle;\n    }\n\n    .dataframe tbody tr th {\n        vertical-align: top;\n    }\n\n    .dataframe thead th {\n        text-align: right;\n    }\n</style>\n<table border=\"1\" class=\"dataframe\">\n  <thead>\n    <tr style=\"text-align: right;\">\n      <th></th>\n      <th>상가업소번호</th>\n      <th>상호명</th>\n      <th>지점명</th>\n      <th>상권업종대분류코드</th>\n      <th>상권업종대분류명</th>\n      <th>상권업종중분류코드</th>\n      <th>상권업종중분류명</th>\n      <th>상권업종소분류코드</th>\n      <th>상권업종소분류명</th>\n      <th>표준산업분류코드</th>\n      <th>...</th>\n      <th>건물관리번호</th>\n      <th>건물명</th>\n      <th>도로명주소</th>\n      <th>구우편번호</th>\n      <th>신우편번호</th>\n      <th>동정보</th>\n      <th>층정보</th>\n      <th>호정보</th>\n      <th>경도</th>\n      <th>위도</th>\n    </tr>\n  </thead>\n  <tbody>\n    <tr>\n      <th>8</th>\n      <td>MA010120220805437185</td>\n      <td>칼국수한그릇</td>\n      <td>NaN</td>\n      <td>I2</td>\n      <td>음식</td>\n      <td>I201</td>\n      <td>한식</td>\n      <td>I20105</td>\n      <td>국수/칼국수</td>\n      <td>I56112</td>\n      <td>...</td>\n      <td>4729012600106070005000001</td>\n      <td>NaN</td>\n      <td>경상북도 경산시 백양로 109</td>\n      <td>712190</td>\n      <td>38599</td>\n      <td>NaN</td>\n      <td>NaN</td>\n      <td>NaN</td>\n      <td>128.753874</td>\n      <td>35.813843</td>\n    </tr>\n    <tr>\n      <th>10</th>\n      <td>MA010120220805439966</td>\n      <td>영할인마트</td>\n      <td>NaN</td>\n      <td>G2</td>\n      <td>소매</td>\n      <td>G204</td>\n      <td>종합 소매</td>\n      <td>G20404</td>\n      <td>슈퍼마켓</td>\n      <td>G47129</td>\n      <td>...</td>\n      <td>4729011400105210005011976</td>\n      <td>하준빌</td>\n      <td>경상북도 경산시 궁당로 58</td>\n      <td>712150</td>\n      <td>38515</td>\n      <td>NaN</td>\n      <td>NaN</td>\n      <td>NaN</td>\n      <td>128.750477</td>\n      <td>35.844365</td>\n    </tr>\n    <tr>\n      <th>27</th>\n      <td>MA010120220805450515</td>\n      <td>우성돈까스</td>\n      <td>NaN</td>\n      <td>I2</td>\n      <td>음식</td>\n      <td>I203</td>\n      <td>일식</td>\n      <td>I20302</td>\n      <td>일식 카레/돈가스/덮밥</td>\n      <td>I56123</td>\n      <td>...</td>\n      <td>4729025321103670008018794</td>\n      <td>NaN</td>\n      <td>경상북도 경산시 진량읍 공단2로7길 8</td>\n      <td>712837</td>\n      <td>38458</td>\n      <td>NaN</td>\n      <td>NaN</td>\n      <td>NaN</td>\n      <td>128.822719</td>\n      <td>35.872247</td>\n    </tr>\n    <tr>\n      <th>28</th>\n      <td>MA010120220805453773</td>\n      <td>피스풀테이블</td>\n      <td>NaN</td>\n      <td>G2</td>\n      <td>소매</td>\n      <td>G205</td>\n      <td>식료품 소매</td>\n      <td>G20509</td>\n      <td>반찬/식료품 소매업</td>\n      <td>G47218</td>\n      <td>...</td>\n      <td>4729012100102400003062727</td>\n      <td>대구한의대오성캠퍼스</td>\n      <td>경상북도 경산시 어봉지길 285-10</td>\n      <td>712220</td>\n      <td>38578</td>\n      <td>NaN</td>\n      <td>NaN</td>\n      <td>NaN</td>\n      <td>128.788316</td>\n      <td>35.786411</td>\n    </tr>\n    <tr>\n      <th>30</th>\n      <td>MA010120220805455378</td>\n      <td>오케이세차장</td>\n      <td>NaN</td>\n      <td>S2</td>\n      <td>수리·개인</td>\n      <td>S203</td>\n      <td>자동차 수리·세차</td>\n      <td>S20302</td>\n      <td>자동차 세차장</td>\n      <td>S95213</td>\n      <td>...</td>\n      <td>4729025343103620000000001</td>\n      <td>NaN</td>\n      <td>경상북도 경산시 진량읍 황제1길 86-19</td>\n      <td>712837</td>\n      <td>38499</td>\n      <td>NaN</td>\n      <td>NaN</td>\n      <td>NaN</td>\n      <td>128.817967</td>\n      <td>35.859157</td>\n    </tr>\n  </tbody>\n</table>\n<p>5 rows × 39 columns</p>\n</div>"
     },
     "execution_count": 10,
     "metadata": {},
     "output_type": "execute_result"
    }
   ],
   "source": [
    "# 경산에 있는 커피 전문점(표준산업분류명 기준)을 동(법정동 기준)별로 몇개가 있는지 출력(출력기준은 법정동 가나다 순)\n",
    "df8 = df[df['시군구명'] == '경산시']\n",
    "df8.head()"
   ],
   "metadata": {
    "collapsed": false,
    "ExecuteTime": {
     "end_time": "2024-03-13T02:09:54.640124Z",
     "start_time": "2024-03-13T02:09:54.630476Z"
    }
   },
   "id": "87a6bf738bc94eda",
   "execution_count": 10
  },
  {
   "cell_type": "code",
   "outputs": [
    {
     "data": {
      "text/plain": "                   상가업소번호       상호명  지점명 상권업종대분류코드 상권업종대분류명 상권업종중분류코드  \\\n435  MA010120220806439036  아틀리에빈진량점  NaN        I2       음식      I212   \n510  MA010120220806496029  더벤티경산중방점  NaN        I2       음식      I212   \n538  MA010120220806537000     너와나커피  NaN        I2       음식      I212   \n565  MA010120220806548381     눈꽃이피다  NaN        I2       음식      I212   \n931  MA010120220806907168       해르트  NaN        I2       음식      I212   \n\n    상권업종중분류명 상권업종소분류코드 상권업종소분류명 표준산업분류코드  ...                     건물관리번호  건물명  \\\n435    비알코올     I21201       카페   I56221  ...  4729025321112250004026475  NaN   \n510    비알코올     I21201       카페   I56221  ...  4729011700108630001001646  NaN   \n538    비알코올     I21201       카페   I56221  ...  4729012600106690004011708  NaN   \n565    비알코올     I21201       카페   I56221  ...  4729010800100710027009502  NaN   \n931    비알코올     I21201       카페   I56221  ...  4729025021101170005030583  NaN   \n\n                     도로명주소   구우편번호  신우편번호  동정보  층정보  호정보          경도  \\\n435    경상북도 경산시 진량읍 다문로 59  712837  38486  NaN  NaN  NaN  128.817535   \n510     경상북도 경산시 경안로38길 17  712804  38619  NaN  NaN  NaN  128.737730   \n538   경상북도 경산시 백자로20길 44-1  712190  38597  NaN  NaN  NaN  128.761142   \n565     경상북도 경산시 경산로 105-1  712050  38684  NaN  NaN  NaN  128.729624   \n931  경상북도 경산시 하양읍 문화로4길 35  712902  38431  NaN    1  NaN  128.816056   \n\n            위도  \n435  35.875275  \n510  35.825841  \n538  35.812436  \n565  35.818094  \n931  35.912464  \n\n[5 rows x 39 columns]",
      "text/html": "<div>\n<style scoped>\n    .dataframe tbody tr th:only-of-type {\n        vertical-align: middle;\n    }\n\n    .dataframe tbody tr th {\n        vertical-align: top;\n    }\n\n    .dataframe thead th {\n        text-align: right;\n    }\n</style>\n<table border=\"1\" class=\"dataframe\">\n  <thead>\n    <tr style=\"text-align: right;\">\n      <th></th>\n      <th>상가업소번호</th>\n      <th>상호명</th>\n      <th>지점명</th>\n      <th>상권업종대분류코드</th>\n      <th>상권업종대분류명</th>\n      <th>상권업종중분류코드</th>\n      <th>상권업종중분류명</th>\n      <th>상권업종소분류코드</th>\n      <th>상권업종소분류명</th>\n      <th>표준산업분류코드</th>\n      <th>...</th>\n      <th>건물관리번호</th>\n      <th>건물명</th>\n      <th>도로명주소</th>\n      <th>구우편번호</th>\n      <th>신우편번호</th>\n      <th>동정보</th>\n      <th>층정보</th>\n      <th>호정보</th>\n      <th>경도</th>\n      <th>위도</th>\n    </tr>\n  </thead>\n  <tbody>\n    <tr>\n      <th>435</th>\n      <td>MA010120220806439036</td>\n      <td>아틀리에빈진량점</td>\n      <td>NaN</td>\n      <td>I2</td>\n      <td>음식</td>\n      <td>I212</td>\n      <td>비알코올</td>\n      <td>I21201</td>\n      <td>카페</td>\n      <td>I56221</td>\n      <td>...</td>\n      <td>4729025321112250004026475</td>\n      <td>NaN</td>\n      <td>경상북도 경산시 진량읍 다문로 59</td>\n      <td>712837</td>\n      <td>38486</td>\n      <td>NaN</td>\n      <td>NaN</td>\n      <td>NaN</td>\n      <td>128.817535</td>\n      <td>35.875275</td>\n    </tr>\n    <tr>\n      <th>510</th>\n      <td>MA010120220806496029</td>\n      <td>더벤티경산중방점</td>\n      <td>NaN</td>\n      <td>I2</td>\n      <td>음식</td>\n      <td>I212</td>\n      <td>비알코올</td>\n      <td>I21201</td>\n      <td>카페</td>\n      <td>I56221</td>\n      <td>...</td>\n      <td>4729011700108630001001646</td>\n      <td>NaN</td>\n      <td>경상북도 경산시 경안로38길 17</td>\n      <td>712804</td>\n      <td>38619</td>\n      <td>NaN</td>\n      <td>NaN</td>\n      <td>NaN</td>\n      <td>128.737730</td>\n      <td>35.825841</td>\n    </tr>\n    <tr>\n      <th>538</th>\n      <td>MA010120220806537000</td>\n      <td>너와나커피</td>\n      <td>NaN</td>\n      <td>I2</td>\n      <td>음식</td>\n      <td>I212</td>\n      <td>비알코올</td>\n      <td>I21201</td>\n      <td>카페</td>\n      <td>I56221</td>\n      <td>...</td>\n      <td>4729012600106690004011708</td>\n      <td>NaN</td>\n      <td>경상북도 경산시 백자로20길 44-1</td>\n      <td>712190</td>\n      <td>38597</td>\n      <td>NaN</td>\n      <td>NaN</td>\n      <td>NaN</td>\n      <td>128.761142</td>\n      <td>35.812436</td>\n    </tr>\n    <tr>\n      <th>565</th>\n      <td>MA010120220806548381</td>\n      <td>눈꽃이피다</td>\n      <td>NaN</td>\n      <td>I2</td>\n      <td>음식</td>\n      <td>I212</td>\n      <td>비알코올</td>\n      <td>I21201</td>\n      <td>카페</td>\n      <td>I56221</td>\n      <td>...</td>\n      <td>4729010800100710027009502</td>\n      <td>NaN</td>\n      <td>경상북도 경산시 경산로 105-1</td>\n      <td>712050</td>\n      <td>38684</td>\n      <td>NaN</td>\n      <td>NaN</td>\n      <td>NaN</td>\n      <td>128.729624</td>\n      <td>35.818094</td>\n    </tr>\n    <tr>\n      <th>931</th>\n      <td>MA010120220806907168</td>\n      <td>해르트</td>\n      <td>NaN</td>\n      <td>I2</td>\n      <td>음식</td>\n      <td>I212</td>\n      <td>비알코올</td>\n      <td>I21201</td>\n      <td>카페</td>\n      <td>I56221</td>\n      <td>...</td>\n      <td>4729025021101170005030583</td>\n      <td>NaN</td>\n      <td>경상북도 경산시 하양읍 문화로4길 35</td>\n      <td>712902</td>\n      <td>38431</td>\n      <td>NaN</td>\n      <td>1</td>\n      <td>NaN</td>\n      <td>128.816056</td>\n      <td>35.912464</td>\n    </tr>\n  </tbody>\n</table>\n<p>5 rows × 39 columns</p>\n</div>"
     },
     "execution_count": 12,
     "metadata": {},
     "output_type": "execute_result"
    }
   ],
   "source": [
    "df9 = df8[df8['표준산업분류명'] == '커피 전문점']\n",
    "df9.head()"
   ],
   "metadata": {
    "collapsed": false,
    "ExecuteTime": {
     "end_time": "2024-03-13T02:11:14.165288Z",
     "start_time": "2024-03-13T02:11:14.162784Z"
    }
   },
   "id": "789c8671872379b7",
   "execution_count": 12
  },
  {
   "cell_type": "code",
   "outputs": [
    {
     "name": "stdout",
     "output_type": "stream",
     "text": [
      "<class 'pandas.core.frame.DataFrame'>\n",
      "Index: 604 entries, 435 to 138275\n",
      "Data columns (total 39 columns):\n",
      " #   Column     Non-Null Count  Dtype  \n",
      "---  ------     --------------  -----  \n",
      " 0   상가업소번호     604 non-null    object \n",
      " 1   상호명        604 non-null    object \n",
      " 2   지점명        22 non-null     object \n",
      " 3   상권업종대분류코드  604 non-null    object \n",
      " 4   상권업종대분류명   604 non-null    object \n",
      " 5   상권업종중분류코드  604 non-null    object \n",
      " 6   상권업종중분류명   604 non-null    object \n",
      " 7   상권업종소분류코드  604 non-null    object \n",
      " 8   상권업종소분류명   604 non-null    object \n",
      " 9   표준산업분류코드   604 non-null    object \n",
      " 10  표준산업분류명    604 non-null    object \n",
      " 11  시도코드       604 non-null    int64  \n",
      " 12  시도명        604 non-null    object \n",
      " 13  시군구코드      604 non-null    int64  \n",
      " 14  시군구명       604 non-null    object \n",
      " 15  행정동코드      604 non-null    int64  \n",
      " 16  행정동명       604 non-null    object \n",
      " 17  법정동코드      604 non-null    int64  \n",
      " 18  법정동명       604 non-null    object \n",
      " 19  지번코드       604 non-null    int64  \n",
      " 20  대지구분코드     604 non-null    int64  \n",
      " 21  대지구분명      604 non-null    object \n",
      " 22  지번본번지      604 non-null    float64\n",
      " 23  지번부번지      431 non-null    float64\n",
      " 24  지번주소       604 non-null    object \n",
      " 25  도로명코드      604 non-null    int64  \n",
      " 26  도로명        604 non-null    object \n",
      " 27  건물본번지      604 non-null    int64  \n",
      " 28  건물부번지      144 non-null    float64\n",
      " 29  건물관리번호     604 non-null    object \n",
      " 30  건물명        103 non-null    object \n",
      " 31  도로명주소      604 non-null    object \n",
      " 32  구우편번호      604 non-null    int64  \n",
      " 33  신우편번호      604 non-null    int64  \n",
      " 34  동정보        0 non-null      float64\n",
      " 35  층정보        281 non-null    object \n",
      " 36  호정보        0 non-null      float64\n",
      " 37  경도         604 non-null    float64\n",
      " 38  위도         604 non-null    float64\n",
      "dtypes: float64(7), int64(10), object(22)\n",
      "memory usage: 188.8+ KB\n"
     ]
    }
   ],
   "source": [
    "df9.info()"
   ],
   "metadata": {
    "collapsed": false,
    "ExecuteTime": {
     "end_time": "2024-03-13T02:11:25.495937Z",
     "start_time": "2024-03-13T02:11:25.491405Z"
    }
   },
   "id": "3151e66e9e2f9237",
   "execution_count": 13
  },
  {
   "cell_type": "code",
   "outputs": [
    {
     "data": {
      "text/plain": "법정동명\n갑제동     4\n계양동    26\n남산면    12\n남천면     5\n대동     30\n대평동     9\n백천동    17\n사동     48\n사정동    13\n삼남동     2\n삼북동    11\n삼풍동     8\n상방동     2\n서상동     9\n신교동     1\n압량읍    37\n여천동     3\n옥곡동    20\n옥산동    39\n와촌면    16\n용성면     2\n유곡동     4\n임당동     3\n자인면    18\n점촌동     4\n정평동    25\n조영동    24\n중방동    51\n중산동    26\n진량읍    55\n평산동     3\n하양읍    77\nName: count, dtype: int64"
     },
     "execution_count": 15,
     "metadata": {},
     "output_type": "execute_result"
    }
   ],
   "source": [
    "# case1.\n",
    "# value_counts() 을 이용해서 법정동에 몇개의 데이터가 있는지 반환 후 sort_index()를 이용하여 인덱스 값 기준으로 정렬.\n",
    "df9.value_counts('법정동명').sort_index()"
   ],
   "metadata": {
    "collapsed": false,
    "ExecuteTime": {
     "end_time": "2024-03-13T02:13:09.949959Z",
     "start_time": "2024-03-13T02:13:09.923112Z"
    }
   },
   "id": "de1b23265b64f78f",
   "execution_count": 15
  },
  {
   "cell_type": "code",
   "outputs": [
    {
     "data": {
      "text/plain": "법정동명\n갑제동     4\n계양동    26\n남산면    12\n남천면     5\n대동     30\n대평동     9\n백천동    17\n사동     48\n사정동    13\n삼남동     2\n삼북동    11\n삼풍동     8\n상방동     2\n서상동     9\n신교동     1\n압량읍    37\n여천동     3\n옥곡동    20\n옥산동    39\n와촌면    16\n용성면     2\n유곡동     4\n임당동     3\n자인면    18\n점촌동     4\n정평동    25\n조영동    24\n중방동    51\n중산동    26\n진량읍    55\n평산동     3\n하양읍    77\nName: 상가업소번호, dtype: int64"
     },
     "execution_count": 16,
     "metadata": {},
     "output_type": "execute_result"
    }
   ],
   "source": [
    "# case2.\n",
    "# '법정동명'으로 그룹을 나눈 후, 데이터의 고유번호인 '상가업소번호'의 개수를 카운팅.\n",
    "df9.groupby('법정동명').count()['상가업소번호']"
   ],
   "metadata": {
    "collapsed": false,
    "ExecuteTime": {
     "end_time": "2024-03-13T02:14:57.297829Z",
     "start_time": "2024-03-13T02:14:57.289779Z"
    }
   },
   "id": "5ac7e1e7c6b28128",
   "execution_count": 16
  },
  {
   "cell_type": "code",
   "outputs": [],
   "source": [],
   "metadata": {
    "collapsed": false
   },
   "id": "b705889575b4969a"
  }
 ],
 "metadata": {
  "kernelspec": {
   "display_name": "Python 3",
   "language": "python",
   "name": "python3"
  },
  "language_info": {
   "codemirror_mode": {
    "name": "ipython",
    "version": 2
   },
   "file_extension": ".py",
   "mimetype": "text/x-python",
   "name": "python",
   "nbconvert_exporter": "python",
   "pygments_lexer": "ipython2",
   "version": "2.7.6"
  }
 },
 "nbformat": 4,
 "nbformat_minor": 5
}
