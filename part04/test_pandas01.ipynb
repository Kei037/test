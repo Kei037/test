{
 "cells": [
  {
   "cell_type": "code",
   "execution_count": 2,
   "id": "initial_id",
   "metadata": {
    "collapsed": true,
    "ExecuteTime": {
     "end_time": "2024-03-12T00:22:33.253776Z",
     "start_time": "2024-03-12T00:22:33.013396Z"
    }
   },
   "outputs": [],
   "source": [
    "import pandas as pd"
   ]
  },
  {
   "cell_type": "code",
   "outputs": [
    {
     "data": {
      "text/plain": "0    10\n1    20\n2    30\n3    40\n4    50\ndtype: int64"
     },
     "execution_count": 3,
     "metadata": {},
     "output_type": "execute_result"
    }
   ],
   "source": [
    "s1 = pd.Series([10, 20, 30, 40, 50])\n",
    "s1"
   ],
   "metadata": {
    "collapsed": false,
    "ExecuteTime": {
     "end_time": "2024-03-12T00:22:33.269607Z",
     "start_time": "2024-03-12T00:22:33.255894Z"
    }
   },
   "id": "d83dda359b073281",
   "execution_count": 3
  },
  {
   "cell_type": "markdown",
   "source": [
    "# 열단위로 출력\n",
    "# 자동으로 데이터에 라벨이 부여되고, 세로축 라벨을 index라 하고, 입력한 시퀀스 데이터는 values라고 부름\n",
    "\n",
    "# Series 데이터는 index와 value를 분리해서 가져 올 수 있음.\n",
    "# Series 데이터를 s라고 할 때 index는 s.index로, values는 s.values로 가져 올 수 있음."
   ],
   "metadata": {
    "collapsed": false
   },
   "id": "e7ccac2f6b5a678"
  },
  {
   "cell_type": "code",
   "outputs": [
    {
     "data": {
      "text/plain": "RangeIndex(start=0, stop=5, step=1)"
     },
     "execution_count": 4,
     "metadata": {},
     "output_type": "execute_result"
    }
   ],
   "source": [
    "s1.index"
   ],
   "metadata": {
    "collapsed": false,
    "ExecuteTime": {
     "end_time": "2024-03-12T00:22:33.275094Z",
     "start_time": "2024-03-12T00:22:33.267600Z"
    }
   },
   "id": "6520a0826e53e50b",
   "execution_count": 4
  },
  {
   "cell_type": "code",
   "outputs": [
    {
     "data": {
      "text/plain": "array([10, 20, 30, 40, 50])"
     },
     "execution_count": 5,
     "metadata": {},
     "output_type": "execute_result"
    }
   ],
   "source": [
    "s1.values"
   ],
   "metadata": {
    "collapsed": false,
    "ExecuteTime": {
     "end_time": "2024-03-12T00:22:33.291410Z",
     "start_time": "2024-03-12T00:22:33.275552Z"
    }
   },
   "id": "bde02361a9c9e196",
   "execution_count": 5
  },
  {
   "cell_type": "markdown",
   "source": [
    "# numpy의 경우 배열의 모든 원소가 데이터 타입이 같아야 했지만,\n",
    "# pandas의 경우에는 원소의 데이터 타입이 달라도 저장 가능."
   ],
   "metadata": {
    "collapsed": false
   },
   "id": "fa3c779ea4f4cf3c"
  },
  {
   "cell_type": "code",
   "outputs": [
    {
     "name": "stdout",
     "output_type": "stream",
     "text": [
      "0    a\n",
      "1    b\n",
      "2    c\n",
      "3    1\n",
      "4    2\n",
      "5    3\n",
      "dtype: object\n"
     ]
    }
   ],
   "source": [
    "s2 = pd.Series(['a', 'b', 'c', 1, 2, 3])  # 넘파이였다면 모두를 문자열로 변경.\n",
    "print(s2)"
   ],
   "metadata": {
    "collapsed": false,
    "ExecuteTime": {
     "end_time": "2024-03-12T00:22:33.296272Z",
     "start_time": "2024-03-12T00:22:33.281321Z"
    }
   },
   "id": "fd24f9c7a274c7e8",
   "execution_count": 6
  },
  {
   "cell_type": "code",
   "outputs": [],
   "source": [
    "# 데이터가 없으면 numpy를 임포트한 후에 np.nan으로 데이터가 없음을 표시 할 수 있음.\n",
    "import numpy as np"
   ],
   "metadata": {
    "collapsed": false,
    "ExecuteTime": {
     "end_time": "2024-03-12T00:22:33.296788Z",
     "start_time": "2024-03-12T00:22:33.284667Z"
    }
   },
   "id": "42266eff12691a66",
   "execution_count": 7
  },
  {
   "cell_type": "code",
   "outputs": [
    {
     "name": "stdout",
     "output_type": "stream",
     "text": [
      "0     NaN\n",
      "1    10.0\n",
      "2    30.0\n",
      "dtype: float64\n"
     ]
    }
   ],
   "source": [
    "s3 = pd.Series([np.nan, 10, 30])\n",
    "print(s3)"
   ],
   "metadata": {
    "collapsed": false,
    "ExecuteTime": {
     "end_time": "2024-03-12T00:22:33.297305Z",
     "start_time": "2024-03-12T00:22:33.289329Z"
    }
   },
   "id": "b4c4fa97900728b1",
   "execution_count": 8
  },
  {
   "cell_type": "markdown",
   "source": [
    "# 데이터를 위한 자리 index는 있지만 실제 값이 없음.\n",
    "\n",
    "# Series 데이터를 생성할 때 다음과 같이 인자로 index 추가 가능.\n",
    "# s = pd.Series(seq_data, index = index_seq)\n",
    "# 인자로 index를 명시적으로 입력하면 Series 변수(s)의 index에는 자동생성되는 index 대신 index_seq가 들어가게 됨.\n",
    "# index_seq도 리스트와 튜플 타입의 데이터를 모두 사용가능하지만 주로 리스트를 사용.\n",
    "# 주의할 점은 seq_data의 항목 개수와 index_seq의 항목 개수가 같아야하 함."
   ],
   "metadata": {
    "collapsed": false
   },
   "id": "9a1ca1a5fec627ca"
  },
  {
   "cell_type": "code",
   "outputs": [
    {
     "data": {
      "text/plain": "2018-10-07    200.0\n2018-10-08    195.0\n2018-10-09      NaN\n2018-10-10    205.0\ndtype: float64"
     },
     "execution_count": 9,
     "metadata": {},
     "output_type": "execute_result"
    }
   ],
   "source": [
    "# 어느 가게의 날짜별 판매량을 pandas의 Series형식으로 입력. 하루는 데이터가 없어서 np.nan을 입력.\n",
    "index_data = ['2018-10-07', '2018-10-08', '2018-10-09', '2018-10-10']\n",
    "s4 = pd.Series([200, 195, np.nan, 205], index=index_data)\n",
    "s4"
   ],
   "metadata": {
    "collapsed": false,
    "ExecuteTime": {
     "end_time": "2024-03-12T00:22:33.318464Z",
     "start_time": "2024-03-12T00:22:33.293439Z"
    }
   },
   "id": "6115a2950f479518",
   "execution_count": 9
  },
  {
   "cell_type": "code",
   "outputs": [
    {
     "data": {
      "text/plain": "Index(['2018-10-07', '2018-10-08', '2018-10-09', '2018-10-10'], dtype='object')"
     },
     "execution_count": 10,
     "metadata": {},
     "output_type": "execute_result"
    }
   ],
   "source": [
    "s4.index"
   ],
   "metadata": {
    "collapsed": false,
    "ExecuteTime": {
     "end_time": "2024-03-12T00:22:33.319391Z",
     "start_time": "2024-03-12T00:22:33.298600Z"
    }
   },
   "id": "dc74fb9f950d2497",
   "execution_count": 10
  },
  {
   "cell_type": "code",
   "outputs": [],
   "source": [
    "# 파이썬의 딕셔너리를 사용하면 데이터와 index를 함께 입력할 수 있음.\n",
    "# s = pd.Series(dict_data)\n",
    "# 입력 인자로 딕셔너리 데이터를 입력하면 딕셔너리 데이터의 키 key와 값 value이 각각\n",
    "# Series 데이터의 index와 values로 들어감"
   ],
   "metadata": {
    "collapsed": false,
    "ExecuteTime": {
     "end_time": "2024-03-12T00:22:33.319734Z",
     "start_time": "2024-03-12T00:22:33.304994Z"
    }
   },
   "id": "bee18647be5579e6",
   "execution_count": 11
  },
  {
   "cell_type": "code",
   "outputs": [
    {
     "data": {
      "text/plain": "국어    100\n영어     95\n수학     90\ndtype: int64"
     },
     "execution_count": 12,
     "metadata": {},
     "output_type": "execute_result"
    }
   ],
   "source": [
    "s5 = pd.Series({'국어': 100, '영어': 95, '수학': 90})\n",
    "s5"
   ],
   "metadata": {
    "collapsed": false,
    "ExecuteTime": {
     "end_time": "2024-03-12T00:22:33.320010Z",
     "start_time": "2024-03-12T00:22:33.309441Z"
    }
   },
   "id": "12556e3b73af8122",
   "execution_count": 12
  }
 ],
 "metadata": {
  "kernelspec": {
   "display_name": "Python 3",
   "language": "python",
   "name": "python3"
  },
  "language_info": {
   "codemirror_mode": {
    "name": "ipython",
    "version": 2
   },
   "file_extension": ".py",
   "mimetype": "text/x-python",
   "name": "python",
   "nbconvert_exporter": "python",
   "pygments_lexer": "ipython2",
   "version": "2.7.6"
  }
 },
 "nbformat": 4,
 "nbformat_minor": 5
}
