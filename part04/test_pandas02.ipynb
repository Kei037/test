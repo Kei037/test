{
 "cells": [
  {
   "cell_type": "markdown",
   "source": [
    "### 2) 날짜 자동 생성 : date_range"
   ],
   "metadata": {
    "collapsed": false
   },
   "id": "7ca5a9c3e7477629"
  },
  {
   "cell_type": "code",
   "outputs": [],
   "source": [
    "# 입력해야 할 날짜가 많으면 pandas에서 날짜를 자동생성하는 date_range() 사용.\n",
    "# 몇 가지 설정만 하면 원하는 날짜를 자동으로 생성하므로 날짜 데이터를 입력할 때 편리.\n",
    "\n",
    "# pd.data_range(start=None, end=None, periods=None, freq='D')\n",
    "# start는 시작날짜\n",
    "# end는 끝날짜\n",
    "# periods는 날짜 데이터 생성 기간 -> 생성 갯수\n",
    "# freq는 날짜 데이터 생성 주기\n",
    "# start는 필수이고, end나 periods는 둘 중 하나만 있어도 됨.\n",
    "# freq는 입력하지 않으면 'D' 옵션이 설정돼 달력날짜 기준으로 하루씩 증가."
   ],
   "metadata": {
    "collapsed": false,
    "ExecuteTime": {
     "end_time": "2024-03-12T00:34:19.335698Z",
     "start_time": "2024-03-12T00:34:19.301352Z"
    }
   },
   "id": "50f9c14bc653345e",
   "execution_count": 1
  },
  {
   "cell_type": "code",
   "outputs": [],
   "source": [
    "import pandas as pd"
   ],
   "metadata": {
    "collapsed": false,
    "ExecuteTime": {
     "end_time": "2024-03-12T00:34:19.534250Z",
     "start_time": "2024-03-12T00:34:19.306062Z"
    }
   },
   "id": "5227d2400281c9d2",
   "execution_count": 2
  },
  {
   "cell_type": "code",
   "outputs": [
    {
     "data": {
      "text/plain": "DatetimeIndex(['2019-01-01', '2019-01-02', '2019-01-03', '2019-01-04',\n               '2019-01-05', '2019-01-06', '2019-01-07'],\n              dtype='datetime64[ns]', freq='D')"
     },
     "execution_count": 3,
     "metadata": {},
     "output_type": "execute_result"
    }
   ],
   "source": [
    "# 시작 날짜와 끝 날짜를 지정해 날짜 데이터를 생성. 하루씩 증가한 날짜 데이터가 생성.\n",
    "pd.date_range(start='2019-01-01', end='2019-01-07')"
   ],
   "metadata": {
    "collapsed": false,
    "ExecuteTime": {
     "end_time": "2024-03-12T00:34:19.570110Z",
     "start_time": "2024-03-12T00:34:19.539408Z"
    }
   },
   "id": "9f3a46d12e15c039",
   "execution_count": 3
  },
  {
   "cell_type": "code",
   "outputs": [],
   "source": [
    "# 날짜 데이터를 입력할 때 yyyy-mm-dd 형식이 아니라\n",
    "# yyyy/mm/dd, yyyy.mm.dd, mm-dd-yyyy, mm/dd/yyyy. mm.dd.yyyy 같은 형식도 사용가능하고\n",
    "# 대신 출력은 yyyy-mm-dd 형식으로 생성"
   ],
   "metadata": {
    "collapsed": false,
    "ExecuteTime": {
     "end_time": "2024-03-12T00:34:19.587183Z",
     "start_time": "2024-03-12T00:34:19.580117Z"
    }
   },
   "id": "3267c8456b83bfb",
   "execution_count": 4
  },
  {
   "cell_type": "code",
   "outputs": [
    {
     "data": {
      "text/plain": "DatetimeIndex(['2019-01-01', '2019-01-02', '2019-01-03', '2019-01-04',\n               '2019-01-05', '2019-01-06', '2019-01-07'],\n              dtype='datetime64[ns]', freq='D')"
     },
     "execution_count": 5,
     "metadata": {},
     "output_type": "execute_result"
    }
   ],
   "source": [
    "pd.date_range(start='01-01-2019', end='01/07/2019')"
   ],
   "metadata": {
    "collapsed": false,
    "ExecuteTime": {
     "end_time": "2024-03-12T00:34:19.593297Z",
     "start_time": "2024-03-12T00:34:19.585143Z"
    }
   },
   "id": "4a5115d754f83d95",
   "execution_count": 5
  },
  {
   "cell_type": "code",
   "outputs": [
    {
     "data": {
      "text/plain": "DatetimeIndex(['2019-01-01', '2019-01-02', '2019-01-03', '2019-01-04',\n               '2019-01-05', '2019-01-06', '2019-01-07'],\n              dtype='datetime64[ns]', freq='D')"
     },
     "execution_count": 6,
     "metadata": {},
     "output_type": "execute_result"
    }
   ],
   "source": [
    "pd.date_range(start='2019-01-01', end='01.07.2019')"
   ],
   "metadata": {
    "collapsed": false,
    "ExecuteTime": {
     "end_time": "2024-03-12T00:34:19.597939Z",
     "start_time": "2024-03-12T00:34:19.590167Z"
    }
   },
   "id": "488998f8c8e2a0a0",
   "execution_count": 6
  },
  {
   "cell_type": "code",
   "outputs": [
    {
     "data": {
      "text/plain": "DatetimeIndex(['2019-01-01', '2019-01-02', '2019-01-03', '2019-01-04',\n               '2019-01-05', '2019-01-06', '2019-01-07'],\n              dtype='datetime64[ns]', freq='D')"
     },
     "execution_count": 7,
     "metadata": {},
     "output_type": "execute_result"
    }
   ],
   "source": [
    "pd.date_range(start='2019-01-01', periods=7)"
   ],
   "metadata": {
    "collapsed": false,
    "ExecuteTime": {
     "end_time": "2024-03-12T00:34:19.603484Z",
     "start_time": "2024-03-12T00:34:19.594704Z"
    }
   },
   "id": "a04c6104a4d98a65",
   "execution_count": 7
  },
  {
   "cell_type": "markdown",
   "source": [
    "# * pandas date_range() 함수의 freq 옵션.\n",
    "# 약어\t설명\t사용 예\n",
    "# D\t: 달력 날짜 기준 하루 주기 ex) 하루 주기: freq = 'D', 이틀 주기: freq = '2D'\n",
    "# B\t: 업무 날짜 기준 하루 주기 ex) 업무일(월~금) 기준으로 생성, freq = 'B', freq = '3B'\n",
    "# W\t: 일요일 시작 기준 일주일 주기 ex) 월요일: W-MON, 화요일: W-TUE, freq = 'W', freq = 'W-MON'\n",
    "# M\t: 월말 날짜 기준 주기 ex) 한 달 주기: freq = 'M', 네 달 주기: freq = '4M'\n",
    "# BM : 업무 월말 날짜 기준 주기\tex) freq = 'BM' , freq = '2BM'\n",
    "# MS : 월초 날짜 기준 주기 ex) freq = 'MS' , freq = '2MS'\n",
    "# BMS :\t업무 월초 날짜 기준 주기\t ex) freq = 'BMS' , freq = '2BMS'\n",
    "# Q\t: 분기 끝 날짜 기준 주기\t ex) freq = 'Q' , freq = '2Q'\n",
    "# BQ : 업무 분기 끝 날짜 기준 주기 ex) freq = 'BQ' , freq = '2BQ'\n",
    "# QS : 분기 시작 날짜 기준 주기\tex) freq = 'QS' , freq = '2QS'\n",
    "# BQS : 업무 분기 시작 날짜 기준 주기 ex) freq = 'BQS' , freq = '2BQS'\n",
    "# A\t: 일년 끝 날짜 기준 주기\tex) freq = 'A' , freq = '2A'\n",
    "# BA : 업무 일년 끝 날짜 기준 주기 ex) freq = 'BA' , freq = '2BA'\n",
    "# AS : 일년 시작 날짜 기준 주기 ex) freq = 'AS' , freq = '2AS'\n",
    "# BAS : 업무 일년 시작 날짜 기준 주기 ex) freq = 'BAS' , freq = '2BAS'\n",
    "# H\t: 시간 기준 주기 ex) 1시간 주기: freq = 'H' , 2시간 주기: freq = '2H'\n",
    "# BH : 업무 시간 기준 주기 ex) 업무 시간(09:00 ~ 17:00) 기준으로 생성\n",
    "# T, min : 분 주기\tex) 10분 주기: freq = '10T' , 30분 주기: freq = '30min'\n",
    "# S\t: 초 주기 ex) 1초 주기: freq = 'S' , 10초 주기: freq = '10S'"
   ],
   "metadata": {
    "collapsed": false
   },
   "id": "d862164a905d98cb"
  },
  {
   "cell_type": "code",
   "outputs": [
    {
     "data": {
      "text/plain": "DatetimeIndex(['2019-01-01', '2019-01-03', '2019-01-05', '2019-01-07'], dtype='datetime64[ns]', freq='2D')"
     },
     "execution_count": 8,
     "metadata": {},
     "output_type": "execute_result"
    }
   ],
   "source": [
    "# 2일씩 증가하는 날짜를 생성.\n",
    "pd.date_range(start='2019-01-01', periods=4, freq='2D')"
   ],
   "metadata": {
    "collapsed": false,
    "ExecuteTime": {
     "end_time": "2024-03-12T00:39:57.283817Z",
     "start_time": "2024-03-12T00:39:57.279700Z"
    }
   },
   "id": "fba8cf82b3042d38",
   "execution_count": 8
  },
  {
   "cell_type": "code",
   "outputs": [
    {
     "data": {
      "text/plain": "DatetimeIndex(['2019-01-06', '2019-01-13', '2019-01-20', '2019-01-27'], dtype='datetime64[ns]', freq='W-SUN')"
     },
     "execution_count": 9,
     "metadata": {},
     "output_type": "execute_result"
    }
   ],
   "source": [
    "# 달력의 요일을 기준으로 일주일씩 증가하는 날짜를 생성.\n",
    "pd.date_range(start='2019-01-01', periods=4, freq='W')"
   ],
   "metadata": {
    "collapsed": false,
    "ExecuteTime": {
     "end_time": "2024-03-12T00:40:44.217706Z",
     "start_time": "2024-03-12T00:40:44.214666Z"
    }
   },
   "id": "69241dcd2654120e",
   "execution_count": 9
  },
  {
   "cell_type": "code",
   "outputs": [
    {
     "data": {
      "text/plain": "DatetimeIndex(['2019-01-31', '2019-03-29', '2019-05-31', '2019-07-31',\n               '2019-09-30', '2019-11-29', '2020-01-31', '2020-03-31',\n               '2020-05-29', '2020-07-31', '2020-09-30', '2020-11-30'],\n              dtype='datetime64[ns]', freq='2BM')"
     },
     "execution_count": 10,
     "metadata": {},
     "output_type": "execute_result"
    }
   ],
   "source": [
    "# 업무일 기준 2개월 월말 주기로 12개 날짜를 생성.\n",
    "pd.date_range(start='2019-01-01', periods=12, freq='2BM')"
   ],
   "metadata": {
    "collapsed": false,
    "ExecuteTime": {
     "end_time": "2024-03-12T00:41:14.197034Z",
     "start_time": "2024-03-12T00:41:14.192789Z"
    }
   },
   "id": "780421b8ba96d14b",
   "execution_count": 10
  },
  {
   "cell_type": "code",
   "outputs": [
    {
     "data": {
      "text/plain": "DatetimeIndex(['2019-01-01', '2019-04-01', '2019-07-01', '2019-10-01'], dtype='datetime64[ns]', freq='QS-JAN')"
     },
     "execution_count": 11,
     "metadata": {},
     "output_type": "execute_result"
    }
   ],
   "source": [
    "# 분기 시작일을 기준으로 4개의 날짜를 생성\n",
    "pd.date_range(start='2019-01-01', periods=4, freq='QS')"
   ],
   "metadata": {
    "collapsed": false,
    "ExecuteTime": {
     "end_time": "2024-03-12T00:42:36.176605Z",
     "start_time": "2024-03-12T00:42:36.165713Z"
    }
   },
   "id": "d4e13b9b8e5ce90a",
   "execution_count": 11
  },
  {
   "cell_type": "code",
   "outputs": [
    {
     "data": {
      "text/plain": "DatetimeIndex(['2019-01-01 08:00:00', '2019-01-01 09:00:00',\n               '2019-01-01 10:00:00', '2019-01-01 11:00:00',\n               '2019-01-01 12:00:00', '2019-01-01 13:00:00',\n               '2019-01-01 14:00:00', '2019-01-01 15:00:00',\n               '2019-01-01 16:00:00', '2019-01-01 17:00:00'],\n              dtype='datetime64[ns]', freq='H')"
     },
     "execution_count": 12,
     "metadata": {},
     "output_type": "execute_result"
    }
   ],
   "source": [
    "# 날짜뿐 아니라 시간을 생성하는 방법\n",
    "# 1시간 주기로 10개의 시간을 생성한 예\n",
    "pd.date_range(start='2019-01-01 08:00', periods=10, freq='H')"
   ],
   "metadata": {
    "collapsed": false,
    "ExecuteTime": {
     "end_time": "2024-03-12T00:44:48.734332Z",
     "start_time": "2024-03-12T00:44:48.729914Z"
    }
   },
   "id": "85ee11f7a942180d",
   "execution_count": 12
  },
  {
   "cell_type": "code",
   "outputs": [
    {
     "data": {
      "text/plain": "DatetimeIndex(['2019-01-01 09:00:00', '2019-01-01 10:00:00',\n               '2019-01-01 11:00:00', '2019-01-01 12:00:00',\n               '2019-01-01 13:00:00', '2019-01-01 14:00:00',\n               '2019-01-01 15:00:00', '2019-01-01 16:00:00',\n               '2019-01-02 09:00:00', '2019-01-02 10:00:00'],\n              dtype='datetime64[ns]', freq='BH')"
     },
     "execution_count": 13,
     "metadata": {},
     "output_type": "execute_result"
    }
   ],
   "source": [
    "# 업무 시간을 기준으로 1시간 주기로 10개의 시간을 생성하는 예\n",
    "# 업무 시간은 9시 부터 17시까지이므로 start시간을 9시 이전으로 설정해도 9시 부터 표시.\n",
    "pd.date_range(start='2019-01-01 08:00', periods=10, freq='BH')"
   ],
   "metadata": {
    "collapsed": false,
    "ExecuteTime": {
     "end_time": "2024-03-12T00:46:02.757033Z",
     "start_time": "2024-03-12T00:46:02.751641Z"
    }
   },
   "id": "46f067ac3ffd92cd",
   "execution_count": 13
  },
  {
   "cell_type": "code",
   "outputs": [
    {
     "data": {
      "text/plain": "2019-03-01    51\n2019-03-02    62\n2019-03-03    55\n2019-03-04    49\n2019-03-05    58\nFreq: D, dtype: int64"
     },
     "execution_count": 14,
     "metadata": {},
     "output_type": "execute_result"
    }
   ],
   "source": [
    "# date_range()를 이용해 Series의 index를 지정한 예.\n",
    "index_date = pd.date_range(start='2019-03-01', periods=5, freq='D')\n",
    "s = pd.Series([51, 62, 55, 49, 58], index=index_date)\n",
    "s"
   ],
   "metadata": {
    "collapsed": false,
    "ExecuteTime": {
     "end_time": "2024-03-12T00:49:08.474461Z",
     "start_time": "2024-03-12T00:49:08.469147Z"
    }
   },
   "id": "3f3a2b70581b6e5c",
   "execution_count": 14
  },
  {
   "cell_type": "code",
   "outputs": [],
   "source": [],
   "metadata": {
    "collapsed": false
   },
   "id": "9b182eb2a9fe8d85"
  }
 ],
 "metadata": {
  "kernelspec": {
   "display_name": "Python 3",
   "language": "python",
   "name": "python3"
  },
  "language_info": {
   "codemirror_mode": {
    "name": "ipython",
    "version": 2
   },
   "file_extension": ".py",
   "mimetype": "text/x-python",
   "name": "python",
   "nbconvert_exporter": "python",
   "pygments_lexer": "ipython2",
   "version": "2.7.6"
  }
 },
 "nbformat": 4,
 "nbformat_minor": 5
}
