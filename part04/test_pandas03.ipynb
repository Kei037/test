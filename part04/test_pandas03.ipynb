{
 "cells": [
  {
   "cell_type": "code",
   "execution_count": 1,
   "id": "initial_id",
   "metadata": {
    "collapsed": true,
    "ExecuteTime": {
     "end_time": "2024-03-12T01:07:00.127419Z",
     "start_time": "2024-03-12T01:07:00.125395Z"
    }
   },
   "outputs": [],
   "source": [
    "# 3) DataFrame을 활용한 데이터 생성"
   ]
  },
  {
   "cell_type": "code",
   "outputs": [],
   "source": [
    "# 표 Table와 2차원 데이터 처리를 위해 DataFrame을 제공.\n",
    "# 데이터 Data를 담는 틀 Frame 이라는 뜻\n",
    "\n",
    "# DataFrame을 이용해 데이터를 생성하는 방법.\n",
    "# df = pd.DataFrame(data [, index = index_data, columns = columns_data])\n",
    "# 즉 리스트, 딕셔너리, numpy의 배열 데이터, Series나 DataFrame 타입의 데이터 입력 가능.\n",
    "# 세로축 라벨을 index라 하고, 가로축 라벨을 columns라고 함.\n",
    "# index와 columns를 제외한 부분을 values라고 하고 values가 관심있는 데이터."
   ],
   "metadata": {
    "collapsed": false,
    "ExecuteTime": {
     "end_time": "2024-03-12T01:09:03.398442Z",
     "start_time": "2024-03-12T01:09:03.394568Z"
    }
   },
   "id": "5e6c189e3cffa4b",
   "execution_count": 2
  },
  {
   "cell_type": "code",
   "outputs": [
    {
     "data": {
      "text/plain": "   0  1  2\n0  1  2  3\n1  4  5  6\n2  7  8  9",
      "text/html": "<div>\n<style scoped>\n    .dataframe tbody tr th:only-of-type {\n        vertical-align: middle;\n    }\n\n    .dataframe tbody tr th {\n        vertical-align: top;\n    }\n\n    .dataframe thead th {\n        text-align: right;\n    }\n</style>\n<table border=\"1\" class=\"dataframe\">\n  <thead>\n    <tr style=\"text-align: right;\">\n      <th></th>\n      <th>0</th>\n      <th>1</th>\n      <th>2</th>\n    </tr>\n  </thead>\n  <tbody>\n    <tr>\n      <th>0</th>\n      <td>1</td>\n      <td>2</td>\n      <td>3</td>\n    </tr>\n    <tr>\n      <th>1</th>\n      <td>4</td>\n      <td>5</td>\n      <td>6</td>\n    </tr>\n    <tr>\n      <th>2</th>\n      <td>7</td>\n      <td>8</td>\n      <td>9</td>\n    </tr>\n  </tbody>\n</table>\n</div>"
     },
     "execution_count": 3,
     "metadata": {},
     "output_type": "execute_result"
    }
   ],
   "source": [
    "import pandas as pd\n",
    "\n",
    "d1 = pd.DataFrame([[1, 2, 3], [4, 5, 6], [7, 8, 9,]])\n",
    "d1"
   ],
   "metadata": {
    "collapsed": false,
    "ExecuteTime": {
     "end_time": "2024-03-12T01:11:14.005161Z",
     "start_time": "2024-03-12T01:11:13.773143Z"
    }
   },
   "id": "6dee9c1b18e33217",
   "execution_count": 3
  },
  {
   "cell_type": "code",
   "outputs": [],
   "source": [
    "# values 부분에는 입력한 data가 순서대로 입력되 있고\n",
    "# 가장 좌측의 열과 가장 윗줄의 행에는 각각 숫자가 자동으로 생성되어 index, columns를 구성.\n",
    "# 명시적으로 index와 columns을 입력하지 않더라도 자동으로 index, columns가 생성."
   ],
   "metadata": {
    "collapsed": false,
    "ExecuteTime": {
     "end_time": "2024-03-12T01:14:19.738915Z",
     "start_time": "2024-03-12T01:14:19.733149Z"
    }
   },
   "id": "7031255b9edc728b",
   "execution_count": 4
  },
  {
   "cell_type": "code",
   "outputs": [
    {
     "name": "stdout",
     "output_type": "stream",
     "text": [
      "[[10 20 30]\n",
      " [40 50 60]\n",
      " [70 80 90]]\n"
     ]
    }
   ],
   "source": [
    "# numpy의 배열 데이터를 입력해 생성한 DataFrame 데이터 예\n",
    "import numpy as np\n",
    "data_list = np.array([[10, 20, 30], [40, 50, 60], [70, 80, 90]])\n",
    "print(data_list)"
   ],
   "metadata": {
    "collapsed": false,
    "ExecuteTime": {
     "end_time": "2024-03-12T01:14:59.063975Z",
     "start_time": "2024-03-12T01:14:59.058809Z"
    }
   },
   "id": "61b89e49f5c3a720",
   "execution_count": 5
  },
  {
   "cell_type": "code",
   "outputs": [
    {
     "data": {
      "text/plain": "    0   1   2\n0  10  20  30\n1  40  50  60\n2  70  80  90",
      "text/html": "<div>\n<style scoped>\n    .dataframe tbody tr th:only-of-type {\n        vertical-align: middle;\n    }\n\n    .dataframe tbody tr th {\n        vertical-align: top;\n    }\n\n    .dataframe thead th {\n        text-align: right;\n    }\n</style>\n<table border=\"1\" class=\"dataframe\">\n  <thead>\n    <tr style=\"text-align: right;\">\n      <th></th>\n      <th>0</th>\n      <th>1</th>\n      <th>2</th>\n    </tr>\n  </thead>\n  <tbody>\n    <tr>\n      <th>0</th>\n      <td>10</td>\n      <td>20</td>\n      <td>30</td>\n    </tr>\n    <tr>\n      <th>1</th>\n      <td>40</td>\n      <td>50</td>\n      <td>60</td>\n    </tr>\n    <tr>\n      <th>2</th>\n      <td>70</td>\n      <td>80</td>\n      <td>90</td>\n    </tr>\n  </tbody>\n</table>\n</div>"
     },
     "execution_count": 6,
     "metadata": {},
     "output_type": "execute_result"
    }
   ],
   "source": [
    "d2 = pd.DataFrame(data_list)\n",
    "d2"
   ],
   "metadata": {
    "collapsed": false,
    "ExecuteTime": {
     "end_time": "2024-03-12T01:15:06.999627Z",
     "start_time": "2024-03-12T01:15:06.995244Z"
    }
   },
   "id": "6c668d41d2f387bf",
   "execution_count": 6
  },
  {
   "cell_type": "code",
   "outputs": [
    {
     "data": {
      "text/plain": "             A   B   C\n2019-09-01   1   2   3\n2019-09-02   4   5   6\n2019-09-03   7   8   9\n2019-09-04  10  11  12",
      "text/html": "<div>\n<style scoped>\n    .dataframe tbody tr th:only-of-type {\n        vertical-align: middle;\n    }\n\n    .dataframe tbody tr th {\n        vertical-align: top;\n    }\n\n    .dataframe thead th {\n        text-align: right;\n    }\n</style>\n<table border=\"1\" class=\"dataframe\">\n  <thead>\n    <tr style=\"text-align: right;\">\n      <th></th>\n      <th>A</th>\n      <th>B</th>\n      <th>C</th>\n    </tr>\n  </thead>\n  <tbody>\n    <tr>\n      <th>2019-09-01</th>\n      <td>1</td>\n      <td>2</td>\n      <td>3</td>\n    </tr>\n    <tr>\n      <th>2019-09-02</th>\n      <td>4</td>\n      <td>5</td>\n      <td>6</td>\n    </tr>\n    <tr>\n      <th>2019-09-03</th>\n      <td>7</td>\n      <td>8</td>\n      <td>9</td>\n    </tr>\n    <tr>\n      <th>2019-09-04</th>\n      <td>10</td>\n      <td>11</td>\n      <td>12</td>\n    </tr>\n  </tbody>\n</table>\n</div>"
     },
     "execution_count": 7,
     "metadata": {},
     "output_type": "execute_result"
    }
   ],
   "source": [
    "# data뿐만 아니라 index와 columns도 지정한 예\n",
    "data = np.array([[1, 2, 3], [4, 5, 6], [7, 8, 9], [10, 11, 12]])  # values\n",
    "index_date = pd.date_range('2019-09-01', periods=4)\n",
    "coumns_list = ['A', 'B', 'C']\n",
    "d3 = pd.DataFrame(data=data, index=index_date, columns=coumns_list)\n",
    "d3"
   ],
   "metadata": {
    "collapsed": false,
    "ExecuteTime": {
     "end_time": "2024-03-12T01:18:46.192920Z",
     "start_time": "2024-03-12T01:18:46.189774Z"
    }
   },
   "id": "71ca3af66e19018d",
   "execution_count": 7
  },
  {
   "cell_type": "code",
   "outputs": [
    {
     "data": {
      "text/plain": "     연도  지사  고객 수\n0  2015  한국   200\n1  2016  한국   250\n2  2016  미국   450\n3  2017  한국   300\n4  2017  미국   500",
      "text/html": "<div>\n<style scoped>\n    .dataframe tbody tr th:only-of-type {\n        vertical-align: middle;\n    }\n\n    .dataframe tbody tr th {\n        vertical-align: top;\n    }\n\n    .dataframe thead th {\n        text-align: right;\n    }\n</style>\n<table border=\"1\" class=\"dataframe\">\n  <thead>\n    <tr style=\"text-align: right;\">\n      <th></th>\n      <th>연도</th>\n      <th>지사</th>\n      <th>고객 수</th>\n    </tr>\n  </thead>\n  <tbody>\n    <tr>\n      <th>0</th>\n      <td>2015</td>\n      <td>한국</td>\n      <td>200</td>\n    </tr>\n    <tr>\n      <th>1</th>\n      <td>2016</td>\n      <td>한국</td>\n      <td>250</td>\n    </tr>\n    <tr>\n      <th>2</th>\n      <td>2016</td>\n      <td>미국</td>\n      <td>450</td>\n    </tr>\n    <tr>\n      <th>3</th>\n      <td>2017</td>\n      <td>한국</td>\n      <td>300</td>\n    </tr>\n    <tr>\n      <th>4</th>\n      <td>2017</td>\n      <td>미국</td>\n      <td>500</td>\n    </tr>\n  </tbody>\n</table>\n</div>"
     },
     "execution_count": 8,
     "metadata": {},
     "output_type": "execute_result"
    }
   ],
   "source": [
    "# 딕셔너리 타입으로 2차원 데이터를 입력한 예\n",
    "table_data = {'연도': [2015, 2016, 2016, 2017, 2017],\n",
    "              '지사': ['한국', '한국', '미국', '한국', '미국'],\n",
    "              '고객 수': [200, 250, 450, 300, 500]}\n",
    "d4 = pd.DataFrame(table_data)\n",
    "d4"
   ],
   "metadata": {
    "collapsed": false,
    "ExecuteTime": {
     "end_time": "2024-03-12T01:21:59.525372Z",
     "start_time": "2024-03-12T01:21:59.519558Z"
    }
   },
   "id": "50794b8ca82c6255",
   "execution_count": 8
  },
  {
   "cell_type": "code",
   "outputs": [
    {
     "data": {
      "text/plain": "   지사  고객 수    연도\n0  한국   200  2015\n1  한국   250  2016\n2  미국   450  2016\n3  한국   300  2017\n4  미국   500  2017",
      "text/html": "<div>\n<style scoped>\n    .dataframe tbody tr th:only-of-type {\n        vertical-align: middle;\n    }\n\n    .dataframe tbody tr th {\n        vertical-align: top;\n    }\n\n    .dataframe thead th {\n        text-align: right;\n    }\n</style>\n<table border=\"1\" class=\"dataframe\">\n  <thead>\n    <tr style=\"text-align: right;\">\n      <th></th>\n      <th>지사</th>\n      <th>고객 수</th>\n      <th>연도</th>\n    </tr>\n  </thead>\n  <tbody>\n    <tr>\n      <th>0</th>\n      <td>한국</td>\n      <td>200</td>\n      <td>2015</td>\n    </tr>\n    <tr>\n      <th>1</th>\n      <td>한국</td>\n      <td>250</td>\n      <td>2016</td>\n    </tr>\n    <tr>\n      <th>2</th>\n      <td>미국</td>\n      <td>450</td>\n      <td>2016</td>\n    </tr>\n    <tr>\n      <th>3</th>\n      <td>한국</td>\n      <td>300</td>\n      <td>2017</td>\n    </tr>\n    <tr>\n      <th>4</th>\n      <td>미국</td>\n      <td>500</td>\n      <td>2017</td>\n    </tr>\n  </tbody>\n</table>\n</div>"
     },
     "execution_count": 11,
     "metadata": {},
     "output_type": "execute_result"
    }
   ],
   "source": [
    "# 리스트나 넘파이 배열은 행 단위로 입력이 되고, 딕셔너리는 열 단위로 입력됨.\n",
    "\n",
    "# 입력시 키의 순서를 지정할 수도 있음.\n",
    "d5 = pd.DataFrame(table_data, columns=['지사', '고객 수', '연도'])\n",
    "d5"
   ],
   "metadata": {
    "collapsed": false,
    "ExecuteTime": {
     "end_time": "2024-03-12T01:25:50.891498Z",
     "start_time": "2024-03-12T01:25:50.887680Z"
    }
   },
   "id": "728ed778b9f91890",
   "execution_count": 11
  },
  {
   "cell_type": "code",
   "outputs": [
    {
     "data": {
      "text/plain": "RangeIndex(start=0, stop=5, step=1)"
     },
     "execution_count": 12,
     "metadata": {},
     "output_type": "execute_result"
    }
   ],
   "source": [
    "# DataFrame 데이터에서 index, columns, values을 각각 구한 예\n",
    "d5.index"
   ],
   "metadata": {
    "collapsed": false,
    "ExecuteTime": {
     "end_time": "2024-03-12T01:26:36.148449Z",
     "start_time": "2024-03-12T01:26:36.144883Z"
    }
   },
   "id": "bf6bc5bc26539a81",
   "execution_count": 12
  },
  {
   "cell_type": "code",
   "outputs": [
    {
     "data": {
      "text/plain": "Index(['지사', '고객 수', '연도'], dtype='object')"
     },
     "execution_count": 13,
     "metadata": {},
     "output_type": "execute_result"
    }
   ],
   "source": [
    "d5.columns"
   ],
   "metadata": {
    "collapsed": false,
    "ExecuteTime": {
     "end_time": "2024-03-12T01:27:01.756600Z",
     "start_time": "2024-03-12T01:27:01.749350Z"
    }
   },
   "id": "7c964badf85971ff",
   "execution_count": 13
  },
  {
   "cell_type": "code",
   "outputs": [
    {
     "data": {
      "text/plain": "array([['한국', 200, 2015],\n       ['한국', 250, 2016],\n       ['미국', 450, 2016],\n       ['한국', 300, 2017],\n       ['미국', 500, 2017]], dtype=object)"
     },
     "execution_count": 15,
     "metadata": {},
     "output_type": "execute_result"
    }
   ],
   "source": [
    "d5.values"
   ],
   "metadata": {
    "collapsed": false,
    "ExecuteTime": {
     "end_time": "2024-03-12T01:27:26.293553Z",
     "start_time": "2024-03-12T01:27:26.290212Z"
    }
   },
   "id": "e03e4350ab6f9dbc",
   "execution_count": 15
  }
 ],
 "metadata": {
  "kernelspec": {
   "display_name": "Python 3",
   "language": "python",
   "name": "python3"
  },
  "language_info": {
   "codemirror_mode": {
    "name": "ipython",
    "version": 2
   },
   "file_extension": ".py",
   "mimetype": "text/x-python",
   "name": "python",
   "nbconvert_exporter": "python",
   "pygments_lexer": "ipython2",
   "version": "2.7.6"
  }
 },
 "nbformat": 4,
 "nbformat_minor": 5
}
