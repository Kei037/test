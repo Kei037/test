{
 "cells": [
  {
   "cell_type": "code",
   "outputs": [],
   "source": [
    "import pandas as pd"
   ],
   "metadata": {
    "collapsed": false,
    "ExecuteTime": {
     "end_time": "2024-03-13T00:43:57.314924Z",
     "start_time": "2024-03-13T00:43:57.064174Z"
    }
   },
   "id": "5f617e3c3afef33d",
   "execution_count": 1
  },
  {
   "cell_type": "code",
   "outputs": [
    {
     "data": {
      "text/plain": "   수강코드    과목명 담당교수\n0   111    파이썬  양숙희\n1   222  데이터분석  오경선\n2   333   인공지능  장은실\n3   444   선형대수  황복동\n4   555   이산수학  정명식\n5   666  컴퓨터개론  최봉수\n6   777   자료구조  김진영\n7   888   정보통신  김진호",
      "text/html": "<div>\n<style scoped>\n    .dataframe tbody tr th:only-of-type {\n        vertical-align: middle;\n    }\n\n    .dataframe tbody tr th {\n        vertical-align: top;\n    }\n\n    .dataframe thead th {\n        text-align: right;\n    }\n</style>\n<table border=\"1\" class=\"dataframe\">\n  <thead>\n    <tr style=\"text-align: right;\">\n      <th></th>\n      <th>수강코드</th>\n      <th>과목명</th>\n      <th>담당교수</th>\n    </tr>\n  </thead>\n  <tbody>\n    <tr>\n      <th>0</th>\n      <td>111</td>\n      <td>파이썬</td>\n      <td>양숙희</td>\n    </tr>\n    <tr>\n      <th>1</th>\n      <td>222</td>\n      <td>데이터분석</td>\n      <td>오경선</td>\n    </tr>\n    <tr>\n      <th>2</th>\n      <td>333</td>\n      <td>인공지능</td>\n      <td>장은실</td>\n    </tr>\n    <tr>\n      <th>3</th>\n      <td>444</td>\n      <td>선형대수</td>\n      <td>황복동</td>\n    </tr>\n    <tr>\n      <th>4</th>\n      <td>555</td>\n      <td>이산수학</td>\n      <td>정명식</td>\n    </tr>\n    <tr>\n      <th>5</th>\n      <td>666</td>\n      <td>컴퓨터개론</td>\n      <td>최봉수</td>\n    </tr>\n    <tr>\n      <th>6</th>\n      <td>777</td>\n      <td>자료구조</td>\n      <td>김진영</td>\n    </tr>\n    <tr>\n      <th>7</th>\n      <td>888</td>\n      <td>정보통신</td>\n      <td>김진호</td>\n    </tr>\n  </tbody>\n</table>\n</div>"
     },
     "execution_count": 3,
     "metadata": {},
     "output_type": "execute_result"
    }
   ],
   "source": [
    "df = pd.read_csv('./input/signup.csv', encoding='cp949')\n",
    "df"
   ],
   "metadata": {
    "collapsed": false,
    "ExecuteTime": {
     "end_time": "2024-03-13T00:44:22.075988Z",
     "start_time": "2024-03-13T00:44:22.066805Z"
    }
   },
   "id": "154cd4d623870179",
   "execution_count": 3
  },
  {
   "cell_type": "code",
   "outputs": [
    {
     "data": {
      "text/plain": "  담당교수     학과\n0  양숙희  컴퓨터공학\n1  장은실   정보통신\n2  오경선   인공지능\n3  황복동  컴퓨터공학\n4  정명식   인공지능",
      "text/html": "<div>\n<style scoped>\n    .dataframe tbody tr th:only-of-type {\n        vertical-align: middle;\n    }\n\n    .dataframe tbody tr th {\n        vertical-align: top;\n    }\n\n    .dataframe thead th {\n        text-align: right;\n    }\n</style>\n<table border=\"1\" class=\"dataframe\">\n  <thead>\n    <tr style=\"text-align: right;\">\n      <th></th>\n      <th>담당교수</th>\n      <th>학과</th>\n    </tr>\n  </thead>\n  <tbody>\n    <tr>\n      <th>0</th>\n      <td>양숙희</td>\n      <td>컴퓨터공학</td>\n    </tr>\n    <tr>\n      <th>1</th>\n      <td>장은실</td>\n      <td>정보통신</td>\n    </tr>\n    <tr>\n      <th>2</th>\n      <td>오경선</td>\n      <td>인공지능</td>\n    </tr>\n    <tr>\n      <th>3</th>\n      <td>황복동</td>\n      <td>컴퓨터공학</td>\n    </tr>\n    <tr>\n      <th>4</th>\n      <td>정명식</td>\n      <td>인공지능</td>\n    </tr>\n  </tbody>\n</table>\n</div>"
     },
     "execution_count": 6,
     "metadata": {},
     "output_type": "execute_result"
    }
   ],
   "source": [
    "df2 = pd.read_csv('./input/professor.csv', encoding='cp949')\n",
    "df2"
   ],
   "metadata": {
    "collapsed": false,
    "ExecuteTime": {
     "end_time": "2024-03-13T00:44:53.362470Z",
     "start_time": "2024-03-13T00:44:53.355520Z"
    }
   },
   "id": "5378f758218bc636",
   "execution_count": 6
  },
  {
   "cell_type": "code",
   "outputs": [
    {
     "data": {
      "text/plain": "   수강코드    과목명 담당교수     학과\n0   111    파이썬  양숙희  컴퓨터공학\n1   222  데이터분석  오경선   인공지능\n2   333   인공지능  장은실   정보통신\n3   444   선형대수  황복동  컴퓨터공학\n4   555   이산수학  정명식   인공지능",
      "text/html": "<div>\n<style scoped>\n    .dataframe tbody tr th:only-of-type {\n        vertical-align: middle;\n    }\n\n    .dataframe tbody tr th {\n        vertical-align: top;\n    }\n\n    .dataframe thead th {\n        text-align: right;\n    }\n</style>\n<table border=\"1\" class=\"dataframe\">\n  <thead>\n    <tr style=\"text-align: right;\">\n      <th></th>\n      <th>수강코드</th>\n      <th>과목명</th>\n      <th>담당교수</th>\n      <th>학과</th>\n    </tr>\n  </thead>\n  <tbody>\n    <tr>\n      <th>0</th>\n      <td>111</td>\n      <td>파이썬</td>\n      <td>양숙희</td>\n      <td>컴퓨터공학</td>\n    </tr>\n    <tr>\n      <th>1</th>\n      <td>222</td>\n      <td>데이터분석</td>\n      <td>오경선</td>\n      <td>인공지능</td>\n    </tr>\n    <tr>\n      <th>2</th>\n      <td>333</td>\n      <td>인공지능</td>\n      <td>장은실</td>\n      <td>정보통신</td>\n    </tr>\n    <tr>\n      <th>3</th>\n      <td>444</td>\n      <td>선형대수</td>\n      <td>황복동</td>\n      <td>컴퓨터공학</td>\n    </tr>\n    <tr>\n      <th>4</th>\n      <td>555</td>\n      <td>이산수학</td>\n      <td>정명식</td>\n      <td>인공지능</td>\n    </tr>\n  </tbody>\n</table>\n</div>"
     },
     "execution_count": 18,
     "metadata": {},
     "output_type": "execute_result"
    }
   ],
   "source": [
    "df3 = pd.merge(df, df2, on='담당교수', how='inner')\n",
    "df3"
   ],
   "metadata": {
    "collapsed": false,
    "ExecuteTime": {
     "end_time": "2024-03-13T01:08:25.475258Z",
     "start_time": "2024-03-13T01:08:25.472602Z"
    }
   },
   "id": "7acde19ad5a73d41",
   "execution_count": 18
  },
  {
   "cell_type": "code",
   "outputs": [
    {
     "data": {
      "text/plain": "       담당교수\n학과         \n인공지능      2\n정보통신      1\n컴퓨터공학     2",
      "text/html": "<div>\n<style scoped>\n    .dataframe tbody tr th:only-of-type {\n        vertical-align: middle;\n    }\n\n    .dataframe tbody tr th {\n        vertical-align: top;\n    }\n\n    .dataframe thead th {\n        text-align: right;\n    }\n</style>\n<table border=\"1\" class=\"dataframe\">\n  <thead>\n    <tr style=\"text-align: right;\">\n      <th></th>\n      <th>담당교수</th>\n    </tr>\n    <tr>\n      <th>학과</th>\n      <th></th>\n    </tr>\n  </thead>\n  <tbody>\n    <tr>\n      <th>인공지능</th>\n      <td>2</td>\n    </tr>\n    <tr>\n      <th>정보통신</th>\n      <td>1</td>\n    </tr>\n    <tr>\n      <th>컴퓨터공학</th>\n      <td>2</td>\n    </tr>\n  </tbody>\n</table>\n</div>"
     },
     "execution_count": 19,
     "metadata": {},
     "output_type": "execute_result"
    }
   ],
   "source": [
    "# 교수 테이블에서 학과별 인원 수를 출력하세요.\n",
    "df4 = df2.groupby('학과').count()\n",
    "df4"
   ],
   "metadata": {
    "collapsed": false,
    "ExecuteTime": {
     "end_time": "2024-03-13T01:09:08.181556Z",
     "start_time": "2024-03-13T01:09:08.177670Z"
    }
   },
   "id": "cf7931528ecd8734",
   "execution_count": 19
  }
 ],
 "metadata": {
  "kernelspec": {
   "display_name": "Python 3",
   "language": "python",
   "name": "python3"
  },
  "language_info": {
   "codemirror_mode": {
    "name": "ipython",
    "version": 2
   },
   "file_extension": ".py",
   "mimetype": "text/x-python",
   "name": "python",
   "nbconvert_exporter": "python",
   "pygments_lexer": "ipython2",
   "version": "2.7.6"
  }
 },
 "nbformat": 4,
 "nbformat_minor": 5
}
