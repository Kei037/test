{
 "cells": [
  {
   "cell_type": "code",
   "outputs": [],
   "source": [
    "#'서울특별시 코로나19 백신 예방접종현황'에 대한 정보를 가지고 있는 데이터 파일 (vaccine.csv)을 이용하여 모든 문제를 차례대로 수행하세요.\n",
    "\n",
    "# 필드명 : 설명\n",
    "# date : 접종일\n",
    "# subject : 접종대상자\n",
    "# day1num : 당일 1차 접종자 수\n",
    "# day1sum : 1차 접종 누계\n",
    "# day1rate : 1차 접종률\n",
    "# day2num : 당일 2차 접종자 수\n",
    "# day2sum : 2차 접종 누계\n",
    "# day2rate : 2차 접종률\n",
    "\n",
    "# 1) csv파일을 불러와서 하위 5행의 데이터를 확인.\n",
    "# 2) 필요없는 열을 삭제한 후 출력\n",
    "# 삭제할 열 : day1sum, day1rate, day2sum, day2rate\n",
    "# 3) 데이터프레임의 기초통계량을 확인\n",
    "# 4) 새로운열(\"월\")을 생성한 후 데이터 날짜의 월을 입력\n",
    "# 5) 월별 평균을 출력"
   ],
   "metadata": {
    "collapsed": false,
    "ExecuteTime": {
     "end_time": "2024-03-13T01:10:36.618080Z",
     "start_time": "2024-03-13T01:10:36.412968Z"
    }
   },
   "id": "5f617e3c3afef33d",
   "execution_count": 1
  },
  {
   "cell_type": "code",
   "outputs": [],
   "source": [
    "import pandas as pd"
   ],
   "metadata": {
    "collapsed": false,
    "ExecuteTime": {
     "end_time": "2024-03-13T01:10:52.960979Z",
     "start_time": "2024-03-13T01:10:52.956325Z"
    }
   },
   "id": "c88f13dfe6e0e57f",
   "execution_count": 3
  },
  {
   "cell_type": "code",
   "outputs": [
    {
     "data": {
      "text/plain": "           date  subject  day1num  day1sum  day1rate  day2num  day2sum  \\\n174  2021.04.25  1023346    23323   350631      34.2     3411    18513   \n175  2021.04.24  1023346      200   350427      34.2        0    18513   \n176  2021.04.23  1027740    10195   345764      33.6      119    18376   \n177  2021.04.22  1023538    27074   317386      31.0     2479    15901   \n178  2021.04.21  1019322    22501   291857      28.6     2358    13543   \n\n     day2rate  \n174       1.8  \n175       1.8  \n176       1.8  \n177       1.6  \n178       1.3  ",
      "text/html": "<div>\n<style scoped>\n    .dataframe tbody tr th:only-of-type {\n        vertical-align: middle;\n    }\n\n    .dataframe tbody tr th {\n        vertical-align: top;\n    }\n\n    .dataframe thead th {\n        text-align: right;\n    }\n</style>\n<table border=\"1\" class=\"dataframe\">\n  <thead>\n    <tr style=\"text-align: right;\">\n      <th></th>\n      <th>date</th>\n      <th>subject</th>\n      <th>day1num</th>\n      <th>day1sum</th>\n      <th>day1rate</th>\n      <th>day2num</th>\n      <th>day2sum</th>\n      <th>day2rate</th>\n    </tr>\n  </thead>\n  <tbody>\n    <tr>\n      <th>174</th>\n      <td>2021.04.25</td>\n      <td>1023346</td>\n      <td>23323</td>\n      <td>350631</td>\n      <td>34.2</td>\n      <td>3411</td>\n      <td>18513</td>\n      <td>1.8</td>\n    </tr>\n    <tr>\n      <th>175</th>\n      <td>2021.04.24</td>\n      <td>1023346</td>\n      <td>200</td>\n      <td>350427</td>\n      <td>34.2</td>\n      <td>0</td>\n      <td>18513</td>\n      <td>1.8</td>\n    </tr>\n    <tr>\n      <th>176</th>\n      <td>2021.04.23</td>\n      <td>1027740</td>\n      <td>10195</td>\n      <td>345764</td>\n      <td>33.6</td>\n      <td>119</td>\n      <td>18376</td>\n      <td>1.8</td>\n    </tr>\n    <tr>\n      <th>177</th>\n      <td>2021.04.22</td>\n      <td>1023538</td>\n      <td>27074</td>\n      <td>317386</td>\n      <td>31.0</td>\n      <td>2479</td>\n      <td>15901</td>\n      <td>1.6</td>\n    </tr>\n    <tr>\n      <th>178</th>\n      <td>2021.04.21</td>\n      <td>1019322</td>\n      <td>22501</td>\n      <td>291857</td>\n      <td>28.6</td>\n      <td>2358</td>\n      <td>13543</td>\n      <td>1.3</td>\n    </tr>\n  </tbody>\n</table>\n</div>"
     },
     "execution_count": 7,
     "metadata": {},
     "output_type": "execute_result"
    }
   ],
   "source": [
    "df = pd.read_csv('./input/vaccine.csv')\n",
    "df.tail()"
   ],
   "metadata": {
    "collapsed": false,
    "ExecuteTime": {
     "end_time": "2024-03-13T01:12:08.757365Z",
     "start_time": "2024-03-13T01:12:08.748124Z"
    }
   },
   "id": "8f0d82e848a719b",
   "execution_count": 7
  },
  {
   "cell_type": "code",
   "outputs": [
    {
     "data": {
      "text/plain": "           date  subject  day1num  day2num\n0    2021.10.16  9505868    10673    66910\n1    2021.10.15  9505868    14556   133580\n2    2021.10.14  9505868     9609    94569\n3    2021.10.13  9505868     9804    77503\n4    2021.10.12  9505868    17274   110204\n..          ...      ...      ...      ...\n174  2021.04.25  1023346    23323     3411\n175  2021.04.24  1023346      200        0\n176  2021.04.23  1027740    10195      119\n177  2021.04.22  1023538    27074     2479\n178  2021.04.21  1019322    22501     2358\n\n[179 rows x 4 columns]",
      "text/html": "<div>\n<style scoped>\n    .dataframe tbody tr th:only-of-type {\n        vertical-align: middle;\n    }\n\n    .dataframe tbody tr th {\n        vertical-align: top;\n    }\n\n    .dataframe thead th {\n        text-align: right;\n    }\n</style>\n<table border=\"1\" class=\"dataframe\">\n  <thead>\n    <tr style=\"text-align: right;\">\n      <th></th>\n      <th>date</th>\n      <th>subject</th>\n      <th>day1num</th>\n      <th>day2num</th>\n    </tr>\n  </thead>\n  <tbody>\n    <tr>\n      <th>0</th>\n      <td>2021.10.16</td>\n      <td>9505868</td>\n      <td>10673</td>\n      <td>66910</td>\n    </tr>\n    <tr>\n      <th>1</th>\n      <td>2021.10.15</td>\n      <td>9505868</td>\n      <td>14556</td>\n      <td>133580</td>\n    </tr>\n    <tr>\n      <th>2</th>\n      <td>2021.10.14</td>\n      <td>9505868</td>\n      <td>9609</td>\n      <td>94569</td>\n    </tr>\n    <tr>\n      <th>3</th>\n      <td>2021.10.13</td>\n      <td>9505868</td>\n      <td>9804</td>\n      <td>77503</td>\n    </tr>\n    <tr>\n      <th>4</th>\n      <td>2021.10.12</td>\n      <td>9505868</td>\n      <td>17274</td>\n      <td>110204</td>\n    </tr>\n    <tr>\n      <th>...</th>\n      <td>...</td>\n      <td>...</td>\n      <td>...</td>\n      <td>...</td>\n    </tr>\n    <tr>\n      <th>174</th>\n      <td>2021.04.25</td>\n      <td>1023346</td>\n      <td>23323</td>\n      <td>3411</td>\n    </tr>\n    <tr>\n      <th>175</th>\n      <td>2021.04.24</td>\n      <td>1023346</td>\n      <td>200</td>\n      <td>0</td>\n    </tr>\n    <tr>\n      <th>176</th>\n      <td>2021.04.23</td>\n      <td>1027740</td>\n      <td>10195</td>\n      <td>119</td>\n    </tr>\n    <tr>\n      <th>177</th>\n      <td>2021.04.22</td>\n      <td>1023538</td>\n      <td>27074</td>\n      <td>2479</td>\n    </tr>\n    <tr>\n      <th>178</th>\n      <td>2021.04.21</td>\n      <td>1019322</td>\n      <td>22501</td>\n      <td>2358</td>\n    </tr>\n  </tbody>\n</table>\n<p>179 rows × 4 columns</p>\n</div>"
     },
     "execution_count": 18,
     "metadata": {},
     "output_type": "execute_result"
    }
   ],
   "source": [
    "df1 = df.drop(['day1sum', 'day1rate', 'day2sum', 'day2rate'], axis=1)\n",
    "df1"
   ],
   "metadata": {
    "collapsed": false,
    "ExecuteTime": {
     "end_time": "2024-03-13T01:26:55.999746Z",
     "start_time": "2024-03-13T01:26:55.996371Z"
    }
   },
   "id": "3dc724bf76c5e5c6",
   "execution_count": 18
  },
  {
   "cell_type": "code",
   "outputs": [
    {
     "data": {
      "text/plain": "            subject        day1num        day2num\ncount  1.790000e+02     179.000000     179.000000\nmean   5.086644e+06   40078.150838   34096.636872\nstd    3.324235e+06   44231.469656   40745.688278\nmin    1.019322e+06       0.000000       0.000000\n25%    2.279241e+06    4385.000000    4794.500000\n50%    3.943320e+06   23323.000000   16581.000000\n75%    9.505868e+06   71634.500000   50950.000000\nmax    9.795426e+06  169036.000000  200186.000000",
      "text/html": "<div>\n<style scoped>\n    .dataframe tbody tr th:only-of-type {\n        vertical-align: middle;\n    }\n\n    .dataframe tbody tr th {\n        vertical-align: top;\n    }\n\n    .dataframe thead th {\n        text-align: right;\n    }\n</style>\n<table border=\"1\" class=\"dataframe\">\n  <thead>\n    <tr style=\"text-align: right;\">\n      <th></th>\n      <th>subject</th>\n      <th>day1num</th>\n      <th>day2num</th>\n    </tr>\n  </thead>\n  <tbody>\n    <tr>\n      <th>count</th>\n      <td>1.790000e+02</td>\n      <td>179.000000</td>\n      <td>179.000000</td>\n    </tr>\n    <tr>\n      <th>mean</th>\n      <td>5.086644e+06</td>\n      <td>40078.150838</td>\n      <td>34096.636872</td>\n    </tr>\n    <tr>\n      <th>std</th>\n      <td>3.324235e+06</td>\n      <td>44231.469656</td>\n      <td>40745.688278</td>\n    </tr>\n    <tr>\n      <th>min</th>\n      <td>1.019322e+06</td>\n      <td>0.000000</td>\n      <td>0.000000</td>\n    </tr>\n    <tr>\n      <th>25%</th>\n      <td>2.279241e+06</td>\n      <td>4385.000000</td>\n      <td>4794.500000</td>\n    </tr>\n    <tr>\n      <th>50%</th>\n      <td>3.943320e+06</td>\n      <td>23323.000000</td>\n      <td>16581.000000</td>\n    </tr>\n    <tr>\n      <th>75%</th>\n      <td>9.505868e+06</td>\n      <td>71634.500000</td>\n      <td>50950.000000</td>\n    </tr>\n    <tr>\n      <th>max</th>\n      <td>9.795426e+06</td>\n      <td>169036.000000</td>\n      <td>200186.000000</td>\n    </tr>\n  </tbody>\n</table>\n</div>"
     },
     "execution_count": 11,
     "metadata": {},
     "output_type": "execute_result"
    }
   ],
   "source": [
    "df1.describe()"
   ],
   "metadata": {
    "collapsed": false,
    "ExecuteTime": {
     "end_time": "2024-03-13T01:15:45.142961Z",
     "start_time": "2024-03-13T01:15:45.133433Z"
    }
   },
   "id": "5f15b05ef2c5c9f4",
   "execution_count": 11
  },
  {
   "cell_type": "code",
   "outputs": [
    {
     "data": {
      "text/plain": "           date  subject  day1num  day2num   월\n0    2021.10.16  9505868    10673    66910  10\n1    2021.10.15  9505868    14556   133580  10\n2    2021.10.14  9505868     9609    94569  10\n3    2021.10.13  9505868     9804    77503  10\n4    2021.10.12  9505868    17274   110204  10\n..          ...      ...      ...      ...  ..\n174  2021.04.25  1023346    23323     3411  04\n175  2021.04.24  1023346      200        0  04\n176  2021.04.23  1027740    10195      119  04\n177  2021.04.22  1023538    27074     2479  04\n178  2021.04.21  1019322    22501     2358  04\n\n[179 rows x 5 columns]",
      "text/html": "<div>\n<style scoped>\n    .dataframe tbody tr th:only-of-type {\n        vertical-align: middle;\n    }\n\n    .dataframe tbody tr th {\n        vertical-align: top;\n    }\n\n    .dataframe thead th {\n        text-align: right;\n    }\n</style>\n<table border=\"1\" class=\"dataframe\">\n  <thead>\n    <tr style=\"text-align: right;\">\n      <th></th>\n      <th>date</th>\n      <th>subject</th>\n      <th>day1num</th>\n      <th>day2num</th>\n      <th>월</th>\n    </tr>\n  </thead>\n  <tbody>\n    <tr>\n      <th>0</th>\n      <td>2021.10.16</td>\n      <td>9505868</td>\n      <td>10673</td>\n      <td>66910</td>\n      <td>10</td>\n    </tr>\n    <tr>\n      <th>1</th>\n      <td>2021.10.15</td>\n      <td>9505868</td>\n      <td>14556</td>\n      <td>133580</td>\n      <td>10</td>\n    </tr>\n    <tr>\n      <th>2</th>\n      <td>2021.10.14</td>\n      <td>9505868</td>\n      <td>9609</td>\n      <td>94569</td>\n      <td>10</td>\n    </tr>\n    <tr>\n      <th>3</th>\n      <td>2021.10.13</td>\n      <td>9505868</td>\n      <td>9804</td>\n      <td>77503</td>\n      <td>10</td>\n    </tr>\n    <tr>\n      <th>4</th>\n      <td>2021.10.12</td>\n      <td>9505868</td>\n      <td>17274</td>\n      <td>110204</td>\n      <td>10</td>\n    </tr>\n    <tr>\n      <th>...</th>\n      <td>...</td>\n      <td>...</td>\n      <td>...</td>\n      <td>...</td>\n      <td>...</td>\n    </tr>\n    <tr>\n      <th>174</th>\n      <td>2021.04.25</td>\n      <td>1023346</td>\n      <td>23323</td>\n      <td>3411</td>\n      <td>04</td>\n    </tr>\n    <tr>\n      <th>175</th>\n      <td>2021.04.24</td>\n      <td>1023346</td>\n      <td>200</td>\n      <td>0</td>\n      <td>04</td>\n    </tr>\n    <tr>\n      <th>176</th>\n      <td>2021.04.23</td>\n      <td>1027740</td>\n      <td>10195</td>\n      <td>119</td>\n      <td>04</td>\n    </tr>\n    <tr>\n      <th>177</th>\n      <td>2021.04.22</td>\n      <td>1023538</td>\n      <td>27074</td>\n      <td>2479</td>\n      <td>04</td>\n    </tr>\n    <tr>\n      <th>178</th>\n      <td>2021.04.21</td>\n      <td>1019322</td>\n      <td>22501</td>\n      <td>2358</td>\n      <td>04</td>\n    </tr>\n  </tbody>\n</table>\n<p>179 rows × 5 columns</p>\n</div>"
     },
     "execution_count": 20,
     "metadata": {},
     "output_type": "execute_result"
    }
   ],
   "source": [
    "df1['월'] = df1.date.astype(str).str.slice(5, 7)\n",
    "df1"
   ],
   "metadata": {
    "collapsed": false,
    "ExecuteTime": {
     "end_time": "2024-03-13T01:39:40.409070Z",
     "start_time": "2024-03-13T01:39:40.403293Z"
    }
   },
   "id": "ea069e84ffd8676b",
   "execution_count": 20
  },
  {
   "cell_type": "code",
   "outputs": [
    {
     "data": {
      "text/plain": "<bound method DataFrame.info of            date  subject  day1num  day1sum  day1rate  day2num  day2sum  \\\n0    2021.10.16  9505868    10673  7562283      79.6    66910  6191341   \n1    2021.10.15  9505868    14556  7551829      79.4   133580  6124432   \n2    2021.10.14  9505868     9609  7536654      79.3    94569  5989111   \n3    2021.10.13  9505868     9804  7526430      79.2    77503  5893191   \n4    2021.10.12  9505868    17274  7516070      79.1   110204  5814018   \n..          ...      ...      ...      ...       ...      ...      ...   \n174  2021.04.25  1023346    23323   350631      34.2     3411    18513   \n175  2021.04.24  1023346      200   350427      34.2        0    18513   \n176  2021.04.23  1027740    10195   345764      33.6      119    18376   \n177  2021.04.22  1023538    27074   317386      31.0     2479    15901   \n178  2021.04.21  1019322    22501   291857      28.6     2358    13543   \n\n     day2rate  \n0        65.1  \n1        64.4  \n2        63.0  \n3        62.0  \n4        61.2  \n..        ...  \n174       1.8  \n175       1.8  \n176       1.8  \n177       1.6  \n178       1.3  \n\n[179 rows x 8 columns]>"
     },
     "execution_count": 21,
     "metadata": {},
     "output_type": "execute_result"
    }
   ],
   "source": [
    "df.info"
   ],
   "metadata": {
    "collapsed": false,
    "ExecuteTime": {
     "end_time": "2024-03-13T01:39:49.990270Z",
     "start_time": "2024-03-13T01:39:49.986279Z"
    }
   },
   "id": "3a9fd1bad3d14978",
   "execution_count": 21
  },
  {
   "cell_type": "code",
   "outputs": [
    {
     "data": {
      "text/plain": "         day1num       day2num\n월                             \n04  22060.100000   2304.600000\n05  18225.548387   9734.000000\n06  55957.200000  20147.300000\n07  25807.870968   9934.903226\n08  57667.258065  55575.000000\n09  65715.000000  62162.000000\n10   9406.312500  79900.750000",
      "text/html": "<div>\n<style scoped>\n    .dataframe tbody tr th:only-of-type {\n        vertical-align: middle;\n    }\n\n    .dataframe tbody tr th {\n        vertical-align: top;\n    }\n\n    .dataframe thead th {\n        text-align: right;\n    }\n</style>\n<table border=\"1\" class=\"dataframe\">\n  <thead>\n    <tr style=\"text-align: right;\">\n      <th></th>\n      <th>day1num</th>\n      <th>day2num</th>\n    </tr>\n    <tr>\n      <th>월</th>\n      <th></th>\n      <th></th>\n    </tr>\n  </thead>\n  <tbody>\n    <tr>\n      <th>04</th>\n      <td>22060.100000</td>\n      <td>2304.600000</td>\n    </tr>\n    <tr>\n      <th>05</th>\n      <td>18225.548387</td>\n      <td>9734.000000</td>\n    </tr>\n    <tr>\n      <th>06</th>\n      <td>55957.200000</td>\n      <td>20147.300000</td>\n    </tr>\n    <tr>\n      <th>07</th>\n      <td>25807.870968</td>\n      <td>9934.903226</td>\n    </tr>\n    <tr>\n      <th>08</th>\n      <td>57667.258065</td>\n      <td>55575.000000</td>\n    </tr>\n    <tr>\n      <th>09</th>\n      <td>65715.000000</td>\n      <td>62162.000000</td>\n    </tr>\n    <tr>\n      <th>10</th>\n      <td>9406.312500</td>\n      <td>79900.750000</td>\n    </tr>\n  </tbody>\n</table>\n</div>"
     },
     "execution_count": 23,
     "metadata": {},
     "output_type": "execute_result"
    }
   ],
   "source": [
    "# 평균을 출력할 수 있는 열(접종일과 접종대상자는 평균을 구할 필요가 없음)만 선택 후 평균.\n",
    "df2 = df1[['day1num', 'day2num', '월']].groupby('월').mean()\n",
    "df2"
   ],
   "metadata": {
    "collapsed": false,
    "ExecuteTime": {
     "end_time": "2024-03-13T01:41:47.580223Z",
     "start_time": "2024-03-13T01:41:47.576488Z"
    }
   },
   "id": "fc0b066d00f4b5b9",
   "execution_count": 23
  }
 ],
 "metadata": {
  "kernelspec": {
   "display_name": "Python 3",
   "language": "python",
   "name": "python3"
  },
  "language_info": {
   "codemirror_mode": {
    "name": "ipython",
    "version": 2
   },
   "file_extension": ".py",
   "mimetype": "text/x-python",
   "name": "python",
   "nbconvert_exporter": "python",
   "pygments_lexer": "ipython2",
   "version": "2.7.6"
  }
 },
 "nbformat": 4,
 "nbformat_minor": 5
}
