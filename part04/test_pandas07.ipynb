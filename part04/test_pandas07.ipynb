{
 "cells": [
  {
   "cell_type": "raw",
   "source": [
    "03. 판다스 데이터 확인하기\n",
    "\n",
    "판다스에는 데이터 분석에 유용한 여러 가지 메서드와 속성이 미리 정의되어 있음."
   ],
   "metadata": {
    "collapsed": false
   },
   "id": "372e44d661c1a1a4"
  },
  {
   "cell_type": "code",
   "outputs": [],
   "source": [
    "import pandas as pd"
   ],
   "metadata": {
    "collapsed": false,
    "ExecuteTime": {
     "end_time": "2024-03-12T03:19:23.623020Z",
     "start_time": "2024-03-12T03:19:23.617680Z"
    }
   },
   "id": "e76f62f609ec19e4",
   "execution_count": 3
  },
  {
   "cell_type": "markdown",
   "source": [
    "1) DataFrame 만들기"
   ],
   "metadata": {
    "collapsed": false
   },
   "id": "fc989dcee0c906e3"
  },
  {
   "cell_type": "code",
   "outputs": [
    {
     "data": {
      "text/plain": "            date  temp  max_wind  mean_wind\n0     2010-08-01  28.7       8.3        3.4\n1     2010-08-02  25.2       8.7        3.8\n2     2010-08-03  22.1       6.3        2.9\n3     2010-08-04  25.3       6.6        4.2\n4     2010-08-05  27.2       9.1        5.6\n...          ...   ...       ...        ...\n3648  2020-07-27  22.1       4.2        1.7\n3649  2020-07-28  21.9       4.5        1.6\n3650  2020-07-29  21.6       3.2        1.0\n3651  2020-07-30  22.9       9.7        2.4\n3652  2020-07-31  25.7       4.8        2.5\n\n[3653 rows x 4 columns]",
      "text/html": "<div>\n<style scoped>\n    .dataframe tbody tr th:only-of-type {\n        vertical-align: middle;\n    }\n\n    .dataframe tbody tr th {\n        vertical-align: top;\n    }\n\n    .dataframe thead th {\n        text-align: right;\n    }\n</style>\n<table border=\"1\" class=\"dataframe\">\n  <thead>\n    <tr style=\"text-align: right;\">\n      <th></th>\n      <th>date</th>\n      <th>temp</th>\n      <th>max_wind</th>\n      <th>mean_wind</th>\n    </tr>\n  </thead>\n  <tbody>\n    <tr>\n      <th>0</th>\n      <td>2010-08-01</td>\n      <td>28.7</td>\n      <td>8.3</td>\n      <td>3.4</td>\n    </tr>\n    <tr>\n      <th>1</th>\n      <td>2010-08-02</td>\n      <td>25.2</td>\n      <td>8.7</td>\n      <td>3.8</td>\n    </tr>\n    <tr>\n      <th>2</th>\n      <td>2010-08-03</td>\n      <td>22.1</td>\n      <td>6.3</td>\n      <td>2.9</td>\n    </tr>\n    <tr>\n      <th>3</th>\n      <td>2010-08-04</td>\n      <td>25.3</td>\n      <td>6.6</td>\n      <td>4.2</td>\n    </tr>\n    <tr>\n      <th>4</th>\n      <td>2010-08-05</td>\n      <td>27.2</td>\n      <td>9.1</td>\n      <td>5.6</td>\n    </tr>\n    <tr>\n      <th>...</th>\n      <td>...</td>\n      <td>...</td>\n      <td>...</td>\n      <td>...</td>\n    </tr>\n    <tr>\n      <th>3648</th>\n      <td>2020-07-27</td>\n      <td>22.1</td>\n      <td>4.2</td>\n      <td>1.7</td>\n    </tr>\n    <tr>\n      <th>3649</th>\n      <td>2020-07-28</td>\n      <td>21.9</td>\n      <td>4.5</td>\n      <td>1.6</td>\n    </tr>\n    <tr>\n      <th>3650</th>\n      <td>2020-07-29</td>\n      <td>21.6</td>\n      <td>3.2</td>\n      <td>1.0</td>\n    </tr>\n    <tr>\n      <th>3651</th>\n      <td>2020-07-30</td>\n      <td>22.9</td>\n      <td>9.7</td>\n      <td>2.4</td>\n    </tr>\n    <tr>\n      <th>3652</th>\n      <td>2020-07-31</td>\n      <td>25.7</td>\n      <td>4.8</td>\n      <td>2.5</td>\n    </tr>\n  </tbody>\n</table>\n<p>3653 rows × 4 columns</p>\n</div>"
     },
     "execution_count": 5,
     "metadata": {},
     "output_type": "execute_result"
    }
   ],
   "source": [
    "# csv 파일 불러오기\n",
    "# csv 파일을 불러와서 데이터 프레임을 생성.\n",
    "\n",
    "df = pd.read_csv('./input/weather.csv')\n",
    "df"
   ],
   "metadata": {
    "collapsed": false,
    "ExecuteTime": {
     "end_time": "2024-03-12T03:19:42.400111Z",
     "start_time": "2024-03-12T03:19:42.384684Z"
    }
   },
   "id": "dddb7107bc19a04b",
   "execution_count": 5
  },
  {
   "cell_type": "markdown",
   "source": [
    "2) df.shape"
   ],
   "metadata": {
    "collapsed": false
   },
   "id": "5e85d1ae92d65907"
  },
  {
   "cell_type": "code",
   "outputs": [
    {
     "data": {
      "text/plain": "(3653, 4)"
     },
     "execution_count": 6,
     "metadata": {},
     "output_type": "execute_result"
    }
   ],
   "source": [
    "# shape 속성을 이용하면 데이터의 (행, 열) 크기를 확인할 수 있음\n",
    "\n",
    "# 행, 열 크기 확인하기\n",
    "df.shape"
   ],
   "metadata": {
    "collapsed": false,
    "ExecuteTime": {
     "end_time": "2024-03-12T03:20:39.531663Z",
     "start_time": "2024-03-12T03:20:39.526625Z"
    }
   },
   "id": "c59e7bf1f0ecb80d",
   "execution_count": 6
  },
  {
   "cell_type": "code",
   "outputs": [
    {
     "data": {
      "text/plain": "3653"
     },
     "execution_count": 7,
     "metadata": {},
     "output_type": "execute_result"
    }
   ],
   "source": [
    "df.shape[0]"
   ],
   "metadata": {
    "collapsed": false,
    "ExecuteTime": {
     "end_time": "2024-03-12T03:20:56.344932Z",
     "start_time": "2024-03-12T03:20:56.341773Z"
    }
   },
   "id": "b01aba2fe01005b5",
   "execution_count": 7
  },
  {
   "cell_type": "markdown",
   "source": [
    "### 3) df.info()"
   ],
   "metadata": {
    "collapsed": false
   },
   "id": "a459d6e47fb97018"
  },
  {
   "cell_type": "code",
   "outputs": [
    {
     "name": "stdout",
     "output_type": "stream",
     "text": [
      "<class 'pandas.core.frame.DataFrame'>\n",
      "RangeIndex: 3653 entries, 0 to 3652\n",
      "Data columns (total 4 columns):\n",
      " #   Column     Non-Null Count  Dtype  \n",
      "---  ------     --------------  -----  \n",
      " 0   date       3653 non-null   object \n",
      " 1   temp       3653 non-null   float64\n",
      " 2   max_wind   3649 non-null   float64\n",
      " 3   mean_wind  3647 non-null   float64\n",
      "dtypes: float64(3), object(1)\n",
      "memory usage: 114.3+ KB\n"
     ]
    }
   ],
   "source": [
    "# info() 메서드는 데이터에 대한 전반적인 정보를 나타냄.\n",
    "# df를 구성하는 행과 열의 크기, 컬럼명, 컬럼을 구성하는 값의 자료형을 출력해 줌.\n",
    "\n",
    "df.info()"
   ],
   "metadata": {
    "collapsed": false,
    "ExecuteTime": {
     "end_time": "2024-03-12T03:23:00.147235Z",
     "start_time": "2024-03-12T03:23:00.133058Z"
    }
   },
   "id": "c2686642e287c530",
   "execution_count": 8
  },
  {
   "cell_type": "code",
   "outputs": [],
   "source": [
    "# -> 데이터 개수 n=3653 entry, 행 인덱스 번호 0 to 3652\n",
    "# 열 변수 출력 형식 : 실수 float, 문자열 object\n",
    "# 결측치 개수가 나타남 : max_wind, mean_wind 변수에 결측치가 있음."
   ],
   "metadata": {
    "collapsed": false
   },
   "id": "50450f1a41f62253"
  },
  {
   "cell_type": "markdown",
   "source": [
    "4) df.head(), df.tail()"
   ],
   "metadata": {
    "collapsed": false
   },
   "id": "193b7ceccf5e99e0"
  },
  {
   "cell_type": "code",
   "outputs": [
    {
     "data": {
      "text/plain": "          date  temp  max_wind  mean_wind\n0   2010-08-01  28.7       8.3        3.4\n1   2010-08-02  25.2       8.7        3.8\n2   2010-08-03  22.1       6.3        2.9\n3   2010-08-04  25.3       6.6        4.2\n4   2010-08-05  27.2       9.1        5.6\n5   2010-08-06  26.8       9.8        8.0\n6   2010-08-07  27.5       9.1        5.0\n7   2010-08-08  26.6       5.9        4.0\n8   2010-08-09  26.9       5.1        3.1\n9   2010-08-10  25.6      10.2        5.5\n10  2010-08-11  24.6       9.4        4.8\n11  2010-08-12  23.7       8.7        2.6\n12  2010-08-13  24.3      10.9        4.6\n13  2010-08-14  25.0      10.8        4.4\n14  2010-08-15  24.5      16.9       10.3\n15  2010-08-16  26.2       9.8        3.2\n16  2010-08-17  23.9       4.2        1.6\n17  2010-08-18  23.4       4.2        2.1\n18  2010-08-19  24.3       4.0        1.9\n19  2010-08-20  25.4       5.0        3.2",
      "text/html": "<div>\n<style scoped>\n    .dataframe tbody tr th:only-of-type {\n        vertical-align: middle;\n    }\n\n    .dataframe tbody tr th {\n        vertical-align: top;\n    }\n\n    .dataframe thead th {\n        text-align: right;\n    }\n</style>\n<table border=\"1\" class=\"dataframe\">\n  <thead>\n    <tr style=\"text-align: right;\">\n      <th></th>\n      <th>date</th>\n      <th>temp</th>\n      <th>max_wind</th>\n      <th>mean_wind</th>\n    </tr>\n  </thead>\n  <tbody>\n    <tr>\n      <th>0</th>\n      <td>2010-08-01</td>\n      <td>28.7</td>\n      <td>8.3</td>\n      <td>3.4</td>\n    </tr>\n    <tr>\n      <th>1</th>\n      <td>2010-08-02</td>\n      <td>25.2</td>\n      <td>8.7</td>\n      <td>3.8</td>\n    </tr>\n    <tr>\n      <th>2</th>\n      <td>2010-08-03</td>\n      <td>22.1</td>\n      <td>6.3</td>\n      <td>2.9</td>\n    </tr>\n    <tr>\n      <th>3</th>\n      <td>2010-08-04</td>\n      <td>25.3</td>\n      <td>6.6</td>\n      <td>4.2</td>\n    </tr>\n    <tr>\n      <th>4</th>\n      <td>2010-08-05</td>\n      <td>27.2</td>\n      <td>9.1</td>\n      <td>5.6</td>\n    </tr>\n    <tr>\n      <th>5</th>\n      <td>2010-08-06</td>\n      <td>26.8</td>\n      <td>9.8</td>\n      <td>8.0</td>\n    </tr>\n    <tr>\n      <th>6</th>\n      <td>2010-08-07</td>\n      <td>27.5</td>\n      <td>9.1</td>\n      <td>5.0</td>\n    </tr>\n    <tr>\n      <th>7</th>\n      <td>2010-08-08</td>\n      <td>26.6</td>\n      <td>5.9</td>\n      <td>4.0</td>\n    </tr>\n    <tr>\n      <th>8</th>\n      <td>2010-08-09</td>\n      <td>26.9</td>\n      <td>5.1</td>\n      <td>3.1</td>\n    </tr>\n    <tr>\n      <th>9</th>\n      <td>2010-08-10</td>\n      <td>25.6</td>\n      <td>10.2</td>\n      <td>5.5</td>\n    </tr>\n    <tr>\n      <th>10</th>\n      <td>2010-08-11</td>\n      <td>24.6</td>\n      <td>9.4</td>\n      <td>4.8</td>\n    </tr>\n    <tr>\n      <th>11</th>\n      <td>2010-08-12</td>\n      <td>23.7</td>\n      <td>8.7</td>\n      <td>2.6</td>\n    </tr>\n    <tr>\n      <th>12</th>\n      <td>2010-08-13</td>\n      <td>24.3</td>\n      <td>10.9</td>\n      <td>4.6</td>\n    </tr>\n    <tr>\n      <th>13</th>\n      <td>2010-08-14</td>\n      <td>25.0</td>\n      <td>10.8</td>\n      <td>4.4</td>\n    </tr>\n    <tr>\n      <th>14</th>\n      <td>2010-08-15</td>\n      <td>24.5</td>\n      <td>16.9</td>\n      <td>10.3</td>\n    </tr>\n    <tr>\n      <th>15</th>\n      <td>2010-08-16</td>\n      <td>26.2</td>\n      <td>9.8</td>\n      <td>3.2</td>\n    </tr>\n    <tr>\n      <th>16</th>\n      <td>2010-08-17</td>\n      <td>23.9</td>\n      <td>4.2</td>\n      <td>1.6</td>\n    </tr>\n    <tr>\n      <th>17</th>\n      <td>2010-08-18</td>\n      <td>23.4</td>\n      <td>4.2</td>\n      <td>2.1</td>\n    </tr>\n    <tr>\n      <th>18</th>\n      <td>2010-08-19</td>\n      <td>24.3</td>\n      <td>4.0</td>\n      <td>1.9</td>\n    </tr>\n    <tr>\n      <th>19</th>\n      <td>2010-08-20</td>\n      <td>25.4</td>\n      <td>5.0</td>\n      <td>3.2</td>\n    </tr>\n  </tbody>\n</table>\n</div>"
     },
     "execution_count": 11,
     "metadata": {},
     "output_type": "execute_result"
    }
   ],
   "source": [
    "# 데이터를 잘 불러 왔는지 확인하기 위해 앞 부분과 마지막 부분을 확인.\n",
    "\n",
    "# 상위 n행 살펴보기\n",
    "df.head()"
   ],
   "metadata": {
    "collapsed": false,
    "ExecuteTime": {
     "end_time": "2024-03-12T03:29:54.084365Z",
     "start_time": "2024-03-12T03:29:54.080997Z"
    }
   },
   "id": "23a6d04815e3ca41",
   "execution_count": 11
  },
  {
   "cell_type": "code",
   "outputs": [
    {
     "data": {
      "text/plain": "            date  temp  max_wind  mean_wind\n3648  2020-07-27  22.1       4.2        1.7\n3649  2020-07-28  21.9       4.5        1.6\n3650  2020-07-29  21.6       3.2        1.0\n3651  2020-07-30  22.9       9.7        2.4\n3652  2020-07-31  25.7       4.8        2.5",
      "text/html": "<div>\n<style scoped>\n    .dataframe tbody tr th:only-of-type {\n        vertical-align: middle;\n    }\n\n    .dataframe tbody tr th {\n        vertical-align: top;\n    }\n\n    .dataframe thead th {\n        text-align: right;\n    }\n</style>\n<table border=\"1\" class=\"dataframe\">\n  <thead>\n    <tr style=\"text-align: right;\">\n      <th></th>\n      <th>date</th>\n      <th>temp</th>\n      <th>max_wind</th>\n      <th>mean_wind</th>\n    </tr>\n  </thead>\n  <tbody>\n    <tr>\n      <th>3648</th>\n      <td>2020-07-27</td>\n      <td>22.1</td>\n      <td>4.2</td>\n      <td>1.7</td>\n    </tr>\n    <tr>\n      <th>3649</th>\n      <td>2020-07-28</td>\n      <td>21.9</td>\n      <td>4.5</td>\n      <td>1.6</td>\n    </tr>\n    <tr>\n      <th>3650</th>\n      <td>2020-07-29</td>\n      <td>21.6</td>\n      <td>3.2</td>\n      <td>1.0</td>\n    </tr>\n    <tr>\n      <th>3651</th>\n      <td>2020-07-30</td>\n      <td>22.9</td>\n      <td>9.7</td>\n      <td>2.4</td>\n    </tr>\n    <tr>\n      <th>3652</th>\n      <td>2020-07-31</td>\n      <td>25.7</td>\n      <td>4.8</td>\n      <td>2.5</td>\n    </tr>\n  </tbody>\n</table>\n</div>"
     },
     "execution_count": 10,
     "metadata": {},
     "output_type": "execute_result"
    }
   ],
   "source": [
    "# 하위 n행 살펴보기\n",
    "df.tail()"
   ],
   "metadata": {
    "collapsed": false,
    "ExecuteTime": {
     "end_time": "2024-03-12T03:29:14.978868Z",
     "start_time": "2024-03-12T03:29:14.974278Z"
    }
   },
   "id": "f0b41d903880a909",
   "execution_count": 10
  },
  {
   "cell_type": "code",
   "outputs": [],
   "source": [
    "# head()는 상위 5개 행을 출력하고, tail()은 하위 5개 행을 출력함.\n",
    "# 괄호() 안에 원하는 숫자를 넣으면 그 숫자만큼 행을 출력."
   ],
   "metadata": {
    "collapsed": false
   },
   "id": "aa449a7c2ab7f712"
  },
  {
   "cell_type": "markdown",
   "source": [
    "5) df.index, df.columns"
   ],
   "metadata": {
    "collapsed": false
   },
   "id": "71baa618fc82a4f"
  },
  {
   "cell_type": "code",
   "outputs": [
    {
     "data": {
      "text/plain": "RangeIndex(start=0, stop=3653, step=1)"
     },
     "execution_count": 12,
     "metadata": {},
     "output_type": "execute_result"
    }
   ],
   "source": [
    "# 인덱스(행 이름)과 열의 레이블(칼럼 이름)을 출력할 때 사용.\n",
    "\n",
    "# 인덱스 출력\n",
    "df.index\n",
    "# 데이터프레임의 인덱스(행 이름)을 반환. 인덱스를 따로 지정하지 않았기 때문에 0부터 시작하는 인덱스가 부여"
   ],
   "metadata": {
    "collapsed": false,
    "ExecuteTime": {
     "end_time": "2024-03-12T03:32:47.464672Z",
     "start_time": "2024-03-12T03:32:47.459997Z"
    }
   },
   "id": "24aad7eacedc5b5",
   "execution_count": 12
  },
  {
   "cell_type": "code",
   "outputs": [
    {
     "data": {
      "text/plain": "Index(['date', 'temp', 'max_wind', 'mean_wind'], dtype='object')"
     },
     "execution_count": 13,
     "metadata": {},
     "output_type": "execute_result"
    }
   ],
   "source": [
    "# 칼럼 출력\n",
    "df.columns"
   ],
   "metadata": {
    "collapsed": false,
    "ExecuteTime": {
     "end_time": "2024-03-12T03:33:48.581860Z",
     "start_time": "2024-03-12T03:33:48.576786Z"
    }
   },
   "id": "adce0f31c2884222",
   "execution_count": 13
  },
  {
   "cell_type": "code",
   "outputs": [],
   "source": [
    "# 해당 데이터프레임을 구성하는 컬럼명을 확인할 수 있음.\n",
    "# 컬럼명을 변경할 떄도 유용하게 사용"
   ],
   "metadata": {
    "collapsed": false
   },
   "id": "3ba444c096725b80"
  },
  {
   "cell_type": "markdown",
   "source": [
    "6) df.describe()"
   ],
   "metadata": {
    "collapsed": false
   },
   "id": "58595b34c5a88d9e"
  },
  {
   "cell_type": "code",
   "outputs": [
    {
     "data": {
      "text/plain": "              temp     max_wind    mean_wind\ncount  3653.000000  3649.000000  3647.000000\nmean     12.942102     7.911099     3.936441\nstd       8.538507     3.029862     1.888473\nmin      -9.000000     2.000000     0.200000\n25%       5.400000     5.700000     2.500000\n50%      13.800000     7.600000     3.600000\n75%      20.100000     9.700000     5.000000\nmax      31.300000    26.000000    14.900000",
      "text/html": "<div>\n<style scoped>\n    .dataframe tbody tr th:only-of-type {\n        vertical-align: middle;\n    }\n\n    .dataframe tbody tr th {\n        vertical-align: top;\n    }\n\n    .dataframe thead th {\n        text-align: right;\n    }\n</style>\n<table border=\"1\" class=\"dataframe\">\n  <thead>\n    <tr style=\"text-align: right;\">\n      <th></th>\n      <th>temp</th>\n      <th>max_wind</th>\n      <th>mean_wind</th>\n    </tr>\n  </thead>\n  <tbody>\n    <tr>\n      <th>count</th>\n      <td>3653.000000</td>\n      <td>3649.000000</td>\n      <td>3647.000000</td>\n    </tr>\n    <tr>\n      <th>mean</th>\n      <td>12.942102</td>\n      <td>7.911099</td>\n      <td>3.936441</td>\n    </tr>\n    <tr>\n      <th>std</th>\n      <td>8.538507</td>\n      <td>3.029862</td>\n      <td>1.888473</td>\n    </tr>\n    <tr>\n      <th>min</th>\n      <td>-9.000000</td>\n      <td>2.000000</td>\n      <td>0.200000</td>\n    </tr>\n    <tr>\n      <th>25%</th>\n      <td>5.400000</td>\n      <td>5.700000</td>\n      <td>2.500000</td>\n    </tr>\n    <tr>\n      <th>50%</th>\n      <td>13.800000</td>\n      <td>7.600000</td>\n      <td>3.600000</td>\n    </tr>\n    <tr>\n      <th>75%</th>\n      <td>20.100000</td>\n      <td>9.700000</td>\n      <td>5.000000</td>\n    </tr>\n    <tr>\n      <th>max</th>\n      <td>31.300000</td>\n      <td>26.000000</td>\n      <td>14.900000</td>\n    </tr>\n  </tbody>\n</table>\n</div>"
     },
     "execution_count": 14,
     "metadata": {},
     "output_type": "execute_result"
    }
   ],
   "source": [
    "# 데이터의 컬럼별 요약 통계량을 나타냄.\n",
    "# 또한 mean(), max() 등 개별 함수를 사용하여 통계량을 계산 할 수 있음.\n",
    "\n",
    "# 요약 통계량 확인하기\n",
    "df.describe()"
   ],
   "metadata": {
    "collapsed": false,
    "ExecuteTime": {
     "end_time": "2024-03-12T03:36:34.421246Z",
     "start_time": "2024-03-12T03:36:34.414119Z"
    }
   },
   "id": "46e0a011e57210a",
   "execution_count": 14
  },
  {
   "cell_type": "markdown",
   "source": [
    "7) df.sort_values()"
   ],
   "metadata": {
    "collapsed": false
   },
   "id": "25e542f2eec4e07f"
  },
  {
   "cell_type": "code",
   "outputs": [],
   "source": [
    "# 데이터를 크기 순으로 정렬\n",
    "\n",
    "# 형식\n",
    "# DataFrame.sort_values(by=['정렬변수1', '정렬변수2', ...], ascending=True, inplace=False)\n",
    "# by=[] : by=을 사용하지 않아도 됨.\n",
    "# ascending=True : True가 기본 값이고 오름차순 정렬. 내림차순 정렬일 경우에는 False 사용\n",
    "# inplace=False : True 이면 정렬 결과가 동일 데이터프레임 이름으로 저장. 기본 값은 False"
   ],
   "metadata": {
    "collapsed": false,
    "ExecuteTime": {
     "end_time": "2024-03-12T03:40:24.380588Z",
     "start_time": "2024-03-12T03:40:24.374892Z"
    }
   },
   "id": "28fea8f017609401",
   "execution_count": 15
  },
  {
   "cell_type": "code",
   "outputs": [
    {
     "data": {
      "text/plain": "            date  temp  max_wind  mean_wind\n1514  2014-09-23  20.7       2.0        1.0\n1134  2013-09-08  20.4       2.1        0.8\n421   2011-09-26  18.7       2.1        0.3\n1512  2014-09-21  20.4       2.2        1.2\n1005  2013-05-02   7.1       2.2        0.8\n...          ...   ...       ...        ...\n2988  2018-10-06  19.4      26.0        7.0\n559   2012-02-11  -0.7       NaN        NaN\n560   2012-02-12   0.4       NaN        NaN\n561   2012-02-13   4.0       NaN        NaN\n3183  2019-04-19   7.8       NaN        2.3\n\n[3653 rows x 4 columns]",
      "text/html": "<div>\n<style scoped>\n    .dataframe tbody tr th:only-of-type {\n        vertical-align: middle;\n    }\n\n    .dataframe tbody tr th {\n        vertical-align: top;\n    }\n\n    .dataframe thead th {\n        text-align: right;\n    }\n</style>\n<table border=\"1\" class=\"dataframe\">\n  <thead>\n    <tr style=\"text-align: right;\">\n      <th></th>\n      <th>date</th>\n      <th>temp</th>\n      <th>max_wind</th>\n      <th>mean_wind</th>\n    </tr>\n  </thead>\n  <tbody>\n    <tr>\n      <th>1514</th>\n      <td>2014-09-23</td>\n      <td>20.7</td>\n      <td>2.0</td>\n      <td>1.0</td>\n    </tr>\n    <tr>\n      <th>1134</th>\n      <td>2013-09-08</td>\n      <td>20.4</td>\n      <td>2.1</td>\n      <td>0.8</td>\n    </tr>\n    <tr>\n      <th>421</th>\n      <td>2011-09-26</td>\n      <td>18.7</td>\n      <td>2.1</td>\n      <td>0.3</td>\n    </tr>\n    <tr>\n      <th>1512</th>\n      <td>2014-09-21</td>\n      <td>20.4</td>\n      <td>2.2</td>\n      <td>1.2</td>\n    </tr>\n    <tr>\n      <th>1005</th>\n      <td>2013-05-02</td>\n      <td>7.1</td>\n      <td>2.2</td>\n      <td>0.8</td>\n    </tr>\n    <tr>\n      <th>...</th>\n      <td>...</td>\n      <td>...</td>\n      <td>...</td>\n      <td>...</td>\n    </tr>\n    <tr>\n      <th>2988</th>\n      <td>2018-10-06</td>\n      <td>19.4</td>\n      <td>26.0</td>\n      <td>7.0</td>\n    </tr>\n    <tr>\n      <th>559</th>\n      <td>2012-02-11</td>\n      <td>-0.7</td>\n      <td>NaN</td>\n      <td>NaN</td>\n    </tr>\n    <tr>\n      <th>560</th>\n      <td>2012-02-12</td>\n      <td>0.4</td>\n      <td>NaN</td>\n      <td>NaN</td>\n    </tr>\n    <tr>\n      <th>561</th>\n      <td>2012-02-13</td>\n      <td>4.0</td>\n      <td>NaN</td>\n      <td>NaN</td>\n    </tr>\n    <tr>\n      <th>3183</th>\n      <td>2019-04-19</td>\n      <td>7.8</td>\n      <td>NaN</td>\n      <td>2.3</td>\n    </tr>\n  </tbody>\n</table>\n<p>3653 rows × 4 columns</p>\n</div>"
     },
     "execution_count": 16,
     "metadata": {},
     "output_type": "execute_result"
    }
   ],
   "source": [
    "# 최대 풍속 max_wind 컬럼의 값의 크기에 따라 오름차순 정렬\n",
    "df.sort_values('max_wind')"
   ],
   "metadata": {
    "collapsed": false,
    "ExecuteTime": {
     "end_time": "2024-03-12T03:42:20.384006Z",
     "start_time": "2024-03-12T03:42:20.377263Z"
    }
   },
   "id": "c9867a0eb85cbaf0",
   "execution_count": 16
  },
  {
   "cell_type": "code",
   "outputs": [
    {
     "data": {
      "text/plain": "            date  temp  max_wind  mean_wind\n2988  2018-10-06  19.4      26.0        7.0\n3340  2019-09-23  15.0      25.8       11.0\n1850  2015-08-25  20.1      25.3       14.9\n3339  2019-09-22  15.7      23.1       11.9\n1851  2015-08-26  17.4      22.6        8.1\n...          ...   ...       ...        ...\n1514  2014-09-23  20.7       2.0        1.0\n559   2012-02-11  -0.7       NaN        NaN\n560   2012-02-12   0.4       NaN        NaN\n561   2012-02-13   4.0       NaN        NaN\n3183  2019-04-19   7.8       NaN        2.3\n\n[3653 rows x 4 columns]",
      "text/html": "<div>\n<style scoped>\n    .dataframe tbody tr th:only-of-type {\n        vertical-align: middle;\n    }\n\n    .dataframe tbody tr th {\n        vertical-align: top;\n    }\n\n    .dataframe thead th {\n        text-align: right;\n    }\n</style>\n<table border=\"1\" class=\"dataframe\">\n  <thead>\n    <tr style=\"text-align: right;\">\n      <th></th>\n      <th>date</th>\n      <th>temp</th>\n      <th>max_wind</th>\n      <th>mean_wind</th>\n    </tr>\n  </thead>\n  <tbody>\n    <tr>\n      <th>2988</th>\n      <td>2018-10-06</td>\n      <td>19.4</td>\n      <td>26.0</td>\n      <td>7.0</td>\n    </tr>\n    <tr>\n      <th>3340</th>\n      <td>2019-09-23</td>\n      <td>15.0</td>\n      <td>25.8</td>\n      <td>11.0</td>\n    </tr>\n    <tr>\n      <th>1850</th>\n      <td>2015-08-25</td>\n      <td>20.1</td>\n      <td>25.3</td>\n      <td>14.9</td>\n    </tr>\n    <tr>\n      <th>3339</th>\n      <td>2019-09-22</td>\n      <td>15.7</td>\n      <td>23.1</td>\n      <td>11.9</td>\n    </tr>\n    <tr>\n      <th>1851</th>\n      <td>2015-08-26</td>\n      <td>17.4</td>\n      <td>22.6</td>\n      <td>8.1</td>\n    </tr>\n    <tr>\n      <th>...</th>\n      <td>...</td>\n      <td>...</td>\n      <td>...</td>\n      <td>...</td>\n    </tr>\n    <tr>\n      <th>1514</th>\n      <td>2014-09-23</td>\n      <td>20.7</td>\n      <td>2.0</td>\n      <td>1.0</td>\n    </tr>\n    <tr>\n      <th>559</th>\n      <td>2012-02-11</td>\n      <td>-0.7</td>\n      <td>NaN</td>\n      <td>NaN</td>\n    </tr>\n    <tr>\n      <th>560</th>\n      <td>2012-02-12</td>\n      <td>0.4</td>\n      <td>NaN</td>\n      <td>NaN</td>\n    </tr>\n    <tr>\n      <th>561</th>\n      <td>2012-02-13</td>\n      <td>4.0</td>\n      <td>NaN</td>\n      <td>NaN</td>\n    </tr>\n    <tr>\n      <th>3183</th>\n      <td>2019-04-19</td>\n      <td>7.8</td>\n      <td>NaN</td>\n      <td>2.3</td>\n    </tr>\n  </tbody>\n</table>\n<p>3653 rows × 4 columns</p>\n</div>"
     },
     "execution_count": 17,
     "metadata": {},
     "output_type": "execute_result"
    }
   ],
   "source": [
    "# 최대 풍속 max_wind 컬럼의 값의 크기에 따라 내림차순 정렬\n",
    "df.sort_values(by='max_wind', ascending=False)"
   ],
   "metadata": {
    "collapsed": false,
    "ExecuteTime": {
     "end_time": "2024-03-12T03:44:42.791892Z",
     "start_time": "2024-03-12T03:44:42.783261Z"
    }
   },
   "id": "1ca9272dad79203",
   "execution_count": 17
  },
  {
   "cell_type": "markdown",
   "source": [
    "8) df.value_count()"
   ],
   "metadata": {
    "collapsed": false
   },
   "id": "d3893aa864e1dd7c"
  },
  {
   "cell_type": "code",
   "outputs": [
    {
     "data": {
      "text/plain": "           job  education  balance  duration   y\n0   management   tertiary     2143       261  no\n1   technician  secondary      265       348  no\n2  blue-collar  secondary       -7       365  no\n3   technician  secondary       -3      1666  no\n4   technician  secondary     -103       145  no",
      "text/html": "<div>\n<style scoped>\n    .dataframe tbody tr th:only-of-type {\n        vertical-align: middle;\n    }\n\n    .dataframe tbody tr th {\n        vertical-align: top;\n    }\n\n    .dataframe thead th {\n        text-align: right;\n    }\n</style>\n<table border=\"1\" class=\"dataframe\">\n  <thead>\n    <tr style=\"text-align: right;\">\n      <th></th>\n      <th>job</th>\n      <th>education</th>\n      <th>balance</th>\n      <th>duration</th>\n      <th>y</th>\n    </tr>\n  </thead>\n  <tbody>\n    <tr>\n      <th>0</th>\n      <td>management</td>\n      <td>tertiary</td>\n      <td>2143</td>\n      <td>261</td>\n      <td>no</td>\n    </tr>\n    <tr>\n      <th>1</th>\n      <td>technician</td>\n      <td>secondary</td>\n      <td>265</td>\n      <td>348</td>\n      <td>no</td>\n    </tr>\n    <tr>\n      <th>2</th>\n      <td>blue-collar</td>\n      <td>secondary</td>\n      <td>-7</td>\n      <td>365</td>\n      <td>no</td>\n    </tr>\n    <tr>\n      <th>3</th>\n      <td>technician</td>\n      <td>secondary</td>\n      <td>-3</td>\n      <td>1666</td>\n      <td>no</td>\n    </tr>\n    <tr>\n      <th>4</th>\n      <td>technician</td>\n      <td>secondary</td>\n      <td>-103</td>\n      <td>145</td>\n      <td>no</td>\n    </tr>\n  </tbody>\n</table>\n</div>"
     },
     "execution_count": 22,
     "metadata": {},
     "output_type": "execute_result"
    }
   ],
   "source": [
    "# 범주형 변수의 빈도분석 결과를 출력. 즉 어떤 컬럼의 unique value(고유값)들의 개수를 구함\n",
    "\n",
    "bank = pd.read_csv('./input/bank.csv')\n",
    "bank.head()"
   ],
   "metadata": {
    "collapsed": false,
    "ExecuteTime": {
     "end_time": "2024-03-12T03:47:41.156722Z",
     "start_time": "2024-03-12T03:47:41.148225Z"
    }
   },
   "id": "2763fb766223d41d",
   "execution_count": 22
  },
  {
   "cell_type": "code",
   "outputs": [
    {
     "data": {
      "text/plain": "job\nmanagement       1560\nblue-collar      1499\ntechnician       1206\nadmin.            834\nservices          661\nretired           351\nself-employed     256\nentrepreneur      239\nunemployed        223\nhousemaid         208\nstudent           153\nName: count, dtype: int64"
     },
     "execution_count": 23,
     "metadata": {},
     "output_type": "execute_result"
    }
   ],
   "source": [
    "# 빈도 분석 출력하기\n",
    "bank['job'].value_counts()"
   ],
   "metadata": {
    "collapsed": false,
    "ExecuteTime": {
     "end_time": "2024-03-12T03:48:24.326571Z",
     "start_time": "2024-03-12T03:48:24.318136Z"
    }
   },
   "id": "18216740b664d2a4",
   "execution_count": 23
  },
  {
   "cell_type": "code",
   "outputs": [
    {
     "data": {
      "text/plain": "education\nsecondary    3745\ntertiary     2178\nprimary      1038\nName: count, dtype: int64"
     },
     "execution_count": 24,
     "metadata": {},
     "output_type": "execute_result"
    }
   ],
   "source": [
    "bank['education'].value_counts()"
   ],
   "metadata": {
    "collapsed": false,
    "ExecuteTime": {
     "end_time": "2024-03-12T03:50:20.312347Z",
     "start_time": "2024-03-12T03:50:20.302328Z"
    }
   },
   "id": "b57ef8f1cc7247fc",
   "execution_count": 24
  },
  {
   "cell_type": "code",
   "outputs": [
    {
     "data": {
      "text/plain": "job\nstudent           153\nhousemaid         208\nunemployed        223\nentrepreneur      239\nself-employed     256\nretired           351\nservices          661\nadmin.            834\ntechnician       1206\nblue-collar      1499\nmanagement       1560\nName: count, dtype: int64"
     },
     "execution_count": 25,
     "metadata": {},
     "output_type": "execute_result"
    }
   ],
   "source": [
    "bank['job'].value_counts(ascending=True)"
   ],
   "metadata": {
    "collapsed": false,
    "ExecuteTime": {
     "end_time": "2024-03-12T03:51:40.606277Z",
     "start_time": "2024-03-12T03:51:40.598739Z"
    }
   },
   "id": "f45886f4fdd6fa6b",
   "execution_count": 25
  },
  {
   "cell_type": "markdown",
   "source": [
    "9) df.unique()"
   ],
   "metadata": {
    "collapsed": false
   },
   "id": "21e09c54582930ac"
  },
  {
   "cell_type": "code",
   "outputs": [
    {
     "data": {
      "text/plain": "array(['management', 'technician', 'blue-collar', 'retired', 'services',\n       'admin.', 'entrepreneur', 'self-employed', 'unemployed', 'student',\n       nan, 'housemaid'], dtype=object)"
     },
     "execution_count": 27,
     "metadata": {},
     "output_type": "execute_result"
    }
   ],
   "source": [
    "# 데이터가 무엇으로 구성되어 있는지 보고싶을 때 사용. 열의 고유값을 볼 수 있음.\n",
    "\n",
    "# column의 고유값 출력하기\n",
    "bank['job'].unique()"
   ],
   "metadata": {
    "collapsed": false,
    "ExecuteTime": {
     "end_time": "2024-03-12T03:53:47.150672Z",
     "start_time": "2024-03-12T03:53:47.145952Z"
    }
   },
   "id": "bd6fb3c8ff9b2aee",
   "execution_count": 27
  }
 ],
 "metadata": {
  "kernelspec": {
   "display_name": "Python 3",
   "language": "python",
   "name": "python3"
  },
  "language_info": {
   "codemirror_mode": {
    "name": "ipython",
    "version": 2
   },
   "file_extension": ".py",
   "mimetype": "text/x-python",
   "name": "python",
   "nbconvert_exporter": "python",
   "pygments_lexer": "ipython2",
   "version": "2.7.6"
  }
 },
 "nbformat": 4,
 "nbformat_minor": 5
}
