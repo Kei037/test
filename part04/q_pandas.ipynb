{
 "cells": [
  {
   "cell_type": "code",
   "execution_count": 10,
   "id": "initial_id",
   "metadata": {
    "collapsed": true,
    "ExecuteTime": {
     "end_time": "2024-03-12T05:21:26.793893Z",
     "start_time": "2024-03-12T05:21:26.784049Z"
    }
   },
   "outputs": [
    {
     "data": {
      "text/plain": "             음식골목명        음식점 상호                      음식점 주소\n0  (동구)동촌유원지명물먹거리촌       (주)32마루     동구 효동로2길 33-7, 1층 (효목동)\n1  (동구)동촌유원지명물먹거리촌  (주)삼십미리에스프레소    동구 효동로6길 47-5, 1~2층(효목동)\n2  (동구)동촌유원지명물먹거리촌     365감자탕동촌점     동구 효동로2길 41, 1,2층 (효목동)\n3  (동구)동촌유원지명물먹거리촌  55온족발 동촌유원지점       동구 효동로2길 45, 4층 (효목동)\n4  (동구)동촌유원지명물먹거리촌            고고  동구 효동로2길 57-11, 지하1층 (효목동)",
      "text/html": "<div>\n<style scoped>\n    .dataframe tbody tr th:only-of-type {\n        vertical-align: middle;\n    }\n\n    .dataframe tbody tr th {\n        vertical-align: top;\n    }\n\n    .dataframe thead th {\n        text-align: right;\n    }\n</style>\n<table border=\"1\" class=\"dataframe\">\n  <thead>\n    <tr style=\"text-align: right;\">\n      <th></th>\n      <th>음식골목명</th>\n      <th>음식점 상호</th>\n      <th>음식점 주소</th>\n    </tr>\n  </thead>\n  <tbody>\n    <tr>\n      <th>0</th>\n      <td>(동구)동촌유원지명물먹거리촌</td>\n      <td>(주)32마루</td>\n      <td>동구 효동로2길 33-7, 1층 (효목동)</td>\n    </tr>\n    <tr>\n      <th>1</th>\n      <td>(동구)동촌유원지명물먹거리촌</td>\n      <td>(주)삼십미리에스프레소</td>\n      <td>동구 효동로6길 47-5, 1~2층(효목동)</td>\n    </tr>\n    <tr>\n      <th>2</th>\n      <td>(동구)동촌유원지명물먹거리촌</td>\n      <td>365감자탕동촌점</td>\n      <td>동구 효동로2길 41, 1,2층 (효목동)</td>\n    </tr>\n    <tr>\n      <th>3</th>\n      <td>(동구)동촌유원지명물먹거리촌</td>\n      <td>55온족발 동촌유원지점</td>\n      <td>동구 효동로2길 45, 4층 (효목동)</td>\n    </tr>\n    <tr>\n      <th>4</th>\n      <td>(동구)동촌유원지명물먹거리촌</td>\n      <td>고고</td>\n      <td>동구 효동로2길 57-11, 지하1층 (효목동)</td>\n    </tr>\n  </tbody>\n</table>\n</div>"
     },
     "execution_count": 10,
     "metadata": {},
     "output_type": "execute_result"
    }
   ],
   "source": [
    "import pandas as pd\n",
    "\n",
    "df = pd.read_csv('./input/daegufood_street.csv')\n",
    "df.head()"
   ]
  },
  {
   "cell_type": "code",
   "outputs": [
    {
     "name": "stdout",
     "output_type": "stream",
     "text": [
      "음식골목명\n",
      "(동구)동대구역터미널 먹거리골목    110\n",
      "(동구)서촌먹거리촌           107\n",
      "(동구)동촌유원지명물먹거리촌       83\n",
      "(동구)혁신도시 중앙상가연합회      62\n",
      "(동구)동화사먹거리촌           37\n",
      "(동구)동막골               28\n",
      "(동구)평화시장닭똥집골목         21\n",
      "(동구)갓바위먹거리촌           18\n",
      "(동구)파계사먹거리촌           11\n",
      "Name: count, dtype: int64\n"
     ]
    }
   ],
   "source": [
    "food_summary = df['음식골목명'].value_counts()\n",
    "print(food_summary)\n",
    "\n",
    "food_summary.to_csv('./output/daegufood_street_summary.csv')"
   ],
   "metadata": {
    "collapsed": false,
    "ExecuteTime": {
     "end_time": "2024-03-12T05:21:23.302716Z",
     "start_time": "2024-03-12T05:21:23.299750Z"
    }
   },
   "id": "5a5112fca44b283d",
   "execution_count": 9
  },
  {
   "cell_type": "code",
   "outputs": [],
   "source": [],
   "metadata": {
    "collapsed": false
   },
   "id": "3165c9af29670265"
  }
 ],
 "metadata": {
  "kernelspec": {
   "display_name": "Python 3",
   "language": "python",
   "name": "python3"
  },
  "language_info": {
   "codemirror_mode": {
    "name": "ipython",
    "version": 2
   },
   "file_extension": ".py",
   "mimetype": "text/x-python",
   "name": "python",
   "nbconvert_exporter": "python",
   "pygments_lexer": "ipython2",
   "version": "2.7.6"
  }
 },
 "nbformat": 4,
 "nbformat_minor": 5
}
