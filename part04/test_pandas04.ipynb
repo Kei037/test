{
 "cells": [
  {
   "cell_type": "code",
   "outputs": [
    {
     "data": {
      "text/plain": "0    11\n1    22\n2    33\n3    44\n4    55\ndtype: int64"
     },
     "execution_count": 21,
     "metadata": {},
     "output_type": "execute_result"
    }
   ],
   "source": [
    "# 데이터 연산\n",
    "\n",
    "# pandas의 Series() 와 DataFrame()으로 생성된 데이터 끼리는 사칙연산이 가능.\n",
    "\n",
    "# Series()로 생성한 데이터의 예\n",
    "import pandas as pd\n",
    "\n",
    "s1 = pd.Series([1, 2, 3, 4, 5])\n",
    "s2 = pd.Series([10, 20, 30, 40, 50])\n",
    "s1 + s2"
   ],
   "metadata": {
    "collapsed": false,
    "ExecuteTime": {
     "end_time": "2024-03-12T02:11:02.685464Z",
     "start_time": "2024-03-12T02:11:02.680110Z"
    }
   },
   "id": "82d66b873e069317",
   "execution_count": 21
  },
  {
   "cell_type": "code",
   "outputs": [
    {
     "data": {
      "text/plain": "0     9\n1    18\n2    27\n3    36\n4    45\ndtype: int64"
     },
     "execution_count": 22,
     "metadata": {},
     "output_type": "execute_result"
    }
   ],
   "source": [
    "s2 - s1"
   ],
   "metadata": {
    "collapsed": false,
    "ExecuteTime": {
     "end_time": "2024-03-12T02:11:02.720366Z",
     "start_time": "2024-03-12T02:11:02.688457Z"
    }
   },
   "id": "9619ba49fc45d84e",
   "execution_count": 22
  },
  {
   "cell_type": "code",
   "outputs": [
    {
     "data": {
      "text/plain": "0     10\n1     40\n2     90\n3    160\n4    250\ndtype: int64"
     },
     "execution_count": 23,
     "metadata": {},
     "output_type": "execute_result"
    }
   ],
   "source": [
    "s1 * s2"
   ],
   "metadata": {
    "collapsed": false,
    "ExecuteTime": {
     "end_time": "2024-03-12T02:11:02.720850Z",
     "start_time": "2024-03-12T02:11:02.692786Z"
    }
   },
   "id": "7c970f9d533dba7d",
   "execution_count": 23
  },
  {
   "cell_type": "code",
   "outputs": [
    {
     "data": {
      "text/plain": "0    10.0\n1    10.0\n2    10.0\n3    10.0\n4    10.0\ndtype: float64"
     },
     "execution_count": 24,
     "metadata": {},
     "output_type": "execute_result"
    }
   ],
   "source": [
    "s2 / s1"
   ],
   "metadata": {
    "collapsed": false,
    "ExecuteTime": {
     "end_time": "2024-03-12T02:11:02.721161Z",
     "start_time": "2024-03-12T02:11:02.696827Z"
    }
   },
   "id": "229b62e80fda0247",
   "execution_count": 24
  },
  {
   "cell_type": "code",
   "outputs": [],
   "source": [
    "# 파이썬의 리스트와 numpy의 배열과 달리 pandas의 데이터 끼리는 서로 크기가 달라도 연산이 가능,\n",
    "# 이 경우 연산을 할 수 있는 항목만 연산을 수행."
   ],
   "metadata": {
    "collapsed": false,
    "ExecuteTime": {
     "end_time": "2024-03-12T02:11:02.721556Z",
     "start_time": "2024-03-12T02:11:02.700527Z"
    }
   },
   "id": "770069dabcde557b",
   "execution_count": 25
  },
  {
   "cell_type": "code",
   "outputs": [
    {
     "name": "stdout",
     "output_type": "stream",
     "text": [
      "0    11.0\n",
      "1    22.0\n",
      "2    33.0\n",
      "3    44.0\n",
      "4     NaN\n",
      "dtype: float64\n"
     ]
    }
   ],
   "source": [
    "s3 = pd.Series([1, 2, 3, 4])\n",
    "s4 = pd.Series([10, 20, 30, 40, 50])\n",
    "print(s3 + s4)"
   ],
   "metadata": {
    "collapsed": false,
    "ExecuteTime": {
     "end_time": "2024-03-12T02:11:02.721845Z",
     "start_time": "2024-03-12T02:11:02.703813Z"
    }
   },
   "id": "1a706755da68fa0c",
   "execution_count": 26
  },
  {
   "cell_type": "code",
   "outputs": [
    {
     "data": {
      "text/plain": "0     9.0\n1    18.0\n2    27.0\n3    36.0\n4     NaN\ndtype: float64"
     },
     "execution_count": 27,
     "metadata": {},
     "output_type": "execute_result"
    }
   ],
   "source": [
    "s4 - s3"
   ],
   "metadata": {
    "collapsed": false,
    "ExecuteTime": {
     "end_time": "2024-03-12T02:11:02.737747Z",
     "start_time": "2024-03-12T02:11:02.723073Z"
    }
   },
   "id": "f1f9a673ce2df7cd",
   "execution_count": 27
  },
  {
   "cell_type": "code",
   "outputs": [
    {
     "data": {
      "text/plain": "0     10.0\n1     40.0\n2     90.0\n3    160.0\n4      NaN\ndtype: float64"
     },
     "execution_count": 28,
     "metadata": {},
     "output_type": "execute_result"
    }
   ],
   "source": [
    "s3 * s4"
   ],
   "metadata": {
    "collapsed": false,
    "ExecuteTime": {
     "end_time": "2024-03-12T02:11:02.746998Z",
     "start_time": "2024-03-12T02:11:02.739027Z"
    }
   },
   "id": "af9aacd4b6834a53",
   "execution_count": 28
  },
  {
   "cell_type": "code",
   "outputs": [
    {
     "data": {
      "text/plain": "0    10.0\n1    10.0\n2    10.0\n3    10.0\n4     NaN\ndtype: float64"
     },
     "execution_count": 29,
     "metadata": {},
     "output_type": "execute_result"
    }
   ],
   "source": [
    "s4 / s3"
   ],
   "metadata": {
    "collapsed": false,
    "ExecuteTime": {
     "end_time": "2024-03-12T02:11:02.757323Z",
     "start_time": "2024-03-12T02:11:02.742342Z"
    }
   },
   "id": "f2067e823375d7e",
   "execution_count": 29
  },
  {
   "cell_type": "code",
   "outputs": [],
   "source": [
    "# s3와 s4의 데이터 크기가 달라서, 연산할 수 있는 부분만 연산한 결과를 보여주고 연산할 수 없는 부분은 NaN으로 표시."
   ],
   "metadata": {
    "collapsed": false,
    "ExecuteTime": {
     "end_time": "2024-03-12T02:11:02.757645Z",
     "start_time": "2024-03-12T02:11:02.744281Z"
    }
   },
   "id": "93e8cfeec6715883",
   "execution_count": 30
  },
  {
   "cell_type": "code",
   "outputs": [
    {
     "data": {
      "text/plain": "   A   B    C\n0  1  10  100\n1  2  20  200\n2  3  30  300\n3  4  40  400\n4  5  50  500",
      "text/html": "<div>\n<style scoped>\n    .dataframe tbody tr th:only-of-type {\n        vertical-align: middle;\n    }\n\n    .dataframe tbody tr th {\n        vertical-align: top;\n    }\n\n    .dataframe thead th {\n        text-align: right;\n    }\n</style>\n<table border=\"1\" class=\"dataframe\">\n  <thead>\n    <tr style=\"text-align: right;\">\n      <th></th>\n      <th>A</th>\n      <th>B</th>\n      <th>C</th>\n    </tr>\n  </thead>\n  <tbody>\n    <tr>\n      <th>0</th>\n      <td>1</td>\n      <td>10</td>\n      <td>100</td>\n    </tr>\n    <tr>\n      <th>1</th>\n      <td>2</td>\n      <td>20</td>\n      <td>200</td>\n    </tr>\n    <tr>\n      <th>2</th>\n      <td>3</td>\n      <td>30</td>\n      <td>300</td>\n    </tr>\n    <tr>\n      <th>3</th>\n      <td>4</td>\n      <td>40</td>\n      <td>400</td>\n    </tr>\n    <tr>\n      <th>4</th>\n      <td>5</td>\n      <td>50</td>\n      <td>500</td>\n    </tr>\n  </tbody>\n</table>\n</div>"
     },
     "execution_count": 31,
     "metadata": {},
     "output_type": "execute_result"
    }
   ],
   "source": [
    "# DataFrame()으로 생성한 데이터의 예\n",
    "table_data1 = {'A': [1, 2, 3, 4, 5],\n",
    "               'B': [10, 20, 30, 40, 50],\n",
    "               'C': [100, 200, 300, 400, 500]}\n",
    "df1 = pd.DataFrame(table_data1)\n",
    "df1"
   ],
   "metadata": {
    "collapsed": false,
    "ExecuteTime": {
     "end_time": "2024-03-12T02:11:02.758855Z",
     "start_time": "2024-03-12T02:11:02.748671Z"
    }
   },
   "id": "693cf009919b66cc",
   "execution_count": 31
  },
  {
   "cell_type": "code",
   "outputs": [
    {
     "data": {
      "text/plain": "   A   B    C\n0  6  60  600\n1  7  70  700\n2  8  80  800",
      "text/html": "<div>\n<style scoped>\n    .dataframe tbody tr th:only-of-type {\n        vertical-align: middle;\n    }\n\n    .dataframe tbody tr th {\n        vertical-align: top;\n    }\n\n    .dataframe thead th {\n        text-align: right;\n    }\n</style>\n<table border=\"1\" class=\"dataframe\">\n  <thead>\n    <tr style=\"text-align: right;\">\n      <th></th>\n      <th>A</th>\n      <th>B</th>\n      <th>C</th>\n    </tr>\n  </thead>\n  <tbody>\n    <tr>\n      <th>0</th>\n      <td>6</td>\n      <td>60</td>\n      <td>600</td>\n    </tr>\n    <tr>\n      <th>1</th>\n      <td>7</td>\n      <td>70</td>\n      <td>700</td>\n    </tr>\n    <tr>\n      <th>2</th>\n      <td>8</td>\n      <td>80</td>\n      <td>800</td>\n    </tr>\n  </tbody>\n</table>\n</div>"
     },
     "execution_count": 32,
     "metadata": {},
     "output_type": "execute_result"
    }
   ],
   "source": [
    "table_data2 = {'A': [6, 7, 8],\n",
    "               'B': [60, 70, 80],\n",
    "               'C': [600, 700, 800]}\n",
    "df2 = pd.DataFrame(table_data2)\n",
    "df2"
   ],
   "metadata": {
    "collapsed": false,
    "ExecuteTime": {
     "end_time": "2024-03-12T02:11:02.759192Z",
     "start_time": "2024-03-12T02:11:02.752230Z"
    }
   },
   "id": "7354326b7ba535ae",
   "execution_count": 32
  },
  {
   "cell_type": "code",
   "outputs": [
    {
     "data": {
      "text/plain": "      A      B       C\n0   7.0   70.0   700.0\n1   9.0   90.0   900.0\n2  11.0  110.0  1100.0\n3   NaN    NaN     NaN\n4   NaN    NaN     NaN",
      "text/html": "<div>\n<style scoped>\n    .dataframe tbody tr th:only-of-type {\n        vertical-align: middle;\n    }\n\n    .dataframe tbody tr th {\n        vertical-align: top;\n    }\n\n    .dataframe thead th {\n        text-align: right;\n    }\n</style>\n<table border=\"1\" class=\"dataframe\">\n  <thead>\n    <tr style=\"text-align: right;\">\n      <th></th>\n      <th>A</th>\n      <th>B</th>\n      <th>C</th>\n    </tr>\n  </thead>\n  <tbody>\n    <tr>\n      <th>0</th>\n      <td>7.0</td>\n      <td>70.0</td>\n      <td>700.0</td>\n    </tr>\n    <tr>\n      <th>1</th>\n      <td>9.0</td>\n      <td>90.0</td>\n      <td>900.0</td>\n    </tr>\n    <tr>\n      <th>2</th>\n      <td>11.0</td>\n      <td>110.0</td>\n      <td>1100.0</td>\n    </tr>\n    <tr>\n      <th>3</th>\n      <td>NaN</td>\n      <td>NaN</td>\n      <td>NaN</td>\n    </tr>\n    <tr>\n      <th>4</th>\n      <td>NaN</td>\n      <td>NaN</td>\n      <td>NaN</td>\n    </tr>\n  </tbody>\n</table>\n</div>"
     },
     "execution_count": 33,
     "metadata": {},
     "output_type": "execute_result"
    }
   ],
   "source": [
    "# 두 개의 DataFrame 데이터 df1과 df2는 길이가 같지 않음.\n",
    "# 길이가 같지 않더라도 연산이 가능\n",
    "df1 + df2"
   ],
   "metadata": {
    "collapsed": false,
    "ExecuteTime": {
     "end_time": "2024-03-12T02:11:02.760197Z",
     "start_time": "2024-03-12T02:11:02.756879Z"
    }
   },
   "id": "27ef6ef30b5b96cb",
   "execution_count": 33
  },
  {
   "cell_type": "code",
   "outputs": [],
   "source": [
    "# Series와 마찬가지로 DataFrame도 연산할 수 있는 항목 끼리만 연산하고 그렇지 못한 항목은 NaN으로 표시\n",
    "# 공간은 차지하되 데이터는 없는 상태."
   ],
   "metadata": {
    "collapsed": false,
    "ExecuteTime": {
     "end_time": "2024-03-12T02:11:02.761717Z",
     "start_time": "2024-03-12T02:11:02.759776Z"
    }
   },
   "id": "69379896818caa3b",
   "execution_count": 34
  },
  {
   "cell_type": "code",
   "outputs": [
    {
     "data": {
      "text/plain": "          봄     여름     가을     겨울\n2012  256.5  770.6  363.5  139.3\n2013  264.3  567.5  231.2   59.9\n2014  215.9  599.8  293.1   76.9\n2015  223.2  387.1  247.7  109.1\n2016  312.8  446.2  381.6  108.1",
      "text/html": "<div>\n<style scoped>\n    .dataframe tbody tr th:only-of-type {\n        vertical-align: middle;\n    }\n\n    .dataframe tbody tr th {\n        vertical-align: top;\n    }\n\n    .dataframe thead th {\n        text-align: right;\n    }\n</style>\n<table border=\"1\" class=\"dataframe\">\n  <thead>\n    <tr style=\"text-align: right;\">\n      <th></th>\n      <th>봄</th>\n      <th>여름</th>\n      <th>가을</th>\n      <th>겨울</th>\n    </tr>\n  </thead>\n  <tbody>\n    <tr>\n      <th>2012</th>\n      <td>256.5</td>\n      <td>770.6</td>\n      <td>363.5</td>\n      <td>139.3</td>\n    </tr>\n    <tr>\n      <th>2013</th>\n      <td>264.3</td>\n      <td>567.5</td>\n      <td>231.2</td>\n      <td>59.9</td>\n    </tr>\n    <tr>\n      <th>2014</th>\n      <td>215.9</td>\n      <td>599.8</td>\n      <td>293.1</td>\n      <td>76.9</td>\n    </tr>\n    <tr>\n      <th>2015</th>\n      <td>223.2</td>\n      <td>387.1</td>\n      <td>247.7</td>\n      <td>109.1</td>\n    </tr>\n    <tr>\n      <th>2016</th>\n      <td>312.8</td>\n      <td>446.2</td>\n      <td>381.6</td>\n      <td>108.1</td>\n    </tr>\n  </tbody>\n</table>\n</div>"
     },
     "execution_count": 35,
     "metadata": {},
     "output_type": "execute_result"
    }
   ],
   "source": [
    "# pandas에는 데이터의 통계 분석을 위한 다양한 메서드가 있어서 데이터의 총합, 평균, 표준 편차등을 쉽게 구할 수 있음.\n",
    "# 2012년 부터 2016년 까지 우리나라의 계절별 강수량(단위 mm).\n",
    "table_data3 = {'봄': [256.5, 264.3, 215.9, 223.2, 312.8],\n",
    "               '여름': [770.6, 567.5, 599.8, 387.1, 446.2],\n",
    "               '가을': [363.5, 231.2, 293.1, 247.7, 381.6],\n",
    "               '겨울': [139.3, 59.9, 76.9, 109.1, 108.1]}\n",
    "columns_list = ['봄', '여름', '가을', '겨울']\n",
    "index_list = ['2012', '2013', '2014', '2015', '2016']\n",
    "df3 = pd.DataFrame(data=table_data3, columns=columns_list, index=index_list)\n",
    "df3"
   ],
   "metadata": {
    "collapsed": false,
    "ExecuteTime": {
     "end_time": "2024-03-12T02:11:02.770812Z",
     "start_time": "2024-03-12T02:11:02.764480Z"
    }
   },
   "id": "8cbf501155d4288",
   "execution_count": 35
  },
  {
   "cell_type": "code",
   "outputs": [],
   "source": [
    "# pandas에서 제공하는 통계 메서드는 원소의 합을 구하는 sum(), 평균을 구하는 mean(),\n",
    "# 표준편차를 구하는 std(), 분산을 구하는 var(), 최솟값을 구하는 min(), 최댓값을 구하는 max(),\n",
    "# 각 원소의 누적 합을 구하는 cumsum(), 각 원소의 누적 곱을 구하는 cumprod() 등이 있음.\n",
    "# -> numpy와 메서드 이름이 동일"
   ],
   "metadata": {
    "collapsed": false,
    "ExecuteTime": {
     "end_time": "2024-03-12T02:11:02.771028Z",
     "start_time": "2024-03-12T02:11:02.767110Z"
    }
   },
   "id": "90e87c3ea62e8b2b",
   "execution_count": 36
  },
  {
   "cell_type": "code",
   "outputs": [
    {
     "data": {
      "text/plain": "봄     254.54\n여름    554.24\n가을    303.42\n겨울     98.66\ndtype: float64"
     },
     "execution_count": 37,
     "metadata": {},
     "output_type": "execute_result"
    }
   ],
   "source": [
    "# 2012년에서 2016년에 걸쳐 계절별로 강수량의 평균(mean)과 표준 편차(std)를 구함\n",
    "df3.mean()  # 계절별 강수량 평균"
   ],
   "metadata": {
    "collapsed": false,
    "ExecuteTime": {
     "end_time": "2024-03-12T02:11:02.781004Z",
     "start_time": "2024-03-12T02:11:02.770094Z"
    }
   },
   "id": "3c5bf548ffc3a7e4",
   "execution_count": 37
  },
  {
   "cell_type": "code",
   "outputs": [
    {
     "data": {
      "text/plain": "봄      38.628267\n여름    148.888895\n가을     67.358496\n겨울     30.925523\ndtype: float64"
     },
     "execution_count": 38,
     "metadata": {},
     "output_type": "execute_result"
    }
   ],
   "source": [
    "df3.std()  # 계절별 강수량 표준 편차"
   ],
   "metadata": {
    "collapsed": false,
    "ExecuteTime": {
     "end_time": "2024-03-12T02:11:23.782901Z",
     "start_time": "2024-03-12T02:11:23.776156Z"
    }
   },
   "id": "46032cb99a37be56",
   "execution_count": 38
  },
  {
   "cell_type": "code",
   "outputs": [
    {
     "data": {
      "text/plain": "봄     254.54\n여름    554.24\n가을    303.42\n겨울     98.66\ndtype: float64"
     },
     "execution_count": 39,
     "metadata": {},
     "output_type": "execute_result"
    }
   ],
   "source": [
    "# 연도별로 평균 강수량과 표준 편차를 구할 경우엔 연산의 방향 설정을 위해 axis 인자를 추가.\n",
    "# 인자 axis가 0이면 DataFrame의 values에서 열별로 연산을 수행하고,\n",
    "# 1이면 행별로 연산. axis 인자를 설정하지 않으면 기본값을 0으로 설정.\n",
    "df3.mean(axis=0)"
   ],
   "metadata": {
    "collapsed": false,
    "ExecuteTime": {
     "end_time": "2024-03-12T02:14:43.254135Z",
     "start_time": "2024-03-12T02:14:43.248088Z"
    }
   },
   "id": "7eaf4f4c009cf3a6",
   "execution_count": 39
  },
  {
   "cell_type": "code",
   "outputs": [
    {
     "data": {
      "text/plain": "2012    274.472128\n2013    211.128782\n2014    221.150739\n2015    114.166760\n2016    146.548658\ndtype: float64"
     },
     "execution_count": 40,
     "metadata": {},
     "output_type": "execute_result"
    }
   ],
   "source": [
    "df3.std(axis=1)"
   ],
   "metadata": {
    "collapsed": false,
    "ExecuteTime": {
     "end_time": "2024-03-12T02:15:46.113412Z",
     "start_time": "2024-03-12T02:15:46.107856Z"
    }
   },
   "id": "fef74a4aee243a34",
   "execution_count": 40
  },
  {
   "cell_type": "code",
   "outputs": [
    {
     "data": {
      "text/plain": "                봄          여름          가을          겨울\ncount    5.000000    5.000000    5.000000    5.000000\nmean   254.540000  554.240000  303.420000   98.660000\nstd     38.628267  148.888895   67.358496   30.925523\nmin    215.900000  387.100000  231.200000   59.900000\n25%    223.200000  446.200000  247.700000   76.900000\n50%    256.500000  567.500000  293.100000  108.100000\n75%    264.300000  599.800000  363.500000  109.100000\nmax    312.800000  770.600000  381.600000  139.300000",
      "text/html": "<div>\n<style scoped>\n    .dataframe tbody tr th:only-of-type {\n        vertical-align: middle;\n    }\n\n    .dataframe tbody tr th {\n        vertical-align: top;\n    }\n\n    .dataframe thead th {\n        text-align: right;\n    }\n</style>\n<table border=\"1\" class=\"dataframe\">\n  <thead>\n    <tr style=\"text-align: right;\">\n      <th></th>\n      <th>봄</th>\n      <th>여름</th>\n      <th>가을</th>\n      <th>겨울</th>\n    </tr>\n  </thead>\n  <tbody>\n    <tr>\n      <th>count</th>\n      <td>5.000000</td>\n      <td>5.000000</td>\n      <td>5.000000</td>\n      <td>5.000000</td>\n    </tr>\n    <tr>\n      <th>mean</th>\n      <td>254.540000</td>\n      <td>554.240000</td>\n      <td>303.420000</td>\n      <td>98.660000</td>\n    </tr>\n    <tr>\n      <th>std</th>\n      <td>38.628267</td>\n      <td>148.888895</td>\n      <td>67.358496</td>\n      <td>30.925523</td>\n    </tr>\n    <tr>\n      <th>min</th>\n      <td>215.900000</td>\n      <td>387.100000</td>\n      <td>231.200000</td>\n      <td>59.900000</td>\n    </tr>\n    <tr>\n      <th>25%</th>\n      <td>223.200000</td>\n      <td>446.200000</td>\n      <td>247.700000</td>\n      <td>76.900000</td>\n    </tr>\n    <tr>\n      <th>50%</th>\n      <td>256.500000</td>\n      <td>567.500000</td>\n      <td>293.100000</td>\n      <td>108.100000</td>\n    </tr>\n    <tr>\n      <th>75%</th>\n      <td>264.300000</td>\n      <td>599.800000</td>\n      <td>363.500000</td>\n      <td>109.100000</td>\n    </tr>\n    <tr>\n      <th>max</th>\n      <td>312.800000</td>\n      <td>770.600000</td>\n      <td>381.600000</td>\n      <td>139.300000</td>\n    </tr>\n  </tbody>\n</table>\n</div>"
     },
     "execution_count": 41,
     "metadata": {},
     "output_type": "execute_result"
    }
   ],
   "source": [
    "# 평균과 표준편차를 개별적으로 구했으나 describe()을 이용하면\n",
    "# 평균, 표준편차, 최솟값과 최댓값 등을 한 번에 구할 수 잇음\n",
    "# 25% / 50% / 75% : 백분위수의 각 지점으로, 분포를 반영해 평균을 보완하는 목적으로 사용.\n",
    "df3.describe()"
   ],
   "metadata": {
    "collapsed": false,
    "ExecuteTime": {
     "end_time": "2024-03-12T02:17:57.657781Z",
     "start_time": "2024-03-12T02:17:57.648719Z"
    }
   },
   "id": "6e5e14fed6a0288f",
   "execution_count": 41
  }
 ],
 "metadata": {
  "kernelspec": {
   "display_name": "Python 3",
   "language": "python",
   "name": "python3"
  },
  "language_info": {
   "codemirror_mode": {
    "name": "ipython",
    "version": 2
   },
   "file_extension": ".py",
   "mimetype": "text/x-python",
   "name": "python",
   "nbconvert_exporter": "python",
   "pygments_lexer": "ipython2",
   "version": "2.7.6"
  }
 },
 "nbformat": 4,
 "nbformat_minor": 5
}
