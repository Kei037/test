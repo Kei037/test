{
 "cells": [
  {
   "cell_type": "raw",
   "source": [
    "06. 판다스 데이터 가공하기"
   ],
   "metadata": {
    "collapsed": false
   },
   "id": "ea7ffa0800f44450"
  },
  {
   "cell_type": "code",
   "outputs": [],
   "source": [
    "# 엑셀 파일 dust1.xlxs 파일을 불러와서 데이터프레임을 생성.\n",
    "import pandas as pd"
   ],
   "metadata": {
    "collapsed": false,
    "ExecuteTime": {
     "end_time": "2024-03-12T07:08:08.502490Z",
     "start_time": "2024-03-12T07:08:08.262006Z"
    }
   },
   "id": "f926552a5eadce6c",
   "execution_count": 1
  },
  {
   "cell_type": "code",
   "outputs": [
    {
     "data": {
      "text/plain": "       지역     망   측정소코드 측정소명        측정일시    SO2   CO     O3    NO2  PM10  \\\n0  서울 송파구  도시대기  111273  송파구  2021040101  0.004  1.0  0.002  0.066    50   \n1  서울 송파구  도시대기  111273  송파구  2021040102  0.004  0.8  0.002  0.058    48   \n2  서울 송파구  도시대기  111273  송파구  2021040103  0.004  0.8  0.002  0.055    44   \n3  서울 송파구  도시대기  111273  송파구  2021040104  0.003  0.8  0.002  0.055    40   \n4  서울 송파구  도시대기  111273  송파구  2021040105  0.004  0.8  0.002  0.053    38   \n\n   PM25                주소  \n0    18  서울 송파구 백제고분로 236  \n1    20  서울 송파구 백제고분로 236  \n2    20  서울 송파구 백제고분로 236  \n3    20  서울 송파구 백제고분로 236  \n4    17  서울 송파구 백제고분로 236  ",
      "text/html": "<div>\n<style scoped>\n    .dataframe tbody tr th:only-of-type {\n        vertical-align: middle;\n    }\n\n    .dataframe tbody tr th {\n        vertical-align: top;\n    }\n\n    .dataframe thead th {\n        text-align: right;\n    }\n</style>\n<table border=\"1\" class=\"dataframe\">\n  <thead>\n    <tr style=\"text-align: right;\">\n      <th></th>\n      <th>지역</th>\n      <th>망</th>\n      <th>측정소코드</th>\n      <th>측정소명</th>\n      <th>측정일시</th>\n      <th>SO2</th>\n      <th>CO</th>\n      <th>O3</th>\n      <th>NO2</th>\n      <th>PM10</th>\n      <th>PM25</th>\n      <th>주소</th>\n    </tr>\n  </thead>\n  <tbody>\n    <tr>\n      <th>0</th>\n      <td>서울 송파구</td>\n      <td>도시대기</td>\n      <td>111273</td>\n      <td>송파구</td>\n      <td>2021040101</td>\n      <td>0.004</td>\n      <td>1.0</td>\n      <td>0.002</td>\n      <td>0.066</td>\n      <td>50</td>\n      <td>18</td>\n      <td>서울 송파구 백제고분로 236</td>\n    </tr>\n    <tr>\n      <th>1</th>\n      <td>서울 송파구</td>\n      <td>도시대기</td>\n      <td>111273</td>\n      <td>송파구</td>\n      <td>2021040102</td>\n      <td>0.004</td>\n      <td>0.8</td>\n      <td>0.002</td>\n      <td>0.058</td>\n      <td>48</td>\n      <td>20</td>\n      <td>서울 송파구 백제고분로 236</td>\n    </tr>\n    <tr>\n      <th>2</th>\n      <td>서울 송파구</td>\n      <td>도시대기</td>\n      <td>111273</td>\n      <td>송파구</td>\n      <td>2021040103</td>\n      <td>0.004</td>\n      <td>0.8</td>\n      <td>0.002</td>\n      <td>0.055</td>\n      <td>44</td>\n      <td>20</td>\n      <td>서울 송파구 백제고분로 236</td>\n    </tr>\n    <tr>\n      <th>3</th>\n      <td>서울 송파구</td>\n      <td>도시대기</td>\n      <td>111273</td>\n      <td>송파구</td>\n      <td>2021040104</td>\n      <td>0.003</td>\n      <td>0.8</td>\n      <td>0.002</td>\n      <td>0.055</td>\n      <td>40</td>\n      <td>20</td>\n      <td>서울 송파구 백제고분로 236</td>\n    </tr>\n    <tr>\n      <th>4</th>\n      <td>서울 송파구</td>\n      <td>도시대기</td>\n      <td>111273</td>\n      <td>송파구</td>\n      <td>2021040105</td>\n      <td>0.004</td>\n      <td>0.8</td>\n      <td>0.002</td>\n      <td>0.053</td>\n      <td>38</td>\n      <td>17</td>\n      <td>서울 송파구 백제고분로 236</td>\n    </tr>\n  </tbody>\n</table>\n</div>"
     },
     "execution_count": 4,
     "metadata": {},
     "output_type": "execute_result"
    }
   ],
   "source": [
    "dust = pd.read_excel('./input/dust1.xlsx')\n",
    "dust.head()"
   ],
   "metadata": {
    "collapsed": false,
    "ExecuteTime": {
     "end_time": "2024-03-12T07:10:15.232466Z",
     "start_time": "2024-03-12T07:10:15.210409Z"
    }
   },
   "id": "c129a04555450108",
   "execution_count": 4
  },
  {
   "cell_type": "raw",
   "source": [
    "1) 컬럼(변수) 삭제/생성하기"
   ],
   "metadata": {
    "collapsed": false
   },
   "id": "5293ba3cf5ba10fd"
  },
  {
   "cell_type": "code",
   "outputs": [
    {
     "data": {
      "text/plain": "  측정소명        측정일시    SO2   CO     O3    NO2  PM10  PM25                주소\n0  송파구  2021040101  0.004  1.0  0.002  0.066    50    18  서울 송파구 백제고분로 236\n1  송파구  2021040102  0.004  0.8  0.002  0.058    48    20  서울 송파구 백제고분로 236\n2  송파구  2021040103  0.004  0.8  0.002  0.055    44    20  서울 송파구 백제고분로 236\n3  송파구  2021040104  0.003  0.8  0.002  0.055    40    20  서울 송파구 백제고분로 236\n4  송파구  2021040105  0.004  0.8  0.002  0.053    38    17  서울 송파구 백제고분로 236",
      "text/html": "<div>\n<style scoped>\n    .dataframe tbody tr th:only-of-type {\n        vertical-align: middle;\n    }\n\n    .dataframe tbody tr th {\n        vertical-align: top;\n    }\n\n    .dataframe thead th {\n        text-align: right;\n    }\n</style>\n<table border=\"1\" class=\"dataframe\">\n  <thead>\n    <tr style=\"text-align: right;\">\n      <th></th>\n      <th>측정소명</th>\n      <th>측정일시</th>\n      <th>SO2</th>\n      <th>CO</th>\n      <th>O3</th>\n      <th>NO2</th>\n      <th>PM10</th>\n      <th>PM25</th>\n      <th>주소</th>\n    </tr>\n  </thead>\n  <tbody>\n    <tr>\n      <th>0</th>\n      <td>송파구</td>\n      <td>2021040101</td>\n      <td>0.004</td>\n      <td>1.0</td>\n      <td>0.002</td>\n      <td>0.066</td>\n      <td>50</td>\n      <td>18</td>\n      <td>서울 송파구 백제고분로 236</td>\n    </tr>\n    <tr>\n      <th>1</th>\n      <td>송파구</td>\n      <td>2021040102</td>\n      <td>0.004</td>\n      <td>0.8</td>\n      <td>0.002</td>\n      <td>0.058</td>\n      <td>48</td>\n      <td>20</td>\n      <td>서울 송파구 백제고분로 236</td>\n    </tr>\n    <tr>\n      <th>2</th>\n      <td>송파구</td>\n      <td>2021040103</td>\n      <td>0.004</td>\n      <td>0.8</td>\n      <td>0.002</td>\n      <td>0.055</td>\n      <td>44</td>\n      <td>20</td>\n      <td>서울 송파구 백제고분로 236</td>\n    </tr>\n    <tr>\n      <th>3</th>\n      <td>송파구</td>\n      <td>2021040104</td>\n      <td>0.003</td>\n      <td>0.8</td>\n      <td>0.002</td>\n      <td>0.055</td>\n      <td>40</td>\n      <td>20</td>\n      <td>서울 송파구 백제고분로 236</td>\n    </tr>\n    <tr>\n      <th>4</th>\n      <td>송파구</td>\n      <td>2021040105</td>\n      <td>0.004</td>\n      <td>0.8</td>\n      <td>0.002</td>\n      <td>0.053</td>\n      <td>38</td>\n      <td>17</td>\n      <td>서울 송파구 백제고분로 236</td>\n    </tr>\n  </tbody>\n</table>\n</div>"
     },
     "execution_count": 5,
     "metadata": {},
     "output_type": "execute_result"
    }
   ],
   "source": [
    "# 데이터 분석에 필요없는 '지역', '망', '측정소코드' 컬럼을 삭제하고 특정값으로 새로운 컬럼 생성.\n",
    "\n",
    "dust = dust.drop(['지역', '망', '측정소코드'], axis=1)\n",
    "# axis의 기본값이 axis=0 으로 행 삭제가 됨. 컬럼을 삭제하기 위해서는 axis=1을 반드시 사용.\n",
    "dust.head()"
   ],
   "metadata": {
    "collapsed": false,
    "ExecuteTime": {
     "end_time": "2024-03-12T07:29:47.248020Z",
     "start_time": "2024-03-12T07:29:47.238623Z"
    }
   },
   "id": "ec36b2f9ded5c431",
   "execution_count": 5
  },
  {
   "cell_type": "code",
   "outputs": [
    {
     "data": {
      "text/plain": "  측정소명        측정일시    SO2   CO     O3    NO2  PM10  PM25                주소  \\\n0  송파구  2021040101  0.004  1.0  0.002  0.066    50    18  서울 송파구 백제고분로 236   \n1  송파구  2021040102  0.004  0.8  0.002  0.058    48    20  서울 송파구 백제고분로 236   \n2  송파구  2021040103  0.004  0.8  0.002  0.055    44    20  서울 송파구 백제고분로 236   \n3  송파구  2021040104  0.003  0.8  0.002  0.055    40    20  서울 송파구 백제고분로 236   \n4  송파구  2021040105  0.004  0.8  0.002  0.053    38    17  서울 송파구 백제고분로 236   \n\n  city  \n0   서울  \n1   서울  \n2   서울  \n3   서울  \n4   서울  ",
      "text/html": "<div>\n<style scoped>\n    .dataframe tbody tr th:only-of-type {\n        vertical-align: middle;\n    }\n\n    .dataframe tbody tr th {\n        vertical-align: top;\n    }\n\n    .dataframe thead th {\n        text-align: right;\n    }\n</style>\n<table border=\"1\" class=\"dataframe\">\n  <thead>\n    <tr style=\"text-align: right;\">\n      <th></th>\n      <th>측정소명</th>\n      <th>측정일시</th>\n      <th>SO2</th>\n      <th>CO</th>\n      <th>O3</th>\n      <th>NO2</th>\n      <th>PM10</th>\n      <th>PM25</th>\n      <th>주소</th>\n      <th>city</th>\n    </tr>\n  </thead>\n  <tbody>\n    <tr>\n      <th>0</th>\n      <td>송파구</td>\n      <td>2021040101</td>\n      <td>0.004</td>\n      <td>1.0</td>\n      <td>0.002</td>\n      <td>0.066</td>\n      <td>50</td>\n      <td>18</td>\n      <td>서울 송파구 백제고분로 236</td>\n      <td>서울</td>\n    </tr>\n    <tr>\n      <th>1</th>\n      <td>송파구</td>\n      <td>2021040102</td>\n      <td>0.004</td>\n      <td>0.8</td>\n      <td>0.002</td>\n      <td>0.058</td>\n      <td>48</td>\n      <td>20</td>\n      <td>서울 송파구 백제고분로 236</td>\n      <td>서울</td>\n    </tr>\n    <tr>\n      <th>2</th>\n      <td>송파구</td>\n      <td>2021040103</td>\n      <td>0.004</td>\n      <td>0.8</td>\n      <td>0.002</td>\n      <td>0.055</td>\n      <td>44</td>\n      <td>20</td>\n      <td>서울 송파구 백제고분로 236</td>\n      <td>서울</td>\n    </tr>\n    <tr>\n      <th>3</th>\n      <td>송파구</td>\n      <td>2021040104</td>\n      <td>0.003</td>\n      <td>0.8</td>\n      <td>0.002</td>\n      <td>0.055</td>\n      <td>40</td>\n      <td>20</td>\n      <td>서울 송파구 백제고분로 236</td>\n      <td>서울</td>\n    </tr>\n    <tr>\n      <th>4</th>\n      <td>송파구</td>\n      <td>2021040105</td>\n      <td>0.004</td>\n      <td>0.8</td>\n      <td>0.002</td>\n      <td>0.053</td>\n      <td>38</td>\n      <td>17</td>\n      <td>서울 송파구 백제고분로 236</td>\n      <td>서울</td>\n    </tr>\n  </tbody>\n</table>\n</div>"
     },
     "execution_count": 6,
     "metadata": {},
     "output_type": "execute_result"
    }
   ],
   "source": [
    "# 새로운 칼럼 생성\n",
    "dust['city'] = '서울'\n",
    "dust.head()"
   ],
   "metadata": {
    "collapsed": false,
    "ExecuteTime": {
     "end_time": "2024-03-12T07:30:18.223237Z",
     "start_time": "2024-03-12T07:30:18.214351Z"
    }
   },
   "id": "7c5cc693ab32bd73",
   "execution_count": 6
  },
  {
   "cell_type": "raw",
   "source": [
    "# 2) 컬럼 이름 변경"
   ],
   "metadata": {
    "collapsed": false
   },
   "id": "1e28b16be6d5899b"
  },
  {
   "cell_type": "code",
   "outputs": [],
   "source": [
    "# 컬럼 이름 변경 방법\n",
    "# 1) DataFrame.colums=['새이름1', '새이름2', ...]\n",
    "# 전체 변수 이름을 재설정.\n",
    "# 변수명을 차례대로 재설정. 변수가 많은 경우 적절하지 않음.\n",
    "# 2) DataFrame.rename(columns={'기존이름':'새이름'}, inplace=True)\n",
    "# 원하는 변수이름만 수정\n",
    "# 딕셔너리 구조로 정의. 즉 이전 열이름을 키로 지정하고 새 이름으로 값으로 지정."
   ],
   "metadata": {
    "collapsed": false,
    "ExecuteTime": {
     "end_time": "2024-03-12T07:33:15.982339Z",
     "start_time": "2024-03-12T07:33:15.976378Z"
    }
   },
   "id": "f199bdfb7bfa25c6",
   "execution_count": 7
  },
  {
   "cell_type": "code",
   "outputs": [
    {
     "data": {
      "text/plain": "Index(['name', 'date', 'SO2', 'CO', 'O3', 'NO2', 'PM10', 'PM25', 'addr',\n       'city'],\n      dtype='object')"
     },
     "execution_count": 8,
     "metadata": {},
     "output_type": "execute_result"
    }
   ],
   "source": [
    "dust.rename(columns={'측정소명': 'name', '측정일시': 'date', '주소': 'addr'}, inplace=True)\n",
    "dust.columns"
   ],
   "metadata": {
    "collapsed": false,
    "ExecuteTime": {
     "end_time": "2024-03-12T07:34:01.360707Z",
     "start_time": "2024-03-12T07:34:01.352433Z"
    }
   },
   "id": "a54410825807cdeb",
   "execution_count": 8
  },
  {
   "cell_type": "raw",
   "source": [
    "3) 데이터 형변환"
   ],
   "metadata": {
    "collapsed": false
   },
   "id": "27d455eb9adb059c"
  },
  {
   "cell_type": "code",
   "outputs": [
    {
     "data": {
      "text/plain": "name     object\ndate      int64\nSO2     float64\nCO      float64\nO3      float64\nNO2     float64\nPM10      int64\nPM25      int64\naddr     object\ncity     object\ndtype: object"
     },
     "execution_count": 9,
     "metadata": {},
     "output_type": "execute_result"
    }
   ],
   "source": [
    "dust.dtypes"
   ],
   "metadata": {
    "collapsed": false,
    "ExecuteTime": {
     "end_time": "2024-03-12T07:37:45.894839Z",
     "start_time": "2024-03-12T07:37:45.887771Z"
    }
   },
   "id": "bbe424f9c34b4aa",
   "execution_count": 9
  },
  {
   "cell_type": "code",
   "outputs": [
    {
     "data": {
      "text/plain": "  name      date    SO2   CO     O3    NO2  PM10  PM25              addr city\n0  송파구  20210401  0.004  1.0  0.002  0.066    50    18  서울 송파구 백제고분로 236   서울\n1  송파구  20210401  0.004  0.8  0.002  0.058    48    20  서울 송파구 백제고분로 236   서울\n2  송파구  20210401  0.004  0.8  0.002  0.055    44    20  서울 송파구 백제고분로 236   서울\n3  송파구  20210401  0.003  0.8  0.002  0.055    40    20  서울 송파구 백제고분로 236   서울\n4  송파구  20210401  0.004  0.8  0.002  0.053    38    17  서울 송파구 백제고분로 236   서울",
      "text/html": "<div>\n<style scoped>\n    .dataframe tbody tr th:only-of-type {\n        vertical-align: middle;\n    }\n\n    .dataframe tbody tr th {\n        vertical-align: top;\n    }\n\n    .dataframe thead th {\n        text-align: right;\n    }\n</style>\n<table border=\"1\" class=\"dataframe\">\n  <thead>\n    <tr style=\"text-align: right;\">\n      <th></th>\n      <th>name</th>\n      <th>date</th>\n      <th>SO2</th>\n      <th>CO</th>\n      <th>O3</th>\n      <th>NO2</th>\n      <th>PM10</th>\n      <th>PM25</th>\n      <th>addr</th>\n      <th>city</th>\n    </tr>\n  </thead>\n  <tbody>\n    <tr>\n      <th>0</th>\n      <td>송파구</td>\n      <td>20210401</td>\n      <td>0.004</td>\n      <td>1.0</td>\n      <td>0.002</td>\n      <td>0.066</td>\n      <td>50</td>\n      <td>18</td>\n      <td>서울 송파구 백제고분로 236</td>\n      <td>서울</td>\n    </tr>\n    <tr>\n      <th>1</th>\n      <td>송파구</td>\n      <td>20210401</td>\n      <td>0.004</td>\n      <td>0.8</td>\n      <td>0.002</td>\n      <td>0.058</td>\n      <td>48</td>\n      <td>20</td>\n      <td>서울 송파구 백제고분로 236</td>\n      <td>서울</td>\n    </tr>\n    <tr>\n      <th>2</th>\n      <td>송파구</td>\n      <td>20210401</td>\n      <td>0.004</td>\n      <td>0.8</td>\n      <td>0.002</td>\n      <td>0.055</td>\n      <td>44</td>\n      <td>20</td>\n      <td>서울 송파구 백제고분로 236</td>\n      <td>서울</td>\n    </tr>\n    <tr>\n      <th>3</th>\n      <td>송파구</td>\n      <td>20210401</td>\n      <td>0.003</td>\n      <td>0.8</td>\n      <td>0.002</td>\n      <td>0.055</td>\n      <td>40</td>\n      <td>20</td>\n      <td>서울 송파구 백제고분로 236</td>\n      <td>서울</td>\n    </tr>\n    <tr>\n      <th>4</th>\n      <td>송파구</td>\n      <td>20210401</td>\n      <td>0.004</td>\n      <td>0.8</td>\n      <td>0.002</td>\n      <td>0.053</td>\n      <td>38</td>\n      <td>17</td>\n      <td>서울 송파구 백제고분로 236</td>\n      <td>서울</td>\n    </tr>\n  </tbody>\n</table>\n</div>"
     },
     "execution_count": 11,
     "metadata": {},
     "output_type": "execute_result"
    }
   ],
   "source": [
    "# date 컬럼이 숫자형(int)로 저장되어 있음.\n",
    "# 숫자 형식은 문자 형식으로 변환.\n",
    "# astype(str)으로 문자열 형식으로 변환하고 데이터 길이를 날짜 형식 8자리에 적합하도록 str.slice()를 사용하여 첫 8자리만 저장\n",
    "# (문자열 데이터를 숫자 형식으로 바꾸는 경우는 .astype(int) 사용.)\n",
    "\n",
    "# 숫자 int형을 문자열로 변환\n",
    "dust['date'] = dust['date'].astype(str)\n",
    "dust['date'] = dust['date'].str.slice(0, 8)\n",
    "dust.head()"
   ],
   "metadata": {
    "collapsed": false,
    "ExecuteTime": {
     "end_time": "2024-03-12T07:40:59.023846Z",
     "start_time": "2024-03-12T07:40:59.021201Z"
    }
   },
   "id": "cc90622896b6fad0",
   "execution_count": 11
  },
  {
   "cell_type": "code",
   "outputs": [
    {
     "data": {
      "text/plain": "name     object\ndate     object\nSO2     float64\nCO      float64\nO3      float64\nNO2     float64\nPM10      int64\nPM25      int64\naddr     object\ncity     object\ndtype: object"
     },
     "execution_count": 12,
     "metadata": {},
     "output_type": "execute_result"
    }
   ],
   "source": [
    "dust.dtypes"
   ],
   "metadata": {
    "collapsed": false,
    "ExecuteTime": {
     "end_time": "2024-03-12T07:41:53.555973Z",
     "start_time": "2024-03-12T07:41:53.547873Z"
    }
   },
   "id": "6cff144e3d053882",
   "execution_count": 12
  },
  {
   "cell_type": "code",
   "outputs": [
    {
     "data": {
      "text/plain": "name            object\ndate    datetime64[ns]\nSO2            float64\nCO             float64\nO3             float64\nNO2            float64\nPM10             int64\nPM25             int64\naddr            object\ncity            object\ndtype: object"
     },
     "execution_count": 13,
     "metadata": {},
     "output_type": "execute_result"
    }
   ],
   "source": [
    "# 문자 형식을 날짜형으로 변환\n",
    "dust['date'] = pd.to_datetime(dust['date'])\n",
    "dust.dtypes"
   ],
   "metadata": {
    "collapsed": false,
    "ExecuteTime": {
     "end_time": "2024-03-12T07:44:08.515834Z",
     "start_time": "2024-03-12T07:44:08.513486Z"
    }
   },
   "id": "dbebd795d6389c9b",
   "execution_count": 13
  },
  {
   "cell_type": "code",
   "outputs": [
    {
     "data": {
      "text/plain": "  name       date    SO2   CO     O3    NO2  PM10  PM25              addr  \\\n0  송파구 2021-04-01  0.004  1.0  0.002  0.066    50    18  서울 송파구 백제고분로 236   \n1  송파구 2021-04-01  0.004  0.8  0.002  0.058    48    20  서울 송파구 백제고분로 236   \n2  송파구 2021-04-01  0.004  0.8  0.002  0.055    44    20  서울 송파구 백제고분로 236   \n3  송파구 2021-04-01  0.003  0.8  0.002  0.055    40    20  서울 송파구 백제고분로 236   \n4  송파구 2021-04-01  0.004  0.8  0.002  0.053    38    17  서울 송파구 백제고분로 236   \n\n  city  year  month  day  \n0   서울  2021      4    1  \n1   서울  2021      4    1  \n2   서울  2021      4    1  \n3   서울  2021      4    1  \n4   서울  2021      4    1  ",
      "text/html": "<div>\n<style scoped>\n    .dataframe tbody tr th:only-of-type {\n        vertical-align: middle;\n    }\n\n    .dataframe tbody tr th {\n        vertical-align: top;\n    }\n\n    .dataframe thead th {\n        text-align: right;\n    }\n</style>\n<table border=\"1\" class=\"dataframe\">\n  <thead>\n    <tr style=\"text-align: right;\">\n      <th></th>\n      <th>name</th>\n      <th>date</th>\n      <th>SO2</th>\n      <th>CO</th>\n      <th>O3</th>\n      <th>NO2</th>\n      <th>PM10</th>\n      <th>PM25</th>\n      <th>addr</th>\n      <th>city</th>\n      <th>year</th>\n      <th>month</th>\n      <th>day</th>\n    </tr>\n  </thead>\n  <tbody>\n    <tr>\n      <th>0</th>\n      <td>송파구</td>\n      <td>2021-04-01</td>\n      <td>0.004</td>\n      <td>1.0</td>\n      <td>0.002</td>\n      <td>0.066</td>\n      <td>50</td>\n      <td>18</td>\n      <td>서울 송파구 백제고분로 236</td>\n      <td>서울</td>\n      <td>2021</td>\n      <td>4</td>\n      <td>1</td>\n    </tr>\n    <tr>\n      <th>1</th>\n      <td>송파구</td>\n      <td>2021-04-01</td>\n      <td>0.004</td>\n      <td>0.8</td>\n      <td>0.002</td>\n      <td>0.058</td>\n      <td>48</td>\n      <td>20</td>\n      <td>서울 송파구 백제고분로 236</td>\n      <td>서울</td>\n      <td>2021</td>\n      <td>4</td>\n      <td>1</td>\n    </tr>\n    <tr>\n      <th>2</th>\n      <td>송파구</td>\n      <td>2021-04-01</td>\n      <td>0.004</td>\n      <td>0.8</td>\n      <td>0.002</td>\n      <td>0.055</td>\n      <td>44</td>\n      <td>20</td>\n      <td>서울 송파구 백제고분로 236</td>\n      <td>서울</td>\n      <td>2021</td>\n      <td>4</td>\n      <td>1</td>\n    </tr>\n    <tr>\n      <th>3</th>\n      <td>송파구</td>\n      <td>2021-04-01</td>\n      <td>0.003</td>\n      <td>0.8</td>\n      <td>0.002</td>\n      <td>0.055</td>\n      <td>40</td>\n      <td>20</td>\n      <td>서울 송파구 백제고분로 236</td>\n      <td>서울</td>\n      <td>2021</td>\n      <td>4</td>\n      <td>1</td>\n    </tr>\n    <tr>\n      <th>4</th>\n      <td>송파구</td>\n      <td>2021-04-01</td>\n      <td>0.004</td>\n      <td>0.8</td>\n      <td>0.002</td>\n      <td>0.053</td>\n      <td>38</td>\n      <td>17</td>\n      <td>서울 송파구 백제고분로 236</td>\n      <td>서울</td>\n      <td>2021</td>\n      <td>4</td>\n      <td>1</td>\n    </tr>\n  </tbody>\n</table>\n</div>"
     },
     "execution_count": 16,
     "metadata": {},
     "output_type": "execute_result"
    }
   ],
   "source": [
    "# 날짜 형식 활용 : Serise.dt.형식\n",
    "\n",
    "dust['year'] = dust['date'].dt.year\n",
    "dust['month'] = dust['date'].dt.month\n",
    "dust['day'] = dust['date'].dt.day\n",
    "dust.head()"
   ],
   "metadata": {
    "collapsed": false,
    "ExecuteTime": {
     "end_time": "2024-03-12T07:45:12.726508Z",
     "start_time": "2024-03-12T07:45:12.723914Z"
    }
   },
   "id": "1e1d044f756194bf",
   "execution_count": 16
  },
  {
   "cell_type": "raw",
   "source": [
    "4) 데이터 병합하기"
   ],
   "metadata": {
    "collapsed": false
   },
   "id": "76c7d5566650c81b"
  },
  {
   "cell_type": "code",
   "outputs": [],
   "source": [
    "# merge() 함수는 두 데이터프레임을 각 데이터에 존재하는 고유값(key)을 기준으로 병합할 때 사용.\n",
    "\n",
    "# pd.merge(df_left, df_right, how='inner', on=None)\n",
    "# 아무 옵션을 적용하지 않으면, on=None이므로 두 데이터의 공동 열이름(id)을 기준으로 inner(교집합) 조인을 하게 됨.\n",
    "# outer옵션을 줘서 id를 기준으로 합치되, 어느 한쪽이라는 없는 데이터가 있는 경우 Nan값이 지정."
   ],
   "metadata": {
    "collapsed": false,
    "ExecuteTime": {
     "end_time": "2024-03-12T07:49:01.480511Z",
     "start_time": "2024-03-12T07:49:01.472818Z"
    }
   },
   "id": "b7108cdd77f37bb6",
   "execution_count": 17
  },
  {
   "cell_type": "code",
   "outputs": [
    {
     "data": {
      "text/plain": "  국적코드  성별    입국객수    증가수\n0  A01  남성  125000   8000\n1  A01  여성  130000  10000\n2  A05  남성     300     10\n3  A05  여성     200     50\n4  A06  남성  158912  24486",
      "text/html": "<div>\n<style scoped>\n    .dataframe tbody tr th:only-of-type {\n        vertical-align: middle;\n    }\n\n    .dataframe tbody tr th {\n        vertical-align: top;\n    }\n\n    .dataframe thead th {\n        text-align: right;\n    }\n</style>\n<table border=\"1\" class=\"dataframe\">\n  <thead>\n    <tr style=\"text-align: right;\">\n      <th></th>\n      <th>국적코드</th>\n      <th>성별</th>\n      <th>입국객수</th>\n      <th>증가수</th>\n    </tr>\n  </thead>\n  <tbody>\n    <tr>\n      <th>0</th>\n      <td>A01</td>\n      <td>남성</td>\n      <td>125000</td>\n      <td>8000</td>\n    </tr>\n    <tr>\n      <th>1</th>\n      <td>A01</td>\n      <td>여성</td>\n      <td>130000</td>\n      <td>10000</td>\n    </tr>\n    <tr>\n      <th>2</th>\n      <td>A05</td>\n      <td>남성</td>\n      <td>300</td>\n      <td>10</td>\n    </tr>\n    <tr>\n      <th>3</th>\n      <td>A05</td>\n      <td>여성</td>\n      <td>200</td>\n      <td>50</td>\n    </tr>\n    <tr>\n      <th>4</th>\n      <td>A06</td>\n      <td>남성</td>\n      <td>158912</td>\n      <td>24486</td>\n    </tr>\n  </tbody>\n</table>\n</div>"
     },
     "execution_count": 18,
     "metadata": {},
     "output_type": "execute_result"
    }
   ],
   "source": [
    "# 병합할 원본 데이터 확인하기\n",
    "s1 = pd.read_excel('./input/nation.xlsx')\n",
    "s1.head()"
   ],
   "metadata": {
    "collapsed": false,
    "ExecuteTime": {
     "end_time": "2024-03-12T07:49:30.375654Z",
     "start_time": "2024-03-12T07:49:30.368895Z"
    }
   },
   "id": "ae759464607e44a3",
   "execution_count": 18
  },
  {
   "cell_type": "code",
   "outputs": [
    {
     "data": {
      "text/plain": "  국적코드  국적명\n0  A01  필리핀\n1  A02   일본\n2  A03   미국\n3  A04   중국\n4  A05   호주",
      "text/html": "<div>\n<style scoped>\n    .dataframe tbody tr th:only-of-type {\n        vertical-align: middle;\n    }\n\n    .dataframe tbody tr th {\n        vertical-align: top;\n    }\n\n    .dataframe thead th {\n        text-align: right;\n    }\n</style>\n<table border=\"1\" class=\"dataframe\">\n  <thead>\n    <tr style=\"text-align: right;\">\n      <th></th>\n      <th>국적코드</th>\n      <th>국적명</th>\n    </tr>\n  </thead>\n  <tbody>\n    <tr>\n      <th>0</th>\n      <td>A01</td>\n      <td>필리핀</td>\n    </tr>\n    <tr>\n      <th>1</th>\n      <td>A02</td>\n      <td>일본</td>\n    </tr>\n    <tr>\n      <th>2</th>\n      <td>A03</td>\n      <td>미국</td>\n    </tr>\n    <tr>\n      <th>3</th>\n      <td>A04</td>\n      <td>중국</td>\n    </tr>\n    <tr>\n      <th>4</th>\n      <td>A05</td>\n      <td>호주</td>\n    </tr>\n  </tbody>\n</table>\n</div>"
     },
     "execution_count": 19,
     "metadata": {},
     "output_type": "execute_result"
    }
   ],
   "source": [
    "s2 = pd.read_excel('./input/code.xlsx')\n",
    "s2.head()"
   ],
   "metadata": {
    "collapsed": false,
    "ExecuteTime": {
     "end_time": "2024-03-12T07:50:44.604611Z",
     "start_time": "2024-03-12T07:50:44.595996Z"
    }
   },
   "id": "158f0390b31940b8",
   "execution_count": 19
  },
  {
   "cell_type": "code",
   "outputs": [
    {
     "data": {
      "text/plain": "  국적코드  성별    입국객수    증가수  국적명\n0  A01  남성  125000   8000  필리핀\n1  A01  여성  130000  10000  필리핀\n2  A05  남성     300     10   호주\n3  A05  여성     200     50   호주\n4  A06  남성  158912  24486  베트남\n5  A06  여성  325000  63466  베트남",
      "text/html": "<div>\n<style scoped>\n    .dataframe tbody tr th:only-of-type {\n        vertical-align: middle;\n    }\n\n    .dataframe tbody tr th {\n        vertical-align: top;\n    }\n\n    .dataframe thead th {\n        text-align: right;\n    }\n</style>\n<table border=\"1\" class=\"dataframe\">\n  <thead>\n    <tr style=\"text-align: right;\">\n      <th></th>\n      <th>국적코드</th>\n      <th>성별</th>\n      <th>입국객수</th>\n      <th>증가수</th>\n      <th>국적명</th>\n    </tr>\n  </thead>\n  <tbody>\n    <tr>\n      <th>0</th>\n      <td>A01</td>\n      <td>남성</td>\n      <td>125000</td>\n      <td>8000</td>\n      <td>필리핀</td>\n    </tr>\n    <tr>\n      <th>1</th>\n      <td>A01</td>\n      <td>여성</td>\n      <td>130000</td>\n      <td>10000</td>\n      <td>필리핀</td>\n    </tr>\n    <tr>\n      <th>2</th>\n      <td>A05</td>\n      <td>남성</td>\n      <td>300</td>\n      <td>10</td>\n      <td>호주</td>\n    </tr>\n    <tr>\n      <th>3</th>\n      <td>A05</td>\n      <td>여성</td>\n      <td>200</td>\n      <td>50</td>\n      <td>호주</td>\n    </tr>\n    <tr>\n      <th>4</th>\n      <td>A06</td>\n      <td>남성</td>\n      <td>158912</td>\n      <td>24486</td>\n      <td>베트남</td>\n    </tr>\n    <tr>\n      <th>5</th>\n      <td>A06</td>\n      <td>여성</td>\n      <td>325000</td>\n      <td>63466</td>\n      <td>베트남</td>\n    </tr>\n  </tbody>\n</table>\n</div>"
     },
     "execution_count": 20,
     "metadata": {},
     "output_type": "execute_result"
    }
   ],
   "source": [
    "# 데이터 병합하기 : 공통 컬럼을 기준\n",
    "pd.merge(s1, s2, on='국적코드')"
   ],
   "metadata": {
    "collapsed": false,
    "ExecuteTime": {
     "end_time": "2024-03-12T07:52:00.160058Z",
     "start_time": "2024-03-12T07:52:00.153692Z"
    }
   },
   "id": "4544ad39fa474f2a",
   "execution_count": 20
  },
  {
   "cell_type": "code",
   "outputs": [],
   "source": [],
   "metadata": {
    "collapsed": false
   },
   "id": "7b38633b95b9ae3d"
  }
 ],
 "metadata": {
  "kernelspec": {
   "display_name": "Python 3",
   "language": "python",
   "name": "python3"
  },
  "language_info": {
   "codemirror_mode": {
    "name": "ipython",
    "version": 2
   },
   "file_extension": ".py",
   "mimetype": "text/x-python",
   "name": "python",
   "nbconvert_exporter": "python",
   "pygments_lexer": "ipython2",
   "version": "2.7.6"
  }
 },
 "nbformat": 4,
 "nbformat_minor": 5
}
