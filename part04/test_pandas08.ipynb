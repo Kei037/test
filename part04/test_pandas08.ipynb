{
 "cells": [
  {
   "cell_type": "markdown",
   "source": [
    "04. 판다스 데이터 선택하기"
   ],
   "metadata": {
    "collapsed": false
   },
   "id": "31a10935e6b96ea6"
  },
  {
   "cell_type": "raw",
   "source": [
    "# Pandas DataFrame으로 부터 데이털르 선택하는 다양한 방법"
   ],
   "metadata": {
    "collapsed": false
   },
   "id": "e9fa4e34ed44c5d6"
  },
  {
   "cell_type": "code",
   "outputs": [],
   "source": [
    "import pandas as pd"
   ],
   "metadata": {
    "collapsed": false,
    "ExecuteTime": {
     "end_time": "2024-03-12T05:40:44.580305Z",
     "start_time": "2024-03-12T05:40:44.344226Z"
    }
   },
   "id": "6c5534682abf3603",
   "execution_count": 2
  },
  {
   "cell_type": "raw",
   "source": [
    "1) 열 선택하기"
   ],
   "metadata": {
    "collapsed": false
   },
   "id": "b950cd547189fe5c"
  },
  {
   "cell_type": "raw",
   "source": [
    "# DataFrame의 하나의 열을 선택하면 하나의 Series를 만듬.\n",
    "# df['컬럼명']는 df.컬럼명과 같음. 단, 이 방법을 사용하려면 열 이름이 숫자로 시작하지 않고 공백이나 특수 문자 등의\n",
    "# 포함하지 않는 등의 조건을 만족해야 함.\n",
    "# iloc() 및 loc() 메서드를 사용하여 여러 열을 선택할 수도 있음."
   ],
   "metadata": {
    "collapsed": false
   },
   "id": "da517768c3e07bcb"
  },
  {
   "cell_type": "code",
   "outputs": [
    {
     "data": {
      "text/plain": "0       28.7\n1       25.2\n2       22.1\n3       25.3\n4       27.2\n        ... \n3648    22.1\n3649    21.9\n3650    21.6\n3651    22.9\n3652    25.7\nName: temp, Length: 3653, dtype: float64"
     },
     "execution_count": 3,
     "metadata": {},
     "output_type": "execute_result"
    }
   ],
   "source": [
    "# 단일 컬럼 선택하기\n",
    "df = pd.read_csv('./input/weather.csv')\n",
    "df['temp']"
   ],
   "metadata": {
    "collapsed": false,
    "ExecuteTime": {
     "end_time": "2024-03-12T05:43:28.546627Z",
     "start_time": "2024-03-12T05:43:28.537281Z"
    }
   },
   "id": "a82ef335d4579f7a",
   "execution_count": 3
  },
  {
   "cell_type": "code",
   "outputs": [
    {
     "data": {
      "text/plain": "0       28.7\n1       25.2\n2       22.1\n3       25.3\n4       27.2\n        ... \n3648    22.1\n3649    21.9\n3650    21.6\n3651    22.9\n3652    25.7\nName: temp, Length: 3653, dtype: float64"
     },
     "execution_count": 4,
     "metadata": {},
     "output_type": "execute_result"
    }
   ],
   "source": [
    "df.temp"
   ],
   "metadata": {
    "collapsed": false,
    "ExecuteTime": {
     "end_time": "2024-03-12T05:44:11.076763Z",
     "start_time": "2024-03-12T05:44:11.072861Z"
    }
   },
   "id": "6ef314995449513c",
   "execution_count": 4
  },
  {
   "cell_type": "code",
   "outputs": [
    {
     "data": {
      "text/plain": "            date  temp\n0     2010-08-01  28.7\n1     2010-08-02  25.2\n2     2010-08-03  22.1\n3     2010-08-04  25.3\n4     2010-08-05  27.2\n...          ...   ...\n3648  2020-07-27  22.1\n3649  2020-07-28  21.9\n3650  2020-07-29  21.6\n3651  2020-07-30  22.9\n3652  2020-07-31  25.7\n\n[3653 rows x 2 columns]",
      "text/html": "<div>\n<style scoped>\n    .dataframe tbody tr th:only-of-type {\n        vertical-align: middle;\n    }\n\n    .dataframe tbody tr th {\n        vertical-align: top;\n    }\n\n    .dataframe thead th {\n        text-align: right;\n    }\n</style>\n<table border=\"1\" class=\"dataframe\">\n  <thead>\n    <tr style=\"text-align: right;\">\n      <th></th>\n      <th>date</th>\n      <th>temp</th>\n    </tr>\n  </thead>\n  <tbody>\n    <tr>\n      <th>0</th>\n      <td>2010-08-01</td>\n      <td>28.7</td>\n    </tr>\n    <tr>\n      <th>1</th>\n      <td>2010-08-02</td>\n      <td>25.2</td>\n    </tr>\n    <tr>\n      <th>2</th>\n      <td>2010-08-03</td>\n      <td>22.1</td>\n    </tr>\n    <tr>\n      <th>3</th>\n      <td>2010-08-04</td>\n      <td>25.3</td>\n    </tr>\n    <tr>\n      <th>4</th>\n      <td>2010-08-05</td>\n      <td>27.2</td>\n    </tr>\n    <tr>\n      <th>...</th>\n      <td>...</td>\n      <td>...</td>\n    </tr>\n    <tr>\n      <th>3648</th>\n      <td>2020-07-27</td>\n      <td>22.1</td>\n    </tr>\n    <tr>\n      <th>3649</th>\n      <td>2020-07-28</td>\n      <td>21.9</td>\n    </tr>\n    <tr>\n      <th>3650</th>\n      <td>2020-07-29</td>\n      <td>21.6</td>\n    </tr>\n    <tr>\n      <th>3651</th>\n      <td>2020-07-30</td>\n      <td>22.9</td>\n    </tr>\n    <tr>\n      <th>3652</th>\n      <td>2020-07-31</td>\n      <td>25.7</td>\n    </tr>\n  </tbody>\n</table>\n<p>3653 rows × 2 columns</p>\n</div>"
     },
     "execution_count": 5,
     "metadata": {},
     "output_type": "execute_result"
    }
   ],
   "source": [
    "# 여러 컬럼 선택하기\n",
    "\n",
    "# 추출할 열 이름을 리스트에 저장한 다음 []에 전달하면 여러 열을 선택할 수 있음.\n",
    "df[['date', 'temp']]"
   ],
   "metadata": {
    "collapsed": false,
    "ExecuteTime": {
     "end_time": "2024-03-12T05:45:47.161877Z",
     "start_time": "2024-03-12T05:45:47.158500Z"
    }
   },
   "id": "eb04a2b958e0d1c0",
   "execution_count": 5
  },
  {
   "cell_type": "code",
   "outputs": [
    {
     "data": {
      "text/plain": "            date  temp\n0     2010-08-01  28.7\n1     2010-08-02  25.2\n2     2010-08-03  22.1\n3     2010-08-04  25.3\n4     2010-08-05  27.2\n...          ...   ...\n3648  2020-07-27  22.1\n3649  2020-07-28  21.9\n3650  2020-07-29  21.6\n3651  2020-07-30  22.9\n3652  2020-07-31  25.7\n\n[3653 rows x 2 columns]",
      "text/html": "<div>\n<style scoped>\n    .dataframe tbody tr th:only-of-type {\n        vertical-align: middle;\n    }\n\n    .dataframe tbody tr th {\n        vertical-align: top;\n    }\n\n    .dataframe thead th {\n        text-align: right;\n    }\n</style>\n<table border=\"1\" class=\"dataframe\">\n  <thead>\n    <tr style=\"text-align: right;\">\n      <th></th>\n      <th>date</th>\n      <th>temp</th>\n    </tr>\n  </thead>\n  <tbody>\n    <tr>\n      <th>0</th>\n      <td>2010-08-01</td>\n      <td>28.7</td>\n    </tr>\n    <tr>\n      <th>1</th>\n      <td>2010-08-02</td>\n      <td>25.2</td>\n    </tr>\n    <tr>\n      <th>2</th>\n      <td>2010-08-03</td>\n      <td>22.1</td>\n    </tr>\n    <tr>\n      <th>3</th>\n      <td>2010-08-04</td>\n      <td>25.3</td>\n    </tr>\n    <tr>\n      <th>4</th>\n      <td>2010-08-05</td>\n      <td>27.2</td>\n    </tr>\n    <tr>\n      <th>...</th>\n      <td>...</td>\n      <td>...</td>\n    </tr>\n    <tr>\n      <th>3648</th>\n      <td>2020-07-27</td>\n      <td>22.1</td>\n    </tr>\n    <tr>\n      <th>3649</th>\n      <td>2020-07-28</td>\n      <td>21.9</td>\n    </tr>\n    <tr>\n      <th>3650</th>\n      <td>2020-07-29</td>\n      <td>21.6</td>\n    </tr>\n    <tr>\n      <th>3651</th>\n      <td>2020-07-30</td>\n      <td>22.9</td>\n    </tr>\n    <tr>\n      <th>3652</th>\n      <td>2020-07-31</td>\n      <td>25.7</td>\n    </tr>\n  </tbody>\n</table>\n<p>3653 rows × 2 columns</p>\n</div>"
     },
     "execution_count": 6,
     "metadata": {},
     "output_type": "execute_result"
    }
   ],
   "source": [
    "# 여러 컬럼 선택하기 : loc\n",
    "\n",
    "# 열 이름을 사용하여 열을 선택하려는 경우 loc를 사용\n",
    "# df.loc[행 인덱싱 값, 열 인덱싱 값]\n",
    "df.loc[:, ['date', 'temp']]"
   ],
   "metadata": {
    "collapsed": false,
    "ExecuteTime": {
     "end_time": "2024-03-12T05:47:17.773322Z",
     "start_time": "2024-03-12T05:47:17.770397Z"
    }
   },
   "id": "73b3816a2b24db0f",
   "execution_count": 6
  },
  {
   "cell_type": "code",
   "outputs": [],
   "source": [],
   "metadata": {
    "collapsed": false
   },
   "id": "5fbdbb7650cedc3"
  }
 ],
 "metadata": {
  "kernelspec": {
   "display_name": "Python 3",
   "language": "python",
   "name": "python3"
  },
  "language_info": {
   "codemirror_mode": {
    "name": "ipython",
    "version": 2
   },
   "file_extension": ".py",
   "mimetype": "text/x-python",
   "name": "python",
   "nbconvert_exporter": "python",
   "pygments_lexer": "ipython2",
   "version": "2.7.6"
  }
 },
 "nbformat": 4,
 "nbformat_minor": 5
}
