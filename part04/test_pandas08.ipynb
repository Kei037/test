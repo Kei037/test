{
 "cells": [
  {
   "cell_type": "markdown",
   "source": [
    "04. 판다스 데이터 선택하기"
   ],
   "metadata": {
    "collapsed": false
   },
   "id": "31a10935e6b96ea6"
  },
  {
   "cell_type": "raw",
   "source": [
    "# Pandas DataFrame으로 부터 데이털르 선택하는 다양한 방법"
   ],
   "metadata": {
    "collapsed": false
   },
   "id": "e9fa4e34ed44c5d6"
  },
  {
   "cell_type": "code",
   "outputs": [],
   "source": [
    "import pandas as pd"
   ],
   "metadata": {
    "collapsed": false,
    "ExecuteTime": {
     "end_time": "2024-03-12T05:40:44.580305Z",
     "start_time": "2024-03-12T05:40:44.344226Z"
    }
   },
   "id": "6c5534682abf3603",
   "execution_count": 2
  },
  {
   "cell_type": "raw",
   "source": [
    "1) 열 선택하기"
   ],
   "metadata": {
    "collapsed": false
   },
   "id": "b950cd547189fe5c"
  },
  {
   "cell_type": "raw",
   "source": [
    "# DataFrame의 하나의 열을 선택하면 하나의 Series를 만듬.\n",
    "# df['컬럼명']는 df.컬럼명과 같음. 단, 이 방법을 사용하려면 열 이름이 숫자로 시작하지 않고 공백이나 특수 문자 등의\n",
    "# 포함하지 않는 등의 조건을 만족해야 함.\n",
    "# iloc() 및 loc() 메서드를 사용하여 여러 열을 선택할 수도 있음."
   ],
   "metadata": {
    "collapsed": false
   },
   "id": "da517768c3e07bcb"
  },
  {
   "cell_type": "code",
   "outputs": [
    {
     "data": {
      "text/plain": "0       28.7\n1       25.2\n2       22.1\n3       25.3\n4       27.2\n        ... \n3648    22.1\n3649    21.9\n3650    21.6\n3651    22.9\n3652    25.7\nName: temp, Length: 3653, dtype: float64"
     },
     "execution_count": 3,
     "metadata": {},
     "output_type": "execute_result"
    }
   ],
   "source": [
    "# 단일 컬럼 선택하기\n",
    "df = pd.read_csv('./input/weather.csv')\n",
    "df['temp']"
   ],
   "metadata": {
    "collapsed": false,
    "ExecuteTime": {
     "end_time": "2024-03-12T05:43:28.546627Z",
     "start_time": "2024-03-12T05:43:28.537281Z"
    }
   },
   "id": "a82ef335d4579f7a",
   "execution_count": 3
  },
  {
   "cell_type": "code",
   "outputs": [
    {
     "data": {
      "text/plain": "0       28.7\n1       25.2\n2       22.1\n3       25.3\n4       27.2\n        ... \n3648    22.1\n3649    21.9\n3650    21.6\n3651    22.9\n3652    25.7\nName: temp, Length: 3653, dtype: float64"
     },
     "execution_count": 4,
     "metadata": {},
     "output_type": "execute_result"
    }
   ],
   "source": [
    "df.temp"
   ],
   "metadata": {
    "collapsed": false,
    "ExecuteTime": {
     "end_time": "2024-03-12T05:44:11.076763Z",
     "start_time": "2024-03-12T05:44:11.072861Z"
    }
   },
   "id": "6ef314995449513c",
   "execution_count": 4
  },
  {
   "cell_type": "code",
   "outputs": [
    {
     "data": {
      "text/plain": "            date  temp\n0     2010-08-01  28.7\n1     2010-08-02  25.2\n2     2010-08-03  22.1\n3     2010-08-04  25.3\n4     2010-08-05  27.2\n...          ...   ...\n3648  2020-07-27  22.1\n3649  2020-07-28  21.9\n3650  2020-07-29  21.6\n3651  2020-07-30  22.9\n3652  2020-07-31  25.7\n\n[3653 rows x 2 columns]",
      "text/html": "<div>\n<style scoped>\n    .dataframe tbody tr th:only-of-type {\n        vertical-align: middle;\n    }\n\n    .dataframe tbody tr th {\n        vertical-align: top;\n    }\n\n    .dataframe thead th {\n        text-align: right;\n    }\n</style>\n<table border=\"1\" class=\"dataframe\">\n  <thead>\n    <tr style=\"text-align: right;\">\n      <th></th>\n      <th>date</th>\n      <th>temp</th>\n    </tr>\n  </thead>\n  <tbody>\n    <tr>\n      <th>0</th>\n      <td>2010-08-01</td>\n      <td>28.7</td>\n    </tr>\n    <tr>\n      <th>1</th>\n      <td>2010-08-02</td>\n      <td>25.2</td>\n    </tr>\n    <tr>\n      <th>2</th>\n      <td>2010-08-03</td>\n      <td>22.1</td>\n    </tr>\n    <tr>\n      <th>3</th>\n      <td>2010-08-04</td>\n      <td>25.3</td>\n    </tr>\n    <tr>\n      <th>4</th>\n      <td>2010-08-05</td>\n      <td>27.2</td>\n    </tr>\n    <tr>\n      <th>...</th>\n      <td>...</td>\n      <td>...</td>\n    </tr>\n    <tr>\n      <th>3648</th>\n      <td>2020-07-27</td>\n      <td>22.1</td>\n    </tr>\n    <tr>\n      <th>3649</th>\n      <td>2020-07-28</td>\n      <td>21.9</td>\n    </tr>\n    <tr>\n      <th>3650</th>\n      <td>2020-07-29</td>\n      <td>21.6</td>\n    </tr>\n    <tr>\n      <th>3651</th>\n      <td>2020-07-30</td>\n      <td>22.9</td>\n    </tr>\n    <tr>\n      <th>3652</th>\n      <td>2020-07-31</td>\n      <td>25.7</td>\n    </tr>\n  </tbody>\n</table>\n<p>3653 rows × 2 columns</p>\n</div>"
     },
     "execution_count": 5,
     "metadata": {},
     "output_type": "execute_result"
    }
   ],
   "source": [
    "# 여러 컬럼 선택하기\n",
    "\n",
    "# 추출할 열 이름을 리스트에 저장한 다음 []에 전달하면 여러 열을 선택할 수 있음.\n",
    "df[['date', 'temp']]"
   ],
   "metadata": {
    "collapsed": false,
    "ExecuteTime": {
     "end_time": "2024-03-12T05:45:47.161877Z",
     "start_time": "2024-03-12T05:45:47.158500Z"
    }
   },
   "id": "eb04a2b958e0d1c0",
   "execution_count": 5
  },
  {
   "cell_type": "code",
   "outputs": [
    {
     "data": {
      "text/plain": "            date  temp\n0     2010-08-01  28.7\n1     2010-08-02  25.2\n2     2010-08-03  22.1\n3     2010-08-04  25.3\n4     2010-08-05  27.2\n...          ...   ...\n3648  2020-07-27  22.1\n3649  2020-07-28  21.9\n3650  2020-07-29  21.6\n3651  2020-07-30  22.9\n3652  2020-07-31  25.7\n\n[3653 rows x 2 columns]",
      "text/html": "<div>\n<style scoped>\n    .dataframe tbody tr th:only-of-type {\n        vertical-align: middle;\n    }\n\n    .dataframe tbody tr th {\n        vertical-align: top;\n    }\n\n    .dataframe thead th {\n        text-align: right;\n    }\n</style>\n<table border=\"1\" class=\"dataframe\">\n  <thead>\n    <tr style=\"text-align: right;\">\n      <th></th>\n      <th>date</th>\n      <th>temp</th>\n    </tr>\n  </thead>\n  <tbody>\n    <tr>\n      <th>0</th>\n      <td>2010-08-01</td>\n      <td>28.7</td>\n    </tr>\n    <tr>\n      <th>1</th>\n      <td>2010-08-02</td>\n      <td>25.2</td>\n    </tr>\n    <tr>\n      <th>2</th>\n      <td>2010-08-03</td>\n      <td>22.1</td>\n    </tr>\n    <tr>\n      <th>3</th>\n      <td>2010-08-04</td>\n      <td>25.3</td>\n    </tr>\n    <tr>\n      <th>4</th>\n      <td>2010-08-05</td>\n      <td>27.2</td>\n    </tr>\n    <tr>\n      <th>...</th>\n      <td>...</td>\n      <td>...</td>\n    </tr>\n    <tr>\n      <th>3648</th>\n      <td>2020-07-27</td>\n      <td>22.1</td>\n    </tr>\n    <tr>\n      <th>3649</th>\n      <td>2020-07-28</td>\n      <td>21.9</td>\n    </tr>\n    <tr>\n      <th>3650</th>\n      <td>2020-07-29</td>\n      <td>21.6</td>\n    </tr>\n    <tr>\n      <th>3651</th>\n      <td>2020-07-30</td>\n      <td>22.9</td>\n    </tr>\n    <tr>\n      <th>3652</th>\n      <td>2020-07-31</td>\n      <td>25.7</td>\n    </tr>\n  </tbody>\n</table>\n<p>3653 rows × 2 columns</p>\n</div>"
     },
     "execution_count": 6,
     "metadata": {},
     "output_type": "execute_result"
    }
   ],
   "source": [
    "# 여러 컬럼 선택하기 : loc\n",
    "\n",
    "# 열 이름을 사용하여 열을 선택하려는 경우 loc를 사용\n",
    "# df.loc[행 인덱싱 값, 열 인덱싱 값]\n",
    "df.loc[:, ['date', 'temp']]"
   ],
   "metadata": {
    "collapsed": false,
    "ExecuteTime": {
     "end_time": "2024-03-12T05:47:17.773322Z",
     "start_time": "2024-03-12T05:47:17.770397Z"
    }
   },
   "id": "73b3816a2b24db0f",
   "execution_count": 6
  },
  {
   "cell_type": "code",
   "outputs": [
    {
     "data": {
      "text/plain": "            date  temp\n0     2010-08-01  28.7\n1     2010-08-02  25.2\n2     2010-08-03  22.1\n3     2010-08-04  25.3\n4     2010-08-05  27.2\n...          ...   ...\n3648  2020-07-27  22.1\n3649  2020-07-28  21.9\n3650  2020-07-29  21.6\n3651  2020-07-30  22.9\n3652  2020-07-31  25.7\n\n[3653 rows x 2 columns]",
      "text/html": "<div>\n<style scoped>\n    .dataframe tbody tr th:only-of-type {\n        vertical-align: middle;\n    }\n\n    .dataframe tbody tr th {\n        vertical-align: top;\n    }\n\n    .dataframe thead th {\n        text-align: right;\n    }\n</style>\n<table border=\"1\" class=\"dataframe\">\n  <thead>\n    <tr style=\"text-align: right;\">\n      <th></th>\n      <th>date</th>\n      <th>temp</th>\n    </tr>\n  </thead>\n  <tbody>\n    <tr>\n      <th>0</th>\n      <td>2010-08-01</td>\n      <td>28.7</td>\n    </tr>\n    <tr>\n      <th>1</th>\n      <td>2010-08-02</td>\n      <td>25.2</td>\n    </tr>\n    <tr>\n      <th>2</th>\n      <td>2010-08-03</td>\n      <td>22.1</td>\n    </tr>\n    <tr>\n      <th>3</th>\n      <td>2010-08-04</td>\n      <td>25.3</td>\n    </tr>\n    <tr>\n      <th>4</th>\n      <td>2010-08-05</td>\n      <td>27.2</td>\n    </tr>\n    <tr>\n      <th>...</th>\n      <td>...</td>\n      <td>...</td>\n    </tr>\n    <tr>\n      <th>3648</th>\n      <td>2020-07-27</td>\n      <td>22.1</td>\n    </tr>\n    <tr>\n      <th>3649</th>\n      <td>2020-07-28</td>\n      <td>21.9</td>\n    </tr>\n    <tr>\n      <th>3650</th>\n      <td>2020-07-29</td>\n      <td>21.6</td>\n    </tr>\n    <tr>\n      <th>3651</th>\n      <td>2020-07-30</td>\n      <td>22.9</td>\n    </tr>\n    <tr>\n      <th>3652</th>\n      <td>2020-07-31</td>\n      <td>25.7</td>\n    </tr>\n  </tbody>\n</table>\n<p>3653 rows × 2 columns</p>\n</div>"
     },
     "execution_count": 7,
     "metadata": {},
     "output_type": "execute_result"
    }
   ],
   "source": [
    "# 여러 컬럼 선택하기 : iloc\n",
    "\n",
    "# 열 인덱스를 사용하여 추출\n",
    "# df.iloc[행 인덱스, 열 인덱스]\n",
    "df.iloc[:, [0, 1]]"
   ],
   "metadata": {
    "collapsed": false,
    "ExecuteTime": {
     "end_time": "2024-03-12T05:48:48.872857Z",
     "start_time": "2024-03-12T05:48:48.864603Z"
    }
   },
   "id": "5fbdbb7650cedc3",
   "execution_count": 7
  },
  {
   "cell_type": "raw",
   "source": [
    "2) 행 선택하기"
   ],
   "metadata": {
    "collapsed": false
   },
   "id": "1a6086f2edca4447"
  },
  {
   "cell_type": "code",
   "outputs": [
    {
     "data": {
      "text/plain": "         date  temp  max_wind  mean_wind\n0  2010-08-01  28.7       8.3        3.4\n1  2010-08-02  25.2       8.7        3.8\n2  2010-08-03  22.1       6.3        2.9",
      "text/html": "<div>\n<style scoped>\n    .dataframe tbody tr th:only-of-type {\n        vertical-align: middle;\n    }\n\n    .dataframe tbody tr th {\n        vertical-align: top;\n    }\n\n    .dataframe thead th {\n        text-align: right;\n    }\n</style>\n<table border=\"1\" class=\"dataframe\">\n  <thead>\n    <tr style=\"text-align: right;\">\n      <th></th>\n      <th>date</th>\n      <th>temp</th>\n      <th>max_wind</th>\n      <th>mean_wind</th>\n    </tr>\n  </thead>\n  <tbody>\n    <tr>\n      <th>0</th>\n      <td>2010-08-01</td>\n      <td>28.7</td>\n      <td>8.3</td>\n      <td>3.4</td>\n    </tr>\n    <tr>\n      <th>1</th>\n      <td>2010-08-02</td>\n      <td>25.2</td>\n      <td>8.7</td>\n      <td>3.8</td>\n    </tr>\n    <tr>\n      <th>2</th>\n      <td>2010-08-03</td>\n      <td>22.1</td>\n      <td>6.3</td>\n      <td>2.9</td>\n    </tr>\n  </tbody>\n</table>\n</div>"
     },
     "execution_count": 8,
     "metadata": {},
     "output_type": "execute_result"
    }
   ],
   "source": [
    "# 특정 행 범위 선택하기\n",
    "# 인덱스 숫자를 사용하면 행을 슬라이싱할 수 있음.\n",
    "df[0:3]"
   ],
   "metadata": {
    "collapsed": false,
    "ExecuteTime": {
     "end_time": "2024-03-12T05:50:46.737569Z",
     "start_time": "2024-03-12T05:50:46.733227Z"
    }
   },
   "id": "cba679fc3239912a",
   "execution_count": 8
  },
  {
   "cell_type": "raw",
   "source": [
    "3) 레이블로 선택하기 df.loc"
   ],
   "metadata": {
    "collapsed": false
   },
   "id": "81e4559c72fda9a1"
  },
  {
   "cell_type": "code",
   "outputs": [
    {
     "data": {
      "text/plain": "                  date  temp  max_wind  mean_wind\ndate                                             \n2010-08-01  2010-08-01  28.7       8.3        3.4\n2010-08-02  2010-08-02  25.2       8.7        3.8\n2010-08-03  2010-08-03  22.1       6.3        2.9\n2010-08-04  2010-08-04  25.3       6.6        4.2\n2010-08-05  2010-08-05  27.2       9.1        5.6\n...                ...   ...       ...        ...\n2020-07-27  2020-07-27  22.1       4.2        1.7\n2020-07-28  2020-07-28  21.9       4.5        1.6\n2020-07-29  2020-07-29  21.6       3.2        1.0\n2020-07-30  2020-07-30  22.9       9.7        2.4\n2020-07-31  2020-07-31  25.7       4.8        2.5\n\n[3653 rows x 4 columns]",
      "text/html": "<div>\n<style scoped>\n    .dataframe tbody tr th:only-of-type {\n        vertical-align: middle;\n    }\n\n    .dataframe tbody tr th {\n        vertical-align: top;\n    }\n\n    .dataframe thead th {\n        text-align: right;\n    }\n</style>\n<table border=\"1\" class=\"dataframe\">\n  <thead>\n    <tr style=\"text-align: right;\">\n      <th></th>\n      <th>date</th>\n      <th>temp</th>\n      <th>max_wind</th>\n      <th>mean_wind</th>\n    </tr>\n    <tr>\n      <th>date</th>\n      <th></th>\n      <th></th>\n      <th></th>\n      <th></th>\n    </tr>\n  </thead>\n  <tbody>\n    <tr>\n      <th>2010-08-01</th>\n      <td>2010-08-01</td>\n      <td>28.7</td>\n      <td>8.3</td>\n      <td>3.4</td>\n    </tr>\n    <tr>\n      <th>2010-08-02</th>\n      <td>2010-08-02</td>\n      <td>25.2</td>\n      <td>8.7</td>\n      <td>3.8</td>\n    </tr>\n    <tr>\n      <th>2010-08-03</th>\n      <td>2010-08-03</td>\n      <td>22.1</td>\n      <td>6.3</td>\n      <td>2.9</td>\n    </tr>\n    <tr>\n      <th>2010-08-04</th>\n      <td>2010-08-04</td>\n      <td>25.3</td>\n      <td>6.6</td>\n      <td>4.2</td>\n    </tr>\n    <tr>\n      <th>2010-08-05</th>\n      <td>2010-08-05</td>\n      <td>27.2</td>\n      <td>9.1</td>\n      <td>5.6</td>\n    </tr>\n    <tr>\n      <th>...</th>\n      <td>...</td>\n      <td>...</td>\n      <td>...</td>\n      <td>...</td>\n    </tr>\n    <tr>\n      <th>2020-07-27</th>\n      <td>2020-07-27</td>\n      <td>22.1</td>\n      <td>4.2</td>\n      <td>1.7</td>\n    </tr>\n    <tr>\n      <th>2020-07-28</th>\n      <td>2020-07-28</td>\n      <td>21.9</td>\n      <td>4.5</td>\n      <td>1.6</td>\n    </tr>\n    <tr>\n      <th>2020-07-29</th>\n      <td>2020-07-29</td>\n      <td>21.6</td>\n      <td>3.2</td>\n      <td>1.0</td>\n    </tr>\n    <tr>\n      <th>2020-07-30</th>\n      <td>2020-07-30</td>\n      <td>22.9</td>\n      <td>9.7</td>\n      <td>2.4</td>\n    </tr>\n    <tr>\n      <th>2020-07-31</th>\n      <td>2020-07-31</td>\n      <td>25.7</td>\n      <td>4.8</td>\n      <td>2.5</td>\n    </tr>\n  </tbody>\n</table>\n<p>3653 rows × 4 columns</p>\n</div>"
     },
     "execution_count": 9,
     "metadata": {},
     "output_type": "execute_result"
    }
   ],
   "source": [
    "# 특정 날짜에 해당하는 열 선택\n",
    "df.index = df['date'] # 인덱스 값으로 df['date']을 설정\n",
    "df"
   ],
   "metadata": {
    "collapsed": false,
    "ExecuteTime": {
     "end_time": "2024-03-12T06:17:05.489106Z",
     "start_time": "2024-03-12T06:17:05.483141Z"
    }
   },
   "id": "34cdbb38a431c6fc",
   "execution_count": 9
  },
  {
   "cell_type": "code",
   "outputs": [
    {
     "data": {
      "text/plain": "temp         28.7\nmean_wind     3.4\nName: 2010-08-01, dtype: object"
     },
     "execution_count": 10,
     "metadata": {},
     "output_type": "execute_result"
    }
   ],
   "source": [
    "df.loc['2010-08-01', ['temp', 'mean_wind']]"
   ],
   "metadata": {
    "collapsed": false,
    "ExecuteTime": {
     "end_time": "2024-03-12T06:17:58.076264Z",
     "start_time": "2024-03-12T06:17:58.071217Z"
    }
   },
   "id": "61fab5f03a59a7ac",
   "execution_count": 10
  },
  {
   "cell_type": "raw",
   "source": [
    "# 4) 위치로 선택하기 df.iloc"
   ],
   "metadata": {
    "collapsed": false
   },
   "id": "18a998df4395ed49"
  },
  {
   "cell_type": "code",
   "outputs": [
    {
     "data": {
      "text/plain": "date         2010-08-04\ntemp               25.3\nmax_wind            6.6\nmean_wind           4.2\nName: 2010-08-04, dtype: object"
     },
     "execution_count": 12,
     "metadata": {},
     "output_type": "execute_result"
    }
   ],
   "source": [
    "# iloc[n]과 같이 정수를 입력하면 해당 행을 선택. iloc 이후에 붙은 숫자 3은 (위에서 0부터 시작) 4번째 행이라는 뜻.\n",
    "\n",
    "# 특정 행 선택\n",
    "df.iloc[3]"
   ],
   "metadata": {
    "collapsed": false,
    "ExecuteTime": {
     "end_time": "2024-03-12T06:19:41.196745Z",
     "start_time": "2024-03-12T06:19:41.193545Z"
    }
   },
   "id": "6343e1c94850a7",
   "execution_count": 12
  },
  {
   "cell_type": "code",
   "outputs": [
    {
     "data": {
      "text/plain": "                  date  temp\ndate                        \n2010-08-02  2010-08-02  25.2\n2010-08-03  2010-08-03  22.1",
      "text/html": "<div>\n<style scoped>\n    .dataframe tbody tr th:only-of-type {\n        vertical-align: middle;\n    }\n\n    .dataframe tbody tr th {\n        vertical-align: top;\n    }\n\n    .dataframe thead th {\n        text-align: right;\n    }\n</style>\n<table border=\"1\" class=\"dataframe\">\n  <thead>\n    <tr style=\"text-align: right;\">\n      <th></th>\n      <th>date</th>\n      <th>temp</th>\n    </tr>\n    <tr>\n      <th>date</th>\n      <th></th>\n      <th></th>\n    </tr>\n  </thead>\n  <tbody>\n    <tr>\n      <th>2010-08-02</th>\n      <td>2010-08-02</td>\n      <td>25.2</td>\n    </tr>\n    <tr>\n      <th>2010-08-03</th>\n      <td>2010-08-03</td>\n      <td>22.1</td>\n    </tr>\n  </tbody>\n</table>\n</div>"
     },
     "execution_count": 13,
     "metadata": {},
     "output_type": "execute_result"
    }
   ],
   "source": [
    "# 특정 행과 열 선택 : 슬라이싱\n",
    "df.iloc[1:3, 0:2]"
   ],
   "metadata": {
    "collapsed": false,
    "ExecuteTime": {
     "end_time": "2024-03-12T06:20:44.690855Z",
     "start_time": "2024-03-12T06:20:44.685266Z"
    }
   },
   "id": "36c4a07efbfbc518",
   "execution_count": 13
  },
  {
   "cell_type": "raw",
   "source": [
    "5) 불 인덱싱"
   ],
   "metadata": {
    "collapsed": false
   },
   "id": "9523b2a60a425202"
  },
  {
   "cell_type": "code",
   "outputs": [
    {
     "data": {
      "text/plain": "date\n2010-08-01    False\n2010-08-02    False\n2010-08-03    False\n2010-08-04    False\n2010-08-05    False\n              ...  \n2020-07-27    False\n2020-07-28    False\n2020-07-29    False\n2020-07-30    False\n2020-07-31    False\nName: temp, Length: 3653, dtype: bool"
     },
     "execution_count": 19,
     "metadata": {},
     "output_type": "execute_result"
    }
   ],
   "source": [
    "# 하나의 열의 값을 기준으로 데이터를 선택할 수 있음.\n",
    "# df[df.A > 0]은 df로 부터 A열이 0보다 큰 데이터를 보여줌.\n",
    "\n",
    "# 조건에 맞는 데이터를 추출 (True)\n",
    "w = df['temp'] > 30\n",
    "w"
   ],
   "metadata": {
    "collapsed": false,
    "ExecuteTime": {
     "end_time": "2024-03-12T06:27:12.764970Z",
     "start_time": "2024-03-12T06:27:12.756864Z"
    }
   },
   "id": "235ae4a19581cd8e",
   "execution_count": 19
  },
  {
   "cell_type": "code",
   "outputs": [
    {
     "data": {
      "text/plain": "                  date  temp  max_wind  mean_wind\ndate                                             \n2013-08-08  2013-08-08  31.3       7.8        4.6\n2013-08-09  2013-08-09  30.6       9.9        6.4\n2013-08-10  2013-08-10  30.6       7.4        3.8\n2018-07-23  2018-07-23  30.5       6.5        1.6\n2018-08-04  2018-08-04  30.3       5.8        3.0",
      "text/html": "<div>\n<style scoped>\n    .dataframe tbody tr th:only-of-type {\n        vertical-align: middle;\n    }\n\n    .dataframe tbody tr th {\n        vertical-align: top;\n    }\n\n    .dataframe thead th {\n        text-align: right;\n    }\n</style>\n<table border=\"1\" class=\"dataframe\">\n  <thead>\n    <tr style=\"text-align: right;\">\n      <th></th>\n      <th>date</th>\n      <th>temp</th>\n      <th>max_wind</th>\n      <th>mean_wind</th>\n    </tr>\n    <tr>\n      <th>date</th>\n      <th></th>\n      <th></th>\n      <th></th>\n      <th></th>\n    </tr>\n  </thead>\n  <tbody>\n    <tr>\n      <th>2013-08-08</th>\n      <td>2013-08-08</td>\n      <td>31.3</td>\n      <td>7.8</td>\n      <td>4.6</td>\n    </tr>\n    <tr>\n      <th>2013-08-09</th>\n      <td>2013-08-09</td>\n      <td>30.6</td>\n      <td>9.9</td>\n      <td>6.4</td>\n    </tr>\n    <tr>\n      <th>2013-08-10</th>\n      <td>2013-08-10</td>\n      <td>30.6</td>\n      <td>7.4</td>\n      <td>3.8</td>\n    </tr>\n    <tr>\n      <th>2018-07-23</th>\n      <td>2018-07-23</td>\n      <td>30.5</td>\n      <td>6.5</td>\n      <td>1.6</td>\n    </tr>\n    <tr>\n      <th>2018-08-04</th>\n      <td>2018-08-04</td>\n      <td>30.3</td>\n      <td>5.8</td>\n      <td>3.0</td>\n    </tr>\n  </tbody>\n</table>\n</div>"
     },
     "execution_count": 20,
     "metadata": {},
     "output_type": "execute_result"
    }
   ],
   "source": [
    "df[w]"
   ],
   "metadata": {
    "collapsed": false,
    "ExecuteTime": {
     "end_time": "2024-03-12T06:27:16.021633Z",
     "start_time": "2024-03-12T06:27:16.009179Z"
    }
   },
   "id": "15102dcbb3e23057",
   "execution_count": 20
  },
  {
   "cell_type": "code",
   "outputs": [
    {
     "data": {
      "text/plain": "                  date  temp  max_wind  mean_wind\ndate                                             \n2013-08-08  2013-08-08  31.3       7.8        4.6\n2013-08-09  2013-08-09  30.6       9.9        6.4\n2013-08-10  2013-08-10  30.6       7.4        3.8\n2018-07-23  2018-07-23  30.5       6.5        1.6\n2018-08-04  2018-08-04  30.3       5.8        3.0",
      "text/html": "<div>\n<style scoped>\n    .dataframe tbody tr th:only-of-type {\n        vertical-align: middle;\n    }\n\n    .dataframe tbody tr th {\n        vertical-align: top;\n    }\n\n    .dataframe thead th {\n        text-align: right;\n    }\n</style>\n<table border=\"1\" class=\"dataframe\">\n  <thead>\n    <tr style=\"text-align: right;\">\n      <th></th>\n      <th>date</th>\n      <th>temp</th>\n      <th>max_wind</th>\n      <th>mean_wind</th>\n    </tr>\n    <tr>\n      <th>date</th>\n      <th></th>\n      <th></th>\n      <th></th>\n      <th></th>\n    </tr>\n  </thead>\n  <tbody>\n    <tr>\n      <th>2013-08-08</th>\n      <td>2013-08-08</td>\n      <td>31.3</td>\n      <td>7.8</td>\n      <td>4.6</td>\n    </tr>\n    <tr>\n      <th>2013-08-09</th>\n      <td>2013-08-09</td>\n      <td>30.6</td>\n      <td>9.9</td>\n      <td>6.4</td>\n    </tr>\n    <tr>\n      <th>2013-08-10</th>\n      <td>2013-08-10</td>\n      <td>30.6</td>\n      <td>7.4</td>\n      <td>3.8</td>\n    </tr>\n    <tr>\n      <th>2018-07-23</th>\n      <td>2018-07-23</td>\n      <td>30.5</td>\n      <td>6.5</td>\n      <td>1.6</td>\n    </tr>\n    <tr>\n      <th>2018-08-04</th>\n      <td>2018-08-04</td>\n      <td>30.3</td>\n      <td>5.8</td>\n      <td>3.0</td>\n    </tr>\n  </tbody>\n</table>\n</div>"
     },
     "execution_count": 18,
     "metadata": {},
     "output_type": "execute_result"
    }
   ],
   "source": [
    "# 기온 temp이 30도 이상인 모든 데이터를 추출. 넘파이의 불 인덱싱과 동일한 문법\n",
    "df[df['temp'] > 30]"
   ],
   "metadata": {
    "collapsed": false,
    "ExecuteTime": {
     "end_time": "2024-03-12T06:26:40.609593Z",
     "start_time": "2024-03-12T06:26:40.604292Z"
    }
   },
   "id": "d797c379fccd4726",
   "execution_count": 18
  },
  {
   "cell_type": "code",
   "outputs": [
    {
     "data": {
      "text/plain": "                  date  temp  max_wind  mean_wind\ndate                                             \n2013-08-08  2013-08-08  31.3       7.8        4.6",
      "text/html": "<div>\n<style scoped>\n    .dataframe tbody tr th:only-of-type {\n        vertical-align: middle;\n    }\n\n    .dataframe tbody tr th {\n        vertical-align: top;\n    }\n\n    .dataframe thead th {\n        text-align: right;\n    }\n</style>\n<table border=\"1\" class=\"dataframe\">\n  <thead>\n    <tr style=\"text-align: right;\">\n      <th></th>\n      <th>date</th>\n      <th>temp</th>\n      <th>max_wind</th>\n      <th>mean_wind</th>\n    </tr>\n    <tr>\n      <th>date</th>\n      <th></th>\n      <th></th>\n      <th></th>\n      <th></th>\n    </tr>\n  </thead>\n  <tbody>\n    <tr>\n      <th>2013-08-08</th>\n      <td>2013-08-08</td>\n      <td>31.3</td>\n      <td>7.8</td>\n      <td>4.6</td>\n    </tr>\n  </tbody>\n</table>\n</div>"
     },
     "execution_count": 23,
     "metadata": {},
     "output_type": "execute_result"
    }
   ],
   "source": [
    "# 최고로 더웠던 날의 모든 정보를 추출\n",
    "w = df['temp'] == df['temp'].max()\n",
    "df[w]"
   ],
   "metadata": {
    "collapsed": false,
    "ExecuteTime": {
     "end_time": "2024-03-12T06:28:45.451372Z",
     "start_time": "2024-03-12T06:28:45.446858Z"
    }
   },
   "id": "c0dc89d186aaa126",
   "execution_count": 23
  },
  {
   "cell_type": "code",
   "outputs": [
    {
     "data": {
      "text/plain": "                  date  temp  max_wind  mean_wind\ndate                                             \n2013-08-08  2013-08-08  31.3       7.8        4.6",
      "text/html": "<div>\n<style scoped>\n    .dataframe tbody tr th:only-of-type {\n        vertical-align: middle;\n    }\n\n    .dataframe tbody tr th {\n        vertical-align: top;\n    }\n\n    .dataframe thead th {\n        text-align: right;\n    }\n</style>\n<table border=\"1\" class=\"dataframe\">\n  <thead>\n    <tr style=\"text-align: right;\">\n      <th></th>\n      <th>date</th>\n      <th>temp</th>\n      <th>max_wind</th>\n      <th>mean_wind</th>\n    </tr>\n    <tr>\n      <th>date</th>\n      <th></th>\n      <th></th>\n      <th></th>\n      <th></th>\n    </tr>\n  </thead>\n  <tbody>\n    <tr>\n      <th>2013-08-08</th>\n      <td>2013-08-08</td>\n      <td>31.3</td>\n      <td>7.8</td>\n      <td>4.6</td>\n    </tr>\n  </tbody>\n</table>\n</div>"
     },
     "execution_count": 24,
     "metadata": {},
     "output_type": "execute_result"
    }
   ],
   "source": [
    "df[df['temp'] == df['temp'].max()]"
   ],
   "metadata": {
    "collapsed": false,
    "ExecuteTime": {
     "end_time": "2024-03-12T06:28:58.655064Z",
     "start_time": "2024-03-12T06:28:58.649670Z"
    }
   },
   "id": "3b7232138aefe6fa",
   "execution_count": 24
  },
  {
   "cell_type": "code",
   "outputs": [
    {
     "data": {
      "text/plain": "                  date  temp  max_wind  mean_wind\ndate                                             \n2013-08-09  2013-08-09  30.6       9.9        6.4",
      "text/html": "<div>\n<style scoped>\n    .dataframe tbody tr th:only-of-type {\n        vertical-align: middle;\n    }\n\n    .dataframe tbody tr th {\n        vertical-align: top;\n    }\n\n    .dataframe thead th {\n        text-align: right;\n    }\n</style>\n<table border=\"1\" class=\"dataframe\">\n  <thead>\n    <tr style=\"text-align: right;\">\n      <th></th>\n      <th>date</th>\n      <th>temp</th>\n      <th>max_wind</th>\n      <th>mean_wind</th>\n    </tr>\n    <tr>\n      <th>date</th>\n      <th></th>\n      <th></th>\n      <th></th>\n      <th></th>\n    </tr>\n  </thead>\n  <tbody>\n    <tr>\n      <th>2013-08-09</th>\n      <td>2013-08-09</td>\n      <td>30.6</td>\n      <td>9.9</td>\n      <td>6.4</td>\n    </tr>\n  </tbody>\n</table>\n</div>"
     },
     "execution_count": 25,
     "metadata": {},
     "output_type": "execute_result"
    }
   ],
   "source": [
    "# 조건이 2개 이상인 경우\n",
    "# 기온이 30도 이상이고, 최대 풍속이 9이상인 데이터\n",
    "w = (df['temp'] >= 30) & (df['max_wind'] >= 9)\n",
    "df[w]"
   ],
   "metadata": {
    "collapsed": false,
    "ExecuteTime": {
     "end_time": "2024-03-12T06:30:50.831695Z",
     "start_time": "2024-03-12T06:30:50.821336Z"
    }
   },
   "id": "f5efa1e635698895",
   "execution_count": 25
  }
 ],
 "metadata": {
  "kernelspec": {
   "display_name": "Python 3",
   "language": "python",
   "name": "python3"
  },
  "language_info": {
   "codemirror_mode": {
    "name": "ipython",
    "version": 2
   },
   "file_extension": ".py",
   "mimetype": "text/x-python",
   "name": "python",
   "nbconvert_exporter": "python",
   "pygments_lexer": "ipython2",
   "version": "2.7.6"
  }
 },
 "nbformat": 4,
 "nbformat_minor": 5
}
