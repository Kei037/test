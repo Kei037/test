{
 "cells": [
  {
   "cell_type": "markdown",
   "source": [
    "05. 데이터 파일을 읽고 쓰기."
   ],
   "metadata": {
    "collapsed": false
   },
   "id": "52d5bf3376068256"
  },
  {
   "cell_type": "code",
   "outputs": [],
   "source": [
    "import pandas as pd"
   ],
   "metadata": {
    "collapsed": false,
    "ExecuteTime": {
     "end_time": "2024-03-12T02:26:55.974264Z",
     "start_time": "2024-03-12T02:26:55.971701Z"
    }
   },
   "id": "374a422e68d82e88",
   "execution_count": 5
  },
  {
   "cell_type": "markdown",
   "source": [
    "1) 표 형식의 데이터 파일을 읽기"
   ],
   "metadata": {
    "collapsed": false
   },
   "id": "8b768fd8cbcf8631"
  },
  {
   "cell_type": "code",
   "outputs": [],
   "source": [
    "# 판다스에서 csv파일을 읽을 때는 read_csv() 메서드 이용.\n",
    "# DataFrame_data = pd.read_csv(file_name [, options])"
   ],
   "metadata": {
    "collapsed": false,
    "ExecuteTime": {
     "end_time": "2024-03-12T02:26:55.983073Z",
     "start_time": "2024-03-12T02:26:55.977224Z"
    }
   },
   "id": "f722d1e9ad19ad8d",
   "execution_count": 6
  },
  {
   "cell_type": "code",
   "outputs": [
    {
     "data": {
      "text/plain": "     연도       동해       남해       서해       전체\n0  1996  17.4629  17.2288  14.4360  15.9067\n1  1997  17.4116  17.4092  14.8248  16.1526\n2  1998  17.5944  18.0110  15.2512  16.6044\n3  1999  18.1495  18.3175  14.8979  16.6284\n4  2000  17.9288  18.1766  15.0504  16.6178",
      "text/html": "<div>\n<style scoped>\n    .dataframe tbody tr th:only-of-type {\n        vertical-align: middle;\n    }\n\n    .dataframe tbody tr th {\n        vertical-align: top;\n    }\n\n    .dataframe thead th {\n        text-align: right;\n    }\n</style>\n<table border=\"1\" class=\"dataframe\">\n  <thead>\n    <tr style=\"text-align: right;\">\n      <th></th>\n      <th>연도</th>\n      <th>동해</th>\n      <th>남해</th>\n      <th>서해</th>\n      <th>전체</th>\n    </tr>\n  </thead>\n  <tbody>\n    <tr>\n      <th>0</th>\n      <td>1996</td>\n      <td>17.4629</td>\n      <td>17.2288</td>\n      <td>14.4360</td>\n      <td>15.9067</td>\n    </tr>\n    <tr>\n      <th>1</th>\n      <td>1997</td>\n      <td>17.4116</td>\n      <td>17.4092</td>\n      <td>14.8248</td>\n      <td>16.1526</td>\n    </tr>\n    <tr>\n      <th>2</th>\n      <td>1998</td>\n      <td>17.5944</td>\n      <td>18.0110</td>\n      <td>15.2512</td>\n      <td>16.6044</td>\n    </tr>\n    <tr>\n      <th>3</th>\n      <td>1999</td>\n      <td>18.1495</td>\n      <td>18.3175</td>\n      <td>14.8979</td>\n      <td>16.6284</td>\n    </tr>\n    <tr>\n      <th>4</th>\n      <td>2000</td>\n      <td>17.9288</td>\n      <td>18.1766</td>\n      <td>15.0504</td>\n      <td>16.6178</td>\n    </tr>\n  </tbody>\n</table>\n</div>"
     },
     "execution_count": 7,
     "metadata": {},
     "output_type": "execute_result"
    }
   ],
   "source": [
    "pd.read_csv('./input/sea_rain1.csv')"
   ],
   "metadata": {
    "collapsed": false,
    "ExecuteTime": {
     "end_time": "2024-03-12T02:26:55.987676Z",
     "start_time": "2024-03-12T02:26:55.984316Z"
    }
   },
   "id": "9f3adf71ffe72075",
   "execution_count": 7
  },
  {
   "cell_type": "code",
   "outputs": [
    {
     "data": {
      "text/plain": "     연도       동해       남해       서해       전체\n0  1996  17.4629  17.2288  14.4360  15.9067\n1  1997  17.4116  17.4092  14.8248  16.1526\n2  1998  17.5944  18.0110  15.2512  16.6044\n3  1999  18.1495  18.3175  14.8979  16.6284\n4  2000  17.9288  18.1766  15.0504  16.6178",
      "text/html": "<div>\n<style scoped>\n    .dataframe tbody tr th:only-of-type {\n        vertical-align: middle;\n    }\n\n    .dataframe tbody tr th {\n        vertical-align: top;\n    }\n\n    .dataframe thead th {\n        text-align: right;\n    }\n</style>\n<table border=\"1\" class=\"dataframe\">\n  <thead>\n    <tr style=\"text-align: right;\">\n      <th></th>\n      <th>연도</th>\n      <th>동해</th>\n      <th>남해</th>\n      <th>서해</th>\n      <th>전체</th>\n    </tr>\n  </thead>\n  <tbody>\n    <tr>\n      <th>0</th>\n      <td>1996</td>\n      <td>17.4629</td>\n      <td>17.2288</td>\n      <td>14.4360</td>\n      <td>15.9067</td>\n    </tr>\n    <tr>\n      <th>1</th>\n      <td>1997</td>\n      <td>17.4116</td>\n      <td>17.4092</td>\n      <td>14.8248</td>\n      <td>16.1526</td>\n    </tr>\n    <tr>\n      <th>2</th>\n      <td>1998</td>\n      <td>17.5944</td>\n      <td>18.0110</td>\n      <td>15.2512</td>\n      <td>16.6044</td>\n    </tr>\n    <tr>\n      <th>3</th>\n      <td>1999</td>\n      <td>18.1495</td>\n      <td>18.3175</td>\n      <td>14.8979</td>\n      <td>16.6284</td>\n    </tr>\n    <tr>\n      <th>4</th>\n      <td>2000</td>\n      <td>17.9288</td>\n      <td>18.1766</td>\n      <td>15.0504</td>\n      <td>16.6178</td>\n    </tr>\n  </tbody>\n</table>\n</div>"
     },
     "execution_count": 9,
     "metadata": {},
     "output_type": "execute_result"
    }
   ],
   "source": [
    "df1 = pd.read_csv('./input/sea_rain1.csv')\n",
    "df1"
   ],
   "metadata": {
    "collapsed": false,
    "ExecuteTime": {
     "end_time": "2024-03-12T02:27:01.408387Z",
     "start_time": "2024-03-12T02:27:01.399422Z"
    }
   },
   "id": "38fd352e68b76ad5",
   "execution_count": 9
  },
  {
   "cell_type": "code",
   "outputs": [
    {
     "data": {
      "text/plain": "연도      int64\n동해    float64\n남해    float64\n서해    float64\n전체    float64\ndtype: object"
     },
     "execution_count": 10,
     "metadata": {},
     "output_type": "execute_result"
    }
   ],
   "source": [
    "df1.dtypes"
   ],
   "metadata": {
    "collapsed": false,
    "ExecuteTime": {
     "end_time": "2024-03-12T02:28:32.237924Z",
     "start_time": "2024-03-12T02:28:32.234014Z"
    }
   },
   "id": "6be689d22a2263fc",
   "execution_count": 10
  },
  {
   "cell_type": "code",
   "outputs": [
    {
     "data": {
      "text/plain": "     연도       동해       남해       서해       전체\n0  1996  17.4629  17.2288  14.4360  15.9067\n1  1997  17.4116  17.4092  14.8248  16.1526\n2  1998  17.5944  18.0110  15.2512  16.6044\n3  1999  18.1495  18.3175  14.8979  16.6284\n4  2000  17.9288  18.1766  15.0504  16.6178",
      "text/html": "<div>\n<style scoped>\n    .dataframe tbody tr th:only-of-type {\n        vertical-align: middle;\n    }\n\n    .dataframe tbody tr th {\n        vertical-align: top;\n    }\n\n    .dataframe thead th {\n        text-align: right;\n    }\n</style>\n<table border=\"1\" class=\"dataframe\">\n  <thead>\n    <tr style=\"text-align: right;\">\n      <th></th>\n      <th>연도</th>\n      <th>동해</th>\n      <th>남해</th>\n      <th>서해</th>\n      <th>전체</th>\n    </tr>\n  </thead>\n  <tbody>\n    <tr>\n      <th>0</th>\n      <td>1996</td>\n      <td>17.4629</td>\n      <td>17.2288</td>\n      <td>14.4360</td>\n      <td>15.9067</td>\n    </tr>\n    <tr>\n      <th>1</th>\n      <td>1997</td>\n      <td>17.4116</td>\n      <td>17.4092</td>\n      <td>14.8248</td>\n      <td>16.1526</td>\n    </tr>\n    <tr>\n      <th>2</th>\n      <td>1998</td>\n      <td>17.5944</td>\n      <td>18.0110</td>\n      <td>15.2512</td>\n      <td>16.6044</td>\n    </tr>\n    <tr>\n      <th>3</th>\n      <td>1999</td>\n      <td>18.1495</td>\n      <td>18.3175</td>\n      <td>14.8979</td>\n      <td>16.6284</td>\n    </tr>\n    <tr>\n      <th>4</th>\n      <td>2000</td>\n      <td>17.9288</td>\n      <td>18.1766</td>\n      <td>15.0504</td>\n      <td>16.6178</td>\n    </tr>\n  </tbody>\n</table>\n</div>"
     },
     "execution_count": 12,
     "metadata": {},
     "output_type": "execute_result"
    }
   ],
   "source": [
    "pd.read_csv('./input/sea_rain1_from_notepad.csv', encoding='cp949')"
   ],
   "metadata": {
    "collapsed": false,
    "ExecuteTime": {
     "end_time": "2024-03-12T02:32:51.780977Z",
     "start_time": "2024-03-12T02:32:51.767650Z"
    }
   },
   "id": "a7468d2efc36ac28",
   "execution_count": 12
  },
  {
   "cell_type": "code",
   "outputs": [
    {
     "data": {
      "text/plain": "     연도       동해       남해       서해       전체\n0  1996  17.4629  17.2288  14.4360  15.9067\n1  1997  17.4116  17.4092  14.8248  16.1526\n2  1998  17.5944  18.0110  15.2512  16.6044\n3  1999  18.1495  18.3175  14.8979  16.6284\n4  2000  17.9288  18.1766  15.0504  16.6178",
      "text/html": "<div>\n<style scoped>\n    .dataframe tbody tr th:only-of-type {\n        vertical-align: middle;\n    }\n\n    .dataframe tbody tr th {\n        vertical-align: top;\n    }\n\n    .dataframe thead th {\n        text-align: right;\n    }\n</style>\n<table border=\"1\" class=\"dataframe\">\n  <thead>\n    <tr style=\"text-align: right;\">\n      <th></th>\n      <th>연도</th>\n      <th>동해</th>\n      <th>남해</th>\n      <th>서해</th>\n      <th>전체</th>\n    </tr>\n  </thead>\n  <tbody>\n    <tr>\n      <th>0</th>\n      <td>1996</td>\n      <td>17.4629</td>\n      <td>17.2288</td>\n      <td>14.4360</td>\n      <td>15.9067</td>\n    </tr>\n    <tr>\n      <th>1</th>\n      <td>1997</td>\n      <td>17.4116</td>\n      <td>17.4092</td>\n      <td>14.8248</td>\n      <td>16.1526</td>\n    </tr>\n    <tr>\n      <th>2</th>\n      <td>1998</td>\n      <td>17.5944</td>\n      <td>18.0110</td>\n      <td>15.2512</td>\n      <td>16.6044</td>\n    </tr>\n    <tr>\n      <th>3</th>\n      <td>1999</td>\n      <td>18.1495</td>\n      <td>18.3175</td>\n      <td>14.8979</td>\n      <td>16.6284</td>\n    </tr>\n    <tr>\n      <th>4</th>\n      <td>2000</td>\n      <td>17.9288</td>\n      <td>18.1766</td>\n      <td>15.0504</td>\n      <td>16.6178</td>\n    </tr>\n  </tbody>\n</table>\n</div>"
     },
     "execution_count": 14,
     "metadata": {},
     "output_type": "execute_result"
    }
   ],
   "source": [
    "# sea_rain1_space.txt 파일의 경우 콤마가 아니라 공백(빈칸)으로 구분된 경우.\n",
    "# sep 옵션을 이용해서 구분자가 콤마가 아니라 공백임을 지정.\n",
    "# 아래 처럼 확장자가 txt라도 read_csv()로 읽을 수 있음.\n",
    "pd.read_csv('./input/sea_rain1_space.txt', sep=' ')"
   ],
   "metadata": {
    "collapsed": false,
    "ExecuteTime": {
     "end_time": "2024-03-12T02:40:41.906550Z",
     "start_time": "2024-03-12T02:40:41.903222Z"
    }
   },
   "id": "65c627f6856d8d95",
   "execution_count": 14
  },
  {
   "cell_type": "code",
   "outputs": [
    {
     "data": {
      "text/plain": "           동해       남해       서해       전체\n연도                                      \n1996  17.4629  17.2288  14.4360  15.9067\n1997  17.4116  17.4092  14.8248  16.1526\n1998  17.5944  18.0110  15.2512  16.6044\n1999  18.1495  18.3175  14.8979  16.6284\n2000  17.9288  18.1766  15.0504  16.6178",
      "text/html": "<div>\n<style scoped>\n    .dataframe tbody tr th:only-of-type {\n        vertical-align: middle;\n    }\n\n    .dataframe tbody tr th {\n        vertical-align: top;\n    }\n\n    .dataframe thead th {\n        text-align: right;\n    }\n</style>\n<table border=\"1\" class=\"dataframe\">\n  <thead>\n    <tr style=\"text-align: right;\">\n      <th></th>\n      <th>동해</th>\n      <th>남해</th>\n      <th>서해</th>\n      <th>전체</th>\n    </tr>\n    <tr>\n      <th>연도</th>\n      <th></th>\n      <th></th>\n      <th></th>\n      <th></th>\n    </tr>\n  </thead>\n  <tbody>\n    <tr>\n      <th>1996</th>\n      <td>17.4629</td>\n      <td>17.2288</td>\n      <td>14.4360</td>\n      <td>15.9067</td>\n    </tr>\n    <tr>\n      <th>1997</th>\n      <td>17.4116</td>\n      <td>17.4092</td>\n      <td>14.8248</td>\n      <td>16.1526</td>\n    </tr>\n    <tr>\n      <th>1998</th>\n      <td>17.5944</td>\n      <td>18.0110</td>\n      <td>15.2512</td>\n      <td>16.6044</td>\n    </tr>\n    <tr>\n      <th>1999</th>\n      <td>18.1495</td>\n      <td>18.3175</td>\n      <td>14.8979</td>\n      <td>16.6284</td>\n    </tr>\n    <tr>\n      <th>2000</th>\n      <td>17.9288</td>\n      <td>18.1766</td>\n      <td>15.0504</td>\n      <td>16.6178</td>\n    </tr>\n  </tbody>\n</table>\n</div>"
     },
     "execution_count": 13,
     "metadata": {},
     "output_type": "execute_result"
    }
   ],
   "source": [
    "# read_csv() 로 텍스트 파일을 읽어오면 index가 자동으로 지정.\n",
    "# 이 때 자동으로 생성된 index 말고 데이터 파일에서 특정 열 column을 index로 선택하려면 'index_col=열 이름'을 추가.\n",
    "pd.read_csv('./input/sea_rain1.csv', index_col='연도')"
   ],
   "metadata": {
    "collapsed": false,
    "ExecuteTime": {
     "end_time": "2024-03-12T02:39:49.353829Z",
     "start_time": "2024-03-12T02:39:49.343126Z"
    }
   },
   "id": "79d67b2fbe6fc0f2",
   "execution_count": 13
  },
  {
   "cell_type": "code",
   "outputs": [],
   "source": [],
   "metadata": {
    "collapsed": false
   },
   "id": "6a90b8ba84b284cd"
  }
 ],
 "metadata": {
  "kernelspec": {
   "display_name": "Python 3",
   "language": "python",
   "name": "python3"
  },
  "language_info": {
   "codemirror_mode": {
    "name": "ipython",
    "version": 2
   },
   "file_extension": ".py",
   "mimetype": "text/x-python",
   "name": "python",
   "nbconvert_exporter": "python",
   "pygments_lexer": "ipython2",
   "version": "2.7.6"
  }
 },
 "nbformat": 4,
 "nbformat_minor": 5
}
