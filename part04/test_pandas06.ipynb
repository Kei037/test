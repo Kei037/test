{
 "cells": [
  {
   "cell_type": "markdown",
   "source": [
    "05. 데이터 파일을 읽고 쓰기\n",
    "\n",
    "2) 표 형식의 데이터를 파일로 쓰기."
   ],
   "metadata": {
    "collapsed": false
   },
   "id": "e4cece53afc35714"
  },
  {
   "cell_type": "code",
   "outputs": [],
   "source": [
    "import pandas as pd"
   ],
   "metadata": {
    "collapsed": false,
    "ExecuteTime": {
     "end_time": "2024-03-12T02:43:07.757604Z",
     "start_time": "2024-03-12T02:43:07.283719Z"
    }
   },
   "id": "cff189e00944a04a",
   "execution_count": 1
  },
  {
   "cell_type": "raw",
   "source": [
    "# to_csv()을 이용하면 DataFrame 형식의 데이터를 텍스트 파일로 저장.\n",
    "# DataFrame_data.to_csv(file_name [. options])\n",
    "# file_name은 텍스트 파일 이름으로 경로를 포함할 수 있음.\n",
    "# 선택사항인 options에는 구분자와 문자의 인코딩 방식 등으 지정할 수 있고, 지정하지 않으면 구분자는 콤마가 되고, 문자의 인코딩\n",
    "    방식은 'utf-8'이 됨."
   ],
   "metadata": {
    "collapsed": false
   },
   "id": "b2027881c7a418c2"
  }
 ],
 "metadata": {
  "kernelspec": {
   "display_name": "Python 3",
   "language": "python",
   "name": "python3"
  },
  "language_info": {
   "codemirror_mode": {
    "name": "ipython",
    "version": 2
   },
   "file_extension": ".py",
   "mimetype": "text/x-python",
   "name": "python",
   "nbconvert_exporter": "python",
   "pygments_lexer": "ipython2",
   "version": "2.7.6"
  }
 },
 "nbformat": 4,
 "nbformat_minor": 5
}
