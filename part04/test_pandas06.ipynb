{
 "cells": [
  {
   "cell_type": "markdown",
   "source": [
    "05. 데이터 파일을 읽고 쓰기\n",
    "\n",
    "2) 표 형식의 데이터를 파일로 쓰기."
   ],
   "metadata": {
    "collapsed": false
   },
   "id": "e4cece53afc35714"
  },
  {
   "cell_type": "code",
   "outputs": [],
   "source": [
    "import pandas as pd"
   ],
   "metadata": {
    "collapsed": false,
    "ExecuteTime": {
     "end_time": "2024-03-12T03:10:19.445427Z",
     "start_time": "2024-03-12T03:10:19.437764Z"
    }
   },
   "id": "cff189e00944a04a",
   "execution_count": 25
  },
  {
   "cell_type": "raw",
   "source": [
    "# to_csv()을 이용하면 DataFrame 형식의 데이터를 텍스트 파일로 저장.\n",
    "# DataFrame_data.to_csv(file_name [. options])\n",
    "# file_name은 텍스트 파일 이름으로 경로를 포함할 수 있음.\n",
    "# 선택사항인 options에는 구분자와 문자의 인코딩 방식 등으 지정할 수 있고, 지정하지 않으면 구분자는 콤마가 되고, 문자의 인코딩\n",
    "    방식은 'utf-8'이 됨."
   ],
   "metadata": {
    "collapsed": false
   },
   "id": "b2027881c7a418c2"
  },
  {
   "cell_type": "code",
   "outputs": [
    {
     "data": {
      "text/plain": "      Weight  Height\nID_1      62     165\nID_2      67     177\nID_3      55     160\nID_4      74     180",
      "text/html": "<div>\n<style scoped>\n    .dataframe tbody tr th:only-of-type {\n        vertical-align: middle;\n    }\n\n    .dataframe tbody tr th {\n        vertical-align: top;\n    }\n\n    .dataframe thead th {\n        text-align: right;\n    }\n</style>\n<table border=\"1\" class=\"dataframe\">\n  <thead>\n    <tr style=\"text-align: right;\">\n      <th></th>\n      <th>Weight</th>\n      <th>Height</th>\n    </tr>\n  </thead>\n  <tbody>\n    <tr>\n      <th>ID_1</th>\n      <td>62</td>\n      <td>165</td>\n    </tr>\n    <tr>\n      <th>ID_2</th>\n      <td>67</td>\n      <td>177</td>\n    </tr>\n    <tr>\n      <th>ID_3</th>\n      <td>55</td>\n      <td>160</td>\n    </tr>\n    <tr>\n      <th>ID_4</th>\n      <td>74</td>\n      <td>180</td>\n    </tr>\n  </tbody>\n</table>\n</div>"
     },
     "execution_count": 26,
     "metadata": {},
     "output_type": "execute_result"
    }
   ],
   "source": [
    "# 네 명의 몸무게 Weight와 키 Height 데이터를 DataFrame 형식으로 생성.\n",
    "df_WH = pd.DataFrame({'Weight': [62, 67, 55, 74],\n",
    "                      'Height': [165, 177, 160, 180]},\n",
    "                     index=['ID_1', 'ID_2', 'ID_3', 'ID_4'])\n",
    "df_WH"
   ],
   "metadata": {
    "collapsed": false,
    "ExecuteTime": {
     "end_time": "2024-03-12T03:10:19.446253Z",
     "start_time": "2024-03-12T03:10:19.442632Z"
    }
   },
   "id": "56e9f29f540b09a5",
   "execution_count": 26
  },
  {
   "cell_type": "code",
   "outputs": [
    {
     "data": {
      "text/plain": "      Weight  Height\nUser                \nID_1      62     165\nID_2      67     177\nID_3      55     160\nID_4      74     180",
      "text/html": "<div>\n<style scoped>\n    .dataframe tbody tr th:only-of-type {\n        vertical-align: middle;\n    }\n\n    .dataframe tbody tr th {\n        vertical-align: top;\n    }\n\n    .dataframe thead th {\n        text-align: right;\n    }\n</style>\n<table border=\"1\" class=\"dataframe\">\n  <thead>\n    <tr style=\"text-align: right;\">\n      <th></th>\n      <th>Weight</th>\n      <th>Height</th>\n    </tr>\n    <tr>\n      <th>User</th>\n      <th></th>\n      <th></th>\n    </tr>\n  </thead>\n  <tbody>\n    <tr>\n      <th>ID_1</th>\n      <td>62</td>\n      <td>165</td>\n    </tr>\n    <tr>\n      <th>ID_2</th>\n      <td>67</td>\n      <td>177</td>\n    </tr>\n    <tr>\n      <th>ID_3</th>\n      <td>55</td>\n      <td>160</td>\n    </tr>\n    <tr>\n      <th>ID_4</th>\n      <td>74</td>\n      <td>180</td>\n    </tr>\n  </tbody>\n</table>\n</div>"
     },
     "execution_count": 27,
     "metadata": {},
     "output_type": "execute_result"
    }
   ],
   "source": [
    "df_WH.index.name = 'User'\n",
    "df_WH"
   ],
   "metadata": {
    "collapsed": false,
    "ExecuteTime": {
     "end_time": "2024-03-12T03:10:19.456591Z",
     "start_time": "2024-03-12T03:10:19.447037Z"
    }
   },
   "id": "8ead085fccf9c6b7",
   "execution_count": 27
  },
  {
   "cell_type": "code",
   "outputs": [],
   "source": [
    "# 파일로 저장하기 전에 몸무게와 키를 이용해 체질량 지수 BMI를 구해서 추가.\n",
    "# 체질량 지수 Body Mass Index 는 몸무게 Kg 과 키 m를 이용해 측정.\n",
    "# BMI = W / H 의 제곱"
   ],
   "metadata": {
    "collapsed": false,
    "ExecuteTime": {
     "end_time": "2024-03-12T03:10:19.474370Z",
     "start_time": "2024-03-12T03:10:19.450680Z"
    }
   },
   "id": "69ebd6fa8d339a21",
   "execution_count": 28
  },
  {
   "cell_type": "code",
   "outputs": [
    {
     "data": {
      "text/plain": "User\nID_1    22.773186\nID_2    21.385936\nID_3    21.484375\nID_4    22.839506\ndtype: float64"
     },
     "execution_count": 29,
     "metadata": {},
     "output_type": "execute_result"
    }
   ],
   "source": [
    "# 키의 경우 데이터가 cm 단위여서 m 단위로 변경\n",
    "bmi = df_WH['Weight'] / (df_WH['Height']/100) ** 2\n",
    "bmi"
   ],
   "metadata": {
    "collapsed": false,
    "ExecuteTime": {
     "end_time": "2024-03-12T03:10:19.474753Z",
     "start_time": "2024-03-12T03:10:19.453896Z"
    }
   },
   "id": "c19559a0081d7a2a",
   "execution_count": 29
  },
  {
   "cell_type": "code",
   "outputs": [
    {
     "data": {
      "text/plain": "      Weight  Height        BMI\nUser                           \nID_1      62     165  22.773186\nID_2      67     177  21.385936\nID_3      55     160  21.484375\nID_4      74     180  22.839506",
      "text/html": "<div>\n<style scoped>\n    .dataframe tbody tr th:only-of-type {\n        vertical-align: middle;\n    }\n\n    .dataframe tbody tr th {\n        vertical-align: top;\n    }\n\n    .dataframe thead th {\n        text-align: right;\n    }\n</style>\n<table border=\"1\" class=\"dataframe\">\n  <thead>\n    <tr style=\"text-align: right;\">\n      <th></th>\n      <th>Weight</th>\n      <th>Height</th>\n      <th>BMI</th>\n    </tr>\n    <tr>\n      <th>User</th>\n      <th></th>\n      <th></th>\n      <th></th>\n    </tr>\n  </thead>\n  <tbody>\n    <tr>\n      <th>ID_1</th>\n      <td>62</td>\n      <td>165</td>\n      <td>22.773186</td>\n    </tr>\n    <tr>\n      <th>ID_2</th>\n      <td>67</td>\n      <td>177</td>\n      <td>21.385936</td>\n    </tr>\n    <tr>\n      <th>ID_3</th>\n      <td>55</td>\n      <td>160</td>\n      <td>21.484375</td>\n    </tr>\n    <tr>\n      <th>ID_4</th>\n      <td>74</td>\n      <td>180</td>\n      <td>22.839506</td>\n    </tr>\n  </tbody>\n</table>\n</div>"
     },
     "execution_count": 30,
     "metadata": {},
     "output_type": "execute_result"
    }
   ],
   "source": [
    "# 체질량 지수를 df_WH에 추가.\n",
    "df_WH['BMI'] = bmi\n",
    "df_WH"
   ],
   "metadata": {
    "collapsed": false,
    "ExecuteTime": {
     "end_time": "2024-03-12T03:10:19.482335Z",
     "start_time": "2024-03-12T03:10:19.458414Z"
    }
   },
   "id": "874f48571302e925",
   "execution_count": 30
  },
  {
   "cell_type": "code",
   "outputs": [],
   "source": [
    "df_WH.to_csv('./output/save_DataFrame.csv')"
   ],
   "metadata": {
    "collapsed": false,
    "ExecuteTime": {
     "end_time": "2024-03-12T03:10:19.487008Z",
     "start_time": "2024-03-12T03:10:19.461693Z"
    }
   },
   "id": "5e574208cdedefbd",
   "execution_count": 31
  },
  {
   "cell_type": "code",
   "outputs": [
    {
     "data": {
      "text/plain": "        판매가격  판매량\n제품번호             \nP1001   2000   32\nP1002   3000   53\nP1003   5000   40\nP1004  10000   25",
      "text/html": "<div>\n<style scoped>\n    .dataframe tbody tr th:only-of-type {\n        vertical-align: middle;\n    }\n\n    .dataframe tbody tr th {\n        vertical-align: top;\n    }\n\n    .dataframe thead th {\n        text-align: right;\n    }\n</style>\n<table border=\"1\" class=\"dataframe\">\n  <thead>\n    <tr style=\"text-align: right;\">\n      <th></th>\n      <th>판매가격</th>\n      <th>판매량</th>\n    </tr>\n    <tr>\n      <th>제품번호</th>\n      <th></th>\n      <th></th>\n    </tr>\n  </thead>\n  <tbody>\n    <tr>\n      <th>P1001</th>\n      <td>2000</td>\n      <td>32</td>\n    </tr>\n    <tr>\n      <th>P1002</th>\n      <td>3000</td>\n      <td>53</td>\n    </tr>\n    <tr>\n      <th>P1003</th>\n      <td>5000</td>\n      <td>40</td>\n    </tr>\n    <tr>\n      <th>P1004</th>\n      <td>10000</td>\n      <td>25</td>\n    </tr>\n  </tbody>\n</table>\n</div>"
     },
     "execution_count": 32,
     "metadata": {},
     "output_type": "execute_result"
    }
   ],
   "source": [
    "df_pr = pd.DataFrame({'판매가격': [2000, 3000, 5000, 10000],\n",
    "                      '판매량': [32, 53, 40, 25]},\n",
    "                     index=['P1001', 'P1002', 'P1003', 'P1004'])\n",
    "df_pr.index.name = '제품번호'\n",
    "df_pr"
   ],
   "metadata": {
    "collapsed": false,
    "ExecuteTime": {
     "end_time": "2024-03-12T03:10:19.487310Z",
     "start_time": "2024-03-12T03:10:19.465509Z"
    }
   },
   "id": "18dafb91e50d9122",
   "execution_count": 32
  },
  {
   "cell_type": "code",
   "outputs": [],
   "source": [
    "file_name = './output/save_DataFrame_cp949.txt'\n",
    "df_pr.to_csv(file_name, sep=' ', encoding='cp949')"
   ],
   "metadata": {
    "collapsed": false,
    "ExecuteTime": {
     "end_time": "2024-03-12T03:10:19.487409Z",
     "start_time": "2024-03-12T03:10:19.468790Z"
    }
   },
   "id": "33b1d0cb65fa5019",
   "execution_count": 33
  }
 ],
 "metadata": {
  "kernelspec": {
   "display_name": "Python 3",
   "language": "python",
   "name": "python3"
  },
  "language_info": {
   "codemirror_mode": {
    "name": "ipython",
    "version": 2
   },
   "file_extension": ".py",
   "mimetype": "text/x-python",
   "name": "python",
   "nbconvert_exporter": "python",
   "pygments_lexer": "ipython2",
   "version": "2.7.6"
  }
 },
 "nbformat": 4,
 "nbformat_minor": 5
}
