{
 "cells": [
  {
   "cell_type": "code",
   "execution_count": 2,
   "id": "initial_id",
   "metadata": {
    "collapsed": true,
    "ExecuteTime": {
     "end_time": "2024-03-12T00:07:50.583710Z",
     "start_time": "2024-03-12T00:07:50.299958Z"
    }
   },
   "outputs": [],
   "source": [
    "import pandas as pd"
   ]
  },
  {
   "cell_type": "code",
   "outputs": [
    {
     "data": {
      "text/plain": "0    10\n1    20\n2    30\n3    40\n4    50\ndtype: int64"
     },
     "execution_count": 3,
     "metadata": {},
     "output_type": "execute_result"
    }
   ],
   "source": [
    "s1 = pd.Series([10, 20, 30, 40, 50])\n",
    "s1"
   ],
   "metadata": {
    "collapsed": false,
    "ExecuteTime": {
     "end_time": "2024-03-12T00:07:50.595418Z",
     "start_time": "2024-03-12T00:07:50.587096Z"
    }
   },
   "id": "d83dda359b073281",
   "execution_count": 3
  },
  {
   "cell_type": "code",
   "outputs": [],
   "source": [
    "# 열단위로 출력\n",
    "# 자동으로 데이터에 라벨이 부여되고, 세로축 라벨을 index라 하고, 입력한 시퀀스 데이터는 values라고 부름\n",
    "\n",
    "# Series 데이터는 index와 value를 분리해서 가져 올 수 있음.\n",
    "# Series 데이터를 s라고 할 때 index는 s.index로, values는 s.values로 가져 올 수 있음."
   ],
   "metadata": {
    "collapsed": false,
    "ExecuteTime": {
     "end_time": "2024-03-12T00:07:50.595684Z",
     "start_time": "2024-03-12T00:07:50.589748Z"
    }
   },
   "id": "73a837f6406b11d8",
   "execution_count": 4
  },
  {
   "cell_type": "code",
   "outputs": [
    {
     "data": {
      "text/plain": "RangeIndex(start=0, stop=5, step=1)"
     },
     "execution_count": 5,
     "metadata": {},
     "output_type": "execute_result"
    }
   ],
   "source": [
    "s1.index"
   ],
   "metadata": {
    "collapsed": false,
    "ExecuteTime": {
     "end_time": "2024-03-12T00:07:50.595927Z",
     "start_time": "2024-03-12T00:07:50.594716Z"
    }
   },
   "id": "6520a0826e53e50b",
   "execution_count": 5
  },
  {
   "cell_type": "code",
   "outputs": [
    {
     "data": {
      "text/plain": "array([10, 20, 30, 40, 50])"
     },
     "execution_count": 8,
     "metadata": {},
     "output_type": "execute_result"
    }
   ],
   "source": [
    "s1.values"
   ],
   "metadata": {
    "collapsed": false,
    "ExecuteTime": {
     "end_time": "2024-03-12T00:08:16.314653Z",
     "start_time": "2024-03-12T00:08:16.306834Z"
    }
   },
   "id": "bde02361a9c9e196",
   "execution_count": 8
  },
  {
   "cell_type": "code",
   "outputs": [],
   "source": [
    "# numpy의 경우 배열의 모든 원소가 데이터 타입이 같아야 했지만,\n",
    "# pandas의 경우에는 원소의 데이터 타입이 달라도 저장 가능."
   ],
   "metadata": {
    "collapsed": false,
    "ExecuteTime": {
     "end_time": "2024-03-12T00:09:05.077228Z",
     "start_time": "2024-03-12T00:09:05.072026Z"
    }
   },
   "id": "c49b544ea3b7cdb4",
   "execution_count": 11
  },
  {
   "cell_type": "code",
   "outputs": [
    {
     "name": "stdout",
     "output_type": "stream",
     "text": [
      "0    a\n",
      "1    b\n",
      "2    c\n",
      "3    1\n",
      "4    2\n",
      "5    3\n",
      "dtype: object\n"
     ]
    }
   ],
   "source": [
    "s2 = pd.Series(['a', 'b', 'c', 1, 2, 3])  # 넘파이였다면 모두를 문자열로 변경.\n",
    "print(s2)"
   ],
   "metadata": {
    "collapsed": false,
    "ExecuteTime": {
     "end_time": "2024-03-12T00:10:06.406138Z",
     "start_time": "2024-03-12T00:10:06.403606Z"
    }
   },
   "id": "fd24f9c7a274c7e8",
   "execution_count": 14
  },
  {
   "cell_type": "code",
   "outputs": [],
   "source": [],
   "metadata": {
    "collapsed": false
   },
   "id": "42266eff12691a66"
  }
 ],
 "metadata": {
  "kernelspec": {
   "display_name": "Python 3",
   "language": "python",
   "name": "python3"
  },
  "language_info": {
   "codemirror_mode": {
    "name": "ipython",
    "version": 2
   },
   "file_extension": ".py",
   "mimetype": "text/x-python",
   "name": "python",
   "nbconvert_exporter": "python",
   "pygments_lexer": "ipython2",
   "version": "2.7.6"
  }
 },
 "nbformat": 4,
 "nbformat_minor": 5
}
