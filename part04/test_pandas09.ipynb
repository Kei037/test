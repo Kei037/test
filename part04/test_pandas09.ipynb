{
 "cells": [
  {
   "cell_type": "raw",
   "source": [
    "05. 판다스 결측 데이터 처리하기"
   ],
   "metadata": {
    "collapsed": false
   },
   "id": "b8a9f521f2073b80"
  },
  {
   "cell_type": "code",
   "outputs": [],
   "source": [
    "# Pandas는 누락된 데이터를 표시할 때 Nan (Not a Number)으로 표기하며, 연산에는 포함되지 않음."
   ],
   "metadata": {
    "collapsed": false,
    "ExecuteTime": {
     "end_time": "2024-03-12T06:33:54.528030Z",
     "start_time": "2024-03-12T06:33:54.525988Z"
    }
   },
   "id": "efd4e60a571c9336",
   "execution_count": 1
  },
  {
   "cell_type": "code",
   "outputs": [],
   "source": [
    "import pandas as pd"
   ],
   "metadata": {
    "collapsed": false,
    "ExecuteTime": {
     "end_time": "2024-03-12T06:33:58.861491Z",
     "start_time": "2024-03-12T06:33:58.622436Z"
    }
   },
   "id": "39cfc0dc660c5491",
   "execution_count": 2
  },
  {
   "cell_type": "code",
   "outputs": [
    {
     "data": {
      "text/plain": "            temp  max_wind  mean_wind\ndate                                 \n2010-08-01  28.7       8.3        3.4\n2010-08-02  25.2       8.7        3.8\n2010-08-03  22.1       6.3        2.9\n2010-08-04  25.3       6.6        4.2\n2010-08-05  27.2       9.1        5.6",
      "text/html": "<div>\n<style scoped>\n    .dataframe tbody tr th:only-of-type {\n        vertical-align: middle;\n    }\n\n    .dataframe tbody tr th {\n        vertical-align: top;\n    }\n\n    .dataframe thead th {\n        text-align: right;\n    }\n</style>\n<table border=\"1\" class=\"dataframe\">\n  <thead>\n    <tr style=\"text-align: right;\">\n      <th></th>\n      <th>temp</th>\n      <th>max_wind</th>\n      <th>mean_wind</th>\n    </tr>\n    <tr>\n      <th>date</th>\n      <th></th>\n      <th></th>\n      <th></th>\n    </tr>\n  </thead>\n  <tbody>\n    <tr>\n      <th>2010-08-01</th>\n      <td>28.7</td>\n      <td>8.3</td>\n      <td>3.4</td>\n    </tr>\n    <tr>\n      <th>2010-08-02</th>\n      <td>25.2</td>\n      <td>8.7</td>\n      <td>3.8</td>\n    </tr>\n    <tr>\n      <th>2010-08-03</th>\n      <td>22.1</td>\n      <td>6.3</td>\n      <td>2.9</td>\n    </tr>\n    <tr>\n      <th>2010-08-04</th>\n      <td>25.3</td>\n      <td>6.6</td>\n      <td>4.2</td>\n    </tr>\n    <tr>\n      <th>2010-08-05</th>\n      <td>27.2</td>\n      <td>9.1</td>\n      <td>5.6</td>\n    </tr>\n  </tbody>\n</table>\n</div>"
     },
     "execution_count": 4,
     "metadata": {},
     "output_type": "execute_result"
    }
   ],
   "source": [
    "df = pd.read_csv('./input/weather.csv', index_col='date')\n",
    "df.head()"
   ],
   "metadata": {
    "collapsed": false,
    "ExecuteTime": {
     "end_time": "2024-03-12T06:34:51.685102Z",
     "start_time": "2024-03-12T06:34:51.675957Z"
    }
   },
   "id": "34326204058555ed",
   "execution_count": 4
  },
  {
   "cell_type": "code",
   "outputs": [
    {
     "name": "stdout",
     "output_type": "stream",
     "text": [
      "<class 'pandas.core.frame.DataFrame'>\n",
      "Index: 3653 entries, 2010-08-01 to 2020-07-31\n",
      "Data columns (total 3 columns):\n",
      " #   Column     Non-Null Count  Dtype  \n",
      "---  ------     --------------  -----  \n",
      " 0   temp       3653 non-null   float64\n",
      " 1   max_wind   3649 non-null   float64\n",
      " 2   mean_wind  3647 non-null   float64\n",
      "dtypes: float64(3)\n",
      "memory usage: 114.2+ KB\n"
     ]
    }
   ],
   "source": [
    "df.info()"
   ],
   "metadata": {
    "collapsed": false,
    "ExecuteTime": {
     "end_time": "2024-03-12T06:35:40.791233Z",
     "start_time": "2024-03-12T06:35:40.785752Z"
    }
   },
   "id": "6d3dce441988b24c",
   "execution_count": 6
  },
  {
   "cell_type": "raw",
   "source": [
    "1) 결측 데이터 확인"
   ],
   "metadata": {
    "collapsed": false
   },
   "id": "6e97ab32a6fcc744"
  },
  {
   "cell_type": "code",
   "outputs": [
    {
     "data": {
      "text/plain": "            temp  max_wind  mean_wind\ndate                                 \n2012-02-11  -0.7       NaN        NaN\n2012-02-12   0.4       NaN        NaN\n2012-02-13   4.0       NaN        NaN\n2019-04-19   7.8       NaN        2.3",
      "text/html": "<div>\n<style scoped>\n    .dataframe tbody tr th:only-of-type {\n        vertical-align: middle;\n    }\n\n    .dataframe tbody tr th {\n        vertical-align: top;\n    }\n\n    .dataframe thead th {\n        text-align: right;\n    }\n</style>\n<table border=\"1\" class=\"dataframe\">\n  <thead>\n    <tr style=\"text-align: right;\">\n      <th></th>\n      <th>temp</th>\n      <th>max_wind</th>\n      <th>mean_wind</th>\n    </tr>\n    <tr>\n      <th>date</th>\n      <th></th>\n      <th></th>\n      <th></th>\n    </tr>\n  </thead>\n  <tbody>\n    <tr>\n      <th>2012-02-11</th>\n      <td>-0.7</td>\n      <td>NaN</td>\n      <td>NaN</td>\n    </tr>\n    <tr>\n      <th>2012-02-12</th>\n      <td>0.4</td>\n      <td>NaN</td>\n      <td>NaN</td>\n    </tr>\n    <tr>\n      <th>2012-02-13</th>\n      <td>4.0</td>\n      <td>NaN</td>\n      <td>NaN</td>\n    </tr>\n    <tr>\n      <th>2019-04-19</th>\n      <td>7.8</td>\n      <td>NaN</td>\n      <td>2.3</td>\n    </tr>\n  </tbody>\n</table>\n</div>"
     },
     "execution_count": 12,
     "metadata": {},
     "output_type": "execute_result"
    }
   ],
   "source": [
    "# 최고풍속이 측정되지 않은 모든 데이터 출력\n",
    "# isna() 메서드는 값이 NaN일 때 True, 아닌 경우엔 False 반환.\n",
    "df[df['max_wind'].isna()]"
   ],
   "metadata": {
    "collapsed": false,
    "ExecuteTime": {
     "end_time": "2024-03-12T06:39:15.639511Z",
     "start_time": "2024-03-12T06:39:15.634717Z"
    }
   },
   "id": "1cdbc7249adf583a",
   "execution_count": 12
  },
  {
   "cell_type": "code",
   "outputs": [
    {
     "data": {
      "text/plain": "            temp  max_wind  mean_wind\ndate                                 \n2012-02-11  -0.7       NaN        NaN\n2012-02-12   0.4       NaN        NaN\n2012-02-13   4.0       NaN        NaN\n2019-04-19   7.8       NaN        2.3",
      "text/html": "<div>\n<style scoped>\n    .dataframe tbody tr th:only-of-type {\n        vertical-align: middle;\n    }\n\n    .dataframe tbody tr th {\n        vertical-align: top;\n    }\n\n    .dataframe thead th {\n        text-align: right;\n    }\n</style>\n<table border=\"1\" class=\"dataframe\">\n  <thead>\n    <tr style=\"text-align: right;\">\n      <th></th>\n      <th>temp</th>\n      <th>max_wind</th>\n      <th>mean_wind</th>\n    </tr>\n    <tr>\n      <th>date</th>\n      <th></th>\n      <th></th>\n      <th></th>\n    </tr>\n  </thead>\n  <tbody>\n    <tr>\n      <th>2012-02-11</th>\n      <td>-0.7</td>\n      <td>NaN</td>\n      <td>NaN</td>\n    </tr>\n    <tr>\n      <th>2012-02-12</th>\n      <td>0.4</td>\n      <td>NaN</td>\n      <td>NaN</td>\n    </tr>\n    <tr>\n      <th>2012-02-13</th>\n      <td>4.0</td>\n      <td>NaN</td>\n      <td>NaN</td>\n    </tr>\n    <tr>\n      <th>2019-04-19</th>\n      <td>7.8</td>\n      <td>NaN</td>\n      <td>2.3</td>\n    </tr>\n  </tbody>\n</table>\n</div>"
     },
     "execution_count": 13,
     "metadata": {},
     "output_type": "execute_result"
    }
   ],
   "source": [
    "df[df['max_wind'].isnull()]"
   ],
   "metadata": {
    "collapsed": false,
    "ExecuteTime": {
     "end_time": "2024-03-12T06:40:31.992308Z",
     "start_time": "2024-03-12T06:40:31.988915Z"
    }
   },
   "id": "c4d2130cfd44a83f",
   "execution_count": 13
  },
  {
   "cell_type": "raw",
   "source": [
    "# isnull()은 결측 데이터 이면 True반환, 유효한 데이터가 존재하면 False를 반환.\n",
    "# isna(), isnull()은 기능적으로 동일"
   ],
   "metadata": {
    "collapsed": false
   },
   "id": "8aaff57e6d869a36"
  },
  {
   "cell_type": "code",
   "outputs": [
    {
     "data": {
      "text/plain": "temp         0\nmax_wind     4\nmean_wind    6\ndtype: int64"
     },
     "execution_count": 16,
     "metadata": {},
     "output_type": "execute_result"
    }
   ],
   "source": [
    "# 결측 데이터 개수 확인\n",
    "df.isnull().sum()"
   ],
   "metadata": {
    "collapsed": false,
    "ExecuteTime": {
     "end_time": "2024-03-12T06:42:28.170095Z",
     "start_time": "2024-03-12T06:42:28.163833Z"
    }
   },
   "id": "a6262d1a6ae39586",
   "execution_count": 16
  },
  {
   "cell_type": "code",
   "outputs": [
    {
     "data": {
      "text/plain": "temp         3653\nmax_wind     3649\nmean_wind    3647\ndtype: int64"
     },
     "execution_count": 18,
     "metadata": {},
     "output_type": "execute_result"
    }
   ],
   "source": [
    "# notnull()은 유효한 데이터가 존재하면 True를 반환, 결측 데이터면 False를 반환.\n",
    "df.notnull().sum()"
   ],
   "metadata": {
    "collapsed": false,
    "ExecuteTime": {
     "end_time": "2024-03-12T06:43:15.215585Z",
     "start_time": "2024-03-12T06:43:15.213474Z"
    }
   },
   "id": "b855cc043ef5af41",
   "execution_count": 18
  },
  {
   "cell_type": "raw",
   "source": [
    "# 2) 결측 데이터 삭제하기"
   ],
   "metadata": {
    "collapsed": false
   },
   "id": "e8b44cccb86294c2"
  },
  {
   "cell_type": "code",
   "outputs": [],
   "source": [
    "# 결측 데이터를 다루는 가장 간단한 방법은 결측 데이터를 가진 행이나 열을 삭제.\n",
    "# 판다스에서 dropna()를 이용하여 삭제 할 수 있음.\n",
    "\n",
    "# DataFrame.dropna(axis, how, thresh, subset, inplace)\n",
    "# axis : 축을 행 또는 열로 결정\n",
    "# 0 또는 'index'이면 누락된 값이 포함된 행을 삭제\n",
    "# 1 또는 'columns'이면 누락된 값이 포함된 열을 삭제\n",
    "# 기본적으로 값은 0\n",
    "# how : any는 null 값이 있는 경우 행 또는 열을 삭제\n",
    "# all은 모든 값이 누락된 경우 행 또는 열을 삭제\n",
    "# 기본값은 any\n",
    "# inplace : 데이터프레임에 나온 값을 저장할 것인지를 설정하는 변수로 기본적으로 값은 False"
   ],
   "metadata": {
    "collapsed": false,
    "ExecuteTime": {
     "end_time": "2024-03-12T06:46:00.001254Z",
     "start_time": "2024-03-12T06:45:59.995159Z"
    }
   },
   "id": "a3601417e5179fc7",
   "execution_count": 19
  },
  {
   "cell_type": "code",
   "outputs": [
    {
     "data": {
      "text/plain": "temp         0\nmax_wind     0\nmean_wind    0\ndtype: int64"
     },
     "execution_count": 20,
     "metadata": {},
     "output_type": "execute_result"
    }
   ],
   "source": [
    "# 결측 데이터가 있는 행 삭제 후 확인\n",
    "df2 = df.dropna()\n",
    "df2.isnull().sum()"
   ],
   "metadata": {
    "collapsed": false,
    "ExecuteTime": {
     "end_time": "2024-03-12T06:47:50.580843Z",
     "start_time": "2024-03-12T06:47:50.573286Z"
    }
   },
   "id": "5401ed944a27e188",
   "execution_count": 20
  },
  {
   "cell_type": "code",
   "outputs": [
    {
     "data": {
      "text/plain": "temp         0\nmax_wind     4\nmean_wind    6\ndtype: int64"
     },
     "execution_count": 21,
     "metadata": {},
     "output_type": "execute_result"
    }
   ],
   "source": [
    "# 행 데이터 중 어느 한 변수에도 결측치가 있는 경우 삭제되므로\n",
    "# 향후 제거한 데이터프레임을 사용하려면 다른 이름으로 저장해야 함.\n",
    "df.isnull().sum()"
   ],
   "metadata": {
    "collapsed": false,
    "ExecuteTime": {
     "end_time": "2024-03-12T06:49:33.164458Z",
     "start_time": "2024-03-12T06:49:33.157001Z"
    }
   },
   "id": "df8228f08d5f09d8",
   "execution_count": 21
  },
  {
   "cell_type": "raw",
   "source": [
    "# 3) 결측 데이터 대체하기"
   ],
   "metadata": {
    "collapsed": false
   },
   "id": "5e19b4fcc6f03b2c"
  },
  {
   "cell_type": "code",
   "outputs": [],
   "source": [
    "# 결측 데이터 대체하기 : 평균값으로 대체\n",
    "\n",
    "df.fillna({'max_wind': df['max_wind'].mean()}, inplace=True)\n",
    "df.fillna({'mean_wind': df['mean_wind'].mean()}, inplace=True)\n",
    "# fillna() 결측 데이터를 특정 값으로 채움. inplace를 True로 설정해 원본 데이터를 수정"
   ],
   "metadata": {
    "collapsed": false,
    "ExecuteTime": {
     "end_time": "2024-03-12T06:51:47.468607Z",
     "start_time": "2024-03-12T06:51:47.463034Z"
    }
   },
   "id": "e9994a115c3e379",
   "execution_count": 22
  },
  {
   "cell_type": "code",
   "outputs": [
    {
     "data": {
      "text/plain": "temp         0\nmax_wind     0\nmean_wind    0\ndtype: int64"
     },
     "execution_count": 23,
     "metadata": {},
     "output_type": "execute_result"
    }
   ],
   "source": [
    "# 결측 데이터 대체 후 확인\n",
    "df.isna().sum()"
   ],
   "metadata": {
    "collapsed": false,
    "ExecuteTime": {
     "end_time": "2024-03-12T06:51:54.449129Z",
     "start_time": "2024-03-12T06:51:54.442218Z"
    }
   },
   "id": "8c55876e7ba1c0c",
   "execution_count": 23
  }
 ],
 "metadata": {
  "kernelspec": {
   "display_name": "Python 3",
   "language": "python",
   "name": "python3"
  },
  "language_info": {
   "codemirror_mode": {
    "name": "ipython",
    "version": 2
   },
   "file_extension": ".py",
   "mimetype": "text/x-python",
   "name": "python",
   "nbconvert_exporter": "python",
   "pygments_lexer": "ipython2",
   "version": "2.7.6"
  }
 },
 "nbformat": 4,
 "nbformat_minor": 5
}
