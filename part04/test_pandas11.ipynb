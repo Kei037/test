{
 "cells": [
  {
   "cell_type": "raw",
   "source": [],
   "metadata": {
    "collapsed": false
   },
   "id": "98e6321df9170dfa"
  },
  {
   "cell_type": "code",
   "outputs": [],
   "source": [
    "import pandas as pd"
   ],
   "metadata": {
    "collapsed": false,
    "ExecuteTime": {
     "end_time": "2024-03-13T00:07:59.588263Z",
     "start_time": "2024-03-13T00:07:59.384664Z"
    }
   },
   "id": "b412068f81a9f39b",
   "execution_count": 1
  },
  {
   "cell_type": "code",
   "outputs": [
    {
     "data": {
      "text/plain": "  국적코드  성별    입국객수    증가수\n0  A01  남성  125000   8000\n1  A01  여성  130000  10000\n2  A05  남성     300     10\n3  A05  여성     200     50\n4  A06  남성  158912  24486\n5  A06  여성  325000  63466",
      "text/html": "<div>\n<style scoped>\n    .dataframe tbody tr th:only-of-type {\n        vertical-align: middle;\n    }\n\n    .dataframe tbody tr th {\n        vertical-align: top;\n    }\n\n    .dataframe thead th {\n        text-align: right;\n    }\n</style>\n<table border=\"1\" class=\"dataframe\">\n  <thead>\n    <tr style=\"text-align: right;\">\n      <th></th>\n      <th>국적코드</th>\n      <th>성별</th>\n      <th>입국객수</th>\n      <th>증가수</th>\n    </tr>\n  </thead>\n  <tbody>\n    <tr>\n      <th>0</th>\n      <td>A01</td>\n      <td>남성</td>\n      <td>125000</td>\n      <td>8000</td>\n    </tr>\n    <tr>\n      <th>1</th>\n      <td>A01</td>\n      <td>여성</td>\n      <td>130000</td>\n      <td>10000</td>\n    </tr>\n    <tr>\n      <th>2</th>\n      <td>A05</td>\n      <td>남성</td>\n      <td>300</td>\n      <td>10</td>\n    </tr>\n    <tr>\n      <th>3</th>\n      <td>A05</td>\n      <td>여성</td>\n      <td>200</td>\n      <td>50</td>\n    </tr>\n    <tr>\n      <th>4</th>\n      <td>A06</td>\n      <td>남성</td>\n      <td>158912</td>\n      <td>24486</td>\n    </tr>\n    <tr>\n      <th>5</th>\n      <td>A06</td>\n      <td>여성</td>\n      <td>325000</td>\n      <td>63466</td>\n    </tr>\n  </tbody>\n</table>\n</div>"
     },
     "execution_count": 2,
     "metadata": {},
     "output_type": "execute_result"
    }
   ],
   "source": [
    "s1 = pd.read_excel('./input/nation.xlsx')\n",
    "s1"
   ],
   "metadata": {
    "collapsed": false,
    "ExecuteTime": {
     "end_time": "2024-03-13T00:08:24.555547Z",
     "start_time": "2024-03-13T00:08:24.479870Z"
    }
   },
   "id": "97896083594f5213",
   "execution_count": 2
  },
  {
   "cell_type": "code",
   "outputs": [
    {
     "data": {
      "text/plain": "        성별    입국객수    증가수\n국적코드                     \nA01   남성여성  255000  18000\nA05   남성여성     500     60\nA06   남성여성  483912  87952",
      "text/html": "<div>\n<style scoped>\n    .dataframe tbody tr th:only-of-type {\n        vertical-align: middle;\n    }\n\n    .dataframe tbody tr th {\n        vertical-align: top;\n    }\n\n    .dataframe thead th {\n        text-align: right;\n    }\n</style>\n<table border=\"1\" class=\"dataframe\">\n  <thead>\n    <tr style=\"text-align: right;\">\n      <th></th>\n      <th>성별</th>\n      <th>입국객수</th>\n      <th>증가수</th>\n    </tr>\n    <tr>\n      <th>국적코드</th>\n      <th></th>\n      <th></th>\n      <th></th>\n    </tr>\n  </thead>\n  <tbody>\n    <tr>\n      <th>A01</th>\n      <td>남성여성</td>\n      <td>255000</td>\n      <td>18000</td>\n    </tr>\n    <tr>\n      <th>A05</th>\n      <td>남성여성</td>\n      <td>500</td>\n      <td>60</td>\n    </tr>\n    <tr>\n      <th>A06</th>\n      <td>남성여성</td>\n      <td>483912</td>\n      <td>87952</td>\n    </tr>\n  </tbody>\n</table>\n</div>"
     },
     "execution_count": 4,
     "metadata": {},
     "output_type": "execute_result"
    }
   ],
   "source": [
    "s1.groupby('국적코드').sum()"
   ],
   "metadata": {
    "collapsed": false,
    "ExecuteTime": {
     "end_time": "2024-03-13T00:08:39.260064Z",
     "start_time": "2024-03-13T00:08:39.256441Z"
    }
   },
   "id": "48821992b8366d22",
   "execution_count": 4
  },
  {
   "cell_type": "code",
   "outputs": [
    {
     "data": {
      "text/plain": "         국적코드    입국객수    증가수\n성별                          \n남성  A01A05A06  284212  32496\n여성  A01A05A06  455200  73516",
      "text/html": "<div>\n<style scoped>\n    .dataframe tbody tr th:only-of-type {\n        vertical-align: middle;\n    }\n\n    .dataframe tbody tr th {\n        vertical-align: top;\n    }\n\n    .dataframe thead th {\n        text-align: right;\n    }\n</style>\n<table border=\"1\" class=\"dataframe\">\n  <thead>\n    <tr style=\"text-align: right;\">\n      <th></th>\n      <th>국적코드</th>\n      <th>입국객수</th>\n      <th>증가수</th>\n    </tr>\n    <tr>\n      <th>성별</th>\n      <th></th>\n      <th></th>\n      <th></th>\n    </tr>\n  </thead>\n  <tbody>\n    <tr>\n      <th>남성</th>\n      <td>A01A05A06</td>\n      <td>284212</td>\n      <td>32496</td>\n    </tr>\n    <tr>\n      <th>여성</th>\n      <td>A01A05A06</td>\n      <td>455200</td>\n      <td>73516</td>\n    </tr>\n  </tbody>\n</table>\n</div>"
     },
     "execution_count": 5,
     "metadata": {},
     "output_type": "execute_result"
    }
   ],
   "source": [
    "s1.groupby('성별').sum()"
   ],
   "metadata": {
    "collapsed": false,
    "ExecuteTime": {
     "end_time": "2024-03-13T00:11:30.810413Z",
     "start_time": "2024-03-13T00:11:30.803449Z"
    }
   },
   "id": "2ef7d08b5a6bb71e",
   "execution_count": 5
  },
  {
   "cell_type": "code",
   "outputs": [
    {
     "data": {
      "text/plain": "           입국객수    증가수\n국적코드 성별               \nA01  남성  125000   8000\n     여성  130000  10000\nA05  남성     300     10\n     여성     200     50\nA06  남성  158912  24486\n     여성  325000  63466",
      "text/html": "<div>\n<style scoped>\n    .dataframe tbody tr th:only-of-type {\n        vertical-align: middle;\n    }\n\n    .dataframe tbody tr th {\n        vertical-align: top;\n    }\n\n    .dataframe thead th {\n        text-align: right;\n    }\n</style>\n<table border=\"1\" class=\"dataframe\">\n  <thead>\n    <tr style=\"text-align: right;\">\n      <th></th>\n      <th></th>\n      <th>입국객수</th>\n      <th>증가수</th>\n    </tr>\n    <tr>\n      <th>국적코드</th>\n      <th>성별</th>\n      <th></th>\n      <th></th>\n    </tr>\n  </thead>\n  <tbody>\n    <tr>\n      <th rowspan=\"2\" valign=\"top\">A01</th>\n      <th>남성</th>\n      <td>125000</td>\n      <td>8000</td>\n    </tr>\n    <tr>\n      <th>여성</th>\n      <td>130000</td>\n      <td>10000</td>\n    </tr>\n    <tr>\n      <th rowspan=\"2\" valign=\"top\">A05</th>\n      <th>남성</th>\n      <td>300</td>\n      <td>10</td>\n    </tr>\n    <tr>\n      <th>여성</th>\n      <td>200</td>\n      <td>50</td>\n    </tr>\n    <tr>\n      <th rowspan=\"2\" valign=\"top\">A06</th>\n      <th>남성</th>\n      <td>158912</td>\n      <td>24486</td>\n    </tr>\n    <tr>\n      <th>여성</th>\n      <td>325000</td>\n      <td>63466</td>\n    </tr>\n  </tbody>\n</table>\n</div>"
     },
     "execution_count": 6,
     "metadata": {},
     "output_type": "execute_result"
    }
   ],
   "source": [
    "# 여러 열을 기준으로 그룹화하기\n",
    "s1.groupby(['국적코드', '성별']).sum()"
   ],
   "metadata": {
    "collapsed": false,
    "ExecuteTime": {
     "end_time": "2024-03-13T00:11:53.602194Z",
     "start_time": "2024-03-13T00:11:53.596643Z"
    }
   },
   "id": "d4772c496948876",
   "execution_count": 6
  },
  {
   "cell_type": "code",
   "outputs": [],
   "source": [
    "# 여러 열을 그룹으로 묶어서 계층적인 인덱스를 구성하고 sum()을 사용해서 인덱스별 합을 구함"
   ],
   "metadata": {
    "collapsed": false
   },
   "id": "cd26c6aedd9d93c1"
  }
 ],
 "metadata": {
  "kernelspec": {
   "display_name": "Python 3",
   "language": "python",
   "name": "python3"
  },
  "language_info": {
   "codemirror_mode": {
    "name": "ipython",
    "version": 2
   },
   "file_extension": ".py",
   "mimetype": "text/x-python",
   "name": "python",
   "nbconvert_exporter": "python",
   "pygments_lexer": "ipython2",
   "version": "2.7.6"
  }
 },
 "nbformat": 4,
 "nbformat_minor": 5
}
