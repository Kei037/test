{
 "cells": [
  {
   "cell_type": "raw",
   "source": [
    "02. 막대 그래프 - 집단 간 차이 표현하기"
   ],
   "metadata": {
    "collapsed": false
   },
   "id": "3478610649265794"
  },
  {
   "cell_type": "raw",
   "source": [
    "막대 그래프 bar chart는 데이터의 크기를 막대의 길이로 표현한 그래프\n",
    "성별 소득 차이 처럼 집단간 차이를 표현할 떄 사용"
   ],
   "metadata": {
    "collapsed": false
   },
   "id": "b44ef2924a8e2d66"
  },
  {
   "cell_type": "code",
   "outputs": [],
   "source": [
    "import pandas as pd\n",
    "import numpy as np\n",
    "import matplotlib.pyplot as plt\n",
    "import seaborn as sns"
   ],
   "metadata": {
    "collapsed": false,
    "ExecuteTime": {
     "end_time": "2024-03-14T05:31:14.133981700Z",
     "start_time": "2024-03-14T05:31:14.119253500Z"
    }
   },
   "id": "2f5ff76c5639ef92",
   "execution_count": 1
  },
  {
   "cell_type": "code",
   "outputs": [
    {
     "data": {
      "text/plain": "  manufacturer model  displ  year  cyl       trans drv  cty  hwy fl category\n0         audi    a4    1.8  1999    4    auto(l5)   f   18   29  p  compact\n1         audi    a4    1.8  1999    4  manual(m5)   f   21   29  p  compact\n2         audi    a4    2.0  2008    4  manual(m6)   f   20   31  p  compact\n3         audi    a4    2.0  2008    4    auto(av)   f   21   30  p  compact\n4         audi    a4    2.8  1999    6    auto(l5)   f   16   26  p  compact",
      "text/html": "<div>\n<style scoped>\n    .dataframe tbody tr th:only-of-type {\n        vertical-align: middle;\n    }\n\n    .dataframe tbody tr th {\n        vertical-align: top;\n    }\n\n    .dataframe thead th {\n        text-align: right;\n    }\n</style>\n<table border=\"1\" class=\"dataframe\">\n  <thead>\n    <tr style=\"text-align: right;\">\n      <th></th>\n      <th>manufacturer</th>\n      <th>model</th>\n      <th>displ</th>\n      <th>year</th>\n      <th>cyl</th>\n      <th>trans</th>\n      <th>drv</th>\n      <th>cty</th>\n      <th>hwy</th>\n      <th>fl</th>\n      <th>category</th>\n    </tr>\n  </thead>\n  <tbody>\n    <tr>\n      <th>0</th>\n      <td>audi</td>\n      <td>a4</td>\n      <td>1.8</td>\n      <td>1999</td>\n      <td>4</td>\n      <td>auto(l5)</td>\n      <td>f</td>\n      <td>18</td>\n      <td>29</td>\n      <td>p</td>\n      <td>compact</td>\n    </tr>\n    <tr>\n      <th>1</th>\n      <td>audi</td>\n      <td>a4</td>\n      <td>1.8</td>\n      <td>1999</td>\n      <td>4</td>\n      <td>manual(m5)</td>\n      <td>f</td>\n      <td>21</td>\n      <td>29</td>\n      <td>p</td>\n      <td>compact</td>\n    </tr>\n    <tr>\n      <th>2</th>\n      <td>audi</td>\n      <td>a4</td>\n      <td>2.0</td>\n      <td>2008</td>\n      <td>4</td>\n      <td>manual(m6)</td>\n      <td>f</td>\n      <td>20</td>\n      <td>31</td>\n      <td>p</td>\n      <td>compact</td>\n    </tr>\n    <tr>\n      <th>3</th>\n      <td>audi</td>\n      <td>a4</td>\n      <td>2.0</td>\n      <td>2008</td>\n      <td>4</td>\n      <td>auto(av)</td>\n      <td>f</td>\n      <td>21</td>\n      <td>30</td>\n      <td>p</td>\n      <td>compact</td>\n    </tr>\n    <tr>\n      <th>4</th>\n      <td>audi</td>\n      <td>a4</td>\n      <td>2.8</td>\n      <td>1999</td>\n      <td>6</td>\n      <td>auto(l5)</td>\n      <td>f</td>\n      <td>16</td>\n      <td>26</td>\n      <td>p</td>\n      <td>compact</td>\n    </tr>\n  </tbody>\n</table>\n</div>"
     },
     "execution_count": 2,
     "metadata": {},
     "output_type": "execute_result"
    }
   ],
   "source": [
    "mpg = pd.read_csv('./input/mpg.csv')\n",
    "mpg.head()"
   ],
   "metadata": {
    "collapsed": false,
    "ExecuteTime": {
     "end_time": "2024-03-14T05:31:44.529761400Z",
     "start_time": "2024-03-14T05:31:44.495609700Z"
    }
   },
   "id": "81f72d528d68505e",
   "execution_count": 2
  },
  {
   "cell_type": "raw",
   "source": [
    "01. 평균 막대그래프 만들기."
   ],
   "metadata": {
    "collapsed": false
   },
   "id": "c3c781b99f25cb32"
  },
  {
   "cell_type": "raw",
   "source": [
    "평균 막대 그래프는 평균값의 크기를 막대 길이로 표현한 그래프\n",
    "여러 집단의 평균 값을 비교할때 평균 막대 그래프를 주로 사용"
   ],
   "metadata": {
    "collapsed": false
   },
   "id": "c5258be875e98af4"
  },
  {
   "cell_type": "code",
   "outputs": [
    {
     "data": {
      "text/plain": "      mean_hwy\ndrv           \n4    19.174757\nf    28.160377\nr    21.000000",
      "text/html": "<div>\n<style scoped>\n    .dataframe tbody tr th:only-of-type {\n        vertical-align: middle;\n    }\n\n    .dataframe tbody tr th {\n        vertical-align: top;\n    }\n\n    .dataframe thead th {\n        text-align: right;\n    }\n</style>\n<table border=\"1\" class=\"dataframe\">\n  <thead>\n    <tr style=\"text-align: right;\">\n      <th></th>\n      <th>mean_hwy</th>\n    </tr>\n    <tr>\n      <th>drv</th>\n      <th></th>\n    </tr>\n  </thead>\n  <tbody>\n    <tr>\n      <th>4</th>\n      <td>19.174757</td>\n    </tr>\n    <tr>\n      <th>f</th>\n      <td>28.160377</td>\n    </tr>\n    <tr>\n      <th>r</th>\n      <td>21.000000</td>\n    </tr>\n  </tbody>\n</table>\n</div>"
     },
     "execution_count": 4,
     "metadata": {},
     "output_type": "execute_result"
    }
   ],
   "source": [
    "# mpg 테이터에서 drv(구동방식)별 hwy(고속도로연비) 평균을 나타낸 막대그래프를 만듬\n",
    "\n",
    "# 1) 집단별 평균표 만들기\n",
    "# 평균 막대 그래프를 만들려면 집단별 평균값을 담은 데이터 프레임이 필요\n",
    "# 구동 방식별 고속도로 연비 평균을 담은 데이터 프레임을 만듬\n",
    "# drv별로 분리하고 hwy평균 구하기\n",
    "# agg(mean_hwy=('hwy', 'mean')) -> mean_hwy 열을 생성하면서 hwy열의 평균값을 입력\n",
    "df_mpg = mpg.groupby('drv').agg(mean_hwy=('hwy', 'mean')) # drv기준으로 묶고 hwy컬럼의 mean() 평균을 mean_hwy열을 생성하며 그열에 입력 \n",
    "df_mpg"
   ],
   "metadata": {
    "collapsed": false,
    "ExecuteTime": {
     "end_time": "2024-03-14T05:35:28.698403900Z",
     "start_time": "2024-03-14T05:35:28.665137300Z"
    }
   },
   "id": "60704608ebe88f39",
   "execution_count": 4
  },
  {
   "cell_type": "code",
   "outputs": [
    {
     "data": {
      "text/plain": "  drv   mean_hwy\n0   4  19.174757\n1   f  28.160377\n2   r  21.000000",
      "text/html": "<div>\n<style scoped>\n    .dataframe tbody tr th:only-of-type {\n        vertical-align: middle;\n    }\n\n    .dataframe tbody tr th {\n        vertical-align: top;\n    }\n\n    .dataframe thead th {\n        text-align: right;\n    }\n</style>\n<table border=\"1\" class=\"dataframe\">\n  <thead>\n    <tr style=\"text-align: right;\">\n      <th></th>\n      <th>drv</th>\n      <th>mean_hwy</th>\n    </tr>\n  </thead>\n  <tbody>\n    <tr>\n      <th>0</th>\n      <td>4</td>\n      <td>19.174757</td>\n    </tr>\n    <tr>\n      <th>1</th>\n      <td>f</td>\n      <td>28.160377</td>\n    </tr>\n    <tr>\n      <th>2</th>\n      <td>r</td>\n      <td>21.000000</td>\n    </tr>\n  </tbody>\n</table>\n</div>"
     },
     "execution_count": 5,
     "metadata": {},
     "output_type": "execute_result"
    }
   ],
   "source": [
    "#출력 결과를 보면 집단을 나타낸 변수 drv가 인덱스로 바뀌어 mean_hwy 아래에 표시\n",
    "# seabron으로 그래프를 만들려면 값이변수에 담겨있어야함\n",
    "# -> 인덱스가 아니라 열로 만들어져야함\n",
    "# 변수를 인덱스로 바꾸지 않고 원래대로 유지 하려면 groupby()에 as_index = False를입력\n",
    "\n",
    "df_mpg = mpg.groupby('drv', as_index=False).agg(mean_hwy=('hwy', 'mean'))\n",
    "df_mpg"
   ],
   "metadata": {
    "collapsed": false,
    "ExecuteTime": {
     "end_time": "2024-03-14T05:41:16.988452400Z",
     "start_time": "2024-03-14T05:41:16.974642900Z"
    }
   },
   "id": "6300f049ab8b943c",
   "execution_count": 5
  },
  {
   "cell_type": "code",
   "outputs": [
    {
     "data": {
      "text/plain": "<Figure size 640x480 with 1 Axes>",
      "image/png": "[encoded data removed]"
     },
     "metadata": {},
     "output_type": "display_data"
    }
   ],
   "source": [
    "# 2) 그래프 만들기\n",
    "# 생성된 데이터 프레임을 이용해 막대 그래프를 만듬\n",
    "# sns.barplot() : 막대 그래프를 만들떄 사용\n",
    "# data : 데이터 프레임을 지정\n",
    "# x : x축 범주를 나타내는 변수\n",
    "# y : y축에 평균ㄱ밧을 나타낸 변수\n",
    "\n",
    "sns.barplot(data=df_mpg ,x='drv', y='mean_hwy')\n",
    "plt.show()"
   ],
   "metadata": {
    "collapsed": false,
    "ExecuteTime": {
     "end_time": "2024-03-14T05:42:20.942765700Z",
     "start_time": "2024-03-14T05:42:20.791026900Z"
    }
   },
   "id": "59b41874516de01a",
   "execution_count": 6
  },
  {
   "cell_type": "code",
   "outputs": [
    {
     "data": {
      "text/plain": "<Figure size 640x480 with 1 Axes>",
      "image/png": "[encoded data removed]"
     },
     "metadata": {},
     "output_type": "display_data"
    }
   ],
   "source": [
    "# 3) 크기순으로 정렬하기\n",
    "#막대 정렬 순서는 그래프를 만드는데 사용한 데이터 프레임의 행 순서에 따라 정해짐\n",
    "# 앞에 출력한 그래프를 보면 drv 막대가 4 f, r순으로 정렬\n",
    "#크기 순으로 정렬하려면 그래프를 만들기 전에 df.sort_values()를 이용해 데이터 프레임을 내림차순으로 정렬\n",
    "\n",
    "# 데이터 프레임 정렬하기\n",
    "df_mpg = df_mpg.sort_values(by='mean_hwy', ascending=False)\n",
    "# 막대그래프 만들기\n",
    "sns.barplot(data=df_mpg ,x='drv', y='mean_hwy')\n",
    "plt.show()"
   ],
   "metadata": {
    "collapsed": false,
    "ExecuteTime": {
     "end_time": "2024-03-14T05:46:40.741533900Z",
     "start_time": "2024-03-14T05:46:40.626764400Z"
    }
   },
   "id": "900bbfc7a5ad7747",
   "execution_count": 7
  },
  {
   "cell_type": "raw",
   "source": [
    "02 빈도 그래프만들기"
   ],
   "metadata": {
    "collapsed": false
   },
   "id": "c5e758cd493ac25b"
  },
  {
   "cell_type": "raw",
   "source": [
    "빈도 막대 그래프는 값의빈도(개수) 막대 길이로 표현한 그래프\n",
    "여러 집단의 빈도를 비교할떄 빈도 막대 그래프를 자주 사용함"
   ],
   "metadata": {
    "collapsed": false
   },
   "id": "1750e9b1141fccab"
  },
  {
   "cell_type": "code",
   "outputs": [
    {
     "data": {
      "text/plain": "  drv    n\n0   4  103\n1   f  106\n2   r   25",
      "text/html": "<div>\n<style scoped>\n    .dataframe tbody tr th:only-of-type {\n        vertical-align: middle;\n    }\n\n    .dataframe tbody tr th {\n        vertical-align: top;\n    }\n\n    .dataframe thead th {\n        text-align: right;\n    }\n</style>\n<table border=\"1\" class=\"dataframe\">\n  <thead>\n    <tr style=\"text-align: right;\">\n      <th></th>\n      <th>drv</th>\n      <th>n</th>\n    </tr>\n  </thead>\n  <tbody>\n    <tr>\n      <th>0</th>\n      <td>4</td>\n      <td>103</td>\n    </tr>\n    <tr>\n      <th>1</th>\n      <td>f</td>\n      <td>106</td>\n    </tr>\n    <tr>\n      <th>2</th>\n      <td>r</td>\n      <td>25</td>\n    </tr>\n  </tbody>\n</table>\n</div>"
     },
     "execution_count": 8,
     "metadata": {},
     "output_type": "execute_result"
    }
   ],
   "source": [
    "# 1) 집단별 빈도표 만들기\n",
    "# 빈도 막대의 그래프를 만들려면 집단별 빈도를 담은데이터 프레임이 필요\n",
    "# df.agg()에 빈도를 구하는 함수 count를 적용해 구동방식별 빈도를 담은 데이터 프레임을 만든\n",
    "\n",
    "# 집단별 빈도표 만들기\n",
    "df_mpg = mpg.groupby('drv', as_index=False).agg(n=('drv', 'count'))\n",
    "df_mpg"
   ],
   "metadata": {
    "collapsed": false,
    "ExecuteTime": {
     "end_time": "2024-03-14T06:02:23.830625Z",
     "start_time": "2024-03-14T06:02:23.813523500Z"
    }
   },
   "id": "22a8cf63b6d331f4",
   "execution_count": 8
  },
  {
   "cell_type": "code",
   "outputs": [
    {
     "data": {
      "text/plain": "<Figure size 640x480 with 1 Axes>",
      "image/png": "[encoded data removed]"
     },
     "metadata": {},
     "output_type": "display_data"
    }
   ],
   "source": [
    "# 2) 그래프 만들기\n",
    "# sns.barolot()를 적용해 막대 그래프 만듬\n",
    "\n",
    "# 막대 그래프 만들기\n",
    "sns.barplot(data=df_mpg ,x='drv', y='n')\n",
    "plt.show()"
   ],
   "metadata": {
    "collapsed": false,
    "ExecuteTime": {
     "end_time": "2024-03-14T06:05:11.316000800Z",
     "start_time": "2024-03-14T06:05:11.204010600Z"
    }
   },
   "id": "b555abb80ec4240a",
   "execution_count": 9
  },
  {
   "cell_type": "code",
   "outputs": [
    {
     "data": {
      "text/plain": "<Figure size 640x480 with 1 Axes>",
      "image/png": "[encoded data removed]"
     },
     "metadata": {},
     "output_type": "display_data"
    }
   ],
   "source": [
    "# sns.barplot()사용 할떄 df.groupby()와 df.agg를 이용해 집단별 빈도표를 만드는 작업을 했음\n",
    "# 대신 sns.coutplot()를 이용하면 원데이터를 바로 이용해 빈도 막대 그래프를 만드수있음\n",
    "\n",
    "\n",
    "# 빈도 막대 그래프 만들기\n",
    "sns.countplot(data=mpg ,x='drv')\n",
    "plt.show()"
   ],
   "metadata": {
    "collapsed": false,
    "ExecuteTime": {
     "end_time": "2024-03-14T06:07:05.360803900Z",
     "start_time": "2024-03-14T06:07:05.226191400Z"
    }
   },
   "id": "5e98d77b1f6b91c2",
   "execution_count": 10
  },
  {
   "cell_type": "code",
   "outputs": [],
   "source": [
    "# 두 그래프는 x축의 순서가다름\n",
    "# sns.barplot()으로 만든 그래프는 x축 순서가  4, f, r 인 반면\n",
    "# sns.countplot()로 만든 그래프는  f 4 r\n",
    "# 이는 sns.barplot()에 사용한 df_mpg와 sns.countplot()에 사용한 mpg의 drv값 순서가 다르기 떄문"
   ],
   "metadata": {
    "collapsed": false
   },
   "id": "58f554fe814e0f7d"
  },
  {
   "cell_type": "code",
   "outputs": [
    {
     "data": {
      "text/plain": "array(['f', '4', 'r'], dtype=object)"
     },
     "execution_count": 11,
     "metadata": {},
     "output_type": "execute_result"
    }
   ],
   "source": [
    "# 데이터 프레임에서 변수의 값 순서는 데이터 프레임에 입력된 행의 순서에 따름\n",
    "# mpg의 drv는 0~6행이 f, 7~17행이 4, 18~27이 r로 되어있으므로 값의 순서는 f 4 r\n",
    "# 변수의 고유값을 출력하는 unique()를 이용하면 값의 순서를 알수있음\n",
    "mpg['drv'].unique() # f 4 r"
   ],
   "metadata": {
    "collapsed": false,
    "ExecuteTime": {
     "end_time": "2024-03-14T06:14:22.308443800Z",
     "start_time": "2024-03-14T06:14:22.290672400Z"
    }
   },
   "id": "700603e9639f484",
   "execution_count": 11
  },
  {
   "cell_type": "code",
   "outputs": [],
   "source": [
    "# df_mpg의 drv는 값의 순서가 알파벳 순으로 되어있음\n",
    "# groupby()를 이용해 데이터 프레임을 요약하면 값의 순서가 알파벳순으로 바뀌기떄문\n",
    "\n",
    "df_mpg['drv'].unique() # 4 f r"
   ],
   "metadata": {
    "collapsed": false
   },
   "id": "56a2ee0902c383f6"
  },
  {
   "cell_type": "code",
   "outputs": [
    {
     "data": {
      "text/plain": "<Figure size 640x480 with 1 Axes>",
      "image/png": "[encoded data removed]"
     },
     "metadata": {},
     "output_type": "display_data"
    }
   ],
   "source": [
    "# 3) 막대 정렬하기\n",
    "# sns.countplot()으로 만든 그래프의 막대를 정렬하면 order에 원하는 순서로 값을 입력하면됨\n",
    "\n",
    "# 4 f r 순으로 막대 정렬\n",
    "sns.countplot(data=mpg, x='drv', order=['4', 'f', 'r'])\n",
    "plt.show()"
   ],
   "metadata": {
    "collapsed": false,
    "ExecuteTime": {
     "end_time": "2024-03-14T06:18:22.060672Z",
     "start_time": "2024-03-14T06:18:21.942547200Z"
    }
   },
   "id": "84dc8d8d5952ea55",
   "execution_count": 12
  },
  {
   "cell_type": "code",
   "outputs": [
    {
     "data": {
      "text/plain": "Index(['f', '4', 'r'], dtype='object', name='drv')"
     },
     "execution_count": 15,
     "metadata": {},
     "output_type": "execute_result"
    }
   ],
   "source": [
    "#sns.countplot()의 order에 mpg['drv'].value_counts().index를 입력하면\n",
    "# drv의 빈도가 높은 순으로 막대를 정렬\n",
    "# mpg['drv'].value_counts().index 는 빈도가 높은 순으로 변수의 값을 출력\n",
    "\n",
    "# drv의 값을 빈도가 높은 순으로 출력\n",
    "mpg['drv'].value_counts().index"
   ],
   "metadata": {
    "collapsed": false,
    "ExecuteTime": {
     "end_time": "2024-03-14T06:21:30.155665Z",
     "start_time": "2024-03-14T06:21:30.130730Z"
    }
   },
   "id": "a180bdb1e211a092",
   "execution_count": 15
  },
  {
   "cell_type": "code",
   "outputs": [
    {
     "data": {
      "text/plain": "<Figure size 640x480 with 1 Axes>",
      "image/png": "[encoded data removed]"
     },
     "metadata": {},
     "output_type": "display_data"
    }
   ],
   "source": [
    "#drv 빈도 높은순으로 막대 정렬\n",
    "sns.countplot(data=mpg, x='drv', order=mpg['drv'].value_counts().index)\n",
    "plt.show()"
   ],
   "metadata": {
    "collapsed": false,
    "ExecuteTime": {
     "end_time": "2024-03-14T06:22:35.527204400Z",
     "start_time": "2024-03-14T06:22:35.397609200Z"
    }
   },
   "id": "797c94cd001b0a57",
   "execution_count": 16
  }
 ],
 "metadata": {
  "kernelspec": {
   "display_name": "Python 3",
   "language": "python",
   "name": "python3"
  },
  "language_info": {
   "codemirror_mode": {
    "name": "ipython",
    "version": 2
   },
   "file_extension": ".py",
   "mimetype": "text/x-python",
   "name": "python",
   "nbconvert_exporter": "python",
   "pygments_lexer": "ipython2",
   "version": "2.7.6"
  }
 },
 "nbformat": 4,
 "nbformat_minor": 5
}
