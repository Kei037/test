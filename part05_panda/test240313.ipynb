{
 "cells": [
  {
   "cell_type": "raw",
   "source": [
    "07.판다스 데이터 그룹핑 하기"
   ],
   "metadata": {
    "collapsed": false
   },
   "id": "c9bf80aa3f73e0e"
  },
  {
   "cell_type": "code",
   "outputs": [],
   "source": [
    "# 데이터 그룹핑은 데이터를 특정한 값에 기반해 묶는 기능으로 groupby()를 사용하여 통계량을 요약할수있음\n",
    "# 통계량에 관계된 메서드는 mean() 평균 std() 표준편차 var()분산 max() 최댓값 min() 최솟값등이있음"
   ],
   "metadata": {
    "collapsed": false
   },
   "id": "fbe4e193e9289be2"
  },
  {
   "cell_type": "code",
   "outputs": [],
   "source": [
    "import pandas as pd"
   ],
   "metadata": {
    "collapsed": false,
    "ExecuteTime": {
     "end_time": "2024-03-13T00:10:07.907708100Z",
     "start_time": "2024-03-13T00:10:07.094476900Z"
    }
   },
   "id": "7013601033c73d0a",
   "execution_count": 1
  },
  {
   "cell_type": "code",
   "outputs": [
    {
     "data": {
      "text/plain": "  국적코드  성별    입국객수    증가수\n0  A01  남성  125000   8000\n1  A01  여성  130000  10000\n2  A05  남성     300     10\n3  A05  여성     200     50\n4  A06  남성  158912  24486\n5  A06  여성  325000  63466",
      "text/html": "<div>\n<style scoped>\n    .dataframe tbody tr th:only-of-type {\n        vertical-align: middle;\n    }\n\n    .dataframe tbody tr th {\n        vertical-align: top;\n    }\n\n    .dataframe thead th {\n        text-align: right;\n    }\n</style>\n<table border=\"1\" class=\"dataframe\">\n  <thead>\n    <tr style=\"text-align: right;\">\n      <th></th>\n      <th>국적코드</th>\n      <th>성별</th>\n      <th>입국객수</th>\n      <th>증가수</th>\n    </tr>\n  </thead>\n  <tbody>\n    <tr>\n      <th>0</th>\n      <td>A01</td>\n      <td>남성</td>\n      <td>125000</td>\n      <td>8000</td>\n    </tr>\n    <tr>\n      <th>1</th>\n      <td>A01</td>\n      <td>여성</td>\n      <td>130000</td>\n      <td>10000</td>\n    </tr>\n    <tr>\n      <th>2</th>\n      <td>A05</td>\n      <td>남성</td>\n      <td>300</td>\n      <td>10</td>\n    </tr>\n    <tr>\n      <th>3</th>\n      <td>A05</td>\n      <td>여성</td>\n      <td>200</td>\n      <td>50</td>\n    </tr>\n    <tr>\n      <th>4</th>\n      <td>A06</td>\n      <td>남성</td>\n      <td>158912</td>\n      <td>24486</td>\n    </tr>\n    <tr>\n      <th>5</th>\n      <td>A06</td>\n      <td>여성</td>\n      <td>325000</td>\n      <td>63466</td>\n    </tr>\n  </tbody>\n</table>\n</div>"
     },
     "execution_count": 3,
     "metadata": {},
     "output_type": "execute_result"
    }
   ],
   "source": [
    "s1 = pd.read_excel('../NumPy/input/nation.xlsx')\n",
    "s1"
   ],
   "metadata": {
    "collapsed": false,
    "ExecuteTime": {
     "end_time": "2024-03-13T00:11:22.835875700Z",
     "start_time": "2024-03-13T00:11:22.402495Z"
    }
   },
   "id": "6853108e6ecb2780",
   "execution_count": 3
  },
  {
   "cell_type": "code",
   "outputs": [
    {
     "data": {
      "text/plain": "        성별    입국객수    증가수\n국적코드                     \nA01   남성여성  255000  18000\nA05   남성여성     500     60\nA06   남성여성  483912  87952",
      "text/html": "<div>\n<style scoped>\n    .dataframe tbody tr th:only-of-type {\n        vertical-align: middle;\n    }\n\n    .dataframe tbody tr th {\n        vertical-align: top;\n    }\n\n    .dataframe thead th {\n        text-align: right;\n    }\n</style>\n<table border=\"1\" class=\"dataframe\">\n  <thead>\n    <tr style=\"text-align: right;\">\n      <th></th>\n      <th>성별</th>\n      <th>입국객수</th>\n      <th>증가수</th>\n    </tr>\n    <tr>\n      <th>국적코드</th>\n      <th></th>\n      <th></th>\n      <th></th>\n    </tr>\n  </thead>\n  <tbody>\n    <tr>\n      <th>A01</th>\n      <td>남성여성</td>\n      <td>255000</td>\n      <td>18000</td>\n    </tr>\n    <tr>\n      <th>A05</th>\n      <td>남성여성</td>\n      <td>500</td>\n      <td>60</td>\n    </tr>\n    <tr>\n      <th>A06</th>\n      <td>남성여성</td>\n      <td>483912</td>\n      <td>87952</td>\n    </tr>\n  </tbody>\n</table>\n</div>"
     },
     "execution_count": 4,
     "metadata": {},
     "output_type": "execute_result"
    }
   ],
   "source": [
    "s1.groupby('국적코드').sum()"
   ],
   "metadata": {
    "collapsed": false,
    "ExecuteTime": {
     "end_time": "2024-03-13T00:11:55.163150500Z",
     "start_time": "2024-03-13T00:11:55.140993300Z"
    }
   },
   "id": "e52b28e266cf3cc9",
   "execution_count": 4
  },
  {
   "cell_type": "code",
   "outputs": [
    {
     "data": {
      "text/plain": "         국적코드    입국객수    증가수\n성별                          \n남성  A01A05A06  284212  32496\n여성  A01A05A06  455200  73516",
      "text/html": "<div>\n<style scoped>\n    .dataframe tbody tr th:only-of-type {\n        vertical-align: middle;\n    }\n\n    .dataframe tbody tr th {\n        vertical-align: top;\n    }\n\n    .dataframe thead th {\n        text-align: right;\n    }\n</style>\n<table border=\"1\" class=\"dataframe\">\n  <thead>\n    <tr style=\"text-align: right;\">\n      <th></th>\n      <th>국적코드</th>\n      <th>입국객수</th>\n      <th>증가수</th>\n    </tr>\n    <tr>\n      <th>성별</th>\n      <th></th>\n      <th></th>\n      <th></th>\n    </tr>\n  </thead>\n  <tbody>\n    <tr>\n      <th>남성</th>\n      <td>A01A05A06</td>\n      <td>284212</td>\n      <td>32496</td>\n    </tr>\n    <tr>\n      <th>여성</th>\n      <td>A01A05A06</td>\n      <td>455200</td>\n      <td>73516</td>\n    </tr>\n  </tbody>\n</table>\n</div>"
     },
     "execution_count": 5,
     "metadata": {},
     "output_type": "execute_result"
    }
   ],
   "source": [
    "s1.groupby('성별').sum()"
   ],
   "metadata": {
    "collapsed": false,
    "ExecuteTime": {
     "end_time": "2024-03-13T00:12:23.038009800Z",
     "start_time": "2024-03-13T00:12:23.003635500Z"
    }
   },
   "id": "e90ce15a89cd7f3c",
   "execution_count": 5
  },
  {
   "cell_type": "code",
   "outputs": [
    {
     "data": {
      "text/plain": "           입국객수    증가수\n국적코드 성별               \nA01  남성  125000   8000\n     여성  130000  10000\nA05  남성     300     10\n     여성     200     50\nA06  남성  158912  24486\n     여성  325000  63466",
      "text/html": "<div>\n<style scoped>\n    .dataframe tbody tr th:only-of-type {\n        vertical-align: middle;\n    }\n\n    .dataframe tbody tr th {\n        vertical-align: top;\n    }\n\n    .dataframe thead th {\n        text-align: right;\n    }\n</style>\n<table border=\"1\" class=\"dataframe\">\n  <thead>\n    <tr style=\"text-align: right;\">\n      <th></th>\n      <th></th>\n      <th>입국객수</th>\n      <th>증가수</th>\n    </tr>\n    <tr>\n      <th>국적코드</th>\n      <th>성별</th>\n      <th></th>\n      <th></th>\n    </tr>\n  </thead>\n  <tbody>\n    <tr>\n      <th rowspan=\"2\" valign=\"top\">A01</th>\n      <th>남성</th>\n      <td>125000</td>\n      <td>8000</td>\n    </tr>\n    <tr>\n      <th>여성</th>\n      <td>130000</td>\n      <td>10000</td>\n    </tr>\n    <tr>\n      <th rowspan=\"2\" valign=\"top\">A05</th>\n      <th>남성</th>\n      <td>300</td>\n      <td>10</td>\n    </tr>\n    <tr>\n      <th>여성</th>\n      <td>200</td>\n      <td>50</td>\n    </tr>\n    <tr>\n      <th rowspan=\"2\" valign=\"top\">A06</th>\n      <th>남성</th>\n      <td>158912</td>\n      <td>24486</td>\n    </tr>\n    <tr>\n      <th>여성</th>\n      <td>325000</td>\n      <td>63466</td>\n    </tr>\n  </tbody>\n</table>\n</div>"
     },
     "execution_count": 6,
     "metadata": {},
     "output_type": "execute_result"
    }
   ],
   "source": [
    "s1.groupby(['국적코드', '성별']).sum()"
   ],
   "metadata": {
    "collapsed": false,
    "ExecuteTime": {
     "end_time": "2024-03-13T00:12:48.329961600Z",
     "start_time": "2024-03-13T00:12:48.299712400Z"
    }
   },
   "id": "9add7320a23cb4fa",
   "execution_count": 6
  },
  {
   "cell_type": "code",
   "outputs": [
    {
     "name": "stdout",
     "output_type": "stream",
     "text": [
      "       항목  사례수    증가    감소  변화없음\n",
      "0    스마트폰  999  78.9   1.7  19.4\n",
      "1    텔레비전  965  68.5   3.9  27.6\n",
      "2  개인용 PC  973  65.7   3.7  30.6\n",
      "3  태블릿 PC  662  46.8   4.2  49.0\n",
      "4     라디오  687  35.5  12.5  52.0\n",
      "5    잡지·책  776  31.3  17.8  50.9\n",
      "6    종이신문  552  17.6  23.2  59.2\n"
     ]
    }
   ],
   "source": [
    "s2 = pd.read_csv('../NumPy/input/covid.csv', encoding='cp949')\n",
    "s2"
   ],
   "metadata": {
    "collapsed": false,
    "ExecuteTime": {
     "end_time": "2024-03-13T00:18:00.780867200Z",
     "start_time": "2024-03-13T00:18:00.738723300Z"
    }
   },
   "id": "12fda3c80c0e9a4e",
   "execution_count": 13
  },
  {
   "cell_type": "code",
   "outputs": [
    {
     "data": {
      "text/plain": "            증가   감소  변화없음\n사례수 항목                   \n999 스마트폰  78.9  1.7  19.4",
      "text/html": "<div>\n<style scoped>\n    .dataframe tbody tr th:only-of-type {\n        vertical-align: middle;\n    }\n\n    .dataframe tbody tr th {\n        vertical-align: top;\n    }\n\n    .dataframe thead th {\n        text-align: right;\n    }\n</style>\n<table border=\"1\" class=\"dataframe\">\n  <thead>\n    <tr style=\"text-align: right;\">\n      <th></th>\n      <th></th>\n      <th>증가</th>\n      <th>감소</th>\n      <th>변화없음</th>\n    </tr>\n    <tr>\n      <th>사례수</th>\n      <th>항목</th>\n      <th></th>\n      <th></th>\n      <th></th>\n    </tr>\n  </thead>\n  <tbody>\n    <tr>\n      <th>999</th>\n      <th>스마트폰</th>\n      <td>78.9</td>\n      <td>1.7</td>\n      <td>19.4</td>\n    </tr>\n  </tbody>\n</table>\n</div>"
     },
     "execution_count": 26,
     "metadata": {},
     "output_type": "execute_result"
    }
   ],
   "source": [
    "s2.groupby(['사례수', '항목']).max()[-1:]"
   ],
   "metadata": {
    "collapsed": false,
    "ExecuteTime": {
     "end_time": "2024-03-13T00:25:02.553872200Z",
     "start_time": "2024-03-13T00:25:02.525135800Z"
    }
   },
   "id": "17be822524f857c8",
   "execution_count": 26
  },
  {
   "cell_type": "code",
   "outputs": [
    {
     "data": {
      "text/plain": "             사례수   감소  변화없음\n증가   항목                    \n65.7 개인용 PC  973  3.7  30.6\n68.5 텔레비전    965  3.9  27.6\n78.9 스마트폰    999  1.7  19.4",
      "text/html": "<div>\n<style scoped>\n    .dataframe tbody tr th:only-of-type {\n        vertical-align: middle;\n    }\n\n    .dataframe tbody tr th {\n        vertical-align: top;\n    }\n\n    .dataframe thead th {\n        text-align: right;\n    }\n</style>\n<table border=\"1\" class=\"dataframe\">\n  <thead>\n    <tr style=\"text-align: right;\">\n      <th></th>\n      <th></th>\n      <th>사례수</th>\n      <th>감소</th>\n      <th>변화없음</th>\n    </tr>\n    <tr>\n      <th>증가</th>\n      <th>항목</th>\n      <th></th>\n      <th></th>\n      <th></th>\n    </tr>\n  </thead>\n  <tbody>\n    <tr>\n      <th>65.7</th>\n      <th>개인용 PC</th>\n      <td>973</td>\n      <td>3.7</td>\n      <td>30.6</td>\n    </tr>\n    <tr>\n      <th>68.5</th>\n      <th>텔레비전</th>\n      <td>965</td>\n      <td>3.9</td>\n      <td>27.6</td>\n    </tr>\n    <tr>\n      <th>78.9</th>\n      <th>스마트폰</th>\n      <td>999</td>\n      <td>1.7</td>\n      <td>19.4</td>\n    </tr>\n  </tbody>\n</table>\n</div>"
     },
     "execution_count": 33,
     "metadata": {},
     "output_type": "execute_result"
    }
   ],
   "source": [
    "s2.groupby(['증가', '항목']).max()[-3:]"
   ],
   "metadata": {
    "collapsed": false,
    "ExecuteTime": {
     "end_time": "2024-03-13T00:28:15.930704600Z",
     "start_time": "2024-03-13T00:28:15.906147700Z"
    }
   },
   "id": "a51c2a1b0be5ad0c",
   "execution_count": 33
  },
  {
   "cell_type": "code",
   "outputs": [
    {
     "data": {
      "text/plain": "       항목  사례수    증가    감소  변화없음\n0    스마트폰  999  78.9   1.7  19.4\n1    텔레비전  965  68.5   3.9  27.6\n2  개인용 PC  973  65.7   3.7  30.6\n3  태블릿 PC  662  46.8   4.2  49.0\n4     라디오  687  35.5  12.5  52.0\n5    잡지·책  776  31.3  17.8  50.9\n6    종이신문  552  17.6  23.2  59.2",
      "text/html": "<div>\n<style scoped>\n    .dataframe tbody tr th:only-of-type {\n        vertical-align: middle;\n    }\n\n    .dataframe tbody tr th {\n        vertical-align: top;\n    }\n\n    .dataframe thead th {\n        text-align: right;\n    }\n</style>\n<table border=\"1\" class=\"dataframe\">\n  <thead>\n    <tr style=\"text-align: right;\">\n      <th></th>\n      <th>항목</th>\n      <th>사례수</th>\n      <th>증가</th>\n      <th>감소</th>\n      <th>변화없음</th>\n    </tr>\n  </thead>\n  <tbody>\n    <tr>\n      <th>0</th>\n      <td>스마트폰</td>\n      <td>999</td>\n      <td>78.9</td>\n      <td>1.7</td>\n      <td>19.4</td>\n    </tr>\n    <tr>\n      <th>1</th>\n      <td>텔레비전</td>\n      <td>965</td>\n      <td>68.5</td>\n      <td>3.9</td>\n      <td>27.6</td>\n    </tr>\n    <tr>\n      <th>2</th>\n      <td>개인용 PC</td>\n      <td>973</td>\n      <td>65.7</td>\n      <td>3.7</td>\n      <td>30.6</td>\n    </tr>\n    <tr>\n      <th>3</th>\n      <td>태블릿 PC</td>\n      <td>662</td>\n      <td>46.8</td>\n      <td>4.2</td>\n      <td>49.0</td>\n    </tr>\n    <tr>\n      <th>4</th>\n      <td>라디오</td>\n      <td>687</td>\n      <td>35.5</td>\n      <td>12.5</td>\n      <td>52.0</td>\n    </tr>\n    <tr>\n      <th>5</th>\n      <td>잡지·책</td>\n      <td>776</td>\n      <td>31.3</td>\n      <td>17.8</td>\n      <td>50.9</td>\n    </tr>\n    <tr>\n      <th>6</th>\n      <td>종이신문</td>\n      <td>552</td>\n      <td>17.6</td>\n      <td>23.2</td>\n      <td>59.2</td>\n    </tr>\n  </tbody>\n</table>\n</div>"
     },
     "execution_count": 34,
     "metadata": {},
     "output_type": "execute_result"
    }
   ],
   "source": [
    "s2"
   ],
   "metadata": {
    "collapsed": false,
    "ExecuteTime": {
     "end_time": "2024-03-13T00:28:33.061233300Z",
     "start_time": "2024-03-13T00:28:33.044626600Z"
    }
   },
   "id": "67f6500889e18bc6",
   "execution_count": 34
  },
  {
   "cell_type": "code",
   "outputs": [
    {
     "data": {
      "text/plain": "  담당교수     학과  수강코드    과목명\n0  양숙희  컴퓨터공학   111    파이썬\n1  장은실   정보통신   333   인공지능\n2  오경선   인공지능   222  데이터분석\n3  황복동  컴퓨터공학   444   선형대수\n4  정명식   인공지능   555   이산수학",
      "text/html": "<div>\n<style scoped>\n    .dataframe tbody tr th:only-of-type {\n        vertical-align: middle;\n    }\n\n    .dataframe tbody tr th {\n        vertical-align: top;\n    }\n\n    .dataframe thead th {\n        text-align: right;\n    }\n</style>\n<table border=\"1\" class=\"dataframe\">\n  <thead>\n    <tr style=\"text-align: right;\">\n      <th></th>\n      <th>담당교수</th>\n      <th>학과</th>\n      <th>수강코드</th>\n      <th>과목명</th>\n    </tr>\n  </thead>\n  <tbody>\n    <tr>\n      <th>0</th>\n      <td>양숙희</td>\n      <td>컴퓨터공학</td>\n      <td>111</td>\n      <td>파이썬</td>\n    </tr>\n    <tr>\n      <th>1</th>\n      <td>장은실</td>\n      <td>정보통신</td>\n      <td>333</td>\n      <td>인공지능</td>\n    </tr>\n    <tr>\n      <th>2</th>\n      <td>오경선</td>\n      <td>인공지능</td>\n      <td>222</td>\n      <td>데이터분석</td>\n    </tr>\n    <tr>\n      <th>3</th>\n      <td>황복동</td>\n      <td>컴퓨터공학</td>\n      <td>444</td>\n      <td>선형대수</td>\n    </tr>\n    <tr>\n      <th>4</th>\n      <td>정명식</td>\n      <td>인공지능</td>\n      <td>555</td>\n      <td>이산수학</td>\n    </tr>\n  </tbody>\n</table>\n</div>"
     },
     "execution_count": 48,
     "metadata": {},
     "output_type": "execute_result"
    }
   ],
   "source": [
    "s3 = pd.read_csv('../NumPy/input/professor.csv', encoding='cp949')\n",
    "s4 = pd.read_csv('../NumPy/input/signup.csv', encoding='cp949')\n",
    "s5 = pd.merge(s3, s4, on='담당교수')\n",
    "s5"
   ],
   "metadata": {
    "collapsed": false,
    "ExecuteTime": {
     "end_time": "2024-03-13T01:09:32.374265700Z",
     "start_time": "2024-03-13T01:09:32.348623700Z"
    }
   },
   "id": "c8bc037156a40408",
   "execution_count": 48
  },
  {
   "cell_type": "code",
   "outputs": [
    {
     "data": {
      "text/plain": "       담당교수\n학과         \n인공지능      2\n정보통신      1\n컴퓨터공학     2",
      "text/html": "<div>\n<style scoped>\n    .dataframe tbody tr th:only-of-type {\n        vertical-align: middle;\n    }\n\n    .dataframe tbody tr th {\n        vertical-align: top;\n    }\n\n    .dataframe thead th {\n        text-align: right;\n    }\n</style>\n<table border=\"1\" class=\"dataframe\">\n  <thead>\n    <tr style=\"text-align: right;\">\n      <th></th>\n      <th>담당교수</th>\n    </tr>\n    <tr>\n      <th>학과</th>\n      <th></th>\n    </tr>\n  </thead>\n  <tbody>\n    <tr>\n      <th>인공지능</th>\n      <td>2</td>\n    </tr>\n    <tr>\n      <th>정보통신</th>\n      <td>1</td>\n    </tr>\n    <tr>\n      <th>컴퓨터공학</th>\n      <td>2</td>\n    </tr>\n  </tbody>\n</table>\n</div>"
     },
     "execution_count": 50,
     "metadata": {},
     "output_type": "execute_result"
    }
   ],
   "source": [
    "s6 = s3.groupby('학과').count()\n",
    "s6"
   ],
   "metadata": {
    "collapsed": false,
    "ExecuteTime": {
     "end_time": "2024-03-13T01:09:50.167614300Z",
     "start_time": "2024-03-13T01:09:50.124416800Z"
    }
   },
   "id": "eb363adad095c975",
   "execution_count": 50
  }
 ],
 "metadata": {
  "kernelspec": {
   "display_name": "Python 3",
   "language": "python",
   "name": "python3"
  },
  "language_info": {
   "codemirror_mode": {
    "name": "ipython",
    "version": 2
   },
   "file_extension": ".py",
   "mimetype": "text/x-python",
   "name": "python",
   "nbconvert_exporter": "python",
   "pygments_lexer": "ipython2",
   "version": "2.7.6"
  }
 },
 "nbformat": 4,
 "nbformat_minor": 5
}
