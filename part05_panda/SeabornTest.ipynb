{
 "cells": [
  {
   "cell_type": "raw",
   "source": [
    "시본 Seaborn  라이브러리는 맷플로립을 기반으로 다양한 테마와 통계용 차트등의 동적인 기능을 추가한 라이브러리로\n",
    "시본 라이브러리는 맷플로립과 다르게 통계와 관련된 차트를 제공하기 떄문에\n",
    "데이터프레임으로 다양한 통계 지표를 만들어 낼수있으며 데이터 분석에 활발하게 사용되고있음\n",
    "\n",
    "시본 라이브러리로 그리는 그래프들은 크게 관계형 분포형 카테고리형의 세가지 범주로 분류할수있는데\n",
    "실제 분석에는 맷플로립과 시본 라이브러리 두가지를 함께사용\n",
    "시본 라이브러리를 사용할떄 주의할 점은 시본이 맷플로ㅓ립에 의존적이기 떄문에 맷프로립 라이브러리도 반드시 함계 임포트해야됨\n",
    "\n",
    "시본 라이브러리의 주요 특징\n",
    "1) 뛰어난 시각화 효과 2) 간결한 구문 제공 3) 판다스 데이터 프레임에 최적화 4) 쉬운 데이터프레임 집계및 차트 요약\n",
    "\n",
    "시본라이브러리는 기본적으로 맷플로립보다 제공하는 색상이 더 많기에 색 표현력이 좋음\n",
    "맷플로립으로 그래프를 표현하더라도 시본의 set()함수를 미리 선언해주면 자동으로 시본 팔레트에 출력\n",
    "시본은 deep, muted, pastel, bright, dark, colorblind의 총 6개 기본 팔레트를 제공\n",
    "\n",
    "http://seaborn.pydata.org/"
   ],
   "metadata": {
    "collapsed": false
   },
   "id": "ee92d7ed2452677f"
  },
  {
   "cell_type": "raw",
   "source": [
    " 1. 데이터 시각화 준비하기"
   ],
   "metadata": {
    "collapsed": false
   },
   "id": "9baec692b485ad73"
  },
  {
   "cell_type": "raw",
   "source": [
    "01.라이브러리 및 데이터 읽어오기"
   ],
   "metadata": {
    "collapsed": false
   },
   "id": "b507e30be348b8c7"
  },
  {
   "cell_type": "code",
   "outputs": [],
   "source": [
    "import pandas as pd"
   ],
   "metadata": {
    "collapsed": false,
    "ExecuteTime": {
     "end_time": "2024-03-14T00:51:31.517864600Z",
     "start_time": "2024-03-14T00:51:30.646953100Z"
    }
   },
   "id": "43bfccdd4dea0442",
   "execution_count": 1
  },
  {
   "cell_type": "code",
   "outputs": [
    {
     "data": {
      "text/plain": "   year  city_code  gender  age_code  height  weight  waist  eye_left  \\\n0  2020         36       1         9     165      60   72.1       1.2   \n1  2020         27       2        13     150      65   81.0       0.8   \n2  2020         11       2        12     155      55   70.0       0.6   \n3  2020         31       1        13     160      70   90.8       1.0   \n4  2020         41       2        12     155      50   75.2       1.5   \n\n   eye_right  hear_left  ...  serum   AST   ALT   GTP  smoking  drinking  \\\n0        1.5          1  ...    1.1  21.0  27.0  21.0        1         0   \n1        0.8          1  ...    0.5  18.0  15.0  15.0        1         0   \n2        0.7          1  ...    0.7  27.0  25.0   7.0        1         0   \n3        1.0          1  ...    1.2  65.0  97.0  72.0        1         0   \n4        1.2          1  ...    0.7  18.0  17.0  14.0        1         0   \n\n   oral_check  dental_caries  tartar  open_date  \n0           0            NaN     NaN 2021-12-29  \n1           0            NaN     NaN 2021-12-29  \n2           0            NaN     NaN 2021-12-29  \n3           1            0.0     0.0 2021-12-29  \n4           0            NaN     NaN 2021-12-29  \n\n[5 rows x 30 columns]",
      "text/html": "<div>\n<style scoped>\n    .dataframe tbody tr th:only-of-type {\n        vertical-align: middle;\n    }\n\n    .dataframe tbody tr th {\n        vertical-align: top;\n    }\n\n    .dataframe thead th {\n        text-align: right;\n    }\n</style>\n<table border=\"1\" class=\"dataframe\">\n  <thead>\n    <tr style=\"text-align: right;\">\n      <th></th>\n      <th>year</th>\n      <th>city_code</th>\n      <th>gender</th>\n      <th>age_code</th>\n      <th>height</th>\n      <th>weight</th>\n      <th>waist</th>\n      <th>eye_left</th>\n      <th>eye_right</th>\n      <th>hear_left</th>\n      <th>...</th>\n      <th>serum</th>\n      <th>AST</th>\n      <th>ALT</th>\n      <th>GTP</th>\n      <th>smoking</th>\n      <th>drinking</th>\n      <th>oral_check</th>\n      <th>dental_caries</th>\n      <th>tartar</th>\n      <th>open_date</th>\n    </tr>\n  </thead>\n  <tbody>\n    <tr>\n      <th>0</th>\n      <td>2020</td>\n      <td>36</td>\n      <td>1</td>\n      <td>9</td>\n      <td>165</td>\n      <td>60</td>\n      <td>72.1</td>\n      <td>1.2</td>\n      <td>1.5</td>\n      <td>1</td>\n      <td>...</td>\n      <td>1.1</td>\n      <td>21.0</td>\n      <td>27.0</td>\n      <td>21.0</td>\n      <td>1</td>\n      <td>0</td>\n      <td>0</td>\n      <td>NaN</td>\n      <td>NaN</td>\n      <td>2021-12-29</td>\n    </tr>\n    <tr>\n      <th>1</th>\n      <td>2020</td>\n      <td>27</td>\n      <td>2</td>\n      <td>13</td>\n      <td>150</td>\n      <td>65</td>\n      <td>81.0</td>\n      <td>0.8</td>\n      <td>0.8</td>\n      <td>1</td>\n      <td>...</td>\n      <td>0.5</td>\n      <td>18.0</td>\n      <td>15.0</td>\n      <td>15.0</td>\n      <td>1</td>\n      <td>0</td>\n      <td>0</td>\n      <td>NaN</td>\n      <td>NaN</td>\n      <td>2021-12-29</td>\n    </tr>\n    <tr>\n      <th>2</th>\n      <td>2020</td>\n      <td>11</td>\n      <td>2</td>\n      <td>12</td>\n      <td>155</td>\n      <td>55</td>\n      <td>70.0</td>\n      <td>0.6</td>\n      <td>0.7</td>\n      <td>1</td>\n      <td>...</td>\n      <td>0.7</td>\n      <td>27.0</td>\n      <td>25.0</td>\n      <td>7.0</td>\n      <td>1</td>\n      <td>0</td>\n      <td>0</td>\n      <td>NaN</td>\n      <td>NaN</td>\n      <td>2021-12-29</td>\n    </tr>\n    <tr>\n      <th>3</th>\n      <td>2020</td>\n      <td>31</td>\n      <td>1</td>\n      <td>13</td>\n      <td>160</td>\n      <td>70</td>\n      <td>90.8</td>\n      <td>1.0</td>\n      <td>1.0</td>\n      <td>1</td>\n      <td>...</td>\n      <td>1.2</td>\n      <td>65.0</td>\n      <td>97.0</td>\n      <td>72.0</td>\n      <td>1</td>\n      <td>0</td>\n      <td>1</td>\n      <td>0.0</td>\n      <td>0.0</td>\n      <td>2021-12-29</td>\n    </tr>\n    <tr>\n      <th>4</th>\n      <td>2020</td>\n      <td>41</td>\n      <td>2</td>\n      <td>12</td>\n      <td>155</td>\n      <td>50</td>\n      <td>75.2</td>\n      <td>1.5</td>\n      <td>1.2</td>\n      <td>1</td>\n      <td>...</td>\n      <td>0.7</td>\n      <td>18.0</td>\n      <td>17.0</td>\n      <td>14.0</td>\n      <td>1</td>\n      <td>0</td>\n      <td>0</td>\n      <td>NaN</td>\n      <td>NaN</td>\n      <td>2021-12-29</td>\n    </tr>\n  </tbody>\n</table>\n<p>5 rows × 30 columns</p>\n</div>"
     },
     "execution_count": 2,
     "metadata": {},
     "output_type": "execute_result"
    }
   ],
   "source": [
    "data = pd.read_excel('./input/health_screenings_2020_1000ea.xlsx')\n",
    "data.head()"
   ],
   "metadata": {
    "collapsed": false,
    "ExecuteTime": {
     "end_time": "2024-03-14T00:52:04.648704500Z",
     "start_time": "2024-03-14T00:52:03.913359700Z"
    }
   },
   "id": "9c0e5da2123916a0",
   "execution_count": 2
  },
  {
   "cell_type": "code",
   "outputs": [
    {
     "name": "stdout",
     "output_type": "stream",
     "text": [
      "<class 'pandas.core.frame.DataFrame'>\n",
      "RangeIndex: 1000 entries, 0 to 999\n",
      "Data columns (total 30 columns):\n",
      " #   Column         Non-Null Count  Dtype         \n",
      "---  ------         --------------  -----         \n",
      " 0   year           1000 non-null   int64         \n",
      " 1   city_code      1000 non-null   int64         \n",
      " 2   gender         1000 non-null   int64         \n",
      " 3   age_code       1000 non-null   int64         \n",
      " 4   height         1000 non-null   int64         \n",
      " 5   weight         1000 non-null   int64         \n",
      " 6   waist          1000 non-null   float64       \n",
      " 7   eye_left       1000 non-null   float64       \n",
      " 8   eye_right      1000 non-null   float64       \n",
      " 9   hear_left      1000 non-null   int64         \n",
      " 10  hear_right     1000 non-null   int64         \n",
      " 11  systolic       991 non-null    float64       \n",
      " 12  diastolic      991 non-null    float64       \n",
      " 13  blood_sugar    991 non-null    float64       \n",
      " 14  cholesterol    401 non-null    float64       \n",
      " 15  triglycerides  401 non-null    float64       \n",
      " 16  HDL            401 non-null    float64       \n",
      " 17  LDL            394 non-null    float64       \n",
      " 18  hemoglobin     991 non-null    float64       \n",
      " 19  urine_protein  987 non-null    float64       \n",
      " 20  serum          991 non-null    float64       \n",
      " 21  AST            991 non-null    float64       \n",
      " 22  ALT            991 non-null    float64       \n",
      " 23  GTP            991 non-null    float64       \n",
      " 24  smoking        1000 non-null   int64         \n",
      " 25  drinking       1000 non-null   int64         \n",
      " 26  oral_check     1000 non-null   int64         \n",
      " 27  dental_caries  306 non-null    float64       \n",
      " 28  tartar         306 non-null    float64       \n",
      " 29  open_date      1000 non-null   datetime64[ns]\n",
      "dtypes: datetime64[ns](1), float64(18), int64(11)\n",
      "memory usage: 234.5 KB\n"
     ]
    }
   ],
   "source": [
    "data.info()"
   ],
   "metadata": {
    "collapsed": false,
    "ExecuteTime": {
     "end_time": "2024-03-14T00:52:18.523683600Z",
     "start_time": "2024-03-14T00:52:18.484081800Z"
    }
   },
   "id": "d5711145bfc23b77",
   "execution_count": 3
  },
  {
   "cell_type": "raw",
   "source": [
    "2. 데이터 전처리"
   ],
   "metadata": {
    "collapsed": false
   },
   "id": "bad8331ec480dab5"
  },
  {
   "cell_type": "code",
   "outputs": [
    {
     "data": {
      "text/plain": "   gender  height  weight  waist  drinking  smoking\n0       1     165      60   72.1         0        1\n1       2     150      65   81.0         0        1\n2       2     155      55   70.0         0        1\n3       1     160      70   90.8         0        1\n4       2     155      50   75.2         0        1",
      "text/html": "<div>\n<style scoped>\n    .dataframe tbody tr th:only-of-type {\n        vertical-align: middle;\n    }\n\n    .dataframe tbody tr th {\n        vertical-align: top;\n    }\n\n    .dataframe thead th {\n        text-align: right;\n    }\n</style>\n<table border=\"1\" class=\"dataframe\">\n  <thead>\n    <tr style=\"text-align: right;\">\n      <th></th>\n      <th>gender</th>\n      <th>height</th>\n      <th>weight</th>\n      <th>waist</th>\n      <th>drinking</th>\n      <th>smoking</th>\n    </tr>\n  </thead>\n  <tbody>\n    <tr>\n      <th>0</th>\n      <td>1</td>\n      <td>165</td>\n      <td>60</td>\n      <td>72.1</td>\n      <td>0</td>\n      <td>1</td>\n    </tr>\n    <tr>\n      <th>1</th>\n      <td>2</td>\n      <td>150</td>\n      <td>65</td>\n      <td>81.0</td>\n      <td>0</td>\n      <td>1</td>\n    </tr>\n    <tr>\n      <th>2</th>\n      <td>2</td>\n      <td>155</td>\n      <td>55</td>\n      <td>70.0</td>\n      <td>0</td>\n      <td>1</td>\n    </tr>\n    <tr>\n      <th>3</th>\n      <td>1</td>\n      <td>160</td>\n      <td>70</td>\n      <td>90.8</td>\n      <td>0</td>\n      <td>1</td>\n    </tr>\n    <tr>\n      <th>4</th>\n      <td>2</td>\n      <td>155</td>\n      <td>50</td>\n      <td>75.2</td>\n      <td>0</td>\n      <td>1</td>\n    </tr>\n  </tbody>\n</table>\n</div>"
     },
     "execution_count": 6,
     "metadata": {},
     "output_type": "execute_result"
    }
   ],
   "source": [
    "# 성별 음주여부 흡연상태에 대하여 숫자로 저정되어있는 정보를 데이터 분석의 가독성을 높이기 위해\n",
    "# 'Male', 'Female', 'Non-drinking', 'Drinking', 'Non_smoking', 'smoking'의 문자열로 변경하여 데이터 전처리\n",
    "\n",
    "data6 = data[['gender', 'height', 'weight', 'waist', 'drinking', 'smoking']]\n",
    "data6.head()"
   ],
   "metadata": {
    "collapsed": false,
    "ExecuteTime": {
     "end_time": "2024-03-14T01:06:28.892371800Z",
     "start_time": "2024-03-14T01:06:28.876413100Z"
    }
   },
   "id": "177a31c357f248f5",
   "execution_count": 6
  },
  {
   "cell_type": "code",
   "outputs": [
    {
     "name": "stdout",
     "output_type": "stream",
     "text": [
      "<class 'pandas.core.frame.DataFrame'>\n",
      "RangeIndex: 1000 entries, 0 to 999\n",
      "Data columns (total 6 columns):\n",
      " #   Column    Non-Null Count  Dtype  \n",
      "---  ------    --------------  -----  \n",
      " 0   gender    1000 non-null   int64  \n",
      " 1   height    1000 non-null   int64  \n",
      " 2   weight    1000 non-null   int64  \n",
      " 3   waist     1000 non-null   float64\n",
      " 4   drinking  1000 non-null   int64  \n",
      " 5   smoking   1000 non-null   int64  \n",
      "dtypes: float64(1), int64(5)\n",
      "memory usage: 47.0 KB\n"
     ]
    }
   ],
   "source": [
    "data6.info()"
   ],
   "metadata": {
    "collapsed": false,
    "ExecuteTime": {
     "end_time": "2024-03-14T01:06:41.603518400Z",
     "start_time": "2024-03-14T01:06:41.586286900Z"
    }
   },
   "id": "b913dd26bf929828",
   "execution_count": 7
  },
  {
   "cell_type": "code",
   "outputs": [
    {
     "data": {
      "text/plain": "   gender  height  weight  waist      drinking      smoking\n0    Male     165      60   72.1  Non-drinking  Non-smoking\n1  Female     150      65   81.0  Non-drinking  Non-smoking\n2  Female     155      55   70.0  Non-drinking  Non-smoking\n3    Male     160      70   90.8  Non-drinking  Non-smoking\n4  Female     155      50   75.2  Non-drinking  Non-smoking",
      "text/html": "<div>\n<style scoped>\n    .dataframe tbody tr th:only-of-type {\n        vertical-align: middle;\n    }\n\n    .dataframe tbody tr th {\n        vertical-align: top;\n    }\n\n    .dataframe thead th {\n        text-align: right;\n    }\n</style>\n<table border=\"1\" class=\"dataframe\">\n  <thead>\n    <tr style=\"text-align: right;\">\n      <th></th>\n      <th>gender</th>\n      <th>height</th>\n      <th>weight</th>\n      <th>waist</th>\n      <th>drinking</th>\n      <th>smoking</th>\n    </tr>\n  </thead>\n  <tbody>\n    <tr>\n      <th>0</th>\n      <td>Male</td>\n      <td>165</td>\n      <td>60</td>\n      <td>72.1</td>\n      <td>Non-drinking</td>\n      <td>Non-smoking</td>\n    </tr>\n    <tr>\n      <th>1</th>\n      <td>Female</td>\n      <td>150</td>\n      <td>65</td>\n      <td>81.0</td>\n      <td>Non-drinking</td>\n      <td>Non-smoking</td>\n    </tr>\n    <tr>\n      <th>2</th>\n      <td>Female</td>\n      <td>155</td>\n      <td>55</td>\n      <td>70.0</td>\n      <td>Non-drinking</td>\n      <td>Non-smoking</td>\n    </tr>\n    <tr>\n      <th>3</th>\n      <td>Male</td>\n      <td>160</td>\n      <td>70</td>\n      <td>90.8</td>\n      <td>Non-drinking</td>\n      <td>Non-smoking</td>\n    </tr>\n    <tr>\n      <th>4</th>\n      <td>Female</td>\n      <td>155</td>\n      <td>50</td>\n      <td>75.2</td>\n      <td>Non-drinking</td>\n      <td>Non-smoking</td>\n    </tr>\n  </tbody>\n</table>\n</div>"
     },
     "execution_count": 11,
     "metadata": {},
     "output_type": "execute_result"
    }
   ],
   "source": [
    "# 성별 데이터를 Male과 female로 변경\n",
    "data6.loc[data6['gender'] == 1, ['gender']] = 'Male'\n",
    "data6.loc[data6['gender'] == 2, ['gender']] = 'Female'\n",
    "# 음주 여부 0 비음주 Non-drinking 1 음주는 Drinking 으로 변경\n",
    "data6.loc[data6['drinking'] == 0, ['drinking']] = 'Non-drinking'\n",
    "data6.loc[data6['drinking'] == 1, ['drinking']] = 'drinking'\n",
    "# 흡연상태 1(비흡연)과 2 (흡연 끊음)는 Non_smoking 3 (흡연) smoking 으로 변경\n",
    "data6.loc[(data6['smoking'] == 1) | (data6['smoking'] == 2), ['smoking']] = 'Non-smoking'\n",
    "data6.loc[data6['smoking'] == 3, ['smoking']] = 'smoking' \n",
    "data6.head()"
   ],
   "metadata": {
    "collapsed": false,
    "ExecuteTime": {
     "end_time": "2024-03-14T01:16:16.847310200Z",
     "start_time": "2024-03-14T01:16:16.835350500Z"
    }
   },
   "id": "277ea3b700d6a4e1",
   "execution_count": 11
  },
  {
   "cell_type": "code",
   "outputs": [
    {
     "name": "stdout",
     "output_type": "stream",
     "text": [
      "<class 'pandas.core.frame.DataFrame'>\n",
      "RangeIndex: 1000 entries, 0 to 999\n",
      "Data columns (total 6 columns):\n",
      " #   Column    Non-Null Count  Dtype  \n",
      "---  ------    --------------  -----  \n",
      " 0   gender    1000 non-null   object \n",
      " 1   height    1000 non-null   int64  \n",
      " 2   weight    1000 non-null   int64  \n",
      " 3   waist     1000 non-null   float64\n",
      " 4   drinking  1000 non-null   object \n",
      " 5   smoking   1000 non-null   object \n",
      "dtypes: float64(1), int64(2), object(3)\n",
      "memory usage: 47.0+ KB\n"
     ]
    }
   ],
   "source": [
    "data6.info()"
   ],
   "metadata": {
    "collapsed": false,
    "ExecuteTime": {
     "end_time": "2024-03-14T01:16:50.972560100Z",
     "start_time": "2024-03-14T01:16:50.958365Z"
    }
   },
   "id": "2f92fd5a6a904f4c",
   "execution_count": 12
  },
  {
   "cell_type": "code",
   "outputs": [],
   "source": [
    "#데이터 저장\n",
    "data6.to_pickle('./output/data6.pickle')"
   ],
   "metadata": {
    "collapsed": false,
    "ExecuteTime": {
     "end_time": "2024-03-14T01:18:45.033476300Z",
     "start_time": "2024-03-14T01:18:45.015632400Z"
    }
   },
   "id": "4f197e2314754f0d",
   "execution_count": 14
  }
 ],
 "metadata": {
  "kernelspec": {
   "display_name": "Python 3",
   "language": "python",
   "name": "python3"
  },
  "language_info": {
   "codemirror_mode": {
    "name": "ipython",
    "version": 2
   },
   "file_extension": ".py",
   "mimetype": "text/x-python",
   "name": "python",
   "nbconvert_exporter": "python",
   "pygments_lexer": "ipython2",
   "version": "2.7.6"
  }
 },
 "nbformat": 4,
 "nbformat_minor": 5
}
