{
 "cells": [
  {
   "cell_type": "code",
   "execution_count": null,
   "id": "initial_id",
   "metadata": {
    "collapsed": true
   },
   "outputs": [],
   "source": [
    "#'서울특별시 코로나19 백신 예방접종현황'에 대한 정보를 가지고 있는 데이터 파일 (vaccine.csv)을 이용하여 모든 문제를 차례대로 수행하세요.\n",
    "\n",
    "# 필드명 : 설명\n",
    "# date : 접종일\n",
    "# subject : 접종대상자\n",
    "# day1num : 당일 1차 접종자 수\n",
    "# day1sum : 1차 접종 누계\n",
    "# day1rate : 1차 접종률\n",
    "# day2num : 당일 2차 접종자 수\n",
    "# day2sum : 2차 접종 누계\n",
    "# day2rate : 2차 접종률\n",
    "\n",
    "# 1) csv파일을 불러와서 하위 5행의 데이터를 확인.\n",
    "# 2) 필요없는 열을 삭제한 후 출력\n",
    "# 삭제할 열 : day1sum, day1rate, day2sum, day2rate\n",
    "# 3) 데이터프레임의 기초통계량을 확인\n",
    "# 4) 새로운열(\"월\")을 생성한 후 데이터 날짜의 월을 입력\n",
    "#  5) 월별 평균을 출력 "
   ]
  },
  {
   "cell_type": "code",
   "outputs": [],
   "source": [
    "import pandas as pd"
   ],
   "metadata": {
    "collapsed": false,
    "ExecuteTime": {
     "end_time": "2024-03-13T01:11:48.573904200Z",
     "start_time": "2024-03-13T01:11:47.861111600Z"
    }
   },
   "id": "6435225e4770f5f7",
   "execution_count": 1
  },
  {
   "cell_type": "code",
   "outputs": [
    {
     "data": {
      "text/plain": "           date  subject  day1num  day1sum  day1rate  day2num  day2sum  \\\n174  2021.04.25  1023346    23323   350631      34.2     3411    18513   \n175  2021.04.24  1023346      200   350427      34.2        0    18513   \n176  2021.04.23  1027740    10195   345764      33.6      119    18376   \n177  2021.04.22  1023538    27074   317386      31.0     2479    15901   \n178  2021.04.21  1019322    22501   291857      28.6     2358    13543   \n\n     day2rate  \n174       1.8  \n175       1.8  \n176       1.8  \n177       1.6  \n178       1.3  ",
      "text/html": "<div>\n<style scoped>\n    .dataframe tbody tr th:only-of-type {\n        vertical-align: middle;\n    }\n\n    .dataframe tbody tr th {\n        vertical-align: top;\n    }\n\n    .dataframe thead th {\n        text-align: right;\n    }\n</style>\n<table border=\"1\" class=\"dataframe\">\n  <thead>\n    <tr style=\"text-align: right;\">\n      <th></th>\n      <th>date</th>\n      <th>subject</th>\n      <th>day1num</th>\n      <th>day1sum</th>\n      <th>day1rate</th>\n      <th>day2num</th>\n      <th>day2sum</th>\n      <th>day2rate</th>\n    </tr>\n  </thead>\n  <tbody>\n    <tr>\n      <th>174</th>\n      <td>2021.04.25</td>\n      <td>1023346</td>\n      <td>23323</td>\n      <td>350631</td>\n      <td>34.2</td>\n      <td>3411</td>\n      <td>18513</td>\n      <td>1.8</td>\n    </tr>\n    <tr>\n      <th>175</th>\n      <td>2021.04.24</td>\n      <td>1023346</td>\n      <td>200</td>\n      <td>350427</td>\n      <td>34.2</td>\n      <td>0</td>\n      <td>18513</td>\n      <td>1.8</td>\n    </tr>\n    <tr>\n      <th>176</th>\n      <td>2021.04.23</td>\n      <td>1027740</td>\n      <td>10195</td>\n      <td>345764</td>\n      <td>33.6</td>\n      <td>119</td>\n      <td>18376</td>\n      <td>1.8</td>\n    </tr>\n    <tr>\n      <th>177</th>\n      <td>2021.04.22</td>\n      <td>1023538</td>\n      <td>27074</td>\n      <td>317386</td>\n      <td>31.0</td>\n      <td>2479</td>\n      <td>15901</td>\n      <td>1.6</td>\n    </tr>\n    <tr>\n      <th>178</th>\n      <td>2021.04.21</td>\n      <td>1019322</td>\n      <td>22501</td>\n      <td>291857</td>\n      <td>28.6</td>\n      <td>2358</td>\n      <td>13543</td>\n      <td>1.3</td>\n    </tr>\n  </tbody>\n</table>\n</div>"
     },
     "execution_count": 3,
     "metadata": {},
     "output_type": "execute_result"
    }
   ],
   "source": [
    "s1 = pd.read_csv('../NumPy/input/vaccine.csv', encoding='cp949')\n",
    "s1.tail()"
   ],
   "metadata": {
    "collapsed": false,
    "ExecuteTime": {
     "end_time": "2024-03-13T01:13:17.210423500Z",
     "start_time": "2024-03-13T01:13:17.176773200Z"
    }
   },
   "id": "952be777b3ca9e5a",
   "execution_count": 3
  },
  {
   "cell_type": "code",
   "outputs": [
    {
     "data": {
      "text/plain": "           date  subject  day1num  day2num\n0    2021.10.16  9505868    10673    66910\n1    2021.10.15  9505868    14556   133580\n2    2021.10.14  9505868     9609    94569\n3    2021.10.13  9505868     9804    77503\n4    2021.10.12  9505868    17274   110204\n..          ...      ...      ...      ...\n174  2021.04.25  1023346    23323     3411\n175  2021.04.24  1023346      200        0\n176  2021.04.23  1027740    10195      119\n177  2021.04.22  1023538    27074     2479\n178  2021.04.21  1019322    22501     2358\n\n[179 rows x 4 columns]",
      "text/html": "<div>\n<style scoped>\n    .dataframe tbody tr th:only-of-type {\n        vertical-align: middle;\n    }\n\n    .dataframe tbody tr th {\n        vertical-align: top;\n    }\n\n    .dataframe thead th {\n        text-align: right;\n    }\n</style>\n<table border=\"1\" class=\"dataframe\">\n  <thead>\n    <tr style=\"text-align: right;\">\n      <th></th>\n      <th>date</th>\n      <th>subject</th>\n      <th>day1num</th>\n      <th>day2num</th>\n    </tr>\n  </thead>\n  <tbody>\n    <tr>\n      <th>0</th>\n      <td>2021.10.16</td>\n      <td>9505868</td>\n      <td>10673</td>\n      <td>66910</td>\n    </tr>\n    <tr>\n      <th>1</th>\n      <td>2021.10.15</td>\n      <td>9505868</td>\n      <td>14556</td>\n      <td>133580</td>\n    </tr>\n    <tr>\n      <th>2</th>\n      <td>2021.10.14</td>\n      <td>9505868</td>\n      <td>9609</td>\n      <td>94569</td>\n    </tr>\n    <tr>\n      <th>3</th>\n      <td>2021.10.13</td>\n      <td>9505868</td>\n      <td>9804</td>\n      <td>77503</td>\n    </tr>\n    <tr>\n      <th>4</th>\n      <td>2021.10.12</td>\n      <td>9505868</td>\n      <td>17274</td>\n      <td>110204</td>\n    </tr>\n    <tr>\n      <th>...</th>\n      <td>...</td>\n      <td>...</td>\n      <td>...</td>\n      <td>...</td>\n    </tr>\n    <tr>\n      <th>174</th>\n      <td>2021.04.25</td>\n      <td>1023346</td>\n      <td>23323</td>\n      <td>3411</td>\n    </tr>\n    <tr>\n      <th>175</th>\n      <td>2021.04.24</td>\n      <td>1023346</td>\n      <td>200</td>\n      <td>0</td>\n    </tr>\n    <tr>\n      <th>176</th>\n      <td>2021.04.23</td>\n      <td>1027740</td>\n      <td>10195</td>\n      <td>119</td>\n    </tr>\n    <tr>\n      <th>177</th>\n      <td>2021.04.22</td>\n      <td>1023538</td>\n      <td>27074</td>\n      <td>2479</td>\n    </tr>\n    <tr>\n      <th>178</th>\n      <td>2021.04.21</td>\n      <td>1019322</td>\n      <td>22501</td>\n      <td>2358</td>\n    </tr>\n  </tbody>\n</table>\n<p>179 rows × 4 columns</p>\n</div>"
     },
     "execution_count": 5,
     "metadata": {},
     "output_type": "execute_result"
    }
   ],
   "source": [
    "s1 = s1.drop(['day1sum', 'day1rate', 'day2sum', 'day2rate'], axis=1)\n",
    "s1"
   ],
   "metadata": {
    "collapsed": false,
    "ExecuteTime": {
     "end_time": "2024-03-13T01:17:22.811104800Z",
     "start_time": "2024-03-13T01:17:22.779666600Z"
    }
   },
   "id": "98d6a247c3a64979",
   "execution_count": 5
  },
  {
   "cell_type": "code",
   "outputs": [
    {
     "data": {
      "text/plain": "            subject        day1num        day2num\ncount  1.790000e+02     179.000000     179.000000\nmean   5.086644e+06   40078.150838   34096.636872\nstd    3.324235e+06   44231.469656   40745.688278\nmin    1.019322e+06       0.000000       0.000000\n25%    2.279241e+06    4385.000000    4794.500000\n50%    3.943320e+06   23323.000000   16581.000000\n75%    9.505868e+06   71634.500000   50950.000000\nmax    9.795426e+06  169036.000000  200186.000000",
      "text/html": "<div>\n<style scoped>\n    .dataframe tbody tr th:only-of-type {\n        vertical-align: middle;\n    }\n\n    .dataframe tbody tr th {\n        vertical-align: top;\n    }\n\n    .dataframe thead th {\n        text-align: right;\n    }\n</style>\n<table border=\"1\" class=\"dataframe\">\n  <thead>\n    <tr style=\"text-align: right;\">\n      <th></th>\n      <th>subject</th>\n      <th>day1num</th>\n      <th>day2num</th>\n    </tr>\n  </thead>\n  <tbody>\n    <tr>\n      <th>count</th>\n      <td>1.790000e+02</td>\n      <td>179.000000</td>\n      <td>179.000000</td>\n    </tr>\n    <tr>\n      <th>mean</th>\n      <td>5.086644e+06</td>\n      <td>40078.150838</td>\n      <td>34096.636872</td>\n    </tr>\n    <tr>\n      <th>std</th>\n      <td>3.324235e+06</td>\n      <td>44231.469656</td>\n      <td>40745.688278</td>\n    </tr>\n    <tr>\n      <th>min</th>\n      <td>1.019322e+06</td>\n      <td>0.000000</td>\n      <td>0.000000</td>\n    </tr>\n    <tr>\n      <th>25%</th>\n      <td>2.279241e+06</td>\n      <td>4385.000000</td>\n      <td>4794.500000</td>\n    </tr>\n    <tr>\n      <th>50%</th>\n      <td>3.943320e+06</td>\n      <td>23323.000000</td>\n      <td>16581.000000</td>\n    </tr>\n    <tr>\n      <th>75%</th>\n      <td>9.505868e+06</td>\n      <td>71634.500000</td>\n      <td>50950.000000</td>\n    </tr>\n    <tr>\n      <th>max</th>\n      <td>9.795426e+06</td>\n      <td>169036.000000</td>\n      <td>200186.000000</td>\n    </tr>\n  </tbody>\n</table>\n</div>"
     },
     "execution_count": 7,
     "metadata": {},
     "output_type": "execute_result"
    }
   ],
   "source": [
    "s1.describe()"
   ],
   "metadata": {
    "collapsed": false,
    "ExecuteTime": {
     "end_time": "2024-03-13T01:19:38.728994900Z",
     "start_time": "2024-03-13T01:19:38.698656Z"
    }
   },
   "id": "a85efe6bf880f5a6",
   "execution_count": 7
  },
  {
   "cell_type": "code",
   "outputs": [
    {
     "data": {
      "text/plain": "<bound method DataFrame.info of            date  subject  day1num  day2num\n0    2021.10.16  9505868    10673    66910\n1    2021.10.15  9505868    14556   133580\n2    2021.10.14  9505868     9609    94569\n3    2021.10.13  9505868     9804    77503\n4    2021.10.12  9505868    17274   110204\n..          ...      ...      ...      ...\n174  2021.04.25  1023346    23323     3411\n175  2021.04.24  1023346      200        0\n176  2021.04.23  1027740    10195      119\n177  2021.04.22  1023538    27074     2479\n178  2021.04.21  1019322    22501     2358\n\n[179 rows x 4 columns]>"
     },
     "execution_count": 10,
     "metadata": {},
     "output_type": "execute_result"
    }
   ],
   "source": [
    "s1.info"
   ],
   "metadata": {
    "collapsed": false,
    "ExecuteTime": {
     "end_time": "2024-03-13T01:34:40.102628800Z",
     "start_time": "2024-03-13T01:34:40.072965200Z"
    }
   },
   "id": "cbf1406b2f4a166a",
   "execution_count": 10
  },
  {
   "cell_type": "code",
   "outputs": [
    {
     "data": {
      "text/plain": "           date  subject  day1num  day2num   월\n0    2021.10.16  9505868    10673    66910  10\n1    2021.10.15  9505868    14556   133580  10\n2    2021.10.14  9505868     9609    94569  10\n3    2021.10.13  9505868     9804    77503  10\n4    2021.10.12  9505868    17274   110204  10\n..          ...      ...      ...      ...  ..\n174  2021.04.25  1023346    23323     3411  04\n175  2021.04.24  1023346      200        0  04\n176  2021.04.23  1027740    10195      119  04\n177  2021.04.22  1023538    27074     2479  04\n178  2021.04.21  1019322    22501     2358  04\n\n[179 rows x 5 columns]",
      "text/html": "<div>\n<style scoped>\n    .dataframe tbody tr th:only-of-type {\n        vertical-align: middle;\n    }\n\n    .dataframe tbody tr th {\n        vertical-align: top;\n    }\n\n    .dataframe thead th {\n        text-align: right;\n    }\n</style>\n<table border=\"1\" class=\"dataframe\">\n  <thead>\n    <tr style=\"text-align: right;\">\n      <th></th>\n      <th>date</th>\n      <th>subject</th>\n      <th>day1num</th>\n      <th>day2num</th>\n      <th>월</th>\n    </tr>\n  </thead>\n  <tbody>\n    <tr>\n      <th>0</th>\n      <td>2021.10.16</td>\n      <td>9505868</td>\n      <td>10673</td>\n      <td>66910</td>\n      <td>10</td>\n    </tr>\n    <tr>\n      <th>1</th>\n      <td>2021.10.15</td>\n      <td>9505868</td>\n      <td>14556</td>\n      <td>133580</td>\n      <td>10</td>\n    </tr>\n    <tr>\n      <th>2</th>\n      <td>2021.10.14</td>\n      <td>9505868</td>\n      <td>9609</td>\n      <td>94569</td>\n      <td>10</td>\n    </tr>\n    <tr>\n      <th>3</th>\n      <td>2021.10.13</td>\n      <td>9505868</td>\n      <td>9804</td>\n      <td>77503</td>\n      <td>10</td>\n    </tr>\n    <tr>\n      <th>4</th>\n      <td>2021.10.12</td>\n      <td>9505868</td>\n      <td>17274</td>\n      <td>110204</td>\n      <td>10</td>\n    </tr>\n    <tr>\n      <th>...</th>\n      <td>...</td>\n      <td>...</td>\n      <td>...</td>\n      <td>...</td>\n      <td>...</td>\n    </tr>\n    <tr>\n      <th>174</th>\n      <td>2021.04.25</td>\n      <td>1023346</td>\n      <td>23323</td>\n      <td>3411</td>\n      <td>04</td>\n    </tr>\n    <tr>\n      <th>175</th>\n      <td>2021.04.24</td>\n      <td>1023346</td>\n      <td>200</td>\n      <td>0</td>\n      <td>04</td>\n    </tr>\n    <tr>\n      <th>176</th>\n      <td>2021.04.23</td>\n      <td>1027740</td>\n      <td>10195</td>\n      <td>119</td>\n      <td>04</td>\n    </tr>\n    <tr>\n      <th>177</th>\n      <td>2021.04.22</td>\n      <td>1023538</td>\n      <td>27074</td>\n      <td>2479</td>\n      <td>04</td>\n    </tr>\n    <tr>\n      <th>178</th>\n      <td>2021.04.21</td>\n      <td>1019322</td>\n      <td>22501</td>\n      <td>2358</td>\n      <td>04</td>\n    </tr>\n  </tbody>\n</table>\n<p>179 rows × 5 columns</p>\n</div>"
     },
     "execution_count": 11,
     "metadata": {},
     "output_type": "execute_result"
    }
   ],
   "source": [
    "s1['월'] = s1.date.astype(str).str.slice(5, 7)\n",
    "s1"
   ],
   "metadata": {
    "collapsed": false,
    "ExecuteTime": {
     "end_time": "2024-03-13T01:39:37.790056Z",
     "start_time": "2024-03-13T01:39:37.747647400Z"
    }
   },
   "id": "ddf4dc9fdffa099b",
   "execution_count": 11
  },
  {
   "cell_type": "code",
   "outputs": [
    {
     "data": {
      "text/plain": "         day1num       day2num\n월                             \n04  22060.100000   2304.600000\n05  18225.548387   9734.000000\n06  55957.200000  20147.300000\n07  25807.870968   9934.903226\n08  57667.258065  55575.000000\n09  65715.000000  62162.000000\n10   9406.312500  79900.750000",
      "text/html": "<div>\n<style scoped>\n    .dataframe tbody tr th:only-of-type {\n        vertical-align: middle;\n    }\n\n    .dataframe tbody tr th {\n        vertical-align: top;\n    }\n\n    .dataframe thead th {\n        text-align: right;\n    }\n</style>\n<table border=\"1\" class=\"dataframe\">\n  <thead>\n    <tr style=\"text-align: right;\">\n      <th></th>\n      <th>day1num</th>\n      <th>day2num</th>\n    </tr>\n    <tr>\n      <th>월</th>\n      <th></th>\n      <th></th>\n    </tr>\n  </thead>\n  <tbody>\n    <tr>\n      <th>04</th>\n      <td>22060.100000</td>\n      <td>2304.600000</td>\n    </tr>\n    <tr>\n      <th>05</th>\n      <td>18225.548387</td>\n      <td>9734.000000</td>\n    </tr>\n    <tr>\n      <th>06</th>\n      <td>55957.200000</td>\n      <td>20147.300000</td>\n    </tr>\n    <tr>\n      <th>07</th>\n      <td>25807.870968</td>\n      <td>9934.903226</td>\n    </tr>\n    <tr>\n      <th>08</th>\n      <td>57667.258065</td>\n      <td>55575.000000</td>\n    </tr>\n    <tr>\n      <th>09</th>\n      <td>65715.000000</td>\n      <td>62162.000000</td>\n    </tr>\n    <tr>\n      <th>10</th>\n      <td>9406.312500</td>\n      <td>79900.750000</td>\n    </tr>\n  </tbody>\n</table>\n</div>"
     },
     "execution_count": 15,
     "metadata": {},
     "output_type": "execute_result"
    }
   ],
   "source": [
    "s2 = s1[['day1num', 'day2num', '월']].groupby('월').mean()\n",
    "s2"
   ],
   "metadata": {
    "collapsed": false,
    "ExecuteTime": {
     "end_time": "2024-03-13T01:42:53.899263900Z",
     "start_time": "2024-03-13T01:42:53.887207Z"
    }
   },
   "id": "7fbeb91b25f51420",
   "execution_count": 15
  },
  {
   "cell_type": "code",
   "outputs": [
    {
     "data": {
      "text/plain": "<bound method DataFrame.info of                       상가업소번호            상호명  지점명 상권업종대분류코드 상권업종대분류명 상권업종중분류코드  \\\n0       MA010120220805431708           솔밭민박  NaN        I1       숙박      I101   \n1       MA010120220805432237            의성탕  NaN        S2    수리·개인      S208   \n2       MA010120220805432258          머릿결사랑  NaN        S2    수리·개인      S207   \n3       MA010120220805432850            아지트  NaN        I2       음식      I211   \n4       MA010120220805436067         백석탄골부리  NaN        R1   예술·스포츠      R104   \n...                      ...            ...  ...       ...      ...       ...   \n138540  MA010120220809351179         현대오토바이  NaN        S2    수리·개인      S204   \n138541  MA010120220805383352  온천골가마솥국밥경북도청점  NaN        I2       음식      I201   \n138542  MA0101202302A0075828         청도친구인력  NaN        N1  시설관리·임대      N104   \n138543  MA010120220803851633       도리도리닭도리탕  NaN        I2       음식      I201   \n138544  MA010120220814179145          베스트통신  NaN        G2       소매      G208   \n\n        상권업종중분류명 상권업종소분류코드      상권업종소분류명 표준산업분류코드  ...  \\\n0          일반 숙박    I10103            펜션   I55104  ...   \n1        욕탕·신체관리    S20801       목욕탕/사우나   S96121  ...   \n2          이용·미용    S20701           미용실   S96112  ...   \n3             주점    I21104         요리 주점   I56219  ...   \n4         유원지·오락    R10499  기타 오락관련 서비스업   R91299  ...   \n...          ...       ...           ...      ...  ...   \n138540  모터사이클 수리    S20401     모터사이클 수리업   S95220  ...   \n138541        한식    I20102       국/탕/찌개류   I56111  ...   \n138542     고용 알선    N10401        고용 알선업   N75110  ...   \n138543        한식    I20101        백반/한정식   I56111  ...   \n138544  가전·통신 소매    G20802       핸드폰 소매업   G47312  ...   \n\n                           건물관리번호   건물명                     도로명주소   구우편번호  \\\n0       4725042023105670001000001   NaN   경상북도 상주시 화북면 문장로 1502-9  742871   \n1       4773025022107490010004046   NaN       경상북도 의성군 의성읍 군청길 69  769803   \n2       4717012200102240005024992   NaN         경상북도 안동시 서경지5길 71  760904   \n3       4713012400104380004025066   NaN           경상북도 경주시 용담로 82  780954   \n4       4775035040101090000000001   NaN  경상북도 청송군 안덕면 백석탄로 541-21  763862   \n...                           ...   ...                       ...     ...   \n138540  4725036025105430001038988   NaN    경상북도 상주시 외남면 석단로 939-2  742971   \n138541  4717034021113850000000001   NaN    경상북도 안동시 풍천면 풍요6길 29-3  760811   \n138542  4782036031106500004022141   NaN       경상북도 청도군 금천면 금천로 78  714872   \n138543  4711110100100180188117959  성은빌딩        경상북도 포항시 남구 상공로 81  790827   \n138544  4785025325110820002033945   NaN     경상북도 칠곡군 북삼읍 금오대로1길 1  718844   \n\n        신우편번호  동정보  층정보  호정보          경도         위도  \n0       37102  NaN  NaN  NaN  127.922707  36.543640  \n1       37339  NaN  NaN  NaN  128.701183  36.352030  \n2       36676  NaN    1  NaN  128.715714  36.559903  \n3       38084  NaN    2  NaN  129.212801  35.863751  \n4       37449  NaN  NaN  NaN  128.995628  36.349543  \n...       ...  ...  ...  ...         ...        ...  \n138540  37259  NaN  NaN  NaN  128.089427  36.358164  \n138541  36759  NaN    1  NaN  128.500179  36.576034  \n138542  38362  NaN  NaN  NaN  128.888500  35.694607  \n138543  37765  NaN  NaN  NaN  129.358611  36.015412  \n138544  39812  NaN  NaN  NaN  128.347027  36.069870  \n\n[138545 rows x 39 columns]>"
     },
     "execution_count": 17,
     "metadata": {},
     "output_type": "execute_result"
    }
   ],
   "source": [
    "s3 = pd.read_csv('../NumPy/input/소상공인시장진흥공단_상가(상권)정보_경북_202312.csv')\n",
    "s3.info"
   ],
   "metadata": {
    "collapsed": false,
    "ExecuteTime": {
     "end_time": "2024-03-13T01:47:58.899476700Z",
     "start_time": "2024-03-13T01:47:57.486525500Z"
    }
   },
   "id": "48215059a32c2773",
   "execution_count": 17
  },
  {
   "cell_type": "code",
   "outputs": [
    {
     "data": {
      "text/plain": "                 상가업소번호     상호명  지점명 상권업종대분류코드 상권업종대분류명 상권업종중분류코드 상권업종중분류명  \\\n0  MA010120220805431708    솔밭민박  NaN        I1       숙박      I101    일반 숙박   \n1  MA010120220805432237     의성탕  NaN        S2    수리·개인      S208  욕탕·신체관리   \n2  MA010120220805432258   머릿결사랑  NaN        S2    수리·개인      S207    이용·미용   \n3  MA010120220805432850     아지트  NaN        I2       음식      I211       주점   \n4  MA010120220805436067  백석탄골부리  NaN        R1   예술·스포츠      R104   유원지·오락   \n\n  상권업종소분류코드      상권업종소분류명 표준산업분류코드  ...                     건물관리번호  건물명  \\\n0    I10103            펜션   I55104  ...  4725042023105670001000001  NaN   \n1    S20801       목욕탕/사우나   S96121  ...  4773025022107490010004046  NaN   \n2    S20701           미용실   S96112  ...  4717012200102240005024992  NaN   \n3    I21104         요리 주점   I56219  ...  4713012400104380004025066  NaN   \n4    R10499  기타 오락관련 서비스업   R91299  ...  4775035040101090000000001  NaN   \n\n                      도로명주소   구우편번호  신우편번호  동정보  층정보  호정보          경도  \\\n0   경상북도 상주시 화북면 문장로 1502-9  742871  37102  NaN  NaN  NaN  127.922707   \n1       경상북도 의성군 의성읍 군청길 69  769803  37339  NaN  NaN  NaN  128.701183   \n2         경상북도 안동시 서경지5길 71  760904  36676  NaN    1  NaN  128.715714   \n3           경상북도 경주시 용담로 82  780954  38084  NaN    2  NaN  129.212801   \n4  경상북도 청송군 안덕면 백석탄로 541-21  763862  37449  NaN  NaN  NaN  128.995628   \n\n          위도  \n0  36.543640  \n1  36.352030  \n2  36.559903  \n3  35.863751  \n4  36.349543  \n\n[5 rows x 39 columns]",
      "text/html": "<div>\n<style scoped>\n    .dataframe tbody tr th:only-of-type {\n        vertical-align: middle;\n    }\n\n    .dataframe tbody tr th {\n        vertical-align: top;\n    }\n\n    .dataframe thead th {\n        text-align: right;\n    }\n</style>\n<table border=\"1\" class=\"dataframe\">\n  <thead>\n    <tr style=\"text-align: right;\">\n      <th></th>\n      <th>상가업소번호</th>\n      <th>상호명</th>\n      <th>지점명</th>\n      <th>상권업종대분류코드</th>\n      <th>상권업종대분류명</th>\n      <th>상권업종중분류코드</th>\n      <th>상권업종중분류명</th>\n      <th>상권업종소분류코드</th>\n      <th>상권업종소분류명</th>\n      <th>표준산업분류코드</th>\n      <th>...</th>\n      <th>건물관리번호</th>\n      <th>건물명</th>\n      <th>도로명주소</th>\n      <th>구우편번호</th>\n      <th>신우편번호</th>\n      <th>동정보</th>\n      <th>층정보</th>\n      <th>호정보</th>\n      <th>경도</th>\n      <th>위도</th>\n    </tr>\n  </thead>\n  <tbody>\n    <tr>\n      <th>0</th>\n      <td>MA010120220805431708</td>\n      <td>솔밭민박</td>\n      <td>NaN</td>\n      <td>I1</td>\n      <td>숙박</td>\n      <td>I101</td>\n      <td>일반 숙박</td>\n      <td>I10103</td>\n      <td>펜션</td>\n      <td>I55104</td>\n      <td>...</td>\n      <td>4725042023105670001000001</td>\n      <td>NaN</td>\n      <td>경상북도 상주시 화북면 문장로 1502-9</td>\n      <td>742871</td>\n      <td>37102</td>\n      <td>NaN</td>\n      <td>NaN</td>\n      <td>NaN</td>\n      <td>127.922707</td>\n      <td>36.543640</td>\n    </tr>\n    <tr>\n      <th>1</th>\n      <td>MA010120220805432237</td>\n      <td>의성탕</td>\n      <td>NaN</td>\n      <td>S2</td>\n      <td>수리·개인</td>\n      <td>S208</td>\n      <td>욕탕·신체관리</td>\n      <td>S20801</td>\n      <td>목욕탕/사우나</td>\n      <td>S96121</td>\n      <td>...</td>\n      <td>4773025022107490010004046</td>\n      <td>NaN</td>\n      <td>경상북도 의성군 의성읍 군청길 69</td>\n      <td>769803</td>\n      <td>37339</td>\n      <td>NaN</td>\n      <td>NaN</td>\n      <td>NaN</td>\n      <td>128.701183</td>\n      <td>36.352030</td>\n    </tr>\n    <tr>\n      <th>2</th>\n      <td>MA010120220805432258</td>\n      <td>머릿결사랑</td>\n      <td>NaN</td>\n      <td>S2</td>\n      <td>수리·개인</td>\n      <td>S207</td>\n      <td>이용·미용</td>\n      <td>S20701</td>\n      <td>미용실</td>\n      <td>S96112</td>\n      <td>...</td>\n      <td>4717012200102240005024992</td>\n      <td>NaN</td>\n      <td>경상북도 안동시 서경지5길 71</td>\n      <td>760904</td>\n      <td>36676</td>\n      <td>NaN</td>\n      <td>1</td>\n      <td>NaN</td>\n      <td>128.715714</td>\n      <td>36.559903</td>\n    </tr>\n    <tr>\n      <th>3</th>\n      <td>MA010120220805432850</td>\n      <td>아지트</td>\n      <td>NaN</td>\n      <td>I2</td>\n      <td>음식</td>\n      <td>I211</td>\n      <td>주점</td>\n      <td>I21104</td>\n      <td>요리 주점</td>\n      <td>I56219</td>\n      <td>...</td>\n      <td>4713012400104380004025066</td>\n      <td>NaN</td>\n      <td>경상북도 경주시 용담로 82</td>\n      <td>780954</td>\n      <td>38084</td>\n      <td>NaN</td>\n      <td>2</td>\n      <td>NaN</td>\n      <td>129.212801</td>\n      <td>35.863751</td>\n    </tr>\n    <tr>\n      <th>4</th>\n      <td>MA010120220805436067</td>\n      <td>백석탄골부리</td>\n      <td>NaN</td>\n      <td>R1</td>\n      <td>예술·스포츠</td>\n      <td>R104</td>\n      <td>유원지·오락</td>\n      <td>R10499</td>\n      <td>기타 오락관련 서비스업</td>\n      <td>R91299</td>\n      <td>...</td>\n      <td>4775035040101090000000001</td>\n      <td>NaN</td>\n      <td>경상북도 청송군 안덕면 백석탄로 541-21</td>\n      <td>763862</td>\n      <td>37449</td>\n      <td>NaN</td>\n      <td>NaN</td>\n      <td>NaN</td>\n      <td>128.995628</td>\n      <td>36.349543</td>\n    </tr>\n  </tbody>\n</table>\n<p>5 rows × 39 columns</p>\n</div>"
     },
     "execution_count": 18,
     "metadata": {},
     "output_type": "execute_result"
    }
   ],
   "source": [
    "s3.head()"
   ],
   "metadata": {
    "collapsed": false,
    "ExecuteTime": {
     "end_time": "2024-03-13T01:48:42.991177800Z",
     "start_time": "2024-03-13T01:48:42.961605500Z"
    }
   },
   "id": "c74113a15507c55d",
   "execution_count": 18
  },
  {
   "cell_type": "code",
   "outputs": [
    {
     "data": {
      "text/plain": "                  상가업소번호     상호명  지점명 상권업종대분류코드 상권업종대분류명 상권업종중분류코드   상권업종중분류명  \\\n8   MA010120220805437185  칼국수한그릇  NaN        I2       음식      I201         한식   \n10  MA010120220805439966   영할인마트  NaN        G2       소매      G204      종합 소매   \n27  MA010120220805450515   우성돈까스  NaN        I2       음식      I203         일식   \n28  MA010120220805453773  피스풀테이블  NaN        G2       소매      G205     식료품 소매   \n30  MA010120220805455378  오케이세차장  NaN        S2    수리·개인      S203  자동차 수리·세차   \n\n   상권업종소분류코드      상권업종소분류명 표준산업분류코드  ...                     건물관리번호  \\\n8     I20105        국수/칼국수   I56112  ...  4729012600106070005000001   \n10    G20404          슈퍼마켓   G47129  ...  4729011400105210005011976   \n27    I20302  일식 카레/돈가스/덮밥   I56123  ...  4729025321103670008018794   \n28    G20509    반찬/식료품 소매업   G47218  ...  4729012100102400003062727   \n30    S20302       자동차 세차장   S95213  ...  4729025343103620000000001   \n\n           건물명                    도로명주소   구우편번호  신우편번호  동정보  층정보  호정보  \\\n8          NaN         경상북도 경산시 백양로 109  712190  38599  NaN  NaN  NaN   \n10         하준빌          경상북도 경산시 궁당로 58  712150  38515  NaN  NaN  NaN   \n27         NaN    경상북도 경산시 진량읍 공단2로7길 8  712837  38458  NaN  NaN  NaN   \n28  대구한의대오성캠퍼스     경상북도 경산시 어봉지길 285-10  712220  38578  NaN  NaN  NaN   \n30         NaN  경상북도 경산시 진량읍 황제1길 86-19  712837  38499  NaN  NaN  NaN   \n\n            경도         위도  \n8   128.753874  35.813843  \n10  128.750477  35.844365  \n27  128.822719  35.872247  \n28  128.788316  35.786411  \n30  128.817967  35.859157  \n\n[5 rows x 39 columns]",
      "text/html": "<div>\n<style scoped>\n    .dataframe tbody tr th:only-of-type {\n        vertical-align: middle;\n    }\n\n    .dataframe tbody tr th {\n        vertical-align: top;\n    }\n\n    .dataframe thead th {\n        text-align: right;\n    }\n</style>\n<table border=\"1\" class=\"dataframe\">\n  <thead>\n    <tr style=\"text-align: right;\">\n      <th></th>\n      <th>상가업소번호</th>\n      <th>상호명</th>\n      <th>지점명</th>\n      <th>상권업종대분류코드</th>\n      <th>상권업종대분류명</th>\n      <th>상권업종중분류코드</th>\n      <th>상권업종중분류명</th>\n      <th>상권업종소분류코드</th>\n      <th>상권업종소분류명</th>\n      <th>표준산업분류코드</th>\n      <th>...</th>\n      <th>건물관리번호</th>\n      <th>건물명</th>\n      <th>도로명주소</th>\n      <th>구우편번호</th>\n      <th>신우편번호</th>\n      <th>동정보</th>\n      <th>층정보</th>\n      <th>호정보</th>\n      <th>경도</th>\n      <th>위도</th>\n    </tr>\n  </thead>\n  <tbody>\n    <tr>\n      <th>8</th>\n      <td>MA010120220805437185</td>\n      <td>칼국수한그릇</td>\n      <td>NaN</td>\n      <td>I2</td>\n      <td>음식</td>\n      <td>I201</td>\n      <td>한식</td>\n      <td>I20105</td>\n      <td>국수/칼국수</td>\n      <td>I56112</td>\n      <td>...</td>\n      <td>4729012600106070005000001</td>\n      <td>NaN</td>\n      <td>경상북도 경산시 백양로 109</td>\n      <td>712190</td>\n      <td>38599</td>\n      <td>NaN</td>\n      <td>NaN</td>\n      <td>NaN</td>\n      <td>128.753874</td>\n      <td>35.813843</td>\n    </tr>\n    <tr>\n      <th>10</th>\n      <td>MA010120220805439966</td>\n      <td>영할인마트</td>\n      <td>NaN</td>\n      <td>G2</td>\n      <td>소매</td>\n      <td>G204</td>\n      <td>종합 소매</td>\n      <td>G20404</td>\n      <td>슈퍼마켓</td>\n      <td>G47129</td>\n      <td>...</td>\n      <td>4729011400105210005011976</td>\n      <td>하준빌</td>\n      <td>경상북도 경산시 궁당로 58</td>\n      <td>712150</td>\n      <td>38515</td>\n      <td>NaN</td>\n      <td>NaN</td>\n      <td>NaN</td>\n      <td>128.750477</td>\n      <td>35.844365</td>\n    </tr>\n    <tr>\n      <th>27</th>\n      <td>MA010120220805450515</td>\n      <td>우성돈까스</td>\n      <td>NaN</td>\n      <td>I2</td>\n      <td>음식</td>\n      <td>I203</td>\n      <td>일식</td>\n      <td>I20302</td>\n      <td>일식 카레/돈가스/덮밥</td>\n      <td>I56123</td>\n      <td>...</td>\n      <td>4729025321103670008018794</td>\n      <td>NaN</td>\n      <td>경상북도 경산시 진량읍 공단2로7길 8</td>\n      <td>712837</td>\n      <td>38458</td>\n      <td>NaN</td>\n      <td>NaN</td>\n      <td>NaN</td>\n      <td>128.822719</td>\n      <td>35.872247</td>\n    </tr>\n    <tr>\n      <th>28</th>\n      <td>MA010120220805453773</td>\n      <td>피스풀테이블</td>\n      <td>NaN</td>\n      <td>G2</td>\n      <td>소매</td>\n      <td>G205</td>\n      <td>식료품 소매</td>\n      <td>G20509</td>\n      <td>반찬/식료품 소매업</td>\n      <td>G47218</td>\n      <td>...</td>\n      <td>4729012100102400003062727</td>\n      <td>대구한의대오성캠퍼스</td>\n      <td>경상북도 경산시 어봉지길 285-10</td>\n      <td>712220</td>\n      <td>38578</td>\n      <td>NaN</td>\n      <td>NaN</td>\n      <td>NaN</td>\n      <td>128.788316</td>\n      <td>35.786411</td>\n    </tr>\n    <tr>\n      <th>30</th>\n      <td>MA010120220805455378</td>\n      <td>오케이세차장</td>\n      <td>NaN</td>\n      <td>S2</td>\n      <td>수리·개인</td>\n      <td>S203</td>\n      <td>자동차 수리·세차</td>\n      <td>S20302</td>\n      <td>자동차 세차장</td>\n      <td>S95213</td>\n      <td>...</td>\n      <td>4729025343103620000000001</td>\n      <td>NaN</td>\n      <td>경상북도 경산시 진량읍 황제1길 86-19</td>\n      <td>712837</td>\n      <td>38499</td>\n      <td>NaN</td>\n      <td>NaN</td>\n      <td>NaN</td>\n      <td>128.817967</td>\n      <td>35.859157</td>\n    </tr>\n  </tbody>\n</table>\n<p>5 rows × 39 columns</p>\n</div>"
     },
     "execution_count": 35,
     "metadata": {},
     "output_type": "execute_result"
    }
   ],
   "source": [
    "s4 = s3[s3['시군구명'] == '경산시']\n",
    "s4.head()"
   ],
   "metadata": {
    "collapsed": false,
    "ExecuteTime": {
     "end_time": "2024-03-13T02:10:22.277425100Z",
     "start_time": "2024-03-13T02:10:22.237761700Z"
    }
   },
   "id": "1c91f115d1b23bdf",
   "execution_count": 35
  },
  {
   "cell_type": "code",
   "outputs": [
    {
     "data": {
      "text/plain": "                   상가업소번호       상호명  지점명 상권업종대분류코드 상권업종대분류명 상권업종중분류코드  \\\n435  MA010120220806439036  아틀리에빈진량점  NaN        I2       음식      I212   \n510  MA010120220806496029  더벤티경산중방점  NaN        I2       음식      I212   \n538  MA010120220806537000     너와나커피  NaN        I2       음식      I212   \n565  MA010120220806548381     눈꽃이피다  NaN        I2       음식      I212   \n931  MA010120220806907168       해르트  NaN        I2       음식      I212   \n\n    상권업종중분류명 상권업종소분류코드 상권업종소분류명 표준산업분류코드  ...                     건물관리번호  건물명  \\\n435    비알코올     I21201       카페   I56221  ...  4729025321112250004026475  NaN   \n510    비알코올     I21201       카페   I56221  ...  4729011700108630001001646  NaN   \n538    비알코올     I21201       카페   I56221  ...  4729012600106690004011708  NaN   \n565    비알코올     I21201       카페   I56221  ...  4729010800100710027009502  NaN   \n931    비알코올     I21201       카페   I56221  ...  4729025021101170005030583  NaN   \n\n                     도로명주소   구우편번호  신우편번호  동정보  층정보  호정보          경도  \\\n435    경상북도 경산시 진량읍 다문로 59  712837  38486  NaN  NaN  NaN  128.817535   \n510     경상북도 경산시 경안로38길 17  712804  38619  NaN  NaN  NaN  128.737730   \n538   경상북도 경산시 백자로20길 44-1  712190  38597  NaN  NaN  NaN  128.761142   \n565     경상북도 경산시 경산로 105-1  712050  38684  NaN  NaN  NaN  128.729624   \n931  경상북도 경산시 하양읍 문화로4길 35  712902  38431  NaN    1  NaN  128.816056   \n\n            위도  \n435  35.875275  \n510  35.825841  \n538  35.812436  \n565  35.818094  \n931  35.912464  \n\n[5 rows x 39 columns]",
      "text/html": "<div>\n<style scoped>\n    .dataframe tbody tr th:only-of-type {\n        vertical-align: middle;\n    }\n\n    .dataframe tbody tr th {\n        vertical-align: top;\n    }\n\n    .dataframe thead th {\n        text-align: right;\n    }\n</style>\n<table border=\"1\" class=\"dataframe\">\n  <thead>\n    <tr style=\"text-align: right;\">\n      <th></th>\n      <th>상가업소번호</th>\n      <th>상호명</th>\n      <th>지점명</th>\n      <th>상권업종대분류코드</th>\n      <th>상권업종대분류명</th>\n      <th>상권업종중분류코드</th>\n      <th>상권업종중분류명</th>\n      <th>상권업종소분류코드</th>\n      <th>상권업종소분류명</th>\n      <th>표준산업분류코드</th>\n      <th>...</th>\n      <th>건물관리번호</th>\n      <th>건물명</th>\n      <th>도로명주소</th>\n      <th>구우편번호</th>\n      <th>신우편번호</th>\n      <th>동정보</th>\n      <th>층정보</th>\n      <th>호정보</th>\n      <th>경도</th>\n      <th>위도</th>\n    </tr>\n  </thead>\n  <tbody>\n    <tr>\n      <th>435</th>\n      <td>MA010120220806439036</td>\n      <td>아틀리에빈진량점</td>\n      <td>NaN</td>\n      <td>I2</td>\n      <td>음식</td>\n      <td>I212</td>\n      <td>비알코올</td>\n      <td>I21201</td>\n      <td>카페</td>\n      <td>I56221</td>\n      <td>...</td>\n      <td>4729025321112250004026475</td>\n      <td>NaN</td>\n      <td>경상북도 경산시 진량읍 다문로 59</td>\n      <td>712837</td>\n      <td>38486</td>\n      <td>NaN</td>\n      <td>NaN</td>\n      <td>NaN</td>\n      <td>128.817535</td>\n      <td>35.875275</td>\n    </tr>\n    <tr>\n      <th>510</th>\n      <td>MA010120220806496029</td>\n      <td>더벤티경산중방점</td>\n      <td>NaN</td>\n      <td>I2</td>\n      <td>음식</td>\n      <td>I212</td>\n      <td>비알코올</td>\n      <td>I21201</td>\n      <td>카페</td>\n      <td>I56221</td>\n      <td>...</td>\n      <td>4729011700108630001001646</td>\n      <td>NaN</td>\n      <td>경상북도 경산시 경안로38길 17</td>\n      <td>712804</td>\n      <td>38619</td>\n      <td>NaN</td>\n      <td>NaN</td>\n      <td>NaN</td>\n      <td>128.737730</td>\n      <td>35.825841</td>\n    </tr>\n    <tr>\n      <th>538</th>\n      <td>MA010120220806537000</td>\n      <td>너와나커피</td>\n      <td>NaN</td>\n      <td>I2</td>\n      <td>음식</td>\n      <td>I212</td>\n      <td>비알코올</td>\n      <td>I21201</td>\n      <td>카페</td>\n      <td>I56221</td>\n      <td>...</td>\n      <td>4729012600106690004011708</td>\n      <td>NaN</td>\n      <td>경상북도 경산시 백자로20길 44-1</td>\n      <td>712190</td>\n      <td>38597</td>\n      <td>NaN</td>\n      <td>NaN</td>\n      <td>NaN</td>\n      <td>128.761142</td>\n      <td>35.812436</td>\n    </tr>\n    <tr>\n      <th>565</th>\n      <td>MA010120220806548381</td>\n      <td>눈꽃이피다</td>\n      <td>NaN</td>\n      <td>I2</td>\n      <td>음식</td>\n      <td>I212</td>\n      <td>비알코올</td>\n      <td>I21201</td>\n      <td>카페</td>\n      <td>I56221</td>\n      <td>...</td>\n      <td>4729010800100710027009502</td>\n      <td>NaN</td>\n      <td>경상북도 경산시 경산로 105-1</td>\n      <td>712050</td>\n      <td>38684</td>\n      <td>NaN</td>\n      <td>NaN</td>\n      <td>NaN</td>\n      <td>128.729624</td>\n      <td>35.818094</td>\n    </tr>\n    <tr>\n      <th>931</th>\n      <td>MA010120220806907168</td>\n      <td>해르트</td>\n      <td>NaN</td>\n      <td>I2</td>\n      <td>음식</td>\n      <td>I212</td>\n      <td>비알코올</td>\n      <td>I21201</td>\n      <td>카페</td>\n      <td>I56221</td>\n      <td>...</td>\n      <td>4729025021101170005030583</td>\n      <td>NaN</td>\n      <td>경상북도 경산시 하양읍 문화로4길 35</td>\n      <td>712902</td>\n      <td>38431</td>\n      <td>NaN</td>\n      <td>1</td>\n      <td>NaN</td>\n      <td>128.816056</td>\n      <td>35.912464</td>\n    </tr>\n  </tbody>\n</table>\n<p>5 rows × 39 columns</p>\n</div>"
     },
     "execution_count": 36,
     "metadata": {},
     "output_type": "execute_result"
    }
   ],
   "source": [
    "s5 = s4[s4['표준산업분류명'] == '커피 전문점']\n",
    "s5.head()"
   ],
   "metadata": {
    "collapsed": false,
    "ExecuteTime": {
     "end_time": "2024-03-13T02:11:34.350068300Z",
     "start_time": "2024-03-13T02:11:34.314028800Z"
    }
   },
   "id": "6faee66aeabb8663",
   "execution_count": 36
  },
  {
   "cell_type": "code",
   "outputs": [
    {
     "data": {
      "text/plain": "법정동명\n갑제동     4\n계양동    26\n남산면    12\n남천면     5\n대동     30\n대평동     9\n백천동    17\n사동     48\n사정동    13\n삼남동     2\n삼북동    11\n삼풍동     8\n상방동     2\n서상동     9\n신교동     1\n압량읍    37\n여천동     3\n옥곡동    20\n옥산동    39\n와촌면    16\n용성면     2\n유곡동     4\n임당동     3\n자인면    18\n점촌동     4\n정평동    25\n조영동    24\n중방동    51\n중산동    26\n진량읍    55\n평산동     3\n하양읍    77\nName: count, dtype: int64"
     },
     "execution_count": 38,
     "metadata": {},
     "output_type": "execute_result"
    }
   ],
   "source": [
    "s5.value_counts('법정동명').sort_index()"
   ],
   "metadata": {
    "collapsed": false,
    "ExecuteTime": {
     "end_time": "2024-03-13T02:13:03.919679600Z",
     "start_time": "2024-03-13T02:13:03.862849600Z"
    }
   },
   "id": "6a87bd76fc6a7ff8",
   "execution_count": 38
  },
  {
   "cell_type": "code",
   "outputs": [
    {
     "data": {
      "text/plain": "법정동명\n갑제동     4\n계양동    26\n남산면    12\n남천면     5\n대동     30\n대평동     9\n백천동    17\n사동     48\n사정동    13\n삼남동     2\n삼북동    11\n삼풍동     8\n상방동     2\n서상동     9\n신교동     1\n압량읍    37\n여천동     3\n옥곡동    20\n옥산동    39\n와촌면    16\n용성면     2\n유곡동     4\n임당동     3\n자인면    18\n점촌동     4\n정평동    25\n조영동    24\n중방동    51\n중산동    26\n진량읍    55\n평산동     3\n하양읍    77\nName: 상가업소번호, dtype: int64"
     },
     "execution_count": 43,
     "metadata": {},
     "output_type": "execute_result"
    }
   ],
   "source": [
    "s5.groupby('법정동명').count()['상가업소번호']"
   ],
   "metadata": {
    "collapsed": false,
    "ExecuteTime": {
     "end_time": "2024-03-13T02:14:49.625585400Z",
     "start_time": "2024-03-13T02:14:49.594301Z"
    }
   },
   "id": "ddfd44abda01f5f8",
   "execution_count": 43
  }
 ],
 "metadata": {
  "kernelspec": {
   "display_name": "Python 3",
   "language": "python",
   "name": "python3"
  },
  "language_info": {
   "codemirror_mode": {
    "name": "ipython",
    "version": 2
   },
   "file_extension": ".py",
   "mimetype": "text/x-python",
   "name": "python",
   "nbconvert_exporter": "python",
   "pygments_lexer": "ipython2",
   "version": "2.7.6"
  }
 },
 "nbformat": 4,
 "nbformat_minor": 5
}
