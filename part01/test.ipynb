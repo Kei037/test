{
 "cells": [
  {
   "cell_type": "markdown",
   "source": [
    "# 세트 set\n",
    "수학의 집합 개념을 구현한 자료형\n",
    "저장된 값들은 순서가 없기 때문에 인덱싱과 슬라이싱을 사용할 수 없음\n",
    "대신 중복된 값의 저장이 불가능해서 중복 제거용으로 사용\n",
    "특징\n",
    "1. 중복된 값을 저장할 수 없음\n",
    "2. 저장되는 순서가 없음"
   ],
   "metadata": {
    "collapsed": false
   },
   "id": "308756cc08d2fcdd"
  },
  {
   "cell_type": "code",
   "outputs": [
    {
     "name": "stdout",
     "output_type": "stream",
     "text": [
      "[1, 1, 2, 2, 3, 3]\n",
      "{1, 2, 3}\n",
      "[1, 2, 3]\n"
     ]
    }
   ],
   "source": [
    "# 중괄호({}) 또는 set() 함수를 이용하여 생성\n",
    "li = [1, 1, 2, 2, 3, 3]\n",
    "print(li)\n",
    "print(set(li))\n",
    "li = list(set(li))\n",
    "print(li)"
   ],
   "metadata": {
    "collapsed": false,
    "ExecuteTime": {
     "end_time": "2024-02-26T01:12:20.428570Z",
     "start_time": "2024-02-26T01:12:20.422867Z"
    }
   },
   "id": "9fed84ec20a4897c",
   "execution_count": 1
  },
  {
   "cell_type": "code",
   "outputs": [
    {
     "name": "stdout",
     "output_type": "stream",
     "text": [
      "{40, 10, 20, 30}\n"
     ]
    }
   ],
   "source": [
    "# 추가와 삭제\n",
    "# 추가를 할 때 add() 메소드 사용\n",
    "s = {10, 20, 30}\n",
    "s.add(40) # 세트에 40을 추가\n",
    "print(s)  # {40, 10, 20, 30} / 저장되는 요소들은 순서가 없음"
   ],
   "metadata": {
    "collapsed": false,
    "ExecuteTime": {
     "end_time": "2024-02-26T01:17:04.096303Z",
     "start_time": "2024-02-26T01:17:04.086700Z"
    }
   },
   "id": "714654082f728af5",
   "execution_count": 2
  },
  {
   "cell_type": "code",
   "outputs": [
    {
     "name": "stdout",
     "output_type": "stream",
     "text": [
      "{40, 10, 30}\n",
      "{40, 10}\n"
     ]
    }
   ],
   "source": [
    "# 삭제를 할 때는 remove() 나 discard() 메소드 사용\n",
    "s.remove(20) # 세트에서 20을 제거. 20이 없으면 오류가 발생\n",
    "print(s)  # {40, 10, 30}\n",
    "\n",
    "s.discard(30)  # 세트에서 30을 제거. 30이 없어도 오류가 발생하지 않음\n",
    "print(s)  # {40, 10}"
   ],
   "metadata": {
    "collapsed": false,
    "ExecuteTime": {
     "end_time": "2024-02-26T01:20:24.510628Z",
     "start_time": "2024-02-26T01:20:24.505614Z"
    }
   },
   "id": "fef88e64767d769c",
   "execution_count": 3
  },
  {
   "cell_type": "code",
   "outputs": [],
   "source": [],
   "metadata": {
    "collapsed": false
   },
   "id": "da8f9da34cec787f"
  }
 ],
 "metadata": {
  "kernelspec": {
   "display_name": "Python 3",
   "language": "python",
   "name": "python3"
  },
  "language_info": {
   "codemirror_mode": {
    "name": "ipython",
    "version": 2
   },
   "file_extension": ".py",
   "mimetype": "text/x-python",
   "name": "python",
   "nbconvert_exporter": "python",
   "pygments_lexer": "ipython2",
   "version": "2.7.6"
  }
 },
 "nbformat": 4,
 "nbformat_minor": 5
}
