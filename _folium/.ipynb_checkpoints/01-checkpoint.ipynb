{
 "cells": [
  {
   "cell_type": "markdown",
   "source": [
    "folium 폴리움 라이브러리는 지도 위에 시각화할 때 유용한 도구.\n",
    "세계 지도를 기본 지원하고 다양한 스타일의 지도 이미지를 제공하고 있음.\n",
    "\n",
    "https://python-visualization.github.io/folium/latest/"
   ],
   "metadata": {
    "collapsed": false
   },
   "id": "e6f33a4aaac95452"
  },
  {
   "cell_type": "markdown",
   "source": [
    "# 01. 지도 만들기"
   ],
   "metadata": {
    "collapsed": false
   },
   "id": "633677409f58adc"
  },
  {
   "cell_type": "code",
   "execution_count": 1,
   "id": "initial_id",
   "metadata": {
    "collapsed": true,
    "ExecuteTime": {
     "end_time": "2024-03-15T01:29:09.814571Z",
     "start_time": "2024-03-15T01:29:09.812561Z"
    }
   },
   "outputs": [],
   "source": [
    "import folium"
   ]
  },
  {
   "cell_type": "code",
   "outputs": [],
   "source": [
    "# folium 라이브러리의 Map() 함수를 이용하면 간단하게 지도 객체를 만들 수 있음.\n",
    "# 지도 화면은 고정된 것이 아니고 줌 Zoom 기능과 화면 이동 Scroll이 가능.\n",
    "\n",
    "# folium은 웹 기반 지도를 만들기 때문에, 웹 환경에서만 지도를 확인할 수 있음.\n",
    "# 지도를 보려면 지도 객체에 save() 메서드를 적용하여 HTML 파일로 저장하고,\n",
    "# 웹 브라우저에서 파일을 열어서 확인\n",
    "# 주피터 노트북에서는 바로 지도 객체를 확인 할 수 있음."
   ],
   "metadata": {
    "collapsed": false,
    "ExecuteTime": {
     "end_time": "2024-03-15T01:32:03.569499Z",
     "start_time": "2024-03-15T01:32:03.563926Z"
    }
   },
   "id": "701010dd1830454a",
   "execution_count": 2
  },
  {
   "cell_type": "code",
   "outputs": [],
   "source": [],
   "metadata": {
    "collapsed": false
   },
   "id": "a2254db3654c46eb"
  }
 ],
 "metadata": {
  "kernelspec": {
   "display_name": "Python 3",
   "language": "python",
   "name": "python3"
  },
  "language_info": {
   "codemirror_mode": {
    "name": "ipython",
    "version": 2
   },
   "file_extension": ".py",
   "mimetype": "text/x-python",
   "name": "python",
   "nbconvert_exporter": "python",
   "pygments_lexer": "ipython2",
   "version": "2.7.6"
  }
 },
 "nbformat": 4,
 "nbformat_minor": 5
}
