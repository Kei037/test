{
 "cells": [
  {
   "cell_type": "markdown",
   "source": [
    "# 2. 성별에 따른 월급 차이 분석하기"
   ],
   "metadata": {
    "collapsed": false
   },
   "id": "d254d9d6979ec55f"
  },
  {
   "cell_type": "code",
   "execution_count": 1,
   "id": "initial_id",
   "metadata": {
    "collapsed": true,
    "ExecuteTime": {
     "end_time": "2024-03-15T07:20:38.553237Z",
     "start_time": "2024-03-15T07:20:38.551761Z"
    }
   },
   "outputs": [],
   "source": [
    "import pandas as pd\n",
    "import numpy as np\n",
    "import matplotlib.pyplot as plt\n",
    "import seaborn as sns"
   ]
  },
  {
   "cell_type": "code",
   "outputs": [],
   "source": [
    "welfare = pd.read_csv('./data/koweps_hpwc14_2019_beta2_step_02.csv')"
   ],
   "metadata": {
    "collapsed": false,
    "ExecuteTime": {
     "end_time": "2024-03-15T07:20:45.095397Z",
     "start_time": "2024-03-15T07:20:44.733059Z"
    }
   },
   "id": "90fc15f17934c874",
   "execution_count": 2
  },
  {
   "cell_type": "code",
   "outputs": [
    {
     "data": {
      "text/plain": "      sex  mean_income\n0  female   186.293096\n1    male   349.037571",
      "text/html": "<div>\n<style scoped>\n    .dataframe tbody tr th:only-of-type {\n        vertical-align: middle;\n    }\n\n    .dataframe tbody tr th {\n        vertical-align: top;\n    }\n\n    .dataframe thead th {\n        text-align: right;\n    }\n</style>\n<table border=\"1\" class=\"dataframe\">\n  <thead>\n    <tr style=\"text-align: right;\">\n      <th></th>\n      <th>sex</th>\n      <th>mean_income</th>\n    </tr>\n  </thead>\n  <tbody>\n    <tr>\n      <th>0</th>\n      <td>female</td>\n      <td>186.293096</td>\n    </tr>\n    <tr>\n      <th>1</th>\n      <td>male</td>\n      <td>349.037571</td>\n    </tr>\n  </tbody>\n</table>\n</div>"
     },
     "execution_count": 3,
     "metadata": {},
     "output_type": "execute_result"
    }
   ],
   "source": [
    "# 1) 성별 월급 평균표 만들기\n",
    "\n",
    "# income 결측치 제거 : dropna(subset=['income'])\n",
    "# sex별 분리 : groupby('sex', as_index=False)\n",
    "# income 평균 구하기 : agg(mean_income=('income', 'mean')\n",
    "# sex_income = welfare.dropna(subset=['income']).groupby('sex', as_index=False).agg(mean_income=('income', 'mean'))\n",
    "sex_income = welfare.dropna(subset=['income'])\n",
    "sex_income = sex_income.groupby('sex', as_index=False)\n",
    "sex_income = sex_income.agg(mean_income=('income', 'mean'))\n",
    "\n",
    "sex_income"
   ],
   "metadata": {
    "collapsed": false,
    "ExecuteTime": {
     "end_time": "2024-03-15T07:22:00.574475Z",
     "start_time": "2024-03-15T07:22:00.549040Z"
    }
   },
   "id": "fd9f327406a5fee7",
   "execution_count": 3
  },
  {
   "cell_type": "code",
   "outputs": [
    {
     "data": {
      "text/plain": "<Figure size 640x480 with 1 Axes>",
      "image/png": "[encoded data removed]"
     },
     "metadata": {},
     "output_type": "display_data"
    }
   ],
   "source": [
    "# 평균 남자 월급은 349만원, 여자 월급은 186만원으로, 남성이 여성보다 약 163만원이 많음.\n",
    "\n",
    "# 2) 그래프 만들기\n",
    "# 분석 결과를 쉽게 이해할 수 있도록 성별 월급 평균표를 이용해 막대 그래프로 만듬.\n",
    "\n",
    "# 막대 그래프 만들기\n",
    "sns.barplot(data=sex_income, x='sex', y='mean_income')\n",
    "plt.show()"
   ],
   "metadata": {
    "collapsed": false,
    "ExecuteTime": {
     "end_time": "2024-03-15T07:24:02.367544Z",
     "start_time": "2024-03-15T07:24:02.303256Z"
    }
   },
   "id": "c412bb4fbfbf3ebe",
   "execution_count": 4
  }
 ],
 "metadata": {
  "kernelspec": {
   "display_name": "Python 3",
   "language": "python",
   "name": "python3"
  },
  "language_info": {
   "codemirror_mode": {
    "name": "ipython",
    "version": 2
   },
   "file_extension": ".py",
   "mimetype": "text/x-python",
   "name": "python",
   "nbconvert_exporter": "python",
   "pygments_lexer": "ipython2",
   "version": "2.7.6"
  }
 },
 "nbformat": 4,
 "nbformat_minor": 5
}
