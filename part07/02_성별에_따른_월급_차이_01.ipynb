{
 "cells": [
  {
   "cell_type": "markdown",
   "source": [
    "다양한 분석 주제를 다루는데, 분석마다 2단계로 진행\n",
    "\n",
    "1단계 : 변수 검토 및 전처리\n",
    "분석에 활용할 변수를 전처리.\n",
    "변수의 특징을 파악하고 이상치와 결측치를 정제한 다음, 변수의 값을 다루기 편하게 바꿈.\n",
    "전처리는 분석에 활용할 변수 각각 진행.\n",
    "\n",
    "2단계 : 변수 간 관계 분석\n",
    "전처리를 완료하면 본격적으로 변수 간 관계를 파악하는 분석을 함.\n",
    "데이터를 요약한 표와 데이터의 특징을 쉽게 이해할 수 있는 그래프를 만든 다음 분석 결과를 해석."
   ],
   "metadata": {
    "collapsed": false
   },
   "id": "13620ff2459609f7"
  },
  {
   "cell_type": "code",
   "execution_count": 1,
   "id": "initial_id",
   "metadata": {
    "collapsed": true,
    "ExecuteTime": {
     "end_time": "2024-03-15T06:41:20.752509Z",
     "start_time": "2024-03-15T06:41:20.751169Z"
    }
   },
   "outputs": [],
   "source": [
    "import pandas as pd\n",
    "import numpy as np\n",
    "import matplotlib.pyplot as plt\n",
    "import seaborn as sns"
   ]
  },
  {
   "cell_type": "markdown",
   "source": [
    "# 02. 성별에 따른 월급 차이 - 성별에 따라 월급이 다를까?"
   ],
   "metadata": {
    "collapsed": false
   },
   "id": "8d86524b183c3f0"
  },
  {
   "cell_type": "code",
   "outputs": [],
   "source": [
    "# 분석 절차\n",
    "# 1단계 : 변수 검토 및 전처리\n",
    "# 성별 / 월급\n",
    "# 2단계 : 변수 간 관계 분석\n",
    "# 성별 월급 평균표 만들기 / 그래프 만들기"
   ],
   "metadata": {
    "collapsed": false,
    "ExecuteTime": {
     "end_time": "2024-03-15T06:42:08.215825Z",
     "start_time": "2024-03-15T06:42:08.211813Z"
    }
   },
   "id": "9a6a03afb4db4820",
   "execution_count": 2
  },
  {
   "cell_type": "code",
   "outputs": [
    {
     "data": {
      "text/plain": "   h14_id  h14_ind  h14_sn  h14_merkey  h_new  h14_cobf   p14_wsc   p14_wsl  \\\n0     2.0      1.0     1.0     20101.0    0.0       NaN  0.291589  0.291589   \n1     3.0      1.0     1.0     30101.0    0.0       NaN  0.419753  0.419753   \n2     4.0      1.0     1.0     40101.0    0.0       NaN  0.265263  0.265980   \n3     6.0      1.0     1.0     60101.0    0.0       NaN  0.494906  0.495941   \n4     6.0      1.0     1.0     60101.0    0.0       NaN  1.017935  1.017935   \n\n       p14_wgc      p14_wgl  ...  wc14_64  wc14_65  wc14_5aq4  wc14_5aq5  \\\n0  1307.764781  1307.764781  ...      NaN      NaN        NaN        NaN   \n1  1882.570960  1882.570960  ...      NaN      NaN        NaN        NaN   \n2  1189.691668  1192.908537  ...      NaN      NaN        NaN        NaN   \n3  2219.630833  2224.273816  ...      1.0        .        2.0        4.0   \n4  4565.389177  4565.389177  ...      1.0        .        1.0        5.0   \n\n   wc14_5aq6  h14_pers_income1  h14_pers_income2  h14_pers_income3  \\\n0        NaN               NaN               NaN               NaN   \n1        NaN               NaN               NaN               NaN   \n2        NaN               NaN            1284.0               NaN   \n3        4.0            2304.0               NaN            1800.0   \n4        2.0               NaN               NaN               NaN   \n\n   h14_pers_income4  h14_pers_income5  \n0               0.0               NaN  \n1               0.0               NaN  \n2               0.0               NaN  \n3               0.0               NaN  \n4               0.0               NaN  \n\n[5 rows x 830 columns]",
      "text/html": "<div>\n<style scoped>\n    .dataframe tbody tr th:only-of-type {\n        vertical-align: middle;\n    }\n\n    .dataframe tbody tr th {\n        vertical-align: top;\n    }\n\n    .dataframe thead th {\n        text-align: right;\n    }\n</style>\n<table border=\"1\" class=\"dataframe\">\n  <thead>\n    <tr style=\"text-align: right;\">\n      <th></th>\n      <th>h14_id</th>\n      <th>h14_ind</th>\n      <th>h14_sn</th>\n      <th>h14_merkey</th>\n      <th>h_new</th>\n      <th>h14_cobf</th>\n      <th>p14_wsc</th>\n      <th>p14_wsl</th>\n      <th>p14_wgc</th>\n      <th>p14_wgl</th>\n      <th>...</th>\n      <th>wc14_64</th>\n      <th>wc14_65</th>\n      <th>wc14_5aq4</th>\n      <th>wc14_5aq5</th>\n      <th>wc14_5aq6</th>\n      <th>h14_pers_income1</th>\n      <th>h14_pers_income2</th>\n      <th>h14_pers_income3</th>\n      <th>h14_pers_income4</th>\n      <th>h14_pers_income5</th>\n    </tr>\n  </thead>\n  <tbody>\n    <tr>\n      <th>0</th>\n      <td>2.0</td>\n      <td>1.0</td>\n      <td>1.0</td>\n      <td>20101.0</td>\n      <td>0.0</td>\n      <td>NaN</td>\n      <td>0.291589</td>\n      <td>0.291589</td>\n      <td>1307.764781</td>\n      <td>1307.764781</td>\n      <td>...</td>\n      <td>NaN</td>\n      <td>NaN</td>\n      <td>NaN</td>\n      <td>NaN</td>\n      <td>NaN</td>\n      <td>NaN</td>\n      <td>NaN</td>\n      <td>NaN</td>\n      <td>0.0</td>\n      <td>NaN</td>\n    </tr>\n    <tr>\n      <th>1</th>\n      <td>3.0</td>\n      <td>1.0</td>\n      <td>1.0</td>\n      <td>30101.0</td>\n      <td>0.0</td>\n      <td>NaN</td>\n      <td>0.419753</td>\n      <td>0.419753</td>\n      <td>1882.570960</td>\n      <td>1882.570960</td>\n      <td>...</td>\n      <td>NaN</td>\n      <td>NaN</td>\n      <td>NaN</td>\n      <td>NaN</td>\n      <td>NaN</td>\n      <td>NaN</td>\n      <td>NaN</td>\n      <td>NaN</td>\n      <td>0.0</td>\n      <td>NaN</td>\n    </tr>\n    <tr>\n      <th>2</th>\n      <td>4.0</td>\n      <td>1.0</td>\n      <td>1.0</td>\n      <td>40101.0</td>\n      <td>0.0</td>\n      <td>NaN</td>\n      <td>0.265263</td>\n      <td>0.265980</td>\n      <td>1189.691668</td>\n      <td>1192.908537</td>\n      <td>...</td>\n      <td>NaN</td>\n      <td>NaN</td>\n      <td>NaN</td>\n      <td>NaN</td>\n      <td>NaN</td>\n      <td>NaN</td>\n      <td>1284.0</td>\n      <td>NaN</td>\n      <td>0.0</td>\n      <td>NaN</td>\n    </tr>\n    <tr>\n      <th>3</th>\n      <td>6.0</td>\n      <td>1.0</td>\n      <td>1.0</td>\n      <td>60101.0</td>\n      <td>0.0</td>\n      <td>NaN</td>\n      <td>0.494906</td>\n      <td>0.495941</td>\n      <td>2219.630833</td>\n      <td>2224.273816</td>\n      <td>...</td>\n      <td>1.0</td>\n      <td>.</td>\n      <td>2.0</td>\n      <td>4.0</td>\n      <td>4.0</td>\n      <td>2304.0</td>\n      <td>NaN</td>\n      <td>1800.0</td>\n      <td>0.0</td>\n      <td>NaN</td>\n    </tr>\n    <tr>\n      <th>4</th>\n      <td>6.0</td>\n      <td>1.0</td>\n      <td>1.0</td>\n      <td>60101.0</td>\n      <td>0.0</td>\n      <td>NaN</td>\n      <td>1.017935</td>\n      <td>1.017935</td>\n      <td>4565.389177</td>\n      <td>4565.389177</td>\n      <td>...</td>\n      <td>1.0</td>\n      <td>.</td>\n      <td>1.0</td>\n      <td>5.0</td>\n      <td>2.0</td>\n      <td>NaN</td>\n      <td>NaN</td>\n      <td>NaN</td>\n      <td>0.0</td>\n      <td>NaN</td>\n    </tr>\n  </tbody>\n</table>\n<p>5 rows × 830 columns</p>\n</div>"
     },
     "execution_count": 3,
     "metadata": {},
     "output_type": "execute_result"
    }
   ],
   "source": [
    "# 1. 성별 변수 검토 및 전처리하기\n",
    "# 1) 변수 검토하기\n",
    "\n",
    "welfare = pd.read_csv('./data/koweps_hpwc14_2019_beta2_step_01.csv')\n",
    "welfare.head()"
   ],
   "metadata": {
    "collapsed": false,
    "ExecuteTime": {
     "end_time": "2024-03-15T06:42:38.854592Z",
     "start_time": "2024-03-15T06:42:38.465799Z"
    }
   },
   "id": "339aa4706aab7b3",
   "execution_count": 3
  },
  {
   "cell_type": "code",
   "outputs": [
    {
     "data": {
      "text/plain": "dtype('float64')"
     },
     "execution_count": 4,
     "metadata": {},
     "output_type": "execute_result"
    }
   ],
   "source": [
    "# sex 성별 변수의 타입을 파악\n",
    "welfare['sex'].dtypes"
   ],
   "metadata": {
    "collapsed": false,
    "ExecuteTime": {
     "end_time": "2024-03-15T06:44:25.970780Z",
     "start_time": "2024-03-15T06:44:25.964152Z"
    }
   },
   "id": "45048cd2e84a876e",
   "execution_count": 4
  },
  {
   "cell_type": "code",
   "outputs": [
    {
     "data": {
      "text/plain": "sex\n2.0    7913\n1.0    6505\nName: count, dtype: int64"
     },
     "execution_count": 5,
     "metadata": {},
     "output_type": "execute_result"
    }
   ],
   "source": [
    "# value_counts()를 이용해 각 범주마다 몇 명이 있는지 알아봄.\n",
    "welfare['sex'].value_counts()"
   ],
   "metadata": {
    "collapsed": false,
    "ExecuteTime": {
     "end_time": "2024-03-15T06:44:48.350650Z",
     "start_time": "2024-03-15T06:44:48.346444Z"
    }
   },
   "id": "2eb3d9ef76f9990",
   "execution_count": 5
  },
  {
   "cell_type": "code",
   "outputs": [
    {
     "data": {
      "text/plain": "sex\n2.0    7913\n1.0    6505\nName: count, dtype: int64"
     },
     "execution_count": 6,
     "metadata": {},
     "output_type": "execute_result"
    }
   ],
   "source": [
    "# 2) 전처리하기\n",
    "# 코드북을 보면 성별 변수의 값이 1이면 남자, 2면 여자를 의미. 모른다고 답하거나 응답하지 않으면 9로 입력.\n",
    "# 이정보를 바탕으로 데이터에 이상치가 있는지 검토하고, 분석할 때 제거하기 편하도록 NaN을 부여해 결측치 처리.\n",
    "# 즉 값이 9인 경우 성별을 알 수 없어 분석에서 제외해야 하므로 결측 처리.\n",
    "\n",
    "# 이상치 확인\n",
    "welfare['sex'].value_counts()"
   ],
   "metadata": {
    "collapsed": false,
    "ExecuteTime": {
     "end_time": "2024-03-15T06:48:28.405084Z",
     "start_time": "2024-03-15T06:48:28.399012Z"
    }
   },
   "id": "50156168ac85195a",
   "execution_count": 6
  },
  {
   "cell_type": "code",
   "outputs": [
    {
     "data": {
      "text/plain": "0"
     },
     "execution_count": 7,
     "metadata": {},
     "output_type": "execute_result"
    }
   ],
   "source": [
    "# 1, 2만 있고 9나 다른 값이 없으니 결측 처리하는 절차를 건너뛰어도 됨.\n",
    "# 만일 이상치가 있으면 이상치를 결측 처리한 후에 다음 결측치 학인\n",
    "\n",
    "# 이상치 결측 처리\n",
    "# sex 열에 9인 값을 NaN으로 변경.\n",
    "# np.where(condition, T, F)\n",
    "welfare['sex'] = np.where(welfare['sex'] == 9, np.nan, welfare['sex'])\n",
    "\n",
    "# 결측치 확인\n",
    "welfare['sex'].isna().sum()"
   ],
   "metadata": {
    "collapsed": false,
    "ExecuteTime": {
     "end_time": "2024-03-15T06:50:09.646817Z",
     "start_time": "2024-03-15T06:50:09.641026Z"
    }
   },
   "id": "67724377a3f885c4",
   "execution_count": 7
  },
  {
   "cell_type": "code",
   "outputs": [
    {
     "data": {
      "text/plain": "sex\nfemale    7913\nmale      6505\nName: count, dtype: int64"
     },
     "execution_count": 8,
     "metadata": {},
     "output_type": "execute_result"
    }
   ],
   "source": [
    "# 성별 1, 2로 되어 있어, 값의 의미를 이해하기 쉽도록 문자 male과 female로 변경.\n",
    "# 변경 후 잘 반영이 되었는지 value_counts() countplot()을 이용해 바꾼 값이 잘 반영이 됐는지 출력 결과를 확인\n",
    "\n",
    "# 성별 항목 이름 부여\n",
    "welfare['sex'] = np.where(welfare['sex'] == 1, 'male', 'female')\n",
    "welfare['sex'].value_counts()"
   ],
   "metadata": {
    "collapsed": false,
    "ExecuteTime": {
     "end_time": "2024-03-15T06:51:44.951198Z",
     "start_time": "2024-03-15T06:51:44.947061Z"
    }
   },
   "id": "f567f4fdb5076b5d",
   "execution_count": 8
  },
  {
   "cell_type": "code",
   "outputs": [
    {
     "data": {
      "text/plain": "<Figure size 640x480 with 1 Axes>",
      "image/png": "[encoded data removed]"
     },
     "metadata": {},
     "output_type": "display_data"
    }
   ],
   "source": [
    "sns.countplot(data=welfare, x='sex')\n",
    "plt.show()"
   ],
   "metadata": {
    "collapsed": false,
    "ExecuteTime": {
     "end_time": "2024-03-15T07:02:09.919942Z",
     "start_time": "2024-03-15T07:02:09.866285Z"
    }
   },
   "id": "252e19f353869f9",
   "execution_count": 9
  },
  {
   "cell_type": "code",
   "outputs": [],
   "source": [
    "# 작업한 데이터프레임을 csv로 저장.\n",
    "welfare.to_csv('./data/koweps_hpwc14_2019_beta2_step_02.csv', index=False)"
   ],
   "metadata": {
    "collapsed": false,
    "ExecuteTime": {
     "end_time": "2024-03-15T07:03:14.928514Z",
     "start_time": "2024-03-15T07:03:13.201683Z"
    }
   },
   "id": "dc99b7899513bc12",
   "execution_count": 10
  }
 ],
 "metadata": {
  "kernelspec": {
   "display_name": "Python 3",
   "language": "python",
   "name": "python3"
  },
  "language_info": {
   "codemirror_mode": {
    "name": "ipython",
    "version": 2
   },
   "file_extension": ".py",
   "mimetype": "text/x-python",
   "name": "python",
   "nbconvert_exporter": "python",
   "pygments_lexer": "ipython2",
   "version": "2.7.6"
  }
 },
 "nbformat": 4,
 "nbformat_minor": 5
}
