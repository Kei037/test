{
 "cells": [
  {
   "cell_type": "markdown",
   "source": [
    "# 한국복지패널 데이터 분석"
   ],
   "metadata": {
    "collapsed": false
   },
   "id": "2a4642486c26a0d6"
  },
  {
   "cell_type": "markdown",
   "source": [
    "한국복지패널 데이터는 한국보건사회연구원에서 우리나라 가구의 경제활동을 연구해\n",
    "복지 정책에 반영할 목적으로 발간하는 조사 자료.\n",
    "전국에서 7,000여 가구를 선정해 2006년 부터 매년 추적한 조사 자료,\n",
    "경제활동, 생활실태, 복지욕구 등 천여 개 변수로 구성되어 있음.\n",
    "다양한 분야의 연구자와 정책 전문가들이 복지패널 데이터를 활용해 논문과 연구보고서를 발표하고 있음.\n",
    "한국복지패널 데이터는 엄밀한 절차에 따라 수집되었고 다양한 변수를 담고 있으므로 데이터 분석 시술을 연습하는데 훌륭한 재료.\n",
    "데이터에는 다양한 삶의 모습이 답겨져 있어서 대한민국 사람들이 어떻게 살고 있는지 살펴 볼 수 있음."
   ],
   "metadata": {
    "collapsed": false
   },
   "id": "a6a5b63e921bfa6f"
  },
  {
   "cell_type": "code",
   "execution_count": 1,
   "id": "initial_id",
   "metadata": {
    "collapsed": true,
    "ExecuteTime": {
     "end_time": "2024-03-15T06:20:08.581321Z",
     "start_time": "2024-03-15T06:20:08.579175Z"
    }
   },
   "outputs": [],
   "source": [
    "# 1. '한국복지패널 데이터' 분석 준비하기\n",
    "\n",
    "# https://www.koweps.re.kr:442/data/data/list.do\n",
    "\n",
    "# 1) 데이터 준비하기\n",
    "# Koweps_hpwc14_2019_beta2.sav : 2020년에 발간된 복지패널 데이터로 6,331가구, 14,418명의 정보를 담고 있음.\n",
    "\n",
    "# 2) 패키지 설치 및 로드하기\n",
    "# 데이터 파일은 통계 분석 소프트웨어인 SPSS 전용파일.\n",
    "# pyreadstat 패키지를 설치하면 pandas 패키지의 함수를 이용해 SPSS, SAS, STATA 등 다양한 통계 분석\n",
    "# 소프트웨어의 데이터 파일을 불러올 수 있음.\n",
    "# pip install pyreadstat"
   ]
  },
  {
   "cell_type": "code",
   "outputs": [],
   "source": [
    "import pandas as pd\n",
    "import numpy as np\n",
    "import seaborn as sns\n",
    "import pyreadstat"
   ],
   "metadata": {
    "collapsed": false,
    "ExecuteTime": {
     "end_time": "2024-03-15T06:22:47.214091Z",
     "start_time": "2024-03-15T06:22:47.210501Z"
    }
   },
   "id": "dac6aaf529a7afd3",
   "execution_count": 5
  },
  {
   "cell_type": "code",
   "outputs": [],
   "source": [
    "# 3) 데이터 불러오기\n",
    "# 데이터 원본은 복구할 상황을 대비해 그대로 두고 복사본을 만들어 분석에 활용.\n",
    "\n",
    "raw_welfare = pd.read_spss('./input/Koweps_hpwc14_2019_beta2.sav')"
   ],
   "metadata": {
    "collapsed": false,
    "ExecuteTime": {
     "end_time": "2024-03-15T06:23:09.556310Z",
     "start_time": "2024-03-15T06:23:09.002330Z"
    }
   },
   "id": "cf692f4df3414b08",
   "execution_count": 7
  },
  {
   "cell_type": "code",
   "outputs": [],
   "source": [
    "# 복사본 만들기\n",
    "welfare = raw_welfare.copy()"
   ],
   "metadata": {
    "collapsed": false,
    "ExecuteTime": {
     "end_time": "2024-03-15T06:23:49.974568Z",
     "start_time": "2024-03-15T06:23:49.961642Z"
    }
   },
   "id": "b6ade412672d4f6a",
   "execution_count": 8
  },
  {
   "cell_type": "code",
   "outputs": [
    {
     "data": {
      "text/plain": "   h14_id  h14_ind  h14_sn  h14_merkey  h_new  h14_cobf   p14_wsc   p14_wsl  \\\n0     2.0      1.0     1.0     20101.0    0.0       NaN  0.291589  0.291589   \n1     3.0      1.0     1.0     30101.0    0.0       NaN  0.419753  0.419753   \n2     4.0      1.0     1.0     40101.0    0.0       NaN  0.265263  0.265980   \n3     6.0      1.0     1.0     60101.0    0.0       NaN  0.494906  0.495941   \n4     6.0      1.0     1.0     60101.0    0.0       NaN  1.017935  1.017935   \n\n       p14_wgc      p14_wgl  ...  wc14_64  wc14_65  wc14_5aq4  wc14_5aq5  \\\n0  1307.764781  1307.764781  ...      NaN                 NaN        NaN   \n1  1882.570960  1882.570960  ...      NaN                 NaN        NaN   \n2  1189.691668  1192.908537  ...      NaN                 NaN        NaN   \n3  2219.630833  2224.273816  ...      1.0        .        2.0        4.0   \n4  4565.389177  4565.389177  ...      1.0        .        1.0        5.0   \n\n   wc14_5aq6  h14_pers_income1  h14_pers_income2  h14_pers_income3  \\\n0        NaN               NaN               NaN               NaN   \n1        NaN               NaN               NaN               NaN   \n2        NaN               NaN            1284.0               NaN   \n3        4.0            2304.0               NaN            1800.0   \n4        2.0               NaN               NaN               NaN   \n\n   h14_pers_income4  h14_pers_income5  \n0               0.0               NaN  \n1               0.0               NaN  \n2               0.0               NaN  \n3               0.0               NaN  \n4               0.0               NaN  \n\n[5 rows x 830 columns]",
      "text/html": "<div>\n<style scoped>\n    .dataframe tbody tr th:only-of-type {\n        vertical-align: middle;\n    }\n\n    .dataframe tbody tr th {\n        vertical-align: top;\n    }\n\n    .dataframe thead th {\n        text-align: right;\n    }\n</style>\n<table border=\"1\" class=\"dataframe\">\n  <thead>\n    <tr style=\"text-align: right;\">\n      <th></th>\n      <th>h14_id</th>\n      <th>h14_ind</th>\n      <th>h14_sn</th>\n      <th>h14_merkey</th>\n      <th>h_new</th>\n      <th>h14_cobf</th>\n      <th>p14_wsc</th>\n      <th>p14_wsl</th>\n      <th>p14_wgc</th>\n      <th>p14_wgl</th>\n      <th>...</th>\n      <th>wc14_64</th>\n      <th>wc14_65</th>\n      <th>wc14_5aq4</th>\n      <th>wc14_5aq5</th>\n      <th>wc14_5aq6</th>\n      <th>h14_pers_income1</th>\n      <th>h14_pers_income2</th>\n      <th>h14_pers_income3</th>\n      <th>h14_pers_income4</th>\n      <th>h14_pers_income5</th>\n    </tr>\n  </thead>\n  <tbody>\n    <tr>\n      <th>0</th>\n      <td>2.0</td>\n      <td>1.0</td>\n      <td>1.0</td>\n      <td>20101.0</td>\n      <td>0.0</td>\n      <td>NaN</td>\n      <td>0.291589</td>\n      <td>0.291589</td>\n      <td>1307.764781</td>\n      <td>1307.764781</td>\n      <td>...</td>\n      <td>NaN</td>\n      <td></td>\n      <td>NaN</td>\n      <td>NaN</td>\n      <td>NaN</td>\n      <td>NaN</td>\n      <td>NaN</td>\n      <td>NaN</td>\n      <td>0.0</td>\n      <td>NaN</td>\n    </tr>\n    <tr>\n      <th>1</th>\n      <td>3.0</td>\n      <td>1.0</td>\n      <td>1.0</td>\n      <td>30101.0</td>\n      <td>0.0</td>\n      <td>NaN</td>\n      <td>0.419753</td>\n      <td>0.419753</td>\n      <td>1882.570960</td>\n      <td>1882.570960</td>\n      <td>...</td>\n      <td>NaN</td>\n      <td></td>\n      <td>NaN</td>\n      <td>NaN</td>\n      <td>NaN</td>\n      <td>NaN</td>\n      <td>NaN</td>\n      <td>NaN</td>\n      <td>0.0</td>\n      <td>NaN</td>\n    </tr>\n    <tr>\n      <th>2</th>\n      <td>4.0</td>\n      <td>1.0</td>\n      <td>1.0</td>\n      <td>40101.0</td>\n      <td>0.0</td>\n      <td>NaN</td>\n      <td>0.265263</td>\n      <td>0.265980</td>\n      <td>1189.691668</td>\n      <td>1192.908537</td>\n      <td>...</td>\n      <td>NaN</td>\n      <td></td>\n      <td>NaN</td>\n      <td>NaN</td>\n      <td>NaN</td>\n      <td>NaN</td>\n      <td>1284.0</td>\n      <td>NaN</td>\n      <td>0.0</td>\n      <td>NaN</td>\n    </tr>\n    <tr>\n      <th>3</th>\n      <td>6.0</td>\n      <td>1.0</td>\n      <td>1.0</td>\n      <td>60101.0</td>\n      <td>0.0</td>\n      <td>NaN</td>\n      <td>0.494906</td>\n      <td>0.495941</td>\n      <td>2219.630833</td>\n      <td>2224.273816</td>\n      <td>...</td>\n      <td>1.0</td>\n      <td>.</td>\n      <td>2.0</td>\n      <td>4.0</td>\n      <td>4.0</td>\n      <td>2304.0</td>\n      <td>NaN</td>\n      <td>1800.0</td>\n      <td>0.0</td>\n      <td>NaN</td>\n    </tr>\n    <tr>\n      <th>4</th>\n      <td>6.0</td>\n      <td>1.0</td>\n      <td>1.0</td>\n      <td>60101.0</td>\n      <td>0.0</td>\n      <td>NaN</td>\n      <td>1.017935</td>\n      <td>1.017935</td>\n      <td>4565.389177</td>\n      <td>4565.389177</td>\n      <td>...</td>\n      <td>1.0</td>\n      <td>.</td>\n      <td>1.0</td>\n      <td>5.0</td>\n      <td>2.0</td>\n      <td>NaN</td>\n      <td>NaN</td>\n      <td>NaN</td>\n      <td>0.0</td>\n      <td>NaN</td>\n    </tr>\n  </tbody>\n</table>\n<p>5 rows × 830 columns</p>\n</div>"
     },
     "execution_count": 10,
     "metadata": {},
     "output_type": "execute_result"
    }
   ],
   "source": [
    "# 4) 데이터 검토하기\n",
    "# 데이터의 구조와 특징을 파악\n",
    "welfare.head() # 앞부분, 뒷부분 출력"
   ],
   "metadata": {
    "collapsed": false,
    "ExecuteTime": {
     "end_time": "2024-03-15T06:25:48.787704Z",
     "start_time": "2024-03-15T06:25:48.782716Z"
    }
   },
   "id": "e2bfb9864bfe91c8",
   "execution_count": 10
  },
  {
   "cell_type": "code",
   "outputs": [
    {
     "data": {
      "text/plain": "(14418, 830)"
     },
     "execution_count": 11,
     "metadata": {},
     "output_type": "execute_result"
    }
   ],
   "source": [
    "welfare.shape  # 행, 열 개수 출력"
   ],
   "metadata": {
    "collapsed": false,
    "ExecuteTime": {
     "end_time": "2024-03-15T06:27:59.422422Z",
     "start_time": "2024-03-15T06:27:59.414665Z"
    }
   },
   "id": "8a28bde639018227",
   "execution_count": 11
  },
  {
   "cell_type": "code",
   "outputs": [
    {
     "name": "stdout",
     "output_type": "stream",
     "text": [
      "<class 'pandas.core.frame.DataFrame'>\n",
      "RangeIndex: 14418 entries, 0 to 14417\n",
      "Columns: 830 entries, h14_id to h14_pers_income5\n",
      "dtypes: float64(826), object(4)\n",
      "memory usage: 91.3+ MB\n"
     ]
    }
   ],
   "source": [
    "welfare.info()  # 변수 속성 출력"
   ],
   "metadata": {
    "collapsed": false,
    "ExecuteTime": {
     "end_time": "2024-03-15T06:28:53.012931Z",
     "start_time": "2024-03-15T06:28:53.008191Z"
    }
   },
   "id": "a7f5226b6c518dc6",
   "execution_count": 12
  },
  {
   "cell_type": "code",
   "outputs": [
    {
     "data": {
      "text/plain": "             h14_id       h14_ind        h14_sn    h14_merkey         h_new  \\\ncount  14418.000000  14418.000000  14418.000000  1.441800e+04  14418.000000   \nmean    4672.108406      3.121723      1.004855  4.672140e+07      0.201484   \nstd     2792.998128      3.297963      0.143205  2.793014e+07      0.401123   \nmin        2.000000      1.000000      1.000000  2.010100e+04      0.000000   \n25%     2356.000000      1.000000      1.000000  2.356030e+07      0.000000   \n50%     4535.000000      1.000000      1.000000  4.535010e+07      0.000000   \n75%     6616.000000      7.000000      1.000000  6.616010e+07      0.000000   \nmax     9800.000000     14.000000      9.000000  9.800070e+07      1.000000   \n\n         h14_cobf       p14_wsc       p14_wsl       p14_wgc       p14_wgl  \\\ncount  121.000000  11513.000000  11513.000000  11513.000000  11513.000000   \nmean     2.256198      1.000000      1.000000   4484.952219   4484.952541   \nstd      1.675952      0.906021      1.016782   4063.459773   4560.218659   \nmin      1.000000      0.001998      0.000000      8.960093      0.000000   \n25%      1.000000      0.341814      0.269286   1533.021553   1207.736094   \n50%      2.000000      0.726304      0.704045   3257.436901   3157.609630   \n75%      2.000000      1.366071      1.390045   6126.762919   6234.287538   \nmax      7.000000      4.727006      5.790039  21200.393903  25968.049029   \n\n       ...      wc14_63      wc14_64    wc14_5aq4    wc14_5aq5    wc14_5aq6  \\\ncount  ...  2027.000000  2027.000000  2027.000000  2027.000000  2027.000000   \nmean   ...     3.211643     3.743957     3.513567     4.100641     3.233350   \nstd    ...     2.174768     3.138629     1.045929     0.937712     1.289456   \nmin    ...     1.000000     1.000000     1.000000     1.000000     1.000000   \n25%    ...     1.000000     2.000000     3.000000     4.000000     2.000000   \n50%    ...     3.000000     3.000000     4.000000     4.000000     3.000000   \n75%    ...     5.000000     5.000000     4.000000     5.000000     4.000000   \nmax    ...     9.000000    99.000000     9.000000     9.000000     9.000000   \n\n       h14_pers_income1  h14_pers_income2  h14_pers_income3  h14_pers_income4  \\\ncount       2659.000000       3331.000000        989.000000      14418.000000   \nmean        4141.380594       1389.440408       3457.835187          2.038702   \nstd         2583.755449       1211.910836       6619.516319         32.965477   \nmin            0.000000          0.000000     -47000.000000          0.000000   \n25%         2448.000000        391.500000       1000.000000          0.000000   \n50%         3540.000000       1116.000000       2498.000000          0.000000   \n75%         5378.500000       2040.000000       4687.000000          0.000000   \nmax        22700.000000      11500.000000     170000.000000       3000.000000   \n\n       h14_pers_income5  \ncount        715.000000  \nmean        1183.292308  \nstd         2147.418274  \nmin       -10600.000000  \n25%          206.000000  \n50%          530.000000  \n75%         1295.000000  \nmax        22644.000000  \n\n[8 rows x 826 columns]",
      "text/html": "<div>\n<style scoped>\n    .dataframe tbody tr th:only-of-type {\n        vertical-align: middle;\n    }\n\n    .dataframe tbody tr th {\n        vertical-align: top;\n    }\n\n    .dataframe thead th {\n        text-align: right;\n    }\n</style>\n<table border=\"1\" class=\"dataframe\">\n  <thead>\n    <tr style=\"text-align: right;\">\n      <th></th>\n      <th>h14_id</th>\n      <th>h14_ind</th>\n      <th>h14_sn</th>\n      <th>h14_merkey</th>\n      <th>h_new</th>\n      <th>h14_cobf</th>\n      <th>p14_wsc</th>\n      <th>p14_wsl</th>\n      <th>p14_wgc</th>\n      <th>p14_wgl</th>\n      <th>...</th>\n      <th>wc14_63</th>\n      <th>wc14_64</th>\n      <th>wc14_5aq4</th>\n      <th>wc14_5aq5</th>\n      <th>wc14_5aq6</th>\n      <th>h14_pers_income1</th>\n      <th>h14_pers_income2</th>\n      <th>h14_pers_income3</th>\n      <th>h14_pers_income4</th>\n      <th>h14_pers_income5</th>\n    </tr>\n  </thead>\n  <tbody>\n    <tr>\n      <th>count</th>\n      <td>14418.000000</td>\n      <td>14418.000000</td>\n      <td>14418.000000</td>\n      <td>1.441800e+04</td>\n      <td>14418.000000</td>\n      <td>121.000000</td>\n      <td>11513.000000</td>\n      <td>11513.000000</td>\n      <td>11513.000000</td>\n      <td>11513.000000</td>\n      <td>...</td>\n      <td>2027.000000</td>\n      <td>2027.000000</td>\n      <td>2027.000000</td>\n      <td>2027.000000</td>\n      <td>2027.000000</td>\n      <td>2659.000000</td>\n      <td>3331.000000</td>\n      <td>989.000000</td>\n      <td>14418.000000</td>\n      <td>715.000000</td>\n    </tr>\n    <tr>\n      <th>mean</th>\n      <td>4672.108406</td>\n      <td>3.121723</td>\n      <td>1.004855</td>\n      <td>4.672140e+07</td>\n      <td>0.201484</td>\n      <td>2.256198</td>\n      <td>1.000000</td>\n      <td>1.000000</td>\n      <td>4484.952219</td>\n      <td>4484.952541</td>\n      <td>...</td>\n      <td>3.211643</td>\n      <td>3.743957</td>\n      <td>3.513567</td>\n      <td>4.100641</td>\n      <td>3.233350</td>\n      <td>4141.380594</td>\n      <td>1389.440408</td>\n      <td>3457.835187</td>\n      <td>2.038702</td>\n      <td>1183.292308</td>\n    </tr>\n    <tr>\n      <th>std</th>\n      <td>2792.998128</td>\n      <td>3.297963</td>\n      <td>0.143205</td>\n      <td>2.793014e+07</td>\n      <td>0.401123</td>\n      <td>1.675952</td>\n      <td>0.906021</td>\n      <td>1.016782</td>\n      <td>4063.459773</td>\n      <td>4560.218659</td>\n      <td>...</td>\n      <td>2.174768</td>\n      <td>3.138629</td>\n      <td>1.045929</td>\n      <td>0.937712</td>\n      <td>1.289456</td>\n      <td>2583.755449</td>\n      <td>1211.910836</td>\n      <td>6619.516319</td>\n      <td>32.965477</td>\n      <td>2147.418274</td>\n    </tr>\n    <tr>\n      <th>min</th>\n      <td>2.000000</td>\n      <td>1.000000</td>\n      <td>1.000000</td>\n      <td>2.010100e+04</td>\n      <td>0.000000</td>\n      <td>1.000000</td>\n      <td>0.001998</td>\n      <td>0.000000</td>\n      <td>8.960093</td>\n      <td>0.000000</td>\n      <td>...</td>\n      <td>1.000000</td>\n      <td>1.000000</td>\n      <td>1.000000</td>\n      <td>1.000000</td>\n      <td>1.000000</td>\n      <td>0.000000</td>\n      <td>0.000000</td>\n      <td>-47000.000000</td>\n      <td>0.000000</td>\n      <td>-10600.000000</td>\n    </tr>\n    <tr>\n      <th>25%</th>\n      <td>2356.000000</td>\n      <td>1.000000</td>\n      <td>1.000000</td>\n      <td>2.356030e+07</td>\n      <td>0.000000</td>\n      <td>1.000000</td>\n      <td>0.341814</td>\n      <td>0.269286</td>\n      <td>1533.021553</td>\n      <td>1207.736094</td>\n      <td>...</td>\n      <td>1.000000</td>\n      <td>2.000000</td>\n      <td>3.000000</td>\n      <td>4.000000</td>\n      <td>2.000000</td>\n      <td>2448.000000</td>\n      <td>391.500000</td>\n      <td>1000.000000</td>\n      <td>0.000000</td>\n      <td>206.000000</td>\n    </tr>\n    <tr>\n      <th>50%</th>\n      <td>4535.000000</td>\n      <td>1.000000</td>\n      <td>1.000000</td>\n      <td>4.535010e+07</td>\n      <td>0.000000</td>\n      <td>2.000000</td>\n      <td>0.726304</td>\n      <td>0.704045</td>\n      <td>3257.436901</td>\n      <td>3157.609630</td>\n      <td>...</td>\n      <td>3.000000</td>\n      <td>3.000000</td>\n      <td>4.000000</td>\n      <td>4.000000</td>\n      <td>3.000000</td>\n      <td>3540.000000</td>\n      <td>1116.000000</td>\n      <td>2498.000000</td>\n      <td>0.000000</td>\n      <td>530.000000</td>\n    </tr>\n    <tr>\n      <th>75%</th>\n      <td>6616.000000</td>\n      <td>7.000000</td>\n      <td>1.000000</td>\n      <td>6.616010e+07</td>\n      <td>0.000000</td>\n      <td>2.000000</td>\n      <td>1.366071</td>\n      <td>1.390045</td>\n      <td>6126.762919</td>\n      <td>6234.287538</td>\n      <td>...</td>\n      <td>5.000000</td>\n      <td>5.000000</td>\n      <td>4.000000</td>\n      <td>5.000000</td>\n      <td>4.000000</td>\n      <td>5378.500000</td>\n      <td>2040.000000</td>\n      <td>4687.000000</td>\n      <td>0.000000</td>\n      <td>1295.000000</td>\n    </tr>\n    <tr>\n      <th>max</th>\n      <td>9800.000000</td>\n      <td>14.000000</td>\n      <td>9.000000</td>\n      <td>9.800070e+07</td>\n      <td>1.000000</td>\n      <td>7.000000</td>\n      <td>4.727006</td>\n      <td>5.790039</td>\n      <td>21200.393903</td>\n      <td>25968.049029</td>\n      <td>...</td>\n      <td>9.000000</td>\n      <td>99.000000</td>\n      <td>9.000000</td>\n      <td>9.000000</td>\n      <td>9.000000</td>\n      <td>22700.000000</td>\n      <td>11500.000000</td>\n      <td>170000.000000</td>\n      <td>3000.000000</td>\n      <td>22644.000000</td>\n    </tr>\n  </tbody>\n</table>\n<p>8 rows × 826 columns</p>\n</div>"
     },
     "execution_count": 13,
     "metadata": {},
     "output_type": "execute_result"
    }
   ],
   "source": [
    "welfare.describe()  # 요약 통계량"
   ],
   "metadata": {
    "collapsed": false,
    "ExecuteTime": {
     "end_time": "2024-03-15T06:30:06.711785Z",
     "start_time": "2024-03-15T06:30:06.283169Z"
    }
   },
   "id": "ec3b69aa5e63ef3d",
   "execution_count": 13
  },
  {
   "cell_type": "code",
   "outputs": [],
   "source": [
    "# 복지패널 데이터와 같은 대규모 데이터는 변수의 수가 많고 변수명이 코드로 되어 있어\n",
    "# 전체 구조를 한 눈에 파악하기 어려움\n",
    "# 규모가큰 데이터는 데이터 전체를 한 번에 파악하기보다 변수명을 쉬운 단어로 바꾼 다음\n",
    "# 분석에 사용할 변수를 하나씩 살펴봐야 함."
   ],
   "metadata": {
    "collapsed": false,
    "ExecuteTime": {
     "end_time": "2024-03-15T06:34:09.879609Z",
     "start_time": "2024-03-15T06:34:09.873696Z"
    }
   },
   "id": "45407b02be152c4e",
   "execution_count": 14
  },
  {
   "cell_type": "code",
   "outputs": [],
   "source": [
    "# 5) 변수명 바꾸기\n",
    "# 규모가 큰 조사 자료는 데이터의 특징을 설명해 놓은 코드북 codebook을 함께 제공.\n",
    "# 코드북에는 코드로 된 변수명과 값의 의미가 설명되어 있음.\n",
    "# 코드북을 보면 데이터의 특징이 어떠한지 감을 잡을 수 있고, 분석에 어떤 변수를 활용할지, 분석 방향의 아이디어를 얻을 수 있음.\n",
    "# 코드북의 파일명은 Koweps_Codebook_2019.sav"
   ],
   "metadata": {
    "collapsed": false,
    "ExecuteTime": {
     "end_time": "2024-03-15T06:35:25.860453Z",
     "start_time": "2024-03-15T06:35:25.852240Z"
    }
   },
   "id": "9ccae2651d64fc15",
   "execution_count": 15
  },
  {
   "cell_type": "code",
   "outputs": [],
   "source": [
    "# 코드북을 참고해 분석에 사용할 변수 7개의 이름을 알기 쉬운 단어로 바꿈.\n",
    "welfare = welfare.rename(columns={'h14_g3': 'sex',  # 성별\n",
    "                                  'h14_g4': 'birth',  # 태어난 연도\n",
    "                                  'h14_g10': 'marriage_type',  # 혼인 상태\n",
    "                                  'h14_g11': 'religion',  # 종교\n",
    "                                  'p1402_8aq1': 'income',  # 월급\n",
    "                                  'h14_eco9': 'code_job',  # 직업 코드\n",
    "                                  'h14_reg7': 'code_region'})  # 지역 코드"
   ],
   "metadata": {
    "collapsed": false,
    "ExecuteTime": {
     "end_time": "2024-03-15T06:35:33.564152Z",
     "start_time": "2024-03-15T06:35:33.552070Z"
    }
   },
   "id": "bd5c52c21c7b566d",
   "execution_count": 16
  },
  {
   "cell_type": "code",
   "outputs": [
    {
     "data": {
      "text/plain": "Index(['h14_id', 'h14_ind', 'h14_sn', 'h14_merkey', 'h_new', 'h14_cobf',\n       'p14_wsc', 'p14_wsl', 'p14_wgc', 'p14_wgl',\n       ...\n       'wc14_64', 'wc14_65', 'wc14_5aq4', 'wc14_5aq5', 'wc14_5aq6',\n       'h14_pers_income1', 'h14_pers_income2', 'h14_pers_income3',\n       'h14_pers_income4', 'h14_pers_income5'],\n      dtype='object', length=830)"
     },
     "execution_count": 17,
     "metadata": {},
     "output_type": "execute_result"
    }
   ],
   "source": [
    "welfare.columns"
   ],
   "metadata": {
    "collapsed": false,
    "ExecuteTime": {
     "end_time": "2024-03-15T06:35:38.162375Z",
     "start_time": "2024-03-15T06:35:38.155783Z"
    }
   },
   "id": "c601f55c86838dcf",
   "execution_count": 17
  },
  {
   "cell_type": "code",
   "outputs": [],
   "source": [
    "welfare.to_csv('./data/koweps_hpwc14_2019_beta2_step_01.csv', mode='w', index=False)"
   ],
   "metadata": {
    "collapsed": false,
    "ExecuteTime": {
     "end_time": "2024-03-15T06:36:55.065985Z",
     "start_time": "2024-03-15T06:36:53.321175Z"
    }
   },
   "id": "9d737bb3e5fd8802",
   "execution_count": 18
  }
 ],
 "metadata": {
  "kernelspec": {
   "display_name": "Python 3",
   "language": "python",
   "name": "python3"
  },
  "language_info": {
   "codemirror_mode": {
    "name": "ipython",
    "version": 2
   },
   "file_extension": ".py",
   "mimetype": "text/x-python",
   "name": "python",
   "nbconvert_exporter": "python",
   "pygments_lexer": "ipython2",
   "version": "2.7.6"
  }
 },
 "nbformat": 4,
 "nbformat_minor": 5
}
