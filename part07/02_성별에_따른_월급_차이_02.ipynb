{
 "cells": [
  {
   "cell_type": "markdown",
   "source": [
    "# 2. 월급 변수 검토 및 전처리하기"
   ],
   "metadata": {
    "collapsed": false
   },
   "id": "d254d9d6979ec55f"
  },
  {
   "cell_type": "code",
   "execution_count": 1,
   "id": "initial_id",
   "metadata": {
    "collapsed": true,
    "ExecuteTime": {
     "end_time": "2024-03-15T07:07:41.746834Z",
     "start_time": "2024-03-15T07:07:41.745559Z"
    }
   },
   "outputs": [],
   "source": [
    "import pandas as pd\n",
    "import numpy as np\n",
    "import matplotlib.pyplot as plt\n",
    "import seaborn as sns"
   ]
  },
  {
   "cell_type": "code",
   "outputs": [
    {
     "data": {
      "text/plain": "0    female\n1      male\n2      male\n3      male\n4    female\nName: sex, dtype: object"
     },
     "execution_count": 2,
     "metadata": {},
     "output_type": "execute_result"
    }
   ],
   "source": [
    "welfare = pd.read_csv('./data/koweps_hpwc14_2019_beta2_step_02.csv')\n",
    "welfare['sex'].head()"
   ],
   "metadata": {
    "collapsed": false,
    "ExecuteTime": {
     "end_time": "2024-03-15T07:08:28.156923Z",
     "start_time": "2024-03-15T07:08:27.742394Z"
    }
   },
   "id": "90fc15f17934c874",
   "execution_count": 2
  },
  {
   "cell_type": "code",
   "outputs": [
    {
     "data": {
      "text/plain": "dtype('float64')"
     },
     "execution_count": 3,
     "metadata": {},
     "output_type": "execute_result"
    }
   ],
   "source": [
    "# 1) 변수 검토하기\n",
    "# 코드북을 보면 월급은 '일한 달의 평균 임금'을 의미하며 1만원 단위로 기록.\n",
    "# 변수 이름은 income.\n",
    "# 성별은 범주 변수이므로 df.value_count()를 이용해 범주별 빈도를 확인하면 특징을 파악할 수 있음.\n",
    "# 하지만 월급은 연속 변수이므로 df.value_count()을 이용하면 너무 많은 항목이 출력되어 알아보기 어려움.\n",
    "# 연소 변수는 df.describe()로 요약 통계량을 확인해야 특징을 파악할 수 있음.\n",
    "welfare['income'].dtypes"
   ],
   "metadata": {
    "collapsed": false,
    "ExecuteTime": {
     "end_time": "2024-03-15T07:10:02.623662Z",
     "start_time": "2024-03-15T07:10:02.619406Z"
    }
   },
   "id": "85ef8e79a0eea1f4",
   "execution_count": 3
  },
  {
   "cell_type": "code",
   "outputs": [
    {
     "data": {
      "text/plain": "count    4534.000000\nmean      268.455007\nstd       198.021206\nmin         0.000000\n25%       150.000000\n50%       220.000000\n75%       345.750000\nmax      1892.000000\nName: income, dtype: float64"
     },
     "execution_count": 4,
     "metadata": {},
     "output_type": "execute_result"
    }
   ],
   "source": [
    "welfare['income'].describe()  # 요약 통계량 구하기"
   ],
   "metadata": {
    "collapsed": false,
    "ExecuteTime": {
     "end_time": "2024-03-15T07:10:16.616531Z",
     "start_time": "2024-03-15T07:10:16.613200Z"
    }
   },
   "id": "a1dd61e3a3e1c297",
   "execution_count": 4
  },
  {
   "cell_type": "code",
   "outputs": [
    {
     "data": {
      "text/plain": "<Figure size 640x480 with 1 Axes>",
      "image/png": "[encoded data removed]"
     },
     "metadata": {},
     "output_type": "display_data"
    }
   ],
   "source": [
    "# 출력 결과를 보면 float65 타입이고, 0 ~ 1,892만원의 값을 지님.\n",
    "# 150 ~ 345 만원에 가장 많이 분포하고 평균은 268만원, 중앙값은 평균보다 작은 220만원으로\n",
    "# 전반적으로 낮은 쪽에 치우침. -> 월급이 평균값보다 낮은 사람이 50% 이상\n",
    "\n",
    "# 히스토그램을 만들어 분포를 확인\n",
    "sns.histplot(data=welfare, x='income')  # 히스토그램 만들기\n",
    "plt.show()"
   ],
   "metadata": {
    "collapsed": false,
    "ExecuteTime": {
     "end_time": "2024-03-15T07:13:58.347655Z",
     "start_time": "2024-03-15T07:13:58.215403Z"
    }
   },
   "id": "78406845eea7e8f4",
   "execution_count": 6
  },
  {
   "cell_type": "code",
   "outputs": [
    {
     "data": {
      "text/plain": "count    4534.000000\nmean      268.455007\nstd       198.021206\nmin         0.000000\n25%       150.000000\n50%       220.000000\n75%       345.750000\nmax      1892.000000\nName: income, dtype: float64"
     },
     "execution_count": 7,
     "metadata": {},
     "output_type": "execute_result"
    }
   ],
   "source": [
    "# 2) 전처리 하기\n",
    "# 코드북을 보면 월급은 만원 단위로 되어 있고, '모름/무응답'은 9999\n",
    "\n",
    "welfare['income'].describe()  # 이상치 확인"
   ],
   "metadata": {
    "collapsed": false,
    "ExecuteTime": {
     "end_time": "2024-03-15T07:15:48.825003Z",
     "start_time": "2024-03-15T07:15:48.819353Z"
    }
   },
   "id": "648e4851ba4d800a",
   "execution_count": 7
  },
  {
   "cell_type": "code",
   "outputs": [
    {
     "data": {
      "text/plain": "9884"
     },
     "execution_count": 8,
     "metadata": {},
     "output_type": "execute_result"
    }
   ],
   "source": [
    "welfare['income'].isna().sum()  # 결측치 확인 14418"
   ],
   "metadata": {
    "collapsed": false,
    "ExecuteTime": {
     "end_time": "2024-03-15T07:16:46.494877Z",
     "start_time": "2024-03-15T07:16:46.491827Z"
    }
   },
   "id": "c3b67e9380ef1eeb",
   "execution_count": 8
  },
  {
   "cell_type": "code",
   "outputs": [],
   "source": [
    "# 출력 결과를 보면 최소값은 0 ~ 1,892이고 결측치 9,884개가 있음.\n",
    "# 즉 9999가 입력된 데이터는 없음.\n",
    "# 이상치를 결측 처리하는 절차를 건너뛰어도 됨.\n",
    "\n",
    "# 만약 9999인 항목이 있다면 아래와 같이 이상치를 결측 처리하는 절차를 거쳐야 됨.\n",
    "# 이상치 결측 처리\n",
    "welfare['income'] = np.where(welfare['income'] == 9999, np.nan, welfare['income'])"
   ],
   "metadata": {
    "collapsed": false,
    "ExecuteTime": {
     "end_time": "2024-03-15T07:18:39.980626Z",
     "start_time": "2024-03-15T07:18:39.975945Z"
    }
   },
   "id": "48e321f58ce36d33",
   "execution_count": 9
  },
  {
   "cell_type": "code",
   "outputs": [
    {
     "name": "stdout",
     "output_type": "stream",
     "text": [
      "9884\n"
     ]
    }
   ],
   "source": [
    "# 결측치 확인\n",
    "print(welfare['income'].isna().sum())"
   ],
   "metadata": {
    "collapsed": false,
    "ExecuteTime": {
     "end_time": "2024-03-15T07:19:01.248406Z",
     "start_time": "2024-03-15T07:19:01.245431Z"
    }
   },
   "id": "40c5f4962c1ad89a",
   "execution_count": 11
  }
 ],
 "metadata": {
  "kernelspec": {
   "display_name": "Python 3",
   "language": "python",
   "name": "python3"
  },
  "language_info": {
   "codemirror_mode": {
    "name": "ipython",
    "version": 2
   },
   "file_extension": ".py",
   "mimetype": "text/x-python",
   "name": "python",
   "nbconvert_exporter": "python",
   "pygments_lexer": "ipython2",
   "version": "2.7.6"
  }
 },
 "nbformat": 4,
 "nbformat_minor": 5
}
